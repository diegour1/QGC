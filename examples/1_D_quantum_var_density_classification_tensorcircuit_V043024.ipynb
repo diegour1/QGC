{
  "nbformat": 4,
  "nbformat_minor": 0,
  "metadata": {
    "colab": {
      "provenance": [],
      "toc_visible": true
    },
    "kernelspec": {
      "name": "python3",
      "display_name": "Python 3"
    },
    "language_info": {
      "name": "python"
    }
  },
  "cells": [
    {
      "cell_type": "markdown",
      "metadata": {
        "id": "a7VwQfaCOcok"
      },
      "source": [
        "## Variational density classification in Tensor Circuit\n",
        "\n",
        "30 April 2024\n",
        "\n",
        "Diego Useche Reyes"
      ]
    },
    {
      "cell_type": "markdown",
      "metadata": {
        "id": "Px6NXiW6Q74M"
      },
      "source": [
        "## GPU"
      ]
    },
    {
      "cell_type": "code",
      "execution_count": 1,
      "metadata": {
        "colab": {
          "base_uri": "https://localhost:8080/"
        },
        "id": "Al0mmMn7Q9oM",
        "outputId": "8bf3e97b-9247-4b43-bb5a-75658e2c7e50"
      },
      "outputs": [
        {
          "output_type": "stream",
          "name": "stdout",
          "text": [
            "/bin/bash: line 1: nvidia-smi: command not found\n"
          ]
        }
      ],
      "source": [
        "!nvidia-smi"
      ]
    },
    {
      "cell_type": "markdown",
      "metadata": {
        "id": "HPeuojM4RUB1"
      },
      "source": [
        "## Libraries"
      ]
    },
    {
      "cell_type": "code",
      "execution_count": 2,
      "metadata": {
        "colab": {
          "base_uri": "https://localhost:8080/"
        },
        "id": "M5IafHoCOqgN",
        "outputId": "86702a81-fc2d-415a-bfa1-d24893eb9799"
      },
      "outputs": [
        {
          "output_type": "stream",
          "name": "stdout",
          "text": [
            "Collecting tensorcircuit\n",
            "  Downloading tensorcircuit-0.12.0-py3-none-any.whl (342 kB)\n",
            "\u001b[2K     \u001b[90m━━━━━━━━━━━━━━━━━━━━━━━━━━━━━━━━━━━━━━━━\u001b[0m \u001b[32m342.0/342.0 kB\u001b[0m \u001b[31m4.5 MB/s\u001b[0m eta \u001b[36m0:00:00\u001b[0m\n",
            "\u001b[?25hRequirement already satisfied: numpy in /usr/local/lib/python3.10/dist-packages (from tensorcircuit) (1.25.2)\n",
            "Requirement already satisfied: scipy in /usr/local/lib/python3.10/dist-packages (from tensorcircuit) (1.11.4)\n",
            "Collecting tensornetwork-ng (from tensorcircuit)\n",
            "  Downloading tensornetwork_ng-0.5.0-py3-none-any.whl (243 kB)\n",
            "\u001b[2K     \u001b[90m━━━━━━━━━━━━━━━━━━━━━━━━━━━━━━━━━━━━━━━━\u001b[0m \u001b[32m243.3/243.3 kB\u001b[0m \u001b[31m20.3 MB/s\u001b[0m eta \u001b[36m0:00:00\u001b[0m\n",
            "\u001b[?25hRequirement already satisfied: networkx in /usr/local/lib/python3.10/dist-packages (from tensorcircuit) (3.3)\n",
            "Requirement already satisfied: graphviz>=0.11.1 in /usr/local/lib/python3.10/dist-packages (from tensornetwork-ng->tensorcircuit) (0.20.3)\n",
            "Requirement already satisfied: opt-einsum>=2.3.0 in /usr/local/lib/python3.10/dist-packages (from tensornetwork-ng->tensorcircuit) (3.3.0)\n",
            "Requirement already satisfied: h5py>=2.9.0 in /usr/local/lib/python3.10/dist-packages (from tensornetwork-ng->tensorcircuit) (3.9.0)\n",
            "Installing collected packages: tensornetwork-ng, tensorcircuit\n",
            "Successfully installed tensorcircuit-0.12.0 tensornetwork-ng-0.5.0\n",
            "Collecting git+https://github.com/diegour1/qmc.git\n",
            "  Cloning https://github.com/diegour1/qmc.git to /tmp/pip-req-build-5c9q8q4q\n",
            "  Running command git clone --filter=blob:none --quiet https://github.com/diegour1/qmc.git /tmp/pip-req-build-5c9q8q4q\n",
            "  Resolved https://github.com/diegour1/qmc.git to commit 4c2db4b21508f28466743eaf0b13fe70814f65dc\n",
            "  Preparing metadata (setup.py) ... \u001b[?25l\u001b[?25hdone\n",
            "Requirement already satisfied: scipy in /usr/local/lib/python3.10/dist-packages (from qmc==0.0.1) (1.11.4)\n",
            "Requirement already satisfied: numpy>=1.19.2 in /usr/local/lib/python3.10/dist-packages (from qmc==0.0.1) (1.25.2)\n",
            "Requirement already satisfied: scikit-learn in /usr/local/lib/python3.10/dist-packages (from qmc==0.0.1) (1.2.2)\n",
            "Requirement already satisfied: tensorflow>=2.2.0 in /usr/local/lib/python3.10/dist-packages (from qmc==0.0.1) (2.15.0)\n",
            "Collecting typeguard (from qmc==0.0.1)\n",
            "  Downloading typeguard-4.3.0-py3-none-any.whl (35 kB)\n",
            "Requirement already satisfied: absl-py>=1.0.0 in /usr/local/lib/python3.10/dist-packages (from tensorflow>=2.2.0->qmc==0.0.1) (1.4.0)\n",
            "Requirement already satisfied: astunparse>=1.6.0 in /usr/local/lib/python3.10/dist-packages (from tensorflow>=2.2.0->qmc==0.0.1) (1.6.3)\n",
            "Requirement already satisfied: flatbuffers>=23.5.26 in /usr/local/lib/python3.10/dist-packages (from tensorflow>=2.2.0->qmc==0.0.1) (24.3.25)\n",
            "Requirement already satisfied: gast!=0.5.0,!=0.5.1,!=0.5.2,>=0.2.1 in /usr/local/lib/python3.10/dist-packages (from tensorflow>=2.2.0->qmc==0.0.1) (0.5.4)\n",
            "Requirement already satisfied: google-pasta>=0.1.1 in /usr/local/lib/python3.10/dist-packages (from tensorflow>=2.2.0->qmc==0.0.1) (0.2.0)\n",
            "Requirement already satisfied: h5py>=2.9.0 in /usr/local/lib/python3.10/dist-packages (from tensorflow>=2.2.0->qmc==0.0.1) (3.9.0)\n",
            "Requirement already satisfied: libclang>=13.0.0 in /usr/local/lib/python3.10/dist-packages (from tensorflow>=2.2.0->qmc==0.0.1) (18.1.1)\n",
            "Requirement already satisfied: ml-dtypes~=0.2.0 in /usr/local/lib/python3.10/dist-packages (from tensorflow>=2.2.0->qmc==0.0.1) (0.2.0)\n",
            "Requirement already satisfied: opt-einsum>=2.3.2 in /usr/local/lib/python3.10/dist-packages (from tensorflow>=2.2.0->qmc==0.0.1) (3.3.0)\n",
            "Requirement already satisfied: packaging in /usr/local/lib/python3.10/dist-packages (from tensorflow>=2.2.0->qmc==0.0.1) (24.0)\n",
            "Requirement already satisfied: protobuf!=4.21.0,!=4.21.1,!=4.21.2,!=4.21.3,!=4.21.4,!=4.21.5,<5.0.0dev,>=3.20.3 in /usr/local/lib/python3.10/dist-packages (from tensorflow>=2.2.0->qmc==0.0.1) (3.20.3)\n",
            "Requirement already satisfied: setuptools in /usr/local/lib/python3.10/dist-packages (from tensorflow>=2.2.0->qmc==0.0.1) (67.7.2)\n",
            "Requirement already satisfied: six>=1.12.0 in /usr/local/lib/python3.10/dist-packages (from tensorflow>=2.2.0->qmc==0.0.1) (1.16.0)\n",
            "Requirement already satisfied: termcolor>=1.1.0 in /usr/local/lib/python3.10/dist-packages (from tensorflow>=2.2.0->qmc==0.0.1) (2.4.0)\n",
            "Requirement already satisfied: typing-extensions>=3.6.6 in /usr/local/lib/python3.10/dist-packages (from tensorflow>=2.2.0->qmc==0.0.1) (4.11.0)\n",
            "Requirement already satisfied: wrapt<1.15,>=1.11.0 in /usr/local/lib/python3.10/dist-packages (from tensorflow>=2.2.0->qmc==0.0.1) (1.14.1)\n",
            "Requirement already satisfied: tensorflow-io-gcs-filesystem>=0.23.1 in /usr/local/lib/python3.10/dist-packages (from tensorflow>=2.2.0->qmc==0.0.1) (0.37.0)\n",
            "Requirement already satisfied: grpcio<2.0,>=1.24.3 in /usr/local/lib/python3.10/dist-packages (from tensorflow>=2.2.0->qmc==0.0.1) (1.64.0)\n",
            "Requirement already satisfied: tensorboard<2.16,>=2.15 in /usr/local/lib/python3.10/dist-packages (from tensorflow>=2.2.0->qmc==0.0.1) (2.15.2)\n",
            "Requirement already satisfied: tensorflow-estimator<2.16,>=2.15.0 in /usr/local/lib/python3.10/dist-packages (from tensorflow>=2.2.0->qmc==0.0.1) (2.15.0)\n",
            "Requirement already satisfied: keras<2.16,>=2.15.0 in /usr/local/lib/python3.10/dist-packages (from tensorflow>=2.2.0->qmc==0.0.1) (2.15.0)\n",
            "Requirement already satisfied: joblib>=1.1.1 in /usr/local/lib/python3.10/dist-packages (from scikit-learn->qmc==0.0.1) (1.4.2)\n",
            "Requirement already satisfied: threadpoolctl>=2.0.0 in /usr/local/lib/python3.10/dist-packages (from scikit-learn->qmc==0.0.1) (3.5.0)\n",
            "Requirement already satisfied: wheel<1.0,>=0.23.0 in /usr/local/lib/python3.10/dist-packages (from astunparse>=1.6.0->tensorflow>=2.2.0->qmc==0.0.1) (0.43.0)\n",
            "Requirement already satisfied: google-auth<3,>=1.6.3 in /usr/local/lib/python3.10/dist-packages (from tensorboard<2.16,>=2.15->tensorflow>=2.2.0->qmc==0.0.1) (2.27.0)\n",
            "Requirement already satisfied: google-auth-oauthlib<2,>=0.5 in /usr/local/lib/python3.10/dist-packages (from tensorboard<2.16,>=2.15->tensorflow>=2.2.0->qmc==0.0.1) (1.2.0)\n",
            "Requirement already satisfied: markdown>=2.6.8 in /usr/local/lib/python3.10/dist-packages (from tensorboard<2.16,>=2.15->tensorflow>=2.2.0->qmc==0.0.1) (3.6)\n",
            "Requirement already satisfied: requests<3,>=2.21.0 in /usr/local/lib/python3.10/dist-packages (from tensorboard<2.16,>=2.15->tensorflow>=2.2.0->qmc==0.0.1) (2.31.0)\n",
            "Requirement already satisfied: tensorboard-data-server<0.8.0,>=0.7.0 in /usr/local/lib/python3.10/dist-packages (from tensorboard<2.16,>=2.15->tensorflow>=2.2.0->qmc==0.0.1) (0.7.2)\n",
            "Requirement already satisfied: werkzeug>=1.0.1 in /usr/local/lib/python3.10/dist-packages (from tensorboard<2.16,>=2.15->tensorflow>=2.2.0->qmc==0.0.1) (3.0.3)\n",
            "Requirement already satisfied: cachetools<6.0,>=2.0.0 in /usr/local/lib/python3.10/dist-packages (from google-auth<3,>=1.6.3->tensorboard<2.16,>=2.15->tensorflow>=2.2.0->qmc==0.0.1) (5.3.3)\n",
            "Requirement already satisfied: pyasn1-modules>=0.2.1 in /usr/local/lib/python3.10/dist-packages (from google-auth<3,>=1.6.3->tensorboard<2.16,>=2.15->tensorflow>=2.2.0->qmc==0.0.1) (0.4.0)\n",
            "Requirement already satisfied: rsa<5,>=3.1.4 in /usr/local/lib/python3.10/dist-packages (from google-auth<3,>=1.6.3->tensorboard<2.16,>=2.15->tensorflow>=2.2.0->qmc==0.0.1) (4.9)\n",
            "Requirement already satisfied: requests-oauthlib>=0.7.0 in /usr/local/lib/python3.10/dist-packages (from google-auth-oauthlib<2,>=0.5->tensorboard<2.16,>=2.15->tensorflow>=2.2.0->qmc==0.0.1) (1.3.1)\n",
            "Requirement already satisfied: charset-normalizer<4,>=2 in /usr/local/lib/python3.10/dist-packages (from requests<3,>=2.21.0->tensorboard<2.16,>=2.15->tensorflow>=2.2.0->qmc==0.0.1) (3.3.2)\n",
            "Requirement already satisfied: idna<4,>=2.5 in /usr/local/lib/python3.10/dist-packages (from requests<3,>=2.21.0->tensorboard<2.16,>=2.15->tensorflow>=2.2.0->qmc==0.0.1) (3.7)\n",
            "Requirement already satisfied: urllib3<3,>=1.21.1 in /usr/local/lib/python3.10/dist-packages (from requests<3,>=2.21.0->tensorboard<2.16,>=2.15->tensorflow>=2.2.0->qmc==0.0.1) (2.0.7)\n",
            "Requirement already satisfied: certifi>=2017.4.17 in /usr/local/lib/python3.10/dist-packages (from requests<3,>=2.21.0->tensorboard<2.16,>=2.15->tensorflow>=2.2.0->qmc==0.0.1) (2024.2.2)\n",
            "Requirement already satisfied: MarkupSafe>=2.1.1 in /usr/local/lib/python3.10/dist-packages (from werkzeug>=1.0.1->tensorboard<2.16,>=2.15->tensorflow>=2.2.0->qmc==0.0.1) (2.1.5)\n",
            "Requirement already satisfied: pyasn1<0.7.0,>=0.4.6 in /usr/local/lib/python3.10/dist-packages (from pyasn1-modules>=0.2.1->google-auth<3,>=1.6.3->tensorboard<2.16,>=2.15->tensorflow>=2.2.0->qmc==0.0.1) (0.6.0)\n",
            "Requirement already satisfied: oauthlib>=3.0.0 in /usr/local/lib/python3.10/dist-packages (from requests-oauthlib>=0.7.0->google-auth-oauthlib<2,>=0.5->tensorboard<2.16,>=2.15->tensorflow>=2.2.0->qmc==0.0.1) (3.2.2)\n",
            "Building wheels for collected packages: qmc\n",
            "  Building wheel for qmc (setup.py) ... \u001b[?25l\u001b[?25hdone\n",
            "  Created wheel for qmc: filename=qmc-0.0.1-py3-none-any.whl size=12988 sha256=f447f7db7b60413ff292500b782a90e66fc9ed741240e4978a2b0b59023fcc85\n",
            "  Stored in directory: /tmp/pip-ephem-wheel-cache-_3e1asw_/wheels/9f/94/66/55600fd5fe039b621ab7ee795c96f41946d90a9efaf4914d6e\n",
            "Successfully built qmc\n",
            "Installing collected packages: typeguard, qmc\n",
            "Successfully installed qmc-0.0.1 typeguard-4.3.0\n"
          ]
        }
      ],
      "source": [
        "!pip install tensorcircuit\n",
        "!pip install git+https://github.com/diegour1/qmc.git"
      ]
    },
    {
      "cell_type": "code",
      "execution_count": 33,
      "metadata": {
        "id": "15DqVUX2Ocop"
      },
      "outputs": [],
      "source": [
        "from functools import partial\n",
        "import numpy as np\n",
        "import tensorflow as tf\n",
        "import matplotlib.pyplot as plt\n",
        "from scipy.stats import norm\n",
        "from sklearn.neighbors import KernelDensity\n",
        "from sklearn.metrics import accuracy_score\n",
        "import tensorcircuit as tc\n",
        "from tensorcircuit import keras\n",
        "import math\n",
        "import qmc.tf.layers as qmc_layers\n",
        "import qmc.tf.models as qmc_models"
      ]
    },
    {
      "cell_type": "code",
      "execution_count": 4,
      "metadata": {
        "colab": {
          "base_uri": "https://localhost:8080/"
        },
        "id": "vU7-EWU6ecLb",
        "outputId": "e771ea3d-edc9-4837-eae7-4c65de6027ce"
      },
      "outputs": [
        {
          "output_type": "execute_result",
          "data": {
            "text/plain": [
              "('complex128', 'float64')"
            ]
          },
          "metadata": {},
          "execution_count": 4
        }
      ],
      "source": [
        "tc.set_backend(\"tensorflow\")\n",
        "tc.set_dtype(\"complex128\")"
      ]
    },
    {
      "cell_type": "markdown",
      "metadata": {
        "id": "qV6ha6IBoHIg"
      },
      "source": [
        "### Utils functions"
      ]
    },
    {
      "cell_type": "code",
      "execution_count": 5,
      "metadata": {
        "id": "FIDRwmZ7oKdM"
      },
      "outputs": [],
      "source": [
        "# Given the eigenvalues this function return a Unitary gate which converts the |0> -> |psi_train>\n",
        "def create_U_train(x_train_param, seed=0):\n",
        "  np.random.seed(seed)\n",
        "  size_U = len(x_train_param)\n",
        "  U_train = np.zeros((size_U, size_U), dtype = np.complex128)\n",
        "  x_1 = x_train_param\n",
        "  U_train[:, 0] = x_1\n",
        "  for i in range(1, size_U):\n",
        "    x_i =  np.complex128(np.random.randn(size_U) + 1j*np.random.randn(size_U))\n",
        "    for j in range(0, i):\n",
        "      x_i -= x_i.dot(np.conjugate(U_train[:, j])) * U_train[:, j]\n",
        "    x_i = x_i/np.linalg.norm(x_i)\n",
        "    U_train[:, i] = x_i\n",
        "\n",
        "  return U_train"
      ]
    },
    {
      "cell_type": "code",
      "source": [
        "# this function takes the number of classes and of qubits of the qmc pure, and extract the indices\n",
        "# of the bit strings that correpond to the classes prediction\n",
        "def indices_qubits_clases(num_qubits_param, num_classes_param):\n",
        "  num_qubits_classes_temp = int(np.ceil(np.log2(num_classes_param)))\n",
        "  a = [np.binary_repr(i, num_qubits_param) for i in range(2**num_qubits_param)]\n",
        "  b = [(np.binary_repr(i, num_qubits_classes_temp) + \"0\"*(num_qubits_param - num_qubits_classes_temp)) for i in range(num_classes_param)]\n",
        "  indices_temp = []\n",
        "  for i in range(len(a)):\n",
        "    if a[i] in b:\n",
        "      indices_temp.append(i)\n",
        "\n",
        "  return indices_temp\n",
        "\n",
        "indices_qubits_clases(1, 2)"
      ],
      "metadata": {
        "colab": {
          "base_uri": "https://localhost:8080/"
        },
        "outputId": "56688716-9d8a-4400-c38e-c501c5cfc60b",
        "id": "_tZWjAuq75os"
      },
      "execution_count": 96,
      "outputs": [
        {
          "output_type": "execute_result",
          "data": {
            "text/plain": [
              "[0, 1]"
            ]
          },
          "metadata": {},
          "execution_count": 96
        }
      ]
    },
    {
      "cell_type": "code",
      "source": [
        "from tabulate import tabulate\n",
        "\n",
        "def evaluate_class_model(y_true_param, y_train_vqkdc, y_train_kdc, y_train_dmkdc, y_plot_expected_kdc, y_plot_expected_dmkdc, y_plot_pred, grid_size_param, head):\n",
        "\n",
        "  # Accuracy\n",
        "  accuracy_temp = accuracy_score(np.argmax(y_true_param, axis = 1), np.argmax(y_train_vqkdc, axis = 1))\n",
        "\n",
        "  # Log-likelikehood\n",
        "  def negative_log_likelihood(y_true_subparam, y_pred_subparam):\n",
        "    return ((-(y_true_subparam*np.log(np.clip(y_pred_subparam, 1e-7, np.inf)))).sum())*(1./N_TRAINING_DATA)\n",
        "\n",
        "  # Log-likelikehood kdc\n",
        "  llh_kdc = negative_log_likelihood(y_true_param, y_train_kdc)\n",
        "\n",
        "  # Log-likelikehood dmkdc\n",
        "  llh_dmkdc = negative_log_likelihood(y_true_param, y_train_dmkdc)\n",
        "\n",
        "   # Log-likelikehood vqkdc\n",
        "  llh_vqkdc = negative_log_likelihood(y_true_param, y_train_vqkdc)\n",
        "\n",
        "  # kullback-Leibler Divergence\n",
        "  def kl_div(y_true_param, y_pred_param, grid_size_param2):\n",
        "    return (y_true_param*np.log(y_true_param/y_pred_param)).sum()*grid_size_param2\n",
        "\n",
        "  # kl-div kdc vs dmkdc\n",
        "  kldiv_kdc_vs_dmkdc = kl_div(y_plot_expected_kdc, y_plot_expected_dmkdc, grid_size_param)\n",
        "\n",
        "  # kl-div kdc vs vqkdc\n",
        "  kldiv_kdc_vs_vqkdc = kl_div(y_plot_expected_kdc, y_plot_pred, grid_size_param)\n",
        "\n",
        "  # kl-div dmkdc vs vqkdc\n",
        "  kldiv_dmkdc_vs_vqkdc = kl_div(y_plot_expected_dmkdc, y_plot_pred, grid_size_param)\n",
        "\n",
        "  # build table\n",
        "  table = [[\"Accuracy:\", np.round(accuracy_temp,3)], [\"Negative Log-likelihood KDC:\", np.round(llh_kdc,3)], [\"Negative Log-likelihood DMKDC:\", np.round(llh_dmkdc,3)], [\"Negative Log-likelihood VQ-KDC:\", np.round(llh_vqkdc,3)], [\"KL-div KDC vs DMKDC:\", np.round(kldiv_kdc_vs_dmkdc,3)], [\"KL-div KDC vs VQ-KDC:\", np.round(kldiv_kdc_vs_vqkdc,3)], [\"KL-div DMKDC vs VQ-KDC:\", np.round(kldiv_dmkdc_vs_vqkdc,3)]]\n",
        "  headers = ['Metrics', head]\n",
        "  print(tabulate(table, headers), \"\\n\")"
      ],
      "metadata": {
        "id": "DjcQtcE-Vxcy"
      },
      "execution_count": 203,
      "outputs": []
    },
    {
      "cell_type": "markdown",
      "metadata": {
        "id": "wp5GatILQuKK"
      },
      "source": [
        "## Data sets"
      ]
    },
    {
      "cell_type": "markdown",
      "metadata": {
        "id": "pH4Dc6zZ7YQz"
      },
      "source": [
        "### Dataset 1"
      ]
    },
    {
      "cell_type": "code",
      "execution_count": 7,
      "metadata": {
        "colab": {
          "base_uri": "https://localhost:8080/"
        },
        "id": "PSZBK2s27axx",
        "outputId": "f5f9447f-6c4c-40ea-eab8-10cc111c100c"
      },
      "outputs": [
        {
          "output_type": "execute_result",
          "data": {
            "text/plain": [
              "((666, 1), (666,), (500, 1))"
            ]
          },
          "metadata": {},
          "execution_count": 7
        }
      ],
      "source": [
        "# Plot a 1D density example\n",
        "N = 1000 * (2/3)\n",
        "np.random.seed(0) # original randomseed(0)\n",
        "X_1 = np.concatenate((np.random.normal(-1, 1, int(0.65 * N)),\n",
        "                    np.random.normal(3, 1, int(0.35 * N))))[:, np.newaxis]\n",
        "y_1 = np.zeros(len(X_1))\n",
        "\n",
        "X_plot = np.linspace(-7, 14, 500)[:, np.newaxis]\n",
        "true_dens_0 = (2/3) * (0.65 * norm(-1, 1).pdf(X_plot[:, 0])\n",
        "             + 0.35 * norm(3, 1).pdf(X_plot[:, 0]))\n",
        "\n",
        "X_1.shape, y_1.shape, X_plot.shape"
      ]
    },
    {
      "cell_type": "markdown",
      "metadata": {
        "id": "z54oNet_ot2a"
      },
      "source": [
        "### Dataset 2"
      ]
    },
    {
      "cell_type": "code",
      "execution_count": 8,
      "metadata": {
        "colab": {
          "base_uri": "https://localhost:8080/"
        },
        "id": "s7Lt2eU4oh_f",
        "outputId": "9ec5b705-c0dd-4fbd-aca0-0809d466c365"
      },
      "outputs": [
        {
          "output_type": "execute_result",
          "data": {
            "text/plain": [
              "((333, 1), (333,), (500, 1))"
            ]
          },
          "metadata": {},
          "execution_count": 8
        }
      ],
      "source": [
        "# Plot a 1D density example\n",
        "N = (1/3)*1000\n",
        "np.random.seed(0) # original randomseed(0)\n",
        "X_2 = np.random.normal(6, 1, int(N))[:, np.newaxis]\n",
        "y_2 = np.ones(len(X_2))\n",
        "\n",
        "\n",
        "X_plot = np.linspace(-7, 14, 500)[:, np.newaxis]\n",
        "\n",
        "true_dens_1 = (1/3)*norm(6, 1).pdf(X_plot[:, 0])\n",
        "\n",
        "X_2.shape, y_2.shape, X_plot.shape"
      ]
    },
    {
      "cell_type": "code",
      "source": [
        "X_train = np.concatenate((X_1, X_2))\n",
        "y_train = np.concatenate((y_1, y_2))\n",
        "\n",
        "# Select the indices for the binary classification\n",
        "y_train = y_train[:, np.newaxis]\n",
        "y_train_oh = tf.reshape (tf.keras.backend.one_hot(y_train, 2), (-1,2))\n",
        "\n",
        "X_train.shape, y_train.shape, y_train_oh.shape"
      ],
      "metadata": {
        "colab": {
          "base_uri": "https://localhost:8080/"
        },
        "id": "zSxKJ12vUY3S",
        "outputId": "a36fbba8-1659-4bd8-b971-c2e579662293"
      },
      "execution_count": 9,
      "outputs": [
        {
          "output_type": "execute_result",
          "data": {
            "text/plain": [
              "((999, 1), (999, 1), TensorShape([999, 2]))"
            ]
          },
          "metadata": {},
          "execution_count": 9
        }
      ]
    },
    {
      "cell_type": "markdown",
      "source": [
        "## Constants"
      ],
      "metadata": {
        "id": "o8R9_mx2Doq9"
      }
    },
    {
      "cell_type": "code",
      "source": [
        "## Change these values accordingly\n",
        "\n",
        "DATA_SET = \"Arc\" ## change dataset accordingly\n",
        "NUM_QUBITS_FFS = 5 ## set 6 for the final experiments\n",
        "NUM_ANCILLA_QUBITS = 2 # set 2 for the final experiments\n",
        "GRID_SIZE = X_plot[1] - X_plot[0]\n",
        "\n",
        "#######\n",
        "\n",
        "GAMMA_DICT = {\"Binomial\": 2., \"Potential 1\": 4., \"Potential 2\": 16., \"Arc\": 4., \"Star\": 16.}\n",
        "RANDOM_STATE_QRFF_DICT = {\"Binomial\": 324, \"Potential 1\": 125, \"Potential 2\": 178, \"Arc\": 7, \"Star\": 1224}\n",
        "RANDOM_STATE_QEFF_DICT = {\"Binomial\": 3, \"Potential 1\": 15, \"Potential 2\": 78, \"Arc\": 73, \"Star\": 24}\n",
        "EPOCHS_DICT  = {\"Binomial\": 50, \"Potential 1\": 50, \"Potential 2\": 50, \"Arc\": 50, \"Star\": 50}\n",
        "LEARNING_RATE_DICT = {\"Binomial\": 0.0005, \"Potential 1\": 0.0005, \"Potential 2\": 0.005, \"Arc\": 0.0005, \"Star\": 0.0005}\n",
        "GAMMA = GAMMA_DICT[DATA_SET]\n",
        "RANDOM_STATE_QRFF = RANDOM_STATE_QRFF_DICT[DATA_SET]\n",
        "RANDOM_STATE_QEFF = RANDOM_STATE_QEFF_DICT[DATA_SET]\n",
        "LEARNING_RATE = LEARNING_RATE_DICT[DATA_SET]\n",
        "EPOCHS = EPOCHS_DICT[DATA_SET]\n",
        "DIM_X = X_train.shape[1]\n",
        "N_TRAINING_DATA = X_train.shape[0]\n",
        "N_FFS = 2**NUM_QUBITS_FFS\n",
        "\n",
        "###\n",
        "# EPOCHS = 20\n",
        "\n",
        "DATA_SET, EPOCHS, NUM_QUBITS_FFS, NUM_ANCILLA_QUBITS, GAMMA, RANDOM_STATE_QRFF, RANDOM_STATE_QEFF, DIM_X, N_FFS, LEARNING_RATE, N_TRAINING_DATA"
      ],
      "metadata": {
        "colab": {
          "base_uri": "https://localhost:8080/"
        },
        "id": "FvM0rkwtDqWh",
        "outputId": "d2bcb83c-ea0b-4116-e4ab-75e5f393ff2e"
      },
      "execution_count": 31,
      "outputs": [
        {
          "output_type": "execute_result",
          "data": {
            "text/plain": [
              "('Arc', 50, 5, 2, 4.0, 7, 73, 1, 32, 0.0005, 999)"
            ]
          },
          "metadata": {},
          "execution_count": 31
        }
      ]
    },
    {
      "cell_type": "markdown",
      "source": [
        "## Raw KDC"
      ],
      "metadata": {
        "id": "bdyDttEU33IQ"
      }
    },
    {
      "cell_type": "code",
      "source": [
        "GAMMA = float(2**2)\n",
        "\n",
        "def kernel_density_classification(X_train_param, Y_train_oh_param, X_test_param, gamma_param = 4.):\n",
        "\n",
        "  ## Initialize values\n",
        "  Y_train_oh_param = np.array(Y_train_oh_param)\n",
        "  num_classes_temp = Y_train_oh_param.shape[1]\n",
        "  Y_pred_temp = np.zeros((len(X_test_param), num_classes_temp))\n",
        "  sigma_temp = 1./(np.sqrt(2.*gamma_param))\n",
        "\n",
        "  ## Training\n",
        "  kde_temp = []\n",
        "  for j in range(num_classes_temp):\n",
        "    kde_temp.append(KernelDensity(kernel='gaussian', bandwidth=sigma_temp).fit(X_train[Y_train_oh_param[:, j].astype(bool)]))\n",
        "\n",
        "  ## Prediction\n",
        "  for j in range(num_classes_temp):\n",
        "    Y_pred_temp[:, j] =  (Y_train_oh_param[:, j].sum()/len(Y_train_oh_param))*np.exp(kde_temp[j].score_samples(X_test_param))\n",
        "\n",
        "  return Y_pred_temp\n",
        "\n",
        "preds_plot_kdc = kernel_density_classification(X_train, y_train_oh, X_plot, gamma_param = GAMMA)\n",
        "preds_train_kdc = kernel_density_classification(X_train, y_train_oh, X_train, gamma_param = GAMMA)"
      ],
      "metadata": {
        "id": "RtdZKDtmF2tN"
      },
      "execution_count": 55,
      "outputs": []
    },
    {
      "cell_type": "code",
      "source": [
        "params = {\n",
        "   'axes.labelsize': 8,\n",
        "   'legend.fontsize': 10,\n",
        "   'xtick.labelsize': 10,\n",
        "   'ytick.labelsize': 10,\n",
        "   'text.usetex': False,\n",
        "   'figure.figsize': [5.5, 4.5]\n",
        "   }\n",
        "plt.rcParams.update(params)\n",
        "\n",
        "#plt.plot(X_plot[:, 0], true_dens, \"maroon\", label='True pdf')\n",
        "colors = ['navy']\n",
        "kernels = ['gaussian']\n",
        "lw = 2\n",
        "plt.plot(X_plot, preds_plot_kdc[:, 0], color='green', lw=lw,\n",
        "           linestyle='-', label=f\"KDC class 0\")\n",
        "plt.plot(X_plot, true_dens_0, \"maroon\", label='True pdf class 0')\n",
        "plt.plot(X_plot, preds_plot_kdc[:, 1], color='red', lw=lw,\n",
        "           linestyle='-', label=f\"KDC class 1\")\n",
        "plt.plot(X_plot, true_dens_1, \"blue\", label='True pdf class 1')\n",
        "indexes_class0 = np.random.randint(0, len(X_1), 500)\n",
        "plt.plot(X_1[indexes_class0], -0.00125 - 0.00675 * np.random.random(len(indexes_class0)), '+g')\n",
        "indexes_class1 = np.random.randint(0, len(X_2), 500)\n",
        "plt.plot(X_2[indexes_class1], -0.00125 - 0.00675 * np.random.random(len(indexes_class1)), '+r')\n",
        "plt.legend(loc='best')\n",
        "plt.xlabel('X', fontsize=12)\n",
        "plt.ylabel('Probability Density', fontsize=10)"
      ],
      "metadata": {
        "colab": {
          "base_uri": "https://localhost:8080/",
          "height": 447
        },
        "id": "YqmV_bRMB67P",
        "outputId": "4240edec-48de-4820-f6ce-66eab89d8aaf"
      },
      "execution_count": 56,
      "outputs": [
        {
          "output_type": "execute_result",
          "data": {
            "text/plain": [
              "Text(0, 0.5, 'Probability Density')"
            ]
          },
          "metadata": {},
          "execution_count": 56
        },
        {
          "output_type": "display_data",
          "data": {
            "text/plain": [
              "<Figure size 550x450 with 1 Axes>"
            ],
            "image/png": "[encoded data removed]"
          },
          "metadata": {}
        }
      ]
    },
    {
      "cell_type": "markdown",
      "source": [
        "## Classical DMKDC QRFF"
      ],
      "metadata": {
        "id": "M0Zn9GvLY9_-"
      }
    },
    {
      "cell_type": "code",
      "source": [
        "GAMMA = float(2**2) ### original 2**2\n",
        "N_FFS = 32 ### original 32\n",
        "\n",
        "def classical_dmkdc_qrff(X_train_param, Y_train_oh_param, X_test_param, n_qrffs_param, rs_param, gamma_param = 4.):\n",
        "\n",
        "  ## Initialize values\n",
        "  dim_x_temp = X_train_param.shape[1]\n",
        "  Y_train_oh_param = np.array(Y_train_oh_param)\n",
        "  num_classes_temp = Y_train_oh_param.shape[1]\n",
        "  Y_pred_temp = np.zeros((len(X_test_param), num_classes_temp))\n",
        "  sigma_temp = 1./(np.sqrt(2.*gamma_param))\n",
        "\n",
        "  ## Training\n",
        "  dmkdc_temp = []\n",
        "  for j in range(num_classes_temp):\n",
        "    fm_x = qmc_layers.QFeatureMapComplexRFF(dim_x_temp, dim=n_qrffs_param, gamma=gamma_param/2, random_state= rs_param)\n",
        "    dmkdc_temp.append(qmc_models.ComplexQMDensity(fm_x, n_qrffs_param))\n",
        "\n",
        "  ## Prediction\n",
        "  for j in range(num_classes_temp):\n",
        "    dmkdc_temp[j].compile()\n",
        "    dmkdc_temp[j].fit(X_train_param[Y_train_oh_param[:, j].astype(bool)], epochs=1)\n",
        "    Y_pred_temp[:, j] = ((gamma_param/np.pi)**(dim_x_temp/2))*(dmkdc_temp[j].predict(X_test_param))\n",
        "\n",
        "  return ((y_train_oh.numpy().sum(axis=0)/len(y_train_oh)))*Y_pred_temp\n",
        "\n",
        "preds_plot_dmkdc = classical_dmkdc_qrff(X_train, y_train_oh, X_plot, n_qrffs_param = N_FFS, rs_param = RANDOM_STATE_QRFF, gamma_param = GAMMA)\n",
        "preds_train_dmkdc = classical_dmkdc_qrff(X_train, y_train_oh, X_train, n_qrffs_param = N_FFS, rs_param = RANDOM_STATE_QRFF, gamma_param = GAMMA)"
      ],
      "metadata": {
        "colab": {
          "base_uri": "https://localhost:8080/"
        },
        "id": "jSIV8EVufNKp",
        "outputId": "fcbf6a67-f93e-4315-f688-1328546c9758"
      },
      "execution_count": 84,
      "outputs": [
        {
          "output_type": "stream",
          "name": "stdout",
          "text": [
            "21/21 [==============================] - 0s 3ms/step\n",
            "16/16 [==============================] - 0s 2ms/step\n"
          ]
        },
        {
          "output_type": "stream",
          "name": "stderr",
          "text": [
            "<ipython-input-84-2804f0c5e921>:23: ComplexWarning: Casting complex values to real discards the imaginary part\n",
            "  Y_pred_temp[:, j] = ((gamma_param/np.pi)**(dim_x_temp/2))*(dmkdc_temp[j].predict(X_test_param))\n"
          ]
        },
        {
          "output_type": "stream",
          "name": "stdout",
          "text": [
            "11/11 [==============================] - 0s 2ms/step\n",
            "16/16 [==============================] - 0s 2ms/step\n"
          ]
        },
        {
          "output_type": "stream",
          "name": "stderr",
          "text": [
            "<ipython-input-84-2804f0c5e921>:23: ComplexWarning: Casting complex values to real discards the imaginary part\n",
            "  Y_pred_temp[:, j] = ((gamma_param/np.pi)**(dim_x_temp/2))*(dmkdc_temp[j].predict(X_test_param))\n"
          ]
        },
        {
          "output_type": "stream",
          "name": "stdout",
          "text": [
            "21/21 [==============================] - 0s 2ms/step\n",
            "32/32 [==============================] - 0s 2ms/step\n"
          ]
        },
        {
          "output_type": "stream",
          "name": "stderr",
          "text": [
            "<ipython-input-84-2804f0c5e921>:23: ComplexWarning: Casting complex values to real discards the imaginary part\n",
            "  Y_pred_temp[:, j] = ((gamma_param/np.pi)**(dim_x_temp/2))*(dmkdc_temp[j].predict(X_test_param))\n"
          ]
        },
        {
          "output_type": "stream",
          "name": "stdout",
          "text": [
            "11/11 [==============================] - 0s 3ms/step\n",
            "32/32 [==============================] - 0s 2ms/step\n"
          ]
        },
        {
          "output_type": "stream",
          "name": "stderr",
          "text": [
            "<ipython-input-84-2804f0c5e921>:23: ComplexWarning: Casting complex values to real discards the imaginary part\n",
            "  Y_pred_temp[:, j] = ((gamma_param/np.pi)**(dim_x_temp/2))*(dmkdc_temp[j].predict(X_test_param))\n"
          ]
        }
      ]
    },
    {
      "cell_type": "code",
      "source": [
        "params = {\n",
        "   'axes.labelsize': 8,\n",
        "   'legend.fontsize': 10,\n",
        "   'xtick.labelsize': 10,\n",
        "   'ytick.labelsize': 10,\n",
        "   'text.usetex': False,\n",
        "   'figure.figsize': [5.5, 4.5]\n",
        "   }\n",
        "plt.rcParams.update(params)\n",
        "\n",
        "#plt.plot(X_plot[:, 0], true_dens, \"maroon\", label='True pdf')\n",
        "colors = ['navy']\n",
        "kernels = ['gaussian']\n",
        "lw = 2\n",
        "plt.plot(X_plot, preds_plot_dmkdc[:, 0], color='green', lw=lw,\n",
        "           linestyle='-', label=f\"Classical DMKDC \\n {N_FFS} QRFF class 0\")\n",
        "plt.plot(X_plot, true_dens_0, \"maroon\", label='True pdf class 0')\n",
        "plt.plot(X_plot, preds_plot_dmkdc[:, 1], color='red', lw=lw,\n",
        "           linestyle='-', label=f\"Classical DMKDC \\n {N_FFS} QRFF class 1\")\n",
        "plt.plot(X_plot, true_dens_1, \"blue\", label='True pdf class 1')\n",
        "indexes_class0 = np.random.randint(0, len(X_1), 500)\n",
        "plt.plot(X_1[indexes_class0], -0.00125 - 0.00675 * np.random.random(len(indexes_class0)), '+g')\n",
        "indexes_class1 = np.random.randint(0, len(X_2), 500)\n",
        "plt.plot(X_2[indexes_class1], -0.00125 - 0.00675 * np.random.random(len(indexes_class1)), '+r')\n",
        "plt.legend(loc='best')\n",
        "plt.xlabel('X', fontsize=12)\n",
        "plt.ylabel('Probability Density', fontsize=10)"
      ],
      "metadata": {
        "colab": {
          "base_uri": "https://localhost:8080/",
          "height": 447
        },
        "id": "Uzr28Qz-gy2k",
        "outputId": "69f14d9a-03b7-474f-8a8b-907054205c02"
      },
      "execution_count": 85,
      "outputs": [
        {
          "output_type": "execute_result",
          "data": {
            "text/plain": [
              "Text(0, 0.5, 'Probability Density')"
            ]
          },
          "metadata": {},
          "execution_count": 85
        },
        {
          "output_type": "display_data",
          "data": {
            "text/plain": [
              "<Figure size 550x450 with 1 Axes>"
            ],
            "image/png": "[encoded data removed]"
          },
          "metadata": {}
        }
      ]
    },
    {
      "cell_type": "markdown",
      "source": [
        "## Classical DMKDC QEFF"
      ],
      "metadata": {
        "id": "hvMDwWaBFMlr"
      }
    },
    {
      "cell_type": "code",
      "source": [
        "import qmc.tf.layers as qmc_layers\n",
        "import qmc.tf.models as qmc_models"
      ],
      "metadata": {
        "id": "ClvyCk3aFQjM"
      },
      "execution_count": 90,
      "outputs": []
    },
    {
      "cell_type": "code",
      "source": [
        "\n",
        "tc.set_backend(\"tensorflow\")\n",
        "tc.set_dtype(\"complex128\")\n",
        "\n",
        "class QFeatureMapQuantumEnhancedFF(tf.keras.layers.Layer):\n",
        "    \"\"\"Quantum feature map including the complex part of random Fourier Features.\n",
        "    Uses `RBFSampler` from sklearn to approximate an RBF kernel using\n",
        "    complex random Fourier features.\n",
        "\n",
        "    Input shape:\n",
        "        (batch_size, dim_in)\n",
        "    Output shape:\n",
        "        (batch_size, dim)\n",
        "    Arguments:\n",
        "        input_dim: dimension of the input\n",
        "        dim: int. Number of dimensions to represent a sample.\n",
        "        gamma: float. Gamma parameter of the RBF kernel to be approximated.\n",
        "        random_state: random number generator seed.\n",
        "    \"\"\"\n",
        "\n",
        "    def __init__(\n",
        "            self,\n",
        "            input_dim: int,\n",
        "            dim: int = 100,\n",
        "            gamma: float = 0.5,\n",
        "            random_state=None,\n",
        "            **kwargs\n",
        "    ):\n",
        "        super().__init__(**kwargs)\n",
        "        self.input_dim = input_dim\n",
        "        self.dim = dim\n",
        "        self.gamma = gamma\n",
        "        self.random_state = random_state\n",
        "\n",
        "\n",
        "    def build(self, input_shape):\n",
        "        self.qeff_weights = tf.random.normal((self.input_dim, int(self.dim*1-1)), mean = 0.0, stddev = 2.0/np.sqrt(self.dim - 1), dtype=tf.dtypes.float64, seed = self.random_state) ## final model self.qeff_weights = tf.random.normal((self.input_dim, int(self.dim*1-1)), mean = 0.0, stddev = 2.0/np.sqrt(self.dim - 1), dtype=tf.dtypes.float64, seed = self.random_state)\n",
        "        self.built = True\n",
        "\n",
        "    def call(self, inputs):\n",
        "\n",
        "        ### build the phases of QEFF\n",
        "        phases_temp = (tf.cast(tf.sqrt(self.gamma), tf.float64)*tf.linalg.matmul(tf.cast(inputs, tf.float64), self.qeff_weights))[0]\n",
        "\n",
        "        ### indices qeff for iterator\n",
        "        index_iter_qeff = iter(np.arange(self.qeff_weights.shape[1]))\n",
        "\n",
        "        ## build QEFF circuit\n",
        "        self.n_qeff_qubits = int(np.ceil(np.log2(self.dim)))\n",
        "        self.circuit = tc.Circuit(self.n_qeff_qubits)\n",
        "\n",
        "        def circuit_base_rz_qeff_n(qc_param, num_qubits_param, target_qubit_param):\n",
        "          if num_qubits_param == 1:\n",
        "            qc_param.rz(0, theta = phases_temp[next(index_iter_qeff)] )\n",
        "          elif num_qubits_param == 2:\n",
        "            qc_param.rz(target_qubit_param, theta = phases_temp[next(index_iter_qeff)])\n",
        "            qc_param.cnot(0, target_qubit_param)\n",
        "            qc_param.rz(target_qubit_param, theta = phases_temp[next(index_iter_qeff)])\n",
        "            return\n",
        "          else:\n",
        "            circuit_base_rz_qeff_n(qc_param, num_qubits_param-1, target_qubit_param)\n",
        "            qc_param.cnot(num_qubits_param-2, target_qubit_param)\n",
        "            circuit_base_rz_qeff_n(qc_param, num_qubits_param-1, target_qubit_param)\n",
        "            target_qubit_param -= 1\n",
        "\n",
        "        # Applying the QEFF feature map\n",
        "\n",
        "        for i in range(0, self.n_qeff_qubits):\n",
        "          self.circuit.H(i)\n",
        "\n",
        "        for i in range(1, self.n_qeff_qubits + 1):\n",
        "          circuit_base_rz_qeff_n(self.circuit, i, i - 1)\n",
        "\n",
        "        psi = tf.cast(tf.expand_dims(self.circuit.state(), axis=0), tf.complex64)\n",
        "        return psi\n",
        "\n",
        "    def get_config(self):\n",
        "        config = {\n",
        "            \"input_dim\": self.input_dim,\n",
        "            \"dim\": self.dim,\n",
        "            \"gamma\": self.gamma,\n",
        "            \"random_state\": self.random_state\n",
        "        }\n",
        "        base_config = super().get_config()\n",
        "        return {**base_config, **config}\n",
        "\n",
        "    def compute_output_shape(self, input_shape):\n",
        "        return (input_shape[0], self.dim)"
      ],
      "metadata": {
        "id": "tNthaMYkFU_X"
      },
      "execution_count": 91,
      "outputs": []
    },
    {
      "cell_type": "code",
      "source": [
        "GAMMA = float(2**2) ### original 2**2\n",
        "N_FFS = 32 ### original 32\n",
        "\n",
        "def classical_dmkdc_qeff(X_train_param, Y_train_oh_param, X_test_param, n_qrffs_param, rs_param, gamma_param = 4.):\n",
        "\n",
        "  ## Initialize values\n",
        "  dim_x_temp = X_train_param.shape[1]\n",
        "  Y_train_oh_param = np.array(Y_train_oh_param)\n",
        "  num_classes_temp = Y_train_oh_param.shape[1]\n",
        "  Y_pred_temp = np.zeros((len(X_test_param), num_classes_temp))\n",
        "  sigma_temp = 1./(np.sqrt(2.*gamma_param))\n",
        "\n",
        "  ## Training\n",
        "  dmkdc_temp = []\n",
        "  fm_x = QFeatureMapQuantumEnhancedFF(dim_x_temp, dim=n_qrffs_param, gamma=gamma_param, random_state= rs_param)\n",
        "  for j in range(num_classes_temp):\n",
        "    dmkdc_temp.append(qmc_models.ComplexQMDensity(fm_x, n_qrffs_param))\n",
        "\n",
        "  ## Prediction\n",
        "  for j in range(num_classes_temp):\n",
        "    dmkdc_temp[j].compile()\n",
        "    dmkdc_temp[j].fit(X_train_param[Y_train_oh_param[:, j].astype(bool)], epochs=1, batch_size = 1) ### must keep the batch size = 1\n",
        "    Y_pred_temp[:, j] = ((gamma_param/np.pi)**(dim_x_temp/2))*(dmkdc_temp[j].predict(X_test_param, batch_size = 1)) ### must keep the batch size = 1\n",
        "\n",
        "  return ((y_train_oh.numpy().sum(axis=0)/len(y_train_oh)))*Y_pred_temp\n",
        "\n",
        "preds_train_dmkdc_qeff = classical_dmkdc_qeff(X_train, y_train_oh, X_train, n_qrffs_param = N_FFS, rs_param = RANDOM_STATE_QRFF, gamma_param = GAMMA)\n",
        "preds_plot_dmkdc_qeff = classical_dmkdc_qeff(X_train, y_train_oh, X_plot, n_qrffs_param = N_FFS, rs_param = RANDOM_STATE_QRFF, gamma_param = GAMMA)"
      ],
      "metadata": {
        "id": "dV_y37FKFj_6",
        "colab": {
          "base_uri": "https://localhost:8080/"
        },
        "outputId": "c6f10060-2d82-4469-e6d3-b8c6a4e2dbb7"
      },
      "execution_count": 94,
      "outputs": [
        {
          "output_type": "stream",
          "name": "stdout",
          "text": [
            "666/666 [==============================] - 36s 3ms/step\n",
            "999/999 [==============================] - 11s 2ms/step\n"
          ]
        },
        {
          "output_type": "stream",
          "name": "stderr",
          "text": [
            "<ipython-input-94-8511054571a5>:23: ComplexWarning: Casting complex values to real discards the imaginary part\n",
            "  Y_pred_temp[:, j] = ((gamma_param/np.pi)**(dim_x_temp/2))*(dmkdc_temp[j].predict(X_test_param, batch_size = 1)) ### must keep the batch size = 1\n"
          ]
        },
        {
          "output_type": "stream",
          "name": "stdout",
          "text": [
            "333/333 [==============================] - 27s 2ms/step\n",
            "999/999 [==============================] - 11s 2ms/step\n",
            "666/666 [==============================] - 31s 4ms/step\n",
            "500/500 [==============================] - 9s 2ms/step\n",
            "333/333 [==============================] - 33s 4ms/step\n",
            "500/500 [==============================] - 11s 2ms/step\n"
          ]
        }
      ]
    },
    {
      "cell_type": "code",
      "source": [
        "params = {\n",
        "   'axes.labelsize': 8,\n",
        "   'legend.fontsize': 10,\n",
        "   'xtick.labelsize': 10,\n",
        "   'ytick.labelsize': 10,\n",
        "   'text.usetex': False,\n",
        "   'figure.figsize': [5.5, 4.5]\n",
        "   }\n",
        "plt.rcParams.update(params)\n",
        "\n",
        "#plt.plot(X_plot[:, 0], true_dens, \"maroon\", label='True pdf')\n",
        "colors = ['navy']\n",
        "kernels = ['gaussian']\n",
        "lw = 2\n",
        "plt.plot(X_plot, preds_plot_dmkdc_qeff[:, 0], color='green', lw=lw,\n",
        "           linestyle='-', label=f\"Classical DMKDC \\n {N_FFS} QEFF class 0\")\n",
        "plt.plot(X_plot, true_dens_0, \"maroon\", label='True pdf class 0')\n",
        "plt.plot(X_plot, preds_plot_dmkdc_qeff[:, 1], color='red', lw=lw,\n",
        "           linestyle='-', label=f\"Classical DMKDC \\n {N_FFS} QEFF class 1\")\n",
        "plt.plot(X_plot, true_dens_1, \"blue\", label='True pdf class 1')\n",
        "indexes_class0 = np.random.randint(0, len(X_1), 500)\n",
        "plt.plot(X_1[indexes_class0], -0.00125 - 0.00675 * np.random.random(len(indexes_class0)), '+g')\n",
        "indexes_class1 = np.random.randint(0, len(X_2), 500)\n",
        "plt.plot(X_2[indexes_class1], -0.00125 - 0.00675 * np.random.random(len(indexes_class1)), '+r')\n",
        "plt.legend(loc='best')\n",
        "plt.xlabel('X', fontsize=12)\n",
        "plt.ylabel('Probability Density', fontsize=10)"
      ],
      "metadata": {
        "id": "HCSy9ZPfF4QS",
        "colab": {
          "base_uri": "https://localhost:8080/",
          "height": 447
        },
        "outputId": "10f178c7-d648-4f8c-d402-2d60dbc2e3c0"
      },
      "execution_count": 95,
      "outputs": [
        {
          "output_type": "execute_result",
          "data": {
            "text/plain": [
              "Text(0, 0.5, 'Probability Density')"
            ]
          },
          "metadata": {},
          "execution_count": 95
        },
        {
          "output_type": "display_data",
          "data": {
            "text/plain": [
              "<Figure size 550x450 with 1 Axes>"
            ],
            "image/png": "[encoded data removed]"
          },
          "metadata": {}
        }
      ]
    },
    {
      "cell_type": "markdown",
      "source": [
        "## Mixed VQ-KCD, QRFF\n",
        "\n",
        "Ten classes MNIST Classification, QMC variational, with quantum-enhanced Fourier features, no-conv layer"
      ],
      "metadata": {
        "id": "PF3eDtuN6EmE"
      }
    },
    {
      "cell_type": "code",
      "source": [
        "# this function takes the number of classes and of qubits of the qmc pure, and extract the indices\n",
        "# of the bit strings that correpond to the classes prediction\n",
        "def indices_qubits_clases(num_qubits_param, num_classes_param):\n",
        "  num_qubits_classes_temp = int(np.ceil(np.log2(num_classes_param)))\n",
        "  a = [np.binary_repr(i, num_qubits_param) for i in range(2**num_qubits_param)]\n",
        "  b = [(np.binary_repr(i, num_qubits_classes_temp) + \"0\"*(num_qubits_param - num_qubits_classes_temp)) for i in range(num_classes_param)]\n",
        "  indices_temp = []\n",
        "  for i in range(len(a)):\n",
        "    if a[i] in b:\n",
        "      indices_temp.append(i)\n",
        "\n",
        "  return indices_temp\n",
        "\n",
        "indices_qubits_clases(1, 2)"
      ],
      "metadata": {
        "colab": {
          "base_uri": "https://localhost:8080/"
        },
        "outputId": "2eb9f066-5f8e-4591-bb84-0017b8884973",
        "id": "LLbmNrcs6EmE"
      },
      "execution_count": 19,
      "outputs": [
        {
          "output_type": "execute_result",
          "data": {
            "text/plain": [
              "[0, 1]"
            ]
          },
          "metadata": {},
          "execution_count": 19
        }
      ]
    },
    {
      "cell_type": "code",
      "source": [
        "r = np.random.RandomState(RANDOM_STATE_QRFF)\n",
        "weights_ffs_temp = r.normal(0, 1, (DIM_X, N_FFS))\n",
        "\n",
        "weights_ffs_temp.mean(), weights_ffs_temp.std(), weights_ffs_temp.shape"
      ],
      "metadata": {
        "colab": {
          "base_uri": "https://localhost:8080/"
        },
        "id": "RRRST7hADg6L",
        "outputId": "65257f76-7e2b-468d-efa6-b7697d137450"
      },
      "execution_count": 20,
      "outputs": [
        {
          "output_type": "execute_result",
          "data": {
            "text/plain": [
              "(-0.05818188592975178, 0.9901717926588047, (1, 32))"
            ]
          },
          "metadata": {},
          "execution_count": 20
        }
      ]
    },
    {
      "cell_type": "code",
      "source": [
        "### constants\n",
        "DIM_X = X_train.shape[1]\n",
        "N_TRAINING_DATA = X_train.shape[0]\n",
        "NUM_QUBITS_FFS = 5 ## set 6 for the final experiments\n",
        "NUM_ANCILLA_QUBITS = 2 # set 2 for the final experiments\n",
        "NUM_CLASSES_QUBITS = 1\n",
        "NUM_CLASSES = 2\n",
        "GAMMA = float(2**2) # originally 2**(-4)\n",
        "EPOCHS = 50\n",
        "LEARNING_RATE = 0.005\n",
        "RANDOM_STATE = 67\n",
        "BATCH_SIZE = 16"
      ],
      "metadata": {
        "id": "sFuv-tZqMEBb"
      },
      "execution_count": 21,
      "outputs": []
    },
    {
      "cell_type": "code",
      "source": [
        "def predict_features(X_param, var_param, gamma_param):\n",
        "  X_feat = np.ones((len(X_param), var_param.shape[1]), dtype = np.complex128)\n",
        "  X_feat[:, :] = np.cos(np.sqrt(gamma_param)*(X_param @ var_param)) - 1j*np.sin(np.sqrt(gamma_param)*(X_param @ var_param))\n",
        "  X_feat *= np.sqrt(1/(var_param.shape[1]))\n",
        "  return X_feat\n",
        "\n",
        "X_feat_train_class0 = np.kron(np.array([1, 0]), predict_features(X_1, weights_ffs_temp, GAMMA))\n",
        "X_feat_train_class1 = np.kron(np.array([0, 1]), predict_features(X_2, weights_ffs_temp, GAMMA))\n",
        "X_feat_train = predict_features(X_train, weights_ffs_temp, GAMMA)\n",
        "X_feat_test = predict_features(X_plot, weights_ffs_temp, GAMMA)\n",
        "\n",
        "X_feat_train.shape, X_feat_test.shape, X_train.shape, X_feat_test.shape"
      ],
      "metadata": {
        "colab": {
          "base_uri": "https://localhost:8080/"
        },
        "id": "Kh5BiRrVDZLT",
        "outputId": "70aa4029-f646-4596-cd53-e01fb833237d"
      },
      "execution_count": 22,
      "outputs": [
        {
          "output_type": "execute_result",
          "data": {
            "text/plain": [
              "((999, 32), (500, 32), (999, 1), (500, 32))"
            ]
          },
          "metadata": {},
          "execution_count": 22
        }
      ]
    },
    {
      "cell_type": "code",
      "source": [
        "## Convert states to unitaries (3,5 mins with 10000)\n",
        "\n",
        "U_train_conjTrans = np.array([np.conjugate(create_U_train(X_feat_train[i]).T) for i in range(len(X_feat_train))])\n",
        "U_test_conjTrans = np.array([np.conjugate(create_U_train(X_feat_test[i]).T) for i in range(len(X_feat_test))])\n",
        "\n",
        "U_train_conjTrans.shape, U_test_conjTrans.shape"
      ],
      "metadata": {
        "colab": {
          "base_uri": "https://localhost:8080/"
        },
        "id": "6l9BHdRGEPTb",
        "outputId": "25b1cf1e-915d-476a-9512-099d77ce2c5f"
      },
      "execution_count": 23,
      "outputs": [
        {
          "output_type": "execute_result",
          "data": {
            "text/plain": [
              "((999, 32, 32), (500, 32, 32))"
            ]
          },
          "metadata": {},
          "execution_count": 23
        }
      ]
    },
    {
      "cell_type": "code",
      "source": [
        "### Quantum variational KDC with QRFF\n",
        "\n",
        "import tensorcircuit as tc\n",
        "from tensorcircuit import keras\n",
        "import tensorflow as tf\n",
        "\n",
        "from functools import partial\n",
        "import numpy as np\n",
        "import math as m\n",
        "from scipy.stats import entropy, spearmanr\n",
        "\n",
        "\n",
        "\n",
        "tc.set_backend(\"tensorflow\")\n",
        "tc.set_dtype(\"complex128\")\n",
        "\n",
        "pi = tf.constant(m.pi)\n",
        "\n",
        "\n",
        "class VQKDC_MIXED_QRFF:\n",
        "    r\"\"\"\n",
        "    Defines the ready-to-use Quantum measurement classification (QMC) model implemented\n",
        "    in TensorCircuit using the TensorFlow/Keras API. Any additional argument in the methods has to be Keras-compliant.\n",
        "\n",
        "    Args:\n",
        "        auto_compile: A boolean to autocompile the model using default settings. (Default True).\n",
        "        var_pure_state_size:\n",
        "        gamma:\n",
        "\n",
        "    Returns:\n",
        "        An instantiated model ready to train with ad-hoc data.\n",
        "\n",
        "    \"\"\"\n",
        "    def __init__(self, dim_x_param, n_qeff_qubits, n_ancilla_qubits, num_classes_qubits, num_classes_param, gamma, n_training_data, batch_size = 16, learning_rate = 0.0005, auto_compile=True):\n",
        "\n",
        "        self.circuit = None\n",
        "        self.gamma = gamma\n",
        "        self.dim_x = dim_x_param\n",
        "        self.num_classes = num_classes_param\n",
        "        self.num_classes_qubits = num_classes_qubits\n",
        "        self.n_qeff_qubits = n_qeff_qubits\n",
        "        self.n_ancilla_qubits = n_ancilla_qubits\n",
        "        self.n_total_qubits_temp = self.num_classes_qubits + self.n_qeff_qubits + self.n_ancilla_qubits\n",
        "        self.num_ffs = 2**self.n_qeff_qubits\n",
        "        self.n_training_data = n_training_data\n",
        "        self.var_pure_state_parameters_size = 2*(2**self.n_total_qubits_temp - 1)\n",
        "        self.learning_rate = learning_rate\n",
        "        self.batch_size = batch_size\n",
        "\n",
        "        layer = keras.QuantumLayer(\n",
        "            partial(self.layer),\n",
        "            [(self.var_pure_state_parameters_size,)]\n",
        "            )\n",
        "\n",
        "        self.model = tf.keras.Sequential([layer])\n",
        "\n",
        "        if auto_compile:\n",
        "            self.compile()\n",
        "\n",
        "    def layer(\n",
        "            self,\n",
        "            U_dagger,\n",
        "            var_pure_state_param,\n",
        "        ):\n",
        "        r\"\"\"\n",
        "        Defines a Density Matrix Kernel Density Estimation quantum layer for learning with fixed qaff (Meaning of qaff?). (This function was originally named dmkde_mixed_variational_density_estimation_fixed_qaff)\n",
        "\n",
        "        Args:\n",
        "            U_dagger:\n",
        "            var_pure_state_param:\n",
        "\n",
        "        Returns:\n",
        "            The probabilities of :math:`|k\\rangle`, `|1\\rangle`, ..., `|k\\rangle` state for kernel density classification of the classes.\n",
        "        \"\"\"\n",
        "\n",
        "        ### indices pure state\n",
        "        index_it = iter(np.arange(len(var_pure_state_param)))\n",
        "\n",
        "        ### indices classes, of ms\n",
        "        n_qubits_classes_qeff_temp = self.num_classes_qubits + self.n_qeff_qubits\n",
        "        index_qubit_states = indices_qubits_clases(n_qubits_classes_qeff_temp, self.num_classes) # extract indices of the bit string of classes\n",
        "\n",
        "        # Instantiate a circuit with the calculated number of qubits.\n",
        "        self.circuit = tc.Circuit(self.n_total_qubits_temp)\n",
        "\n",
        "        def circuit_base_ry_n(qc_param, num_qubits_param, target_qubit_param):\n",
        "            if num_qubits_param == 1:\n",
        "                qc_param.ry(0, theta = var_pure_state_param[next(index_it)])\n",
        "            elif num_qubits_param == 2:\n",
        "                qc_param.ry(target_qubit_param, theta=var_pure_state_param[next(index_it)])\n",
        "                qc_param.cnot(0, target_qubit_param)\n",
        "                qc_param.ry(target_qubit_param, theta=var_pure_state_param[next(index_it)])\n",
        "                return\n",
        "            else:\n",
        "                circuit_base_ry_n(qc_param, num_qubits_param-1, target_qubit_param)\n",
        "                qc_param.cnot(num_qubits_param-2, target_qubit_param)\n",
        "                circuit_base_ry_n(qc_param, num_qubits_param-1, target_qubit_param)\n",
        "                target_qubit_param -= 1\n",
        "\n",
        "        def circuit_base_rz_n(qc_param, num_qubits_param, target_qubit_param):\n",
        "            if num_qubits_param == 1:\n",
        "                qc_param.rz(0, theta = var_pure_state_param[next(index_it)])\n",
        "            elif num_qubits_param == 2:\n",
        "                qc_param.rz(target_qubit_param, theta=var_pure_state_param[next(index_it)])\n",
        "                qc_param.cnot(0, target_qubit_param)\n",
        "                qc_param.rz(target_qubit_param, theta=var_pure_state_param[next(index_it)])\n",
        "                return\n",
        "            else:\n",
        "                circuit_base_rz_n(qc_param, num_qubits_param-1, target_qubit_param)\n",
        "                qc_param.cnot(num_qubits_param-2, target_qubit_param)\n",
        "                circuit_base_rz_n(qc_param, num_qubits_param-1, target_qubit_param)\n",
        "                target_qubit_param -= 1\n",
        "\n",
        "        # Learning pure state\n",
        "        for i in range(1, self.n_total_qubits_temp+1):\n",
        "            circuit_base_ry_n(self.circuit, i, i-1)\n",
        "\n",
        "        # Learning pure state complex phase\n",
        "        for j in range(1, self.n_total_qubits_temp+1):\n",
        "            circuit_base_rz_n(self.circuit, j, j-1)\n",
        "\n",
        "        # Value to predict\n",
        "        self.circuit.any(\n",
        "            *[n for n in range(self.num_classes_qubits, self.n_qeff_qubits + self.num_classes_qubits)], unitary=U_dagger\n",
        "        )\n",
        "\n",
        "        # Trace out ancilla qubits, find probability of [000] state for density estimation\n",
        "        measurement_state = tc.quantum.reduced_density_matrix(\n",
        "                        self.circuit.state(),\n",
        "                        cut=[m for m in range(n_qubits_classes_qeff_temp, self.n_total_qubits_temp)])\n",
        "        measurements_results = tc.backend.real(tf.stack([measurement_state[index_qubit_states[i], index_qubit_states[i]] for i in range(self.num_classes)]))\n",
        "        return measurements_results\n",
        "\n",
        "    def custom_categorical_crossentropy(self, y_true, y_pred):\n",
        "        ## code generated with chat gpt\n",
        "        \"\"\"\n",
        "        Custom implementation of categorical cross-entropy loss function.\n",
        "\n",
        "        Parameters:\n",
        "            y_true: Tensor. True labels in one-hot encoded format.\n",
        "            y_pred: Tensor. Predicted probabilities for each class.\n",
        "\n",
        "        Returns:\n",
        "            Tensor. Categorical cross-entropy loss.\n",
        "        \"\"\"\n",
        "        epsilon = 1e-7  # small constant to avoid division by zero\n",
        "        y_pred = tf.clip_by_value(y_pred, epsilon, np.inf)  # clip values to avoid log(0)\n",
        "        loss = -(1./self.n_training_data)*tf.reduce_sum(y_true * tf.math.log(y_pred), axis=-1)\n",
        "        return loss\n",
        "\n",
        "    def compile(\n",
        "            self,\n",
        "            optimizer=tf.keras.optimizers.legacy.Adam, # originally 0.0005\n",
        "            **kwargs):\n",
        "        r\"\"\"\n",
        "        Method to compile the model.\n",
        "\n",
        "        Args:\n",
        "            optimizer:\n",
        "            **kwargs: Any additional argument.\n",
        "\n",
        "        Returns:\n",
        "            None.\n",
        "        \"\"\"\n",
        "        self.model.compile(\n",
        "            loss = self.custom_categorical_crossentropy,\n",
        "            optimizer=optimizer(self.learning_rate),\n",
        "            metrics=[\"accuracy\"],\n",
        "            **kwargs\n",
        "        )\n",
        "    def fit(self, x_train, y_train, batch_size=16, epochs = 30, **kwargs):\n",
        "        r\"\"\"\n",
        "        Method to fit (train) the model using the ad-hoc dataset.\n",
        "\n",
        "        Args:\n",
        "            x_train:\n",
        "            y_train:\n",
        "            batch_size:\n",
        "            epochs:\n",
        "            **kwargs: Any additional argument.\n",
        "\n",
        "        Returns:\n",
        "            None.\n",
        "        \"\"\"\n",
        "\n",
        "        self.model.fit(x_train, y_train, batch_size = self.batch_size, epochs = epochs, **kwargs)\n",
        "\n",
        "    def predict(self, x_test):\n",
        "      r\"\"\"\n",
        "      Method to make predictions with the trained model.\n",
        "\n",
        "      Args:\n",
        "          x_test:\n",
        "\n",
        "      Returns:\n",
        "          The predictions of the conditional density estimation of the input data.\n",
        "      \"\"\"\n",
        "      return (tf.experimental.numpy.power((self.gamma/(pi)), self.dim_x/2.)*\\\n",
        "          self.model.predict(x_test)).numpy()\n"
      ],
      "metadata": {
        "id": "ws5e1gF36EmE"
      },
      "execution_count": 24,
      "outputs": []
    },
    {
      "cell_type": "code",
      "source": [
        "## training the quantum circuit\n",
        "vqkdc = VQKDC_MIXED_QRFF(dim_x_param = DIM_X, n_qeff_qubits = NUM_QUBITS_FFS, n_ancilla_qubits =  NUM_ANCILLA_QUBITS, num_classes_qubits = NUM_CLASSES_QUBITS, num_classes_param = NUM_CLASSES, n_training_data = N_TRAINING_DATA, gamma=GAMMA, batch_size = BATCH_SIZE, learning_rate = LEARNING_RATE)\n",
        "\n",
        "vqkdc.fit(U_train_conjTrans, y_train_oh, epochs = EPOCHS)"
      ],
      "metadata": {
        "colab": {
          "base_uri": "https://localhost:8080/",
          "height": 1000
        },
        "outputId": "b64d3d3f-b10b-4cc3-f655-6febde4e6b25",
        "id": "6aGWMtI26EmF"
      },
      "execution_count": 25,
      "outputs": [
        {
          "output_type": "stream",
          "name": "stdout",
          "text": [
            "Epoch 1/100\n",
            "63/63 [==============================] - 278s 58ms/step - loss: 0.0051 - accuracy: 0.6667\n",
            "Epoch 2/100\n",
            "63/63 [==============================] - 3s 54ms/step - loss: 0.0039 - accuracy: 0.6667\n",
            "Epoch 3/100\n",
            "63/63 [==============================] - 3s 43ms/step - loss: 0.0033 - accuracy: 0.6667\n",
            "Epoch 4/100\n",
            "63/63 [==============================] - 3s 43ms/step - loss: 0.0029 - accuracy: 0.6667\n",
            "Epoch 5/100\n",
            "63/63 [==============================] - 3s 44ms/step - loss: 0.0027 - accuracy: 0.6807\n",
            "Epoch 6/100\n",
            "63/63 [==============================] - 5s 78ms/step - loss: 0.0025 - accuracy: 0.7788\n",
            "Epoch 7/100\n",
            "63/63 [==============================] - 4s 59ms/step - loss: 0.0024 - accuracy: 0.8478\n",
            "Epoch 8/100\n",
            "63/63 [==============================] - 3s 42ms/step - loss: 0.0024 - accuracy: 0.8759\n",
            "Epoch 9/100\n",
            "63/63 [==============================] - 3s 47ms/step - loss: 0.0023 - accuracy: 0.9069\n",
            "Epoch 10/100\n",
            "63/63 [==============================] - 4s 67ms/step - loss: 0.0023 - accuracy: 0.9179\n",
            "Epoch 11/100\n",
            "63/63 [==============================] - 3s 43ms/step - loss: 0.0023 - accuracy: 0.9439\n",
            "Epoch 12/100\n",
            "63/63 [==============================] - 3s 43ms/step - loss: 0.0022 - accuracy: 0.9510\n",
            "Epoch 13/100\n",
            "63/63 [==============================] - 3s 42ms/step - loss: 0.0022 - accuracy: 0.9580\n",
            "Epoch 14/100\n",
            "63/63 [==============================] - 4s 64ms/step - loss: 0.0022 - accuracy: 0.9710\n",
            "Epoch 15/100\n",
            "63/63 [==============================] - 3s 50ms/step - loss: 0.0022 - accuracy: 0.9670\n",
            "Epoch 16/100\n",
            "63/63 [==============================] - 3s 43ms/step - loss: 0.0022 - accuracy: 0.9710\n",
            "Epoch 17/100\n",
            "63/63 [==============================] - 3s 43ms/step - loss: 0.0022 - accuracy: 0.9700\n",
            "Epoch 18/100\n",
            "63/63 [==============================] - 3s 44ms/step - loss: 0.0022 - accuracy: 0.9740\n",
            "Epoch 19/100\n",
            "63/63 [==============================] - 4s 68ms/step - loss: 0.0022 - accuracy: 0.9730\n",
            "Epoch 20/100\n",
            "63/63 [==============================] - 3s 43ms/step - loss: 0.0022 - accuracy: 0.9750\n",
            "Epoch 21/100\n",
            "63/63 [==============================] - 3s 42ms/step - loss: 0.0022 - accuracy: 0.9740\n",
            "Epoch 22/100\n",
            "63/63 [==============================] - 3s 41ms/step - loss: 0.0021 - accuracy: 0.9760\n",
            "Epoch 23/100\n",
            "63/63 [==============================] - 4s 60ms/step - loss: 0.0021 - accuracy: 0.9730\n",
            "Epoch 24/100\n",
            "63/63 [==============================] - 3s 54ms/step - loss: 0.0021 - accuracy: 0.9760\n",
            "Epoch 25/100\n",
            "63/63 [==============================] - 4s 61ms/step - loss: 0.0021 - accuracy: 0.9750\n",
            "Epoch 26/100\n",
            "63/63 [==============================] - 3s 54ms/step - loss: 0.0020 - accuracy: 0.9750\n",
            "Epoch 27/100\n",
            "63/63 [==============================] - 4s 69ms/step - loss: 0.0020 - accuracy: 0.9750\n",
            "Epoch 28/100\n",
            "63/63 [==============================] - 3s 46ms/step - loss: 0.0020 - accuracy: 0.9780\n",
            "Epoch 29/100\n",
            "63/63 [==============================] - 3s 45ms/step - loss: 0.0020 - accuracy: 0.9730\n",
            "Epoch 30/100\n",
            "63/63 [==============================] - 3s 44ms/step - loss: 0.0020 - accuracy: 0.9720\n",
            "Epoch 31/100\n",
            "63/63 [==============================] - 4s 70ms/step - loss: 0.0020 - accuracy: 0.9720\n",
            "Epoch 32/100\n",
            "63/63 [==============================] - 3s 44ms/step - loss: 0.0020 - accuracy: 0.9750\n",
            "Epoch 33/100\n",
            "63/63 [==============================] - 3s 44ms/step - loss: 0.0020 - accuracy: 0.9710\n",
            "Epoch 34/100\n",
            "63/63 [==============================] - 3s 44ms/step - loss: 0.0020 - accuracy: 0.9750\n",
            "Epoch 35/100\n",
            "63/63 [==============================] - 4s 58ms/step - loss: 0.0020 - accuracy: 0.9750\n",
            "Epoch 36/100\n",
            "63/63 [==============================] - 4s 56ms/step - loss: 0.0020 - accuracy: 0.9760\n",
            "Epoch 37/100\n",
            "63/63 [==============================] - 3s 45ms/step - loss: 0.0020 - accuracy: 0.9760\n",
            "Epoch 38/100\n",
            "63/63 [==============================] - 3s 44ms/step - loss: 0.0020 - accuracy: 0.9720\n",
            "Epoch 39/100\n",
            "63/63 [==============================] - 3s 46ms/step - loss: 0.0020 - accuracy: 0.9750\n",
            "Epoch 40/100\n",
            "63/63 [==============================] - 4s 67ms/step - loss: 0.0020 - accuracy: 0.9760\n",
            "Epoch 41/100\n",
            "63/63 [==============================] - 3s 44ms/step - loss: 0.0020 - accuracy: 0.9720\n",
            "Epoch 42/100\n",
            "63/63 [==============================] - 3s 43ms/step - loss: 0.0020 - accuracy: 0.9760\n",
            "Epoch 43/100\n",
            "63/63 [==============================] - 3s 44ms/step - loss: 0.0020 - accuracy: 0.9710\n",
            "Epoch 44/100\n",
            "63/63 [==============================] - 4s 68ms/step - loss: 0.0020 - accuracy: 0.9740\n",
            "Epoch 45/100\n",
            "63/63 [==============================] - 3s 46ms/step - loss: 0.0020 - accuracy: 0.9720\n",
            "Epoch 46/100\n",
            "63/63 [==============================] - 3s 44ms/step - loss: 0.0020 - accuracy: 0.9730\n",
            "Epoch 47/100\n",
            "63/63 [==============================] - 3s 46ms/step - loss: 0.0020 - accuracy: 0.9740\n",
            "Epoch 48/100\n",
            "63/63 [==============================] - 4s 59ms/step - loss: 0.0020 - accuracy: 0.9730\n",
            "Epoch 49/100\n",
            "63/63 [==============================] - 4s 57ms/step - loss: 0.0020 - accuracy: 0.9700\n",
            "Epoch 50/100\n",
            "63/63 [==============================] - 3s 44ms/step - loss: 0.0020 - accuracy: 0.9740\n",
            "Epoch 51/100\n",
            "63/63 [==============================] - 3s 44ms/step - loss: 0.0020 - accuracy: 0.9760\n",
            "Epoch 52/100\n",
            "63/63 [==============================] - 3s 45ms/step - loss: 0.0020 - accuracy: 0.9700\n",
            "Epoch 53/100\n",
            "63/63 [==============================] - 4s 68ms/step - loss: 0.0020 - accuracy: 0.9760\n",
            "Epoch 54/100\n",
            "63/63 [==============================] - 3s 43ms/step - loss: 0.0020 - accuracy: 0.9730\n",
            "Epoch 55/100\n",
            "63/63 [==============================] - 3s 43ms/step - loss: 0.0020 - accuracy: 0.9720\n",
            "Epoch 56/100\n",
            "63/63 [==============================] - 3s 45ms/step - loss: 0.0020 - accuracy: 0.9760\n",
            "Epoch 57/100\n",
            "63/63 [==============================] - 4s 66ms/step - loss: 0.0020 - accuracy: 0.9740\n",
            "Epoch 58/100\n",
            "63/63 [==============================] - 3s 46ms/step - loss: 0.0020 - accuracy: 0.9760\n",
            "Epoch 59/100\n",
            "63/63 [==============================] - 3s 44ms/step - loss: 0.0020 - accuracy: 0.9770\n",
            "Epoch 60/100\n",
            "63/63 [==============================] - 3s 44ms/step - loss: 0.0020 - accuracy: 0.9780\n",
            "Epoch 61/100\n",
            "63/63 [==============================] - 3s 55ms/step - loss: 0.0020 - accuracy: 0.9770\n",
            "Epoch 62/100\n",
            "63/63 [==============================] - 3s 53ms/step - loss: 0.0020 - accuracy: 0.9770\n",
            "Epoch 63/100\n",
            "63/63 [==============================] - 3s 44ms/step - loss: 0.0020 - accuracy: 0.9750\n",
            "Epoch 64/100\n",
            "63/63 [==============================] - 3s 45ms/step - loss: 0.0020 - accuracy: 0.9750\n",
            "Epoch 65/100\n",
            "63/63 [==============================] - 3s 47ms/step - loss: 0.0020 - accuracy: 0.9760\n",
            "Epoch 66/100\n",
            "63/63 [==============================] - 4s 67ms/step - loss: 0.0020 - accuracy: 0.9750\n",
            "Epoch 67/100\n",
            "63/63 [==============================] - 3s 44ms/step - loss: 0.0020 - accuracy: 0.9750\n",
            "Epoch 68/100\n",
            "63/63 [==============================] - 3s 45ms/step - loss: 0.0020 - accuracy: 0.9770\n",
            "Epoch 69/100\n",
            "63/63 [==============================] - 3s 44ms/step - loss: 0.0020 - accuracy: 0.9750\n",
            "Epoch 70/100\n",
            "63/63 [==============================] - 4s 69ms/step - loss: 0.0020 - accuracy: 0.9720\n",
            "Epoch 71/100\n",
            "63/63 [==============================] - 3s 45ms/step - loss: 0.0020 - accuracy: 0.9730\n",
            "Epoch 72/100\n",
            "63/63 [==============================] - 3s 43ms/step - loss: 0.0020 - accuracy: 0.9760\n",
            "Epoch 73/100\n",
            "63/63 [==============================] - 3s 44ms/step - loss: 0.0020 - accuracy: 0.9730\n",
            "Epoch 74/100\n",
            "63/63 [==============================] - 4s 58ms/step - loss: 0.0020 - accuracy: 0.9750\n",
            "Epoch 75/100\n",
            "63/63 [==============================] - 4s 58ms/step - loss: 0.0020 - accuracy: 0.9750\n",
            "Epoch 76/100\n",
            "63/63 [==============================] - 3s 45ms/step - loss: 0.0020 - accuracy: 0.9740\n",
            "Epoch 77/100\n",
            "63/63 [==============================] - 3s 44ms/step - loss: 0.0020 - accuracy: 0.9770\n",
            "Epoch 78/100\n",
            "63/63 [==============================] - 3s 48ms/step - loss: 0.0020 - accuracy: 0.9750\n",
            "Epoch 79/100\n",
            "63/63 [==============================] - 4s 66ms/step - loss: 0.0020 - accuracy: 0.9760\n",
            "Epoch 80/100\n",
            "63/63 [==============================] - 3s 44ms/step - loss: 0.0020 - accuracy: 0.9750\n",
            "Epoch 81/100\n",
            "63/63 [==============================] - 3s 45ms/step - loss: 0.0020 - accuracy: 0.9740\n",
            "Epoch 82/100\n",
            "63/63 [==============================] - 3s 47ms/step - loss: 0.0020 - accuracy: 0.9760\n",
            "Epoch 83/100\n",
            "41/63 [==================>...........] - ETA: 1s - loss: 0.0020 - accuracy: 0.9726"
          ]
        },
        {
          "output_type": "error",
          "ename": "KeyboardInterrupt",
          "evalue": "",
          "traceback": [
            "\u001b[0;31m---------------------------------------------------------------------------\u001b[0m",
            "\u001b[0;31mKeyboardInterrupt\u001b[0m                         Traceback (most recent call last)",
            "\u001b[0;32m<ipython-input-25-dd768433dc1c>\u001b[0m in \u001b[0;36m<cell line: 4>\u001b[0;34m()\u001b[0m\n\u001b[1;32m      2\u001b[0m \u001b[0mvqkdc\u001b[0m \u001b[0;34m=\u001b[0m \u001b[0mVQKDC_MIXED_QRFF\u001b[0m\u001b[0;34m(\u001b[0m\u001b[0mdim_x_param\u001b[0m \u001b[0;34m=\u001b[0m \u001b[0mDIM_X\u001b[0m\u001b[0;34m,\u001b[0m \u001b[0mn_qeff_qubits\u001b[0m \u001b[0;34m=\u001b[0m \u001b[0mNUM_QUBITS_FFS\u001b[0m\u001b[0;34m,\u001b[0m \u001b[0mn_ancilla_qubits\u001b[0m \u001b[0;34m=\u001b[0m  \u001b[0mNUM_ANCILLA_QUBITS\u001b[0m\u001b[0;34m,\u001b[0m \u001b[0mnum_classes_qubits\u001b[0m \u001b[0;34m=\u001b[0m \u001b[0mNUM_CLASSES_QUBITS\u001b[0m\u001b[0;34m,\u001b[0m \u001b[0mnum_classes_param\u001b[0m \u001b[0;34m=\u001b[0m \u001b[0mNUM_CLASSES\u001b[0m\u001b[0;34m,\u001b[0m \u001b[0mn_training_data\u001b[0m \u001b[0;34m=\u001b[0m \u001b[0mN_TRAINING_DATA\u001b[0m\u001b[0;34m,\u001b[0m \u001b[0mgamma\u001b[0m\u001b[0;34m=\u001b[0m\u001b[0mGAMMA\u001b[0m\u001b[0;34m,\u001b[0m \u001b[0mbatch_size\u001b[0m \u001b[0;34m=\u001b[0m \u001b[0mBATCH_SIZE\u001b[0m\u001b[0;34m,\u001b[0m \u001b[0mlearning_rate\u001b[0m \u001b[0;34m=\u001b[0m \u001b[0mLEARNING_RATE\u001b[0m\u001b[0;34m)\u001b[0m\u001b[0;34m\u001b[0m\u001b[0;34m\u001b[0m\u001b[0m\n\u001b[1;32m      3\u001b[0m \u001b[0;34m\u001b[0m\u001b[0m\n\u001b[0;32m----> 4\u001b[0;31m \u001b[0mvqkdc\u001b[0m\u001b[0;34m.\u001b[0m\u001b[0mfit\u001b[0m\u001b[0;34m(\u001b[0m\u001b[0mU_train_conjTrans\u001b[0m\u001b[0;34m,\u001b[0m \u001b[0my_train_oh\u001b[0m\u001b[0;34m,\u001b[0m \u001b[0mepochs\u001b[0m \u001b[0;34m=\u001b[0m \u001b[0mEPOCHS\u001b[0m\u001b[0;34m)\u001b[0m\u001b[0;34m\u001b[0m\u001b[0;34m\u001b[0m\u001b[0m\n\u001b[0m",
            "\u001b[0;32m<ipython-input-24-8b78dbaa5058>\u001b[0m in \u001b[0;36mfit\u001b[0;34m(self, x_train, y_train, batch_size, epochs, **kwargs)\u001b[0m\n\u001b[1;32m    184\u001b[0m         \"\"\"\n\u001b[1;32m    185\u001b[0m \u001b[0;34m\u001b[0m\u001b[0m\n\u001b[0;32m--> 186\u001b[0;31m         \u001b[0mself\u001b[0m\u001b[0;34m.\u001b[0m\u001b[0mmodel\u001b[0m\u001b[0;34m.\u001b[0m\u001b[0mfit\u001b[0m\u001b[0;34m(\u001b[0m\u001b[0mx_train\u001b[0m\u001b[0;34m,\u001b[0m \u001b[0my_train\u001b[0m\u001b[0;34m,\u001b[0m \u001b[0mbatch_size\u001b[0m \u001b[0;34m=\u001b[0m \u001b[0mself\u001b[0m\u001b[0;34m.\u001b[0m\u001b[0mbatch_size\u001b[0m\u001b[0;34m,\u001b[0m \u001b[0mepochs\u001b[0m \u001b[0;34m=\u001b[0m \u001b[0mepochs\u001b[0m\u001b[0;34m,\u001b[0m \u001b[0;34m**\u001b[0m\u001b[0mkwargs\u001b[0m\u001b[0;34m)\u001b[0m\u001b[0;34m\u001b[0m\u001b[0;34m\u001b[0m\u001b[0m\n\u001b[0m\u001b[1;32m    187\u001b[0m \u001b[0;34m\u001b[0m\u001b[0m\n\u001b[1;32m    188\u001b[0m     \u001b[0;32mdef\u001b[0m \u001b[0mpredict\u001b[0m\u001b[0;34m(\u001b[0m\u001b[0mself\u001b[0m\u001b[0;34m,\u001b[0m \u001b[0mx_test\u001b[0m\u001b[0;34m)\u001b[0m\u001b[0;34m:\u001b[0m\u001b[0;34m\u001b[0m\u001b[0;34m\u001b[0m\u001b[0m\n",
            "\u001b[0;32m/usr/local/lib/python3.10/dist-packages/keras/src/utils/traceback_utils.py\u001b[0m in \u001b[0;36merror_handler\u001b[0;34m(*args, **kwargs)\u001b[0m\n\u001b[1;32m     63\u001b[0m         \u001b[0mfiltered_tb\u001b[0m \u001b[0;34m=\u001b[0m \u001b[0;32mNone\u001b[0m\u001b[0;34m\u001b[0m\u001b[0;34m\u001b[0m\u001b[0m\n\u001b[1;32m     64\u001b[0m         \u001b[0;32mtry\u001b[0m\u001b[0;34m:\u001b[0m\u001b[0;34m\u001b[0m\u001b[0;34m\u001b[0m\u001b[0m\n\u001b[0;32m---> 65\u001b[0;31m             \u001b[0;32mreturn\u001b[0m \u001b[0mfn\u001b[0m\u001b[0;34m(\u001b[0m\u001b[0;34m*\u001b[0m\u001b[0margs\u001b[0m\u001b[0;34m,\u001b[0m \u001b[0;34m**\u001b[0m\u001b[0mkwargs\u001b[0m\u001b[0;34m)\u001b[0m\u001b[0;34m\u001b[0m\u001b[0;34m\u001b[0m\u001b[0m\n\u001b[0m\u001b[1;32m     66\u001b[0m         \u001b[0;32mexcept\u001b[0m \u001b[0mException\u001b[0m \u001b[0;32mas\u001b[0m \u001b[0me\u001b[0m\u001b[0;34m:\u001b[0m\u001b[0;34m\u001b[0m\u001b[0;34m\u001b[0m\u001b[0m\n\u001b[1;32m     67\u001b[0m             \u001b[0mfiltered_tb\u001b[0m \u001b[0;34m=\u001b[0m \u001b[0m_process_traceback_frames\u001b[0m\u001b[0;34m(\u001b[0m\u001b[0me\u001b[0m\u001b[0;34m.\u001b[0m\u001b[0m__traceback__\u001b[0m\u001b[0;34m)\u001b[0m\u001b[0;34m\u001b[0m\u001b[0;34m\u001b[0m\u001b[0m\n",
            "\u001b[0;32m/usr/local/lib/python3.10/dist-packages/keras/src/engine/training.py\u001b[0m in \u001b[0;36mfit\u001b[0;34m(self, x, y, batch_size, epochs, verbose, callbacks, validation_split, validation_data, shuffle, class_weight, sample_weight, initial_epoch, steps_per_epoch, validation_steps, validation_batch_size, validation_freq, max_queue_size, workers, use_multiprocessing)\u001b[0m\n\u001b[1;32m   1805\u001b[0m                         ):\n\u001b[1;32m   1806\u001b[0m                             \u001b[0mcallbacks\u001b[0m\u001b[0;34m.\u001b[0m\u001b[0mon_train_batch_begin\u001b[0m\u001b[0;34m(\u001b[0m\u001b[0mstep\u001b[0m\u001b[0;34m)\u001b[0m\u001b[0;34m\u001b[0m\u001b[0;34m\u001b[0m\u001b[0m\n\u001b[0;32m-> 1807\u001b[0;31m                             \u001b[0mtmp_logs\u001b[0m \u001b[0;34m=\u001b[0m \u001b[0mself\u001b[0m\u001b[0;34m.\u001b[0m\u001b[0mtrain_function\u001b[0m\u001b[0;34m(\u001b[0m\u001b[0miterator\u001b[0m\u001b[0;34m)\u001b[0m\u001b[0;34m\u001b[0m\u001b[0;34m\u001b[0m\u001b[0m\n\u001b[0m\u001b[1;32m   1808\u001b[0m                             \u001b[0;32mif\u001b[0m \u001b[0mdata_handler\u001b[0m\u001b[0;34m.\u001b[0m\u001b[0mshould_sync\u001b[0m\u001b[0;34m:\u001b[0m\u001b[0;34m\u001b[0m\u001b[0;34m\u001b[0m\u001b[0m\n\u001b[1;32m   1809\u001b[0m                                 \u001b[0mcontext\u001b[0m\u001b[0;34m.\u001b[0m\u001b[0masync_wait\u001b[0m\u001b[0;34m(\u001b[0m\u001b[0;34m)\u001b[0m\u001b[0;34m\u001b[0m\u001b[0;34m\u001b[0m\u001b[0m\n",
            "\u001b[0;32m/usr/local/lib/python3.10/dist-packages/tensorflow/python/util/traceback_utils.py\u001b[0m in \u001b[0;36merror_handler\u001b[0;34m(*args, **kwargs)\u001b[0m\n\u001b[1;32m    148\u001b[0m     \u001b[0mfiltered_tb\u001b[0m \u001b[0;34m=\u001b[0m \u001b[0;32mNone\u001b[0m\u001b[0;34m\u001b[0m\u001b[0;34m\u001b[0m\u001b[0m\n\u001b[1;32m    149\u001b[0m     \u001b[0;32mtry\u001b[0m\u001b[0;34m:\u001b[0m\u001b[0;34m\u001b[0m\u001b[0;34m\u001b[0m\u001b[0m\n\u001b[0;32m--> 150\u001b[0;31m       \u001b[0;32mreturn\u001b[0m \u001b[0mfn\u001b[0m\u001b[0;34m(\u001b[0m\u001b[0;34m*\u001b[0m\u001b[0margs\u001b[0m\u001b[0;34m,\u001b[0m \u001b[0;34m**\u001b[0m\u001b[0mkwargs\u001b[0m\u001b[0;34m)\u001b[0m\u001b[0;34m\u001b[0m\u001b[0;34m\u001b[0m\u001b[0m\n\u001b[0m\u001b[1;32m    151\u001b[0m     \u001b[0;32mexcept\u001b[0m \u001b[0mException\u001b[0m \u001b[0;32mas\u001b[0m \u001b[0me\u001b[0m\u001b[0;34m:\u001b[0m\u001b[0;34m\u001b[0m\u001b[0;34m\u001b[0m\u001b[0m\n\u001b[1;32m    152\u001b[0m       \u001b[0mfiltered_tb\u001b[0m \u001b[0;34m=\u001b[0m \u001b[0m_process_traceback_frames\u001b[0m\u001b[0;34m(\u001b[0m\u001b[0me\u001b[0m\u001b[0;34m.\u001b[0m\u001b[0m__traceback__\u001b[0m\u001b[0;34m)\u001b[0m\u001b[0;34m\u001b[0m\u001b[0;34m\u001b[0m\u001b[0m\n",
            "\u001b[0;32m/usr/local/lib/python3.10/dist-packages/tensorflow/python/eager/polymorphic_function/polymorphic_function.py\u001b[0m in \u001b[0;36m__call__\u001b[0;34m(self, *args, **kwds)\u001b[0m\n\u001b[1;32m    830\u001b[0m \u001b[0;34m\u001b[0m\u001b[0m\n\u001b[1;32m    831\u001b[0m       \u001b[0;32mwith\u001b[0m \u001b[0mOptionalXlaContext\u001b[0m\u001b[0;34m(\u001b[0m\u001b[0mself\u001b[0m\u001b[0;34m.\u001b[0m\u001b[0m_jit_compile\u001b[0m\u001b[0;34m)\u001b[0m\u001b[0;34m:\u001b[0m\u001b[0;34m\u001b[0m\u001b[0;34m\u001b[0m\u001b[0m\n\u001b[0;32m--> 832\u001b[0;31m         \u001b[0mresult\u001b[0m \u001b[0;34m=\u001b[0m \u001b[0mself\u001b[0m\u001b[0;34m.\u001b[0m\u001b[0m_call\u001b[0m\u001b[0;34m(\u001b[0m\u001b[0;34m*\u001b[0m\u001b[0margs\u001b[0m\u001b[0;34m,\u001b[0m \u001b[0;34m**\u001b[0m\u001b[0mkwds\u001b[0m\u001b[0;34m)\u001b[0m\u001b[0;34m\u001b[0m\u001b[0;34m\u001b[0m\u001b[0m\n\u001b[0m\u001b[1;32m    833\u001b[0m \u001b[0;34m\u001b[0m\u001b[0m\n\u001b[1;32m    834\u001b[0m       \u001b[0mnew_tracing_count\u001b[0m \u001b[0;34m=\u001b[0m \u001b[0mself\u001b[0m\u001b[0;34m.\u001b[0m\u001b[0mexperimental_get_tracing_count\u001b[0m\u001b[0;34m(\u001b[0m\u001b[0;34m)\u001b[0m\u001b[0;34m\u001b[0m\u001b[0;34m\u001b[0m\u001b[0m\n",
            "\u001b[0;32m/usr/local/lib/python3.10/dist-packages/tensorflow/python/eager/polymorphic_function/polymorphic_function.py\u001b[0m in \u001b[0;36m_call\u001b[0;34m(self, *args, **kwds)\u001b[0m\n\u001b[1;32m    866\u001b[0m       \u001b[0;31m# In this case we have created variables on the first call, so we run the\u001b[0m\u001b[0;34m\u001b[0m\u001b[0;34m\u001b[0m\u001b[0m\n\u001b[1;32m    867\u001b[0m       \u001b[0;31m# defunned version which is guaranteed to never create variables.\u001b[0m\u001b[0;34m\u001b[0m\u001b[0;34m\u001b[0m\u001b[0m\n\u001b[0;32m--> 868\u001b[0;31m       return tracing_compilation.call_function(\n\u001b[0m\u001b[1;32m    869\u001b[0m           \u001b[0margs\u001b[0m\u001b[0;34m,\u001b[0m \u001b[0mkwds\u001b[0m\u001b[0;34m,\u001b[0m \u001b[0mself\u001b[0m\u001b[0;34m.\u001b[0m\u001b[0m_no_variable_creation_config\u001b[0m\u001b[0;34m\u001b[0m\u001b[0;34m\u001b[0m\u001b[0m\n\u001b[1;32m    870\u001b[0m       )\n",
            "\u001b[0;32m/usr/local/lib/python3.10/dist-packages/tensorflow/python/eager/polymorphic_function/tracing_compilation.py\u001b[0m in \u001b[0;36mcall_function\u001b[0;34m(args, kwargs, tracing_options)\u001b[0m\n\u001b[1;32m    137\u001b[0m   \u001b[0mbound_args\u001b[0m \u001b[0;34m=\u001b[0m \u001b[0mfunction\u001b[0m\u001b[0;34m.\u001b[0m\u001b[0mfunction_type\u001b[0m\u001b[0;34m.\u001b[0m\u001b[0mbind\u001b[0m\u001b[0;34m(\u001b[0m\u001b[0;34m*\u001b[0m\u001b[0margs\u001b[0m\u001b[0;34m,\u001b[0m \u001b[0;34m**\u001b[0m\u001b[0mkwargs\u001b[0m\u001b[0;34m)\u001b[0m\u001b[0;34m\u001b[0m\u001b[0;34m\u001b[0m\u001b[0m\n\u001b[1;32m    138\u001b[0m   \u001b[0mflat_inputs\u001b[0m \u001b[0;34m=\u001b[0m \u001b[0mfunction\u001b[0m\u001b[0;34m.\u001b[0m\u001b[0mfunction_type\u001b[0m\u001b[0;34m.\u001b[0m\u001b[0munpack_inputs\u001b[0m\u001b[0;34m(\u001b[0m\u001b[0mbound_args\u001b[0m\u001b[0;34m)\u001b[0m\u001b[0;34m\u001b[0m\u001b[0;34m\u001b[0m\u001b[0m\n\u001b[0;32m--> 139\u001b[0;31m   return function._call_flat(  # pylint: disable=protected-access\n\u001b[0m\u001b[1;32m    140\u001b[0m       \u001b[0mflat_inputs\u001b[0m\u001b[0;34m,\u001b[0m \u001b[0mcaptured_inputs\u001b[0m\u001b[0;34m=\u001b[0m\u001b[0mfunction\u001b[0m\u001b[0;34m.\u001b[0m\u001b[0mcaptured_inputs\u001b[0m\u001b[0;34m\u001b[0m\u001b[0;34m\u001b[0m\u001b[0m\n\u001b[1;32m    141\u001b[0m   )\n",
            "\u001b[0;32m/usr/local/lib/python3.10/dist-packages/tensorflow/python/eager/polymorphic_function/concrete_function.py\u001b[0m in \u001b[0;36m_call_flat\u001b[0;34m(self, tensor_inputs, captured_inputs)\u001b[0m\n\u001b[1;32m   1321\u001b[0m         and executing_eagerly):\n\u001b[1;32m   1322\u001b[0m       \u001b[0;31m# No tape is watching; skip to running the function.\u001b[0m\u001b[0;34m\u001b[0m\u001b[0;34m\u001b[0m\u001b[0m\n\u001b[0;32m-> 1323\u001b[0;31m       \u001b[0;32mreturn\u001b[0m \u001b[0mself\u001b[0m\u001b[0;34m.\u001b[0m\u001b[0m_inference_function\u001b[0m\u001b[0;34m.\u001b[0m\u001b[0mcall_preflattened\u001b[0m\u001b[0;34m(\u001b[0m\u001b[0margs\u001b[0m\u001b[0;34m)\u001b[0m\u001b[0;34m\u001b[0m\u001b[0;34m\u001b[0m\u001b[0m\n\u001b[0m\u001b[1;32m   1324\u001b[0m     forward_backward = self._select_forward_and_backward_functions(\n\u001b[1;32m   1325\u001b[0m         \u001b[0margs\u001b[0m\u001b[0;34m,\u001b[0m\u001b[0;34m\u001b[0m\u001b[0;34m\u001b[0m\u001b[0m\n",
            "\u001b[0;32m/usr/local/lib/python3.10/dist-packages/tensorflow/python/eager/polymorphic_function/atomic_function.py\u001b[0m in \u001b[0;36mcall_preflattened\u001b[0;34m(self, args)\u001b[0m\n\u001b[1;32m    214\u001b[0m   \u001b[0;32mdef\u001b[0m \u001b[0mcall_preflattened\u001b[0m\u001b[0;34m(\u001b[0m\u001b[0mself\u001b[0m\u001b[0;34m,\u001b[0m \u001b[0margs\u001b[0m\u001b[0;34m:\u001b[0m \u001b[0mSequence\u001b[0m\u001b[0;34m[\u001b[0m\u001b[0mcore\u001b[0m\u001b[0;34m.\u001b[0m\u001b[0mTensor\u001b[0m\u001b[0;34m]\u001b[0m\u001b[0;34m)\u001b[0m \u001b[0;34m->\u001b[0m \u001b[0mAny\u001b[0m\u001b[0;34m:\u001b[0m\u001b[0;34m\u001b[0m\u001b[0;34m\u001b[0m\u001b[0m\n\u001b[1;32m    215\u001b[0m     \u001b[0;34m\"\"\"Calls with flattened tensor inputs and returns the structured output.\"\"\"\u001b[0m\u001b[0;34m\u001b[0m\u001b[0;34m\u001b[0m\u001b[0m\n\u001b[0;32m--> 216\u001b[0;31m     \u001b[0mflat_outputs\u001b[0m \u001b[0;34m=\u001b[0m \u001b[0mself\u001b[0m\u001b[0;34m.\u001b[0m\u001b[0mcall_flat\u001b[0m\u001b[0;34m(\u001b[0m\u001b[0;34m*\u001b[0m\u001b[0margs\u001b[0m\u001b[0;34m)\u001b[0m\u001b[0;34m\u001b[0m\u001b[0;34m\u001b[0m\u001b[0m\n\u001b[0m\u001b[1;32m    217\u001b[0m     \u001b[0;32mreturn\u001b[0m \u001b[0mself\u001b[0m\u001b[0;34m.\u001b[0m\u001b[0mfunction_type\u001b[0m\u001b[0;34m.\u001b[0m\u001b[0mpack_output\u001b[0m\u001b[0;34m(\u001b[0m\u001b[0mflat_outputs\u001b[0m\u001b[0;34m)\u001b[0m\u001b[0;34m\u001b[0m\u001b[0;34m\u001b[0m\u001b[0m\n\u001b[1;32m    218\u001b[0m \u001b[0;34m\u001b[0m\u001b[0m\n",
            "\u001b[0;32m/usr/local/lib/python3.10/dist-packages/tensorflow/python/eager/polymorphic_function/atomic_function.py\u001b[0m in \u001b[0;36mcall_flat\u001b[0;34m(self, *args)\u001b[0m\n\u001b[1;32m    249\u001b[0m         \u001b[0;32mwith\u001b[0m \u001b[0mrecord\u001b[0m\u001b[0;34m.\u001b[0m\u001b[0mstop_recording\u001b[0m\u001b[0;34m(\u001b[0m\u001b[0;34m)\u001b[0m\u001b[0;34m:\u001b[0m\u001b[0;34m\u001b[0m\u001b[0;34m\u001b[0m\u001b[0m\n\u001b[1;32m    250\u001b[0m           \u001b[0;32mif\u001b[0m \u001b[0mself\u001b[0m\u001b[0;34m.\u001b[0m\u001b[0m_bound_context\u001b[0m\u001b[0;34m.\u001b[0m\u001b[0mexecuting_eagerly\u001b[0m\u001b[0;34m(\u001b[0m\u001b[0;34m)\u001b[0m\u001b[0;34m:\u001b[0m\u001b[0;34m\u001b[0m\u001b[0;34m\u001b[0m\u001b[0m\n\u001b[0;32m--> 251\u001b[0;31m             outputs = self._bound_context.call_function(\n\u001b[0m\u001b[1;32m    252\u001b[0m                 \u001b[0mself\u001b[0m\u001b[0;34m.\u001b[0m\u001b[0mname\u001b[0m\u001b[0;34m,\u001b[0m\u001b[0;34m\u001b[0m\u001b[0;34m\u001b[0m\u001b[0m\n\u001b[1;32m    253\u001b[0m                 \u001b[0mlist\u001b[0m\u001b[0;34m(\u001b[0m\u001b[0margs\u001b[0m\u001b[0;34m)\u001b[0m\u001b[0;34m,\u001b[0m\u001b[0;34m\u001b[0m\u001b[0;34m\u001b[0m\u001b[0m\n",
            "\u001b[0;32m/usr/local/lib/python3.10/dist-packages/tensorflow/python/eager/context.py\u001b[0m in \u001b[0;36mcall_function\u001b[0;34m(self, name, tensor_inputs, num_outputs)\u001b[0m\n\u001b[1;32m   1484\u001b[0m     \u001b[0mcancellation_context\u001b[0m \u001b[0;34m=\u001b[0m \u001b[0mcancellation\u001b[0m\u001b[0;34m.\u001b[0m\u001b[0mcontext\u001b[0m\u001b[0;34m(\u001b[0m\u001b[0;34m)\u001b[0m\u001b[0;34m\u001b[0m\u001b[0;34m\u001b[0m\u001b[0m\n\u001b[1;32m   1485\u001b[0m     \u001b[0;32mif\u001b[0m \u001b[0mcancellation_context\u001b[0m \u001b[0;32mis\u001b[0m \u001b[0;32mNone\u001b[0m\u001b[0;34m:\u001b[0m\u001b[0;34m\u001b[0m\u001b[0;34m\u001b[0m\u001b[0m\n\u001b[0;32m-> 1486\u001b[0;31m       outputs = execute.execute(\n\u001b[0m\u001b[1;32m   1487\u001b[0m           \u001b[0mname\u001b[0m\u001b[0;34m.\u001b[0m\u001b[0mdecode\u001b[0m\u001b[0;34m(\u001b[0m\u001b[0;34m\"utf-8\"\u001b[0m\u001b[0;34m)\u001b[0m\u001b[0;34m,\u001b[0m\u001b[0;34m\u001b[0m\u001b[0;34m\u001b[0m\u001b[0m\n\u001b[1;32m   1488\u001b[0m           \u001b[0mnum_outputs\u001b[0m\u001b[0;34m=\u001b[0m\u001b[0mnum_outputs\u001b[0m\u001b[0;34m,\u001b[0m\u001b[0;34m\u001b[0m\u001b[0;34m\u001b[0m\u001b[0m\n",
            "\u001b[0;32m/usr/local/lib/python3.10/dist-packages/tensorflow/python/eager/execute.py\u001b[0m in \u001b[0;36mquick_execute\u001b[0;34m(op_name, num_outputs, inputs, attrs, ctx, name)\u001b[0m\n\u001b[1;32m     51\u001b[0m   \u001b[0;32mtry\u001b[0m\u001b[0;34m:\u001b[0m\u001b[0;34m\u001b[0m\u001b[0;34m\u001b[0m\u001b[0m\n\u001b[1;32m     52\u001b[0m     \u001b[0mctx\u001b[0m\u001b[0;34m.\u001b[0m\u001b[0mensure_initialized\u001b[0m\u001b[0;34m(\u001b[0m\u001b[0;34m)\u001b[0m\u001b[0;34m\u001b[0m\u001b[0;34m\u001b[0m\u001b[0m\n\u001b[0;32m---> 53\u001b[0;31m     tensors = pywrap_tfe.TFE_Py_Execute(ctx._handle, device_name, op_name,\n\u001b[0m\u001b[1;32m     54\u001b[0m                                         inputs, attrs, num_outputs)\n\u001b[1;32m     55\u001b[0m   \u001b[0;32mexcept\u001b[0m \u001b[0mcore\u001b[0m\u001b[0;34m.\u001b[0m\u001b[0m_NotOkStatusException\u001b[0m \u001b[0;32mas\u001b[0m \u001b[0me\u001b[0m\u001b[0;34m:\u001b[0m\u001b[0;34m\u001b[0m\u001b[0;34m\u001b[0m\u001b[0m\n",
            "\u001b[0;31mKeyboardInterrupt\u001b[0m: "
          ]
        }
      ]
    },
    {
      "cell_type": "code",
      "source": [
        "preds_plot = vqkdc.predict(U_test_conjTrans)\n",
        "preds_train = vqkdc.predict(U_train_conjTrans)\n",
        "\n",
        "preds_train.shape, preds_plot.shape"
      ],
      "metadata": {
        "colab": {
          "base_uri": "https://localhost:8080/"
        },
        "outputId": "edeaa1ab-cf90-41f4-a863-136cd41678bd",
        "id": "yA02S-1J6EmF"
      },
      "execution_count": 76,
      "outputs": [
        {
          "output_type": "stream",
          "name": "stdout",
          "text": [
            "16/16 [==============================] - 0s 22ms/step\n",
            "32/32 [==============================] - 1s 23ms/step\n"
          ]
        },
        {
          "output_type": "execute_result",
          "data": {
            "text/plain": [
              "((999, 2), (500, 2))"
            ]
          },
          "metadata": {},
          "execution_count": 76
        }
      ]
    },
    {
      "cell_type": "code",
      "source": [
        "params = {\n",
        "   'axes.labelsize': 8,\n",
        "   'legend.fontsize': 10,\n",
        "   'xtick.labelsize': 10,\n",
        "   'ytick.labelsize': 10,\n",
        "   'text.usetex': False,\n",
        "   'figure.figsize': [5.5, 4.5]\n",
        "   }\n",
        "plt.rcParams.update(params)\n",
        "\n",
        "#plt.plot(X_plot[:, 0], true_dens, \"maroon\", label='True pdf')\n",
        "colors = ['navy']\n",
        "kernels = ['gaussian']\n",
        "lw = 2\n",
        "plt.plot(X_plot, preds_plot[:, 0], color='green', lw=lw,\n",
        "           linestyle='-', label=f\"VQ-KDC \\n {2**NUM_QUBITS_FFS} QRFF class 0\")\n",
        "plt.plot(X_plot, true_dens_0, \"maroon\", label='True pdf class 0')\n",
        "plt.plot(X_plot, preds_plot[:, 1], color='red', lw=lw,\n",
        "           linestyle='-', label=f\"VQ-KDC \\n {2**NUM_QUBITS_FFS} QRFF class 1\")\n",
        "plt.plot(X_plot, true_dens_1, \"blue\", label='True pdf class 1')\n",
        "indexes_class0 = np.random.randint(0, len(X_1), 500)\n",
        "plt.plot(X_1[indexes_class0], -0.00125 - 0.00675 * np.random.random(len(indexes_class0)), '+g')\n",
        "indexes_class1 = np.random.randint(0, len(X_2), 500)\n",
        "plt.plot(X_2[indexes_class1], -0.00125 - 0.00675 * np.random.random(len(indexes_class1)), '+r')\n",
        "plt.legend(loc='best')\n",
        "plt.xlabel('X', fontsize=12)\n",
        "plt.ylabel('Probability Density', fontsize=10)"
      ],
      "metadata": {
        "colab": {
          "base_uri": "https://localhost:8080/",
          "height": 447
        },
        "outputId": "b16742b8-635c-4bdb-d436-aab408a8e5f1",
        "id": "SNnqqWM26EmF"
      },
      "execution_count": 112,
      "outputs": [
        {
          "output_type": "execute_result",
          "data": {
            "text/plain": [
              "Text(0, 0.5, 'Probability Density')"
            ]
          },
          "metadata": {},
          "execution_count": 112
        },
        {
          "output_type": "display_data",
          "data": {
            "text/plain": [
              "<Figure size 550x450 with 1 Axes>"
            ],
            "image/png": "[encoded data removed]"
          },
          "metadata": {}
        }
      ]
    },
    {
      "cell_type": "markdown",
      "source": [
        "### Evaluate"
      ],
      "metadata": {
        "id": "fpE_v8SZEjzy"
      }
    },
    {
      "cell_type": "code",
      "source": [
        "### evaluate metrics\n",
        "evaluate_class_model(y_true_param = y_train_oh.numpy(), y_train_vqkdc = preds_train, y_train_kdc = preds_train_kdc, y_train_dmkdc = preds_train_dmkdc, y_plot_expected_kdc = preds_plot_kdc, y_plot_expected_dmkdc = preds_plot_dmkdc, y_plot_pred = preds_plot, grid_size_param = GRID_SIZE, head = f\"VQ-KDC {2**NUM_QUBITS_FFS} QRFF vs KDC and DMKDC\")"
      ],
      "metadata": {
        "colab": {
          "base_uri": "https://localhost:8080/"
        },
        "id": "wbf79Stt4FDR",
        "outputId": "9dbb0697-7a79-42b3-c575-6e8d9f53f9e9"
      },
      "execution_count": 204,
      "outputs": [
        {
          "output_type": "stream",
          "name": "stdout",
          "text": [
            "Metrics                            VQ-KDC 32 QRFF vs KDC and DMKDC\n",
            "-------------------------------  ---------------------------------\n",
            "Accuracy:                                                    0.974\n",
            "Negative Log-likelihood KDC:                                 2.428\n",
            "Negative Log-likelihood DMKDC:                               2.244\n",
            "Negative Log-likelihood VQ-KDC:                              1.83\n",
            "KL-div KDC vs DMKDC:                                        -0.202\n",
            "KL-div KDC vs VQ-KDC:                                       -0.614\n",
            "KL-div DMKDC vs VQ-KDC:                                     -0.103 \n",
            "\n"
          ]
        }
      ]
    },
    {
      "cell_type": "code",
      "source": [],
      "metadata": {
        "id": "YqyaUa84Ksi4"
      },
      "execution_count": null,
      "outputs": []
    },
    {
      "cell_type": "markdown",
      "source": [
        "## Mixed VQ-KCD, QEFF\n",
        "\n",
        "Ten classes MNIST Classification, QMC variational, with quantum-enhanced Fourier features, no-conv layer"
      ],
      "metadata": {
        "id": "dPI_M-oh75or"
      }
    },
    {
      "cell_type": "code",
      "source": [
        "### Quantum variational KDC with QEFF\n",
        "\n",
        "import tensorcircuit as tc\n",
        "from tensorcircuit import keras\n",
        "import tensorflow as tf\n",
        "\n",
        "from functools import partial\n",
        "import numpy as np\n",
        "import math as m\n",
        "from scipy.stats import entropy, spearmanr\n",
        "\n",
        "\n",
        "\n",
        "tc.set_backend(\"tensorflow\")\n",
        "tc.set_dtype(\"complex128\")\n",
        "\n",
        "pi = tf.constant(m.pi)\n",
        "\n",
        "\n",
        "class VQKDC_MIXED_QEFF:\n",
        "    r\"\"\"\n",
        "    Defines the ready-to-use Quantum measurement classification (QMC) model implemented\n",
        "    in TensorCircuit using the TensorFlow/Keras API. Any additional argument in the methods has to be Keras-compliant.\n",
        "\n",
        "    Args:\n",
        "        auto_compile: A boolean to autocompile the model using default settings. (Default True).\n",
        "        var_pure_state_size:\n",
        "        gamma:\n",
        "\n",
        "    Returns:\n",
        "        An instantiated model ready to train with ad-hoc data.\n",
        "\n",
        "    \"\"\"\n",
        "    def __init__(self, dim_x_param, n_qeff_qubits, n_ancilla_qubits, num_classes_qubits, num_classes_param, gamma, n_training_data, batch_size = 16, learning_rate = 0.0005, random_state = 15, auto_compile=True):\n",
        "\n",
        "        self.circuit = None\n",
        "        self.gamma = gamma\n",
        "        self.dim_x = dim_x_param\n",
        "        self.num_classes = num_classes_param\n",
        "        self.num_classes_qubits = num_classes_qubits\n",
        "        self.n_qeff_qubits = n_qeff_qubits\n",
        "        self.n_ancilla_qubits = n_ancilla_qubits\n",
        "        self.n_total_qubits_temp = self.num_classes_qubits + self.n_qeff_qubits + self.n_ancilla_qubits\n",
        "        self.num_ffs = 2**self.n_qeff_qubits\n",
        "        self.n_training_data = n_training_data\n",
        "        self.var_pure_state_parameters_size = 2*(2**self.n_total_qubits_temp - 1)\n",
        "        self.learning_rate = learning_rate\n",
        "        self.batch_size = batch_size\n",
        "        self.qeff_weights = tf.random.normal((dim_x_param, int(self.num_ffs*1-1)), mean = 0.0, stddev = 2.0/np.sqrt(self.num_ffs - 1), dtype=tf.dtypes.float64, seed = random_state)\n",
        "\n",
        "        layer = keras.QuantumLayer(\n",
        "            partial(self.layer),\n",
        "            [(self.var_pure_state_parameters_size,)]\n",
        "            )\n",
        "\n",
        "        self.model = tf.keras.Sequential([layer])\n",
        "\n",
        "        if auto_compile:\n",
        "            self.compile()\n",
        "\n",
        "    def layer(\n",
        "            self,\n",
        "            x_sample_param,\n",
        "            var_pure_state_param,\n",
        "        ):\n",
        "        r\"\"\"\n",
        "        Defines a Density Matrix Kernel Density Estimation quantum layer for learning with fixed qaff (Meaning of qaff?). (This function was originally named dmkde_mixed_variational_density_estimation_fixed_qaff)\n",
        "\n",
        "        Args:\n",
        "            U_dagger:\n",
        "            var_pure_state_param:\n",
        "\n",
        "        Returns:\n",
        "            The probabilities of :math:`|k\\rangle`, `|1\\rangle`, ..., `|k\\rangle` state for kernel density classification of the classes.\n",
        "        \"\"\"\n",
        "\n",
        "        ### indices pure state\n",
        "        index_it = iter(np.arange(len(var_pure_state_param)))\n",
        "\n",
        "        ### indices qeff\n",
        "        index_iter_qeff = iter(np.arange(self.qeff_weights.shape[1]))\n",
        "\n",
        "        ### indices classes, of ms\n",
        "        n_qubits_classes_qeff_temp = self.num_classes_qubits + self.n_qeff_qubits\n",
        "        index_qubit_states = indices_qubits_clases(n_qubits_classes_qeff_temp, self.num_classes) # extract indices of the bit string of classes\n",
        "\n",
        "\n",
        "        # Instantiate a circuit with the calculated number of qubits.\n",
        "        self.circuit = tc.Circuit(self.n_total_qubits_temp)\n",
        "\n",
        "        def circuit_base_ry_n(qc_param, num_qubits_param, target_qubit_param):\n",
        "            if num_qubits_param == 1:\n",
        "                qc_param.ry(0, theta = var_pure_state_param[next(index_it)])\n",
        "            elif num_qubits_param == 2:\n",
        "                qc_param.ry(target_qubit_param, theta=var_pure_state_param[next(index_it)])\n",
        "                qc_param.cnot(0, target_qubit_param)\n",
        "                qc_param.ry(target_qubit_param, theta=var_pure_state_param[next(index_it)])\n",
        "                return\n",
        "            else:\n",
        "                circuit_base_ry_n(qc_param, num_qubits_param-1, target_qubit_param)\n",
        "                qc_param.cnot(num_qubits_param-2, target_qubit_param)\n",
        "                circuit_base_ry_n(qc_param, num_qubits_param-1, target_qubit_param)\n",
        "                target_qubit_param -= 1\n",
        "\n",
        "        def circuit_base_rz_n(qc_param, num_qubits_param, target_qubit_param):\n",
        "            if num_qubits_param == 1:\n",
        "                qc_param.rz(0, theta = var_pure_state_param[next(index_it)])\n",
        "            elif num_qubits_param == 2:\n",
        "                qc_param.rz(target_qubit_param, theta=var_pure_state_param[next(index_it)])\n",
        "                qc_param.cnot(0, target_qubit_param)\n",
        "                qc_param.rz(target_qubit_param, theta=var_pure_state_param[next(index_it)])\n",
        "                return\n",
        "            else:\n",
        "                circuit_base_rz_n(qc_param, num_qubits_param-1, target_qubit_param)\n",
        "                qc_param.cnot(num_qubits_param-2, target_qubit_param)\n",
        "                circuit_base_rz_n(qc_param, num_qubits_param-1, target_qubit_param)\n",
        "                target_qubit_param -= 1\n",
        "\n",
        "        # Learning pure state\n",
        "        for i in range(1, self.n_total_qubits_temp+1):\n",
        "            circuit_base_ry_n(self.circuit, i, i-1)\n",
        "\n",
        "        # Learning pure state complex phase\n",
        "        for j in range(1, self.n_total_qubits_temp+1):\n",
        "            circuit_base_rz_n(self.circuit, j, j-1)\n",
        "\n",
        "        # Value to predict\n",
        "\n",
        "        x_sample_temp = tf.expand_dims(x_sample_param, axis=0)\n",
        "        phases_temp = (tf.cast(tf.sqrt(self.gamma), tf.float64)*tf.linalg.matmul(tf.cast(x_sample_temp, tf.float64), self.qeff_weights))[0]\n",
        "        init_qubit_qeff_temp = self.num_classes_qubits # qubit at which the qaff mapping starts it starts after the qubits of the classes\n",
        "\n",
        "        def circuit_base_rz_qeff_n(qc_param, num_qubits_param, target_qubit_param, init_qubit_param):\n",
        "          if num_qubits_param == 1:\n",
        "            qc_param.rz(init_qubit_param, theta = phases_temp[next(index_iter_qeff)] )\n",
        "          elif num_qubits_param == 2:\n",
        "            qc_param.rz(target_qubit_param + init_qubit_param, theta = phases_temp[next(index_iter_qeff)])\n",
        "            qc_param.cnot(init_qubit_param, target_qubit_param + init_qubit_param)\n",
        "            qc_param.rz(target_qubit_param + init_qubit_param, theta = phases_temp[next(index_iter_qeff)])\n",
        "            return\n",
        "          else:\n",
        "            circuit_base_rz_qeff_n(qc_param, num_qubits_param-1, target_qubit_param, init_qubit_param)\n",
        "            qc_param.cnot(num_qubits_param-2 + init_qubit_param, target_qubit_param + init_qubit_param)\n",
        "            circuit_base_rz_qeff_n(qc_param, num_qubits_param-1, target_qubit_param, init_qubit_param)\n",
        "            target_qubit_param -= 1\n",
        "\n",
        "        # Applying the QEFF feature map\n",
        "\n",
        "        for i in reversed(range(1, self.n_qeff_qubits + 1)):\n",
        "          circuit_base_rz_qeff_n(self.circuit, i, i - 1, init_qubit_qeff_temp)\n",
        "\n",
        "        for i in range(init_qubit_qeff_temp, init_qubit_qeff_temp + self.n_qeff_qubits):\n",
        "          self.circuit.H(i)\n",
        "\n",
        "        # Trace out ancilla qubits, find probability of [000] state for density estimation\n",
        "        measurement_state = tc.quantum.reduced_density_matrix(\n",
        "                        self.circuit.state(),\n",
        "                        cut=[m for m in range(n_qubits_classes_qeff_temp, self.n_total_qubits_temp)])\n",
        "        measurements_results = tc.backend.real(tf.stack([measurement_state[index_qubit_states[i], index_qubit_states[i]] for i in range(self.num_classes)]))\n",
        "        return measurements_results\n",
        "\n",
        "    def custom_categorical_crossentropy(self, y_true, y_pred):\n",
        "        ## code generated with chat gpt\n",
        "        \"\"\"\n",
        "        Custom implementation of categorical cross-entropy loss function.\n",
        "\n",
        "        Parameters:\n",
        "            y_true: Tensor. True labels in one-hot encoded format.\n",
        "            y_pred: Tensor. Predicted probabilities for each class.\n",
        "\n",
        "        Returns:\n",
        "            Tensor. Categorical cross-entropy loss.\n",
        "        \"\"\"\n",
        "        epsilon = 1e-7  # small constant to avoid division by zero\n",
        "        y_pred = tf.clip_by_value(y_pred, epsilon, np.inf)  # clip values to avoid log(0) originaly 1.0 - epsilon\n",
        "        loss = -(1./self.n_training_data)*tf.reduce_sum(y_true * tf.math.log(y_pred), axis=-1)\n",
        "        return loss\n",
        "\n",
        "    def compile(\n",
        "            self,\n",
        "            optimizer=tf.keras.optimizers.legacy.Adam, # originally 0.0005\n",
        "            **kwargs):\n",
        "        r\"\"\"\n",
        "        Method to compile the model.\n",
        "\n",
        "        Args:\n",
        "            optimizer:\n",
        "            **kwargs: Any additional argument.\n",
        "\n",
        "        Returns:\n",
        "            None.\n",
        "        \"\"\"\n",
        "        self.model.compile(\n",
        "            loss = self.custom_categorical_crossentropy,\n",
        "            optimizer=optimizer(self.learning_rate),\n",
        "            metrics=[\"accuracy\"],\n",
        "            **kwargs\n",
        "        )\n",
        "    def fit(self, x_train, y_train, batch_size=16, epochs = 30, **kwargs):\n",
        "        r\"\"\"\n",
        "        Method to fit (train) the model using the ad-hoc dataset.\n",
        "\n",
        "        Args:\n",
        "            x_train:\n",
        "            y_train:\n",
        "            batch_size:\n",
        "            epochs:\n",
        "            **kwargs: Any additional argument.\n",
        "\n",
        "        Returns:\n",
        "            None.\n",
        "        \"\"\"\n",
        "\n",
        "        self.model.fit(x_train, y_train, batch_size = self.batch_size, epochs = epochs, **kwargs)\n",
        "\n",
        "    def predict(self, x_test):\n",
        "      r\"\"\"\n",
        "      Method to make predictions with the trained model.\n",
        "\n",
        "      Args:\n",
        "          x_test:\n",
        "\n",
        "      Returns:\n",
        "          The predictions of the conditional density estimation of the input data.\n",
        "      \"\"\"\n",
        "      return (tf.experimental.numpy.power((self.gamma/(pi)), self.dim_x/2.)*\\\n",
        "          self.model.predict(x_test)).numpy()\n"
      ],
      "metadata": {
        "id": "vhHsdsdg75os"
      },
      "execution_count": 97,
      "outputs": []
    },
    {
      "cell_type": "code",
      "source": [
        "### constants\n",
        "DIM_X = X_train.shape[1]\n",
        "N_TRAINING_DATA = X_train.shape[0]\n",
        "NUM_QUBITS_FFS = 5 ## set 6 for the final experiments\n",
        "NUM_ANCILLA_QUBITS = 1 # set 2 for the final experiments\n",
        "NUM_CLASSES_QUBITS = 1\n",
        "NUM_CLASSES = 2\n",
        "GAMMA = float(2**2) # originally 2**(-4)\n",
        "EPOCHS = 100\n",
        "LEARNING_RATE = 0.005\n",
        "RANDOM_STATE = 67\n",
        "BATCH_SIZE = 16\n",
        "\n",
        "## training the quantum circuit\n",
        "vqkdc = VQKDC_MIXED_QEFF(dim_x_param = DIM_X, n_qeff_qubits = NUM_QUBITS_FFS, n_ancilla_qubits =  NUM_ANCILLA_QUBITS, num_classes_qubits = NUM_CLASSES_QUBITS, num_classes_param = NUM_CLASSES, n_training_data = N_TRAINING_DATA, gamma=GAMMA, batch_size = BATCH_SIZE, learning_rate = LEARNING_RATE, random_state = RANDOM_STATE)\n",
        "\n",
        "vqkdc.fit(X_train, y_train_oh, epochs = EPOCHS)"
      ],
      "metadata": {
        "colab": {
          "base_uri": "https://localhost:8080/"
        },
        "outputId": "b44376aa-e13e-4272-b0fb-27d11a365d6f",
        "id": "oi9qNE3R75ot"
      },
      "execution_count": 98,
      "outputs": [
        {
          "output_type": "stream",
          "name": "stdout",
          "text": [
            "Epoch 1/100\n",
            "63/63 [==============================] - 237s 27ms/step - loss: 0.0047 - accuracy: 0.6667\n",
            "Epoch 2/100\n",
            "63/63 [==============================] - 2s 27ms/step - loss: 0.0034 - accuracy: 0.6667\n",
            "Epoch 3/100\n",
            "63/63 [==============================] - 2s 39ms/step - loss: 0.0027 - accuracy: 0.7227\n",
            "Epoch 4/100\n",
            "63/63 [==============================] - 3s 41ms/step - loss: 0.0024 - accuracy: 0.8699\n",
            "Epoch 5/100\n",
            "63/63 [==============================] - 2s 26ms/step - loss: 0.0021 - accuracy: 0.8979\n",
            "Epoch 6/100\n",
            "63/63 [==============================] - 2s 27ms/step - loss: 0.0019 - accuracy: 0.9319\n",
            "Epoch 7/100\n",
            "63/63 [==============================] - 2s 26ms/step - loss: 0.0019 - accuracy: 0.9429\n",
            "Epoch 8/100\n",
            "63/63 [==============================] - 2s 26ms/step - loss: 0.0019 - accuracy: 0.9550\n",
            "Epoch 9/100\n",
            "63/63 [==============================] - 2s 26ms/step - loss: 0.0018 - accuracy: 0.9650\n",
            "Epoch 10/100\n",
            "63/63 [==============================] - 2s 33ms/step - loss: 0.0018 - accuracy: 0.9670\n",
            "Epoch 11/100\n",
            "63/63 [==============================] - 3s 46ms/step - loss: 0.0018 - accuracy: 0.9700\n",
            "Epoch 12/100\n",
            "63/63 [==============================] - 2s 28ms/step - loss: 0.0017 - accuracy: 0.9740\n",
            "Epoch 13/100\n",
            "63/63 [==============================] - 2s 27ms/step - loss: 0.0017 - accuracy: 0.9730\n",
            "Epoch 14/100\n",
            "63/63 [==============================] - 2s 27ms/step - loss: 0.0017 - accuracy: 0.9770\n",
            "Epoch 15/100\n",
            "63/63 [==============================] - 2s 26ms/step - loss: 0.0017 - accuracy: 0.9740\n",
            "Epoch 16/100\n",
            "63/63 [==============================] - 2s 26ms/step - loss: 0.0017 - accuracy: 0.9770\n",
            "Epoch 17/100\n",
            "63/63 [==============================] - 2s 28ms/step - loss: 0.0017 - accuracy: 0.9770\n",
            "Epoch 18/100\n",
            "63/63 [==============================] - 3s 45ms/step - loss: 0.0017 - accuracy: 0.9760\n",
            "Epoch 19/100\n",
            "63/63 [==============================] - 2s 33ms/step - loss: 0.0017 - accuracy: 0.9710\n",
            "Epoch 20/100\n",
            "63/63 [==============================] - 2s 26ms/step - loss: 0.0017 - accuracy: 0.9740\n",
            "Epoch 21/100\n",
            "63/63 [==============================] - 2s 27ms/step - loss: 0.0017 - accuracy: 0.9740\n",
            "Epoch 22/100\n",
            "63/63 [==============================] - 2s 26ms/step - loss: 0.0017 - accuracy: 0.9750\n",
            "Epoch 23/100\n",
            "63/63 [==============================] - 2s 26ms/step - loss: 0.0017 - accuracy: 0.9730\n",
            "Epoch 24/100\n",
            "63/63 [==============================] - 2s 26ms/step - loss: 0.0017 - accuracy: 0.9750\n",
            "Epoch 25/100\n",
            "63/63 [==============================] - 3s 41ms/step - loss: 0.0017 - accuracy: 0.9760\n",
            "Epoch 26/100\n",
            "63/63 [==============================] - 2s 37ms/step - loss: 0.0017 - accuracy: 0.9730\n",
            "Epoch 27/100\n",
            "63/63 [==============================] - 2s 26ms/step - loss: 0.0017 - accuracy: 0.9720\n",
            "Epoch 28/100\n",
            "63/63 [==============================] - 2s 26ms/step - loss: 0.0017 - accuracy: 0.9750\n",
            "Epoch 29/100\n",
            "63/63 [==============================] - 2s 27ms/step - loss: 0.0017 - accuracy: 0.9760\n",
            "Epoch 30/100\n",
            "63/63 [==============================] - 2s 26ms/step - loss: 0.0017 - accuracy: 0.9720\n",
            "Epoch 31/100\n",
            "63/63 [==============================] - 2s 26ms/step - loss: 0.0017 - accuracy: 0.9730\n",
            "Epoch 32/100\n",
            "63/63 [==============================] - 2s 34ms/step - loss: 0.0017 - accuracy: 0.9760\n",
            "Epoch 33/100\n",
            "63/63 [==============================] - 3s 45ms/step - loss: 0.0017 - accuracy: 0.9730\n",
            "Epoch 34/100\n",
            "63/63 [==============================] - 2s 27ms/step - loss: 0.0017 - accuracy: 0.9740\n",
            "Epoch 35/100\n",
            "63/63 [==============================] - 2s 25ms/step - loss: 0.0017 - accuracy: 0.9780\n",
            "Epoch 36/100\n",
            "63/63 [==============================] - 2s 32ms/step - loss: 0.0017 - accuracy: 0.9740\n",
            "Epoch 37/100\n",
            "63/63 [==============================] - 3s 46ms/step - loss: 0.0017 - accuracy: 0.9740\n",
            "Epoch 38/100\n",
            "63/63 [==============================] - 2s 27ms/step - loss: 0.0017 - accuracy: 0.9730\n",
            "Epoch 39/100\n",
            "63/63 [==============================] - 3s 46ms/step - loss: 0.0017 - accuracy: 0.9710\n",
            "Epoch 40/100\n",
            "63/63 [==============================] - 2s 32ms/step - loss: 0.0017 - accuracy: 0.9750\n",
            "Epoch 41/100\n",
            "63/63 [==============================] - 2s 27ms/step - loss: 0.0017 - accuracy: 0.9720\n",
            "Epoch 42/100\n",
            "63/63 [==============================] - 2s 26ms/step - loss: 0.0017 - accuracy: 0.9760\n",
            "Epoch 43/100\n",
            "63/63 [==============================] - 2s 27ms/step - loss: 0.0017 - accuracy: 0.9710\n",
            "Epoch 44/100\n",
            "63/63 [==============================] - 2s 26ms/step - loss: 0.0017 - accuracy: 0.9700\n",
            "Epoch 45/100\n",
            "63/63 [==============================] - 2s 26ms/step - loss: 0.0017 - accuracy: 0.9710\n",
            "Epoch 46/100\n",
            "63/63 [==============================] - 2s 40ms/step - loss: 0.0017 - accuracy: 0.9760\n",
            "Epoch 47/100\n",
            "63/63 [==============================] - 3s 40ms/step - loss: 0.0017 - accuracy: 0.9730\n",
            "Epoch 48/100\n",
            "63/63 [==============================] - 2s 27ms/step - loss: 0.0017 - accuracy: 0.9760\n",
            "Epoch 49/100\n",
            "63/63 [==============================] - 2s 27ms/step - loss: 0.0017 - accuracy: 0.9720\n",
            "Epoch 50/100\n",
            "63/63 [==============================] - 2s 26ms/step - loss: 0.0017 - accuracy: 0.9710\n",
            "Epoch 51/100\n",
            "63/63 [==============================] - 2s 26ms/step - loss: 0.0017 - accuracy: 0.9730\n",
            "Epoch 52/100\n",
            "63/63 [==============================] - 2s 27ms/step - loss: 0.0017 - accuracy: 0.9730\n",
            "Epoch 53/100\n",
            "63/63 [==============================] - 2s 32ms/step - loss: 0.0017 - accuracy: 0.9730\n",
            "Epoch 54/100\n",
            "63/63 [==============================] - 4s 65ms/step - loss: 0.0017 - accuracy: 0.9720\n",
            "Epoch 55/100\n",
            "63/63 [==============================] - 2s 26ms/step - loss: 0.0017 - accuracy: 0.9720\n",
            "Epoch 56/100\n",
            "63/63 [==============================] - 2s 26ms/step - loss: 0.0017 - accuracy: 0.9750\n",
            "Epoch 57/100\n",
            "63/63 [==============================] - 2s 26ms/step - loss: 0.0017 - accuracy: 0.9760\n",
            "Epoch 58/100\n",
            "63/63 [==============================] - 2s 27ms/step - loss: 0.0017 - accuracy: 0.9730\n",
            "Epoch 59/100\n",
            "63/63 [==============================] - 2s 26ms/step - loss: 0.0017 - accuracy: 0.9730\n",
            "Epoch 60/100\n",
            "63/63 [==============================] - 2s 33ms/step - loss: 0.0017 - accuracy: 0.9720\n",
            "Epoch 61/100\n",
            "63/63 [==============================] - 3s 45ms/step - loss: 0.0017 - accuracy: 0.9720\n",
            "Epoch 62/100\n",
            "63/63 [==============================] - 2s 26ms/step - loss: 0.0017 - accuracy: 0.9750\n",
            "Epoch 63/100\n",
            "63/63 [==============================] - 2s 26ms/step - loss: 0.0017 - accuracy: 0.9730\n",
            "Epoch 64/100\n",
            "63/63 [==============================] - 2s 27ms/step - loss: 0.0017 - accuracy: 0.9750\n",
            "Epoch 65/100\n",
            "63/63 [==============================] - 2s 27ms/step - loss: 0.0017 - accuracy: 0.9710\n",
            "Epoch 66/100\n",
            "63/63 [==============================] - 2s 27ms/step - loss: 0.0017 - accuracy: 0.9700\n",
            "Epoch 67/100\n",
            "63/63 [==============================] - 2s 27ms/step - loss: 0.0017 - accuracy: 0.9730\n",
            "Epoch 68/100\n",
            "63/63 [==============================] - 3s 45ms/step - loss: 0.0017 - accuracy: 0.9730\n",
            "Epoch 69/100\n",
            "63/63 [==============================] - 2s 33ms/step - loss: 0.0017 - accuracy: 0.9730\n",
            "Epoch 70/100\n",
            "63/63 [==============================] - 2s 27ms/step - loss: 0.0017 - accuracy: 0.9770\n",
            "Epoch 71/100\n",
            "63/63 [==============================] - 2s 26ms/step - loss: 0.0017 - accuracy: 0.9750\n",
            "Epoch 72/100\n",
            "63/63 [==============================] - 2s 26ms/step - loss: 0.0017 - accuracy: 0.9740\n",
            "Epoch 73/100\n",
            "63/63 [==============================] - 2s 26ms/step - loss: 0.0017 - accuracy: 0.9740\n",
            "Epoch 74/100\n",
            "63/63 [==============================] - 2s 27ms/step - loss: 0.0017 - accuracy: 0.9720\n",
            "Epoch 75/100\n",
            "63/63 [==============================] - 2s 39ms/step - loss: 0.0017 - accuracy: 0.9750\n",
            "Epoch 76/100\n",
            "63/63 [==============================] - 3s 41ms/step - loss: 0.0017 - accuracy: 0.9740\n",
            "Epoch 77/100\n",
            "63/63 [==============================] - 2s 26ms/step - loss: 0.0017 - accuracy: 0.9710\n",
            "Epoch 78/100\n",
            "63/63 [==============================] - 2s 27ms/step - loss: 0.0017 - accuracy: 0.9760\n",
            "Epoch 79/100\n",
            "63/63 [==============================] - 2s 27ms/step - loss: 0.0017 - accuracy: 0.9720\n",
            "Epoch 80/100\n",
            "63/63 [==============================] - 2s 27ms/step - loss: 0.0017 - accuracy: 0.9740\n",
            "Epoch 81/100\n",
            "63/63 [==============================] - 2s 27ms/step - loss: 0.0017 - accuracy: 0.9760\n",
            "Epoch 82/100\n",
            "63/63 [==============================] - 2s 32ms/step - loss: 0.0017 - accuracy: 0.9740\n",
            "Epoch 83/100\n",
            "63/63 [==============================] - 3s 46ms/step - loss: 0.0017 - accuracy: 0.9770\n",
            "Epoch 84/100\n",
            "63/63 [==============================] - 2s 27ms/step - loss: 0.0017 - accuracy: 0.9690\n",
            "Epoch 85/100\n",
            "63/63 [==============================] - 2s 27ms/step - loss: 0.0017 - accuracy: 0.9750\n",
            "Epoch 86/100\n",
            "63/63 [==============================] - 2s 28ms/step - loss: 0.0017 - accuracy: 0.9750\n",
            "Epoch 87/100\n",
            "63/63 [==============================] - 2s 27ms/step - loss: 0.0017 - accuracy: 0.9780\n",
            "Epoch 88/100\n",
            "63/63 [==============================] - 2s 26ms/step - loss: 0.0017 - accuracy: 0.9690\n",
            "Epoch 89/100\n",
            "63/63 [==============================] - 2s 28ms/step - loss: 0.0017 - accuracy: 0.9750\n",
            "Epoch 90/100\n",
            "63/63 [==============================] - 3s 46ms/step - loss: 0.0017 - accuracy: 0.9770\n",
            "Epoch 91/100\n",
            "63/63 [==============================] - 2s 31ms/step - loss: 0.0017 - accuracy: 0.9750\n",
            "Epoch 92/100\n",
            "63/63 [==============================] - 2s 27ms/step - loss: 0.0017 - accuracy: 0.9810\n",
            "Epoch 93/100\n",
            "63/63 [==============================] - 2s 27ms/step - loss: 0.0017 - accuracy: 0.9730\n",
            "Epoch 94/100\n",
            "63/63 [==============================] - 2s 27ms/step - loss: 0.0017 - accuracy: 0.9730\n",
            "Epoch 95/100\n",
            "63/63 [==============================] - 2s 26ms/step - loss: 0.0017 - accuracy: 0.9720\n",
            "Epoch 96/100\n",
            "63/63 [==============================] - 2s 27ms/step - loss: 0.0017 - accuracy: 0.9730\n",
            "Epoch 97/100\n",
            "63/63 [==============================] - 3s 46ms/step - loss: 0.0017 - accuracy: 0.9740\n",
            "Epoch 98/100\n",
            "63/63 [==============================] - 2s 32ms/step - loss: 0.0017 - accuracy: 0.9740\n",
            "Epoch 99/100\n",
            "63/63 [==============================] - 2s 27ms/step - loss: 0.0017 - accuracy: 0.9730\n",
            "Epoch 100/100\n",
            "63/63 [==============================] - 2s 26ms/step - loss: 0.0017 - accuracy: 0.9720\n"
          ]
        }
      ]
    },
    {
      "cell_type": "code",
      "source": [
        "preds_plot_vqkdc_qeff = vqkdc.predict(X_plot)\n",
        "preds_train_vqkdc_qeff = vqkdc.predict(X_train)\n",
        "\n",
        "preds_plot_vqkdc_qeff.shape, preds_train_vqkdc_qeff.shape"
      ],
      "metadata": {
        "colab": {
          "base_uri": "https://localhost:8080/"
        },
        "id": "A1riymfu75ot",
        "outputId": "332aec60-9605-4807-d863-857004ffb101"
      },
      "execution_count": 99,
      "outputs": [
        {
          "output_type": "stream",
          "name": "stdout",
          "text": [
            "16/16 [==============================] - 155s 17ms/step\n",
            "32/32 [==============================] - 1s 17ms/step\n"
          ]
        },
        {
          "output_type": "execute_result",
          "data": {
            "text/plain": [
              "(500, 2)"
            ]
          },
          "metadata": {},
          "execution_count": 99
        }
      ]
    },
    {
      "cell_type": "code",
      "source": [
        "params = {\n",
        "   'axes.labelsize': 8,\n",
        "   'legend.fontsize': 10,\n",
        "   'xtick.labelsize': 10,\n",
        "   'ytick.labelsize': 10,\n",
        "   'text.usetex': False,\n",
        "   'figure.figsize': [5.5, 4.5]\n",
        "   }\n",
        "plt.rcParams.update(params)\n",
        "\n",
        "#plt.plot(X_plot[:, 0], true_dens, \"maroon\", label='True pdf')\n",
        "colors = ['navy']\n",
        "kernels = ['gaussian']\n",
        "lw = 2\n",
        "plt.plot(X_plot, preds_plot_vqkdc_qeff[:, 0], color='green', lw=lw,\n",
        "           linestyle='-', label=f\"VQ-KDC \\n {2**NUM_QUBITS_FFS} QEFF class 0\")\n",
        "plt.plot(X_plot, true_dens_0, \"maroon\", label='True pdf class 0')\n",
        "plt.plot(X_plot, preds_plot_vqkdc_qeff[:, 1], color='red', lw=lw,\n",
        "           linestyle='-', label=f\"VQ-KDC \\n {2**NUM_QUBITS_FFS} QEFF class 1\")\n",
        "plt.plot(X_plot, true_dens_1, \"blue\", label='True pdf class 1')\n",
        "indexes_class0 = np.random.randint(0, len(X_1), 500)\n",
        "plt.plot(X_1[indexes_class0], -0.00125 - 0.00675 * np.random.random(len(indexes_class0)), '+g')\n",
        "indexes_class1 = np.random.randint(0, len(X_2), 500)\n",
        "plt.plot(X_2[indexes_class1], -0.00125 - 0.00675 * np.random.random(len(indexes_class1)), '+r')\n",
        "plt.legend(loc='best')\n",
        "plt.xlabel('X', fontsize=12)\n",
        "plt.ylabel('Probability Density', fontsize=10)"
      ],
      "metadata": {
        "colab": {
          "base_uri": "https://localhost:8080/",
          "height": 451
        },
        "id": "480MSU2475ou",
        "outputId": "98b64bd5-d45c-45d2-d68f-525bb19d3444"
      },
      "execution_count": 102,
      "outputs": [
        {
          "output_type": "execute_result",
          "data": {
            "text/plain": [
              "Text(0, 0.5, 'Probability Density')"
            ]
          },
          "metadata": {},
          "execution_count": 102
        },
        {
          "output_type": "display_data",
          "data": {
            "text/plain": [
              "<Figure size 550x450 with 1 Axes>"
            ],
            "image/png": "[encoded data removed]"
          },
          "metadata": {}
        }
      ]
    },
    {
      "cell_type": "markdown",
      "source": [
        "### Evaluate"
      ],
      "metadata": {
        "id": "8JxMc3cIErQa"
      }
    },
    {
      "cell_type": "code",
      "source": [
        "### evaluate metrics\n",
        "evaluate_class_model(y_true_param = y_train_oh.numpy(), y_train_vqkdc = preds_train_vqkdc_qeff, y_train_kdc = preds_train_kdc, y_train_dmkdc = preds_train_dmkdc_qeff, y_plot_expected_kdc = preds_plot_kdc, y_plot_expected_dmkdc = preds_plot_dmkdc_qeff, y_plot_pred = preds_plot_vqkdc_qeff, grid_size_param = GRID_SIZE, head = f\"VQ-KDC {2**NUM_QUBITS_FFS} QEFF vs KDC and DMKDC\")"
      ],
      "metadata": {
        "colab": {
          "base_uri": "https://localhost:8080/"
        },
        "outputId": "3a204cc2-8ca1-427d-a13d-c5c6c9a0c5e2",
        "id": "DKRVGZPtErQk"
      },
      "execution_count": 205,
      "outputs": [
        {
          "output_type": "stream",
          "name": "stdout",
          "text": [
            "Metrics                            VQ-KDC 32 QEFF vs KDC and DMKDC\n",
            "-------------------------------  ---------------------------------\n",
            "Accuracy:                                                    0.976\n",
            "Negative Log-likelihood KDC:                                 2.428\n",
            "Negative Log-likelihood DMKDC:                               2.311\n",
            "Negative Log-likelihood VQ-KDC:                              1.823\n",
            "KL-div KDC vs DMKDC:                                        -0.277\n",
            "KL-div KDC vs VQ-KDC:                                       -0.865\n",
            "KL-div DMKDC vs VQ-KDC:                                     -0.067 \n",
            "\n"
          ]
        }
      ]
    },
    {
      "cell_type": "markdown",
      "source": [
        "## Constants HEA"
      ],
      "metadata": {
        "id": "JSN8Py-eNVyB"
      }
    },
    {
      "cell_type": "code",
      "source": [
        "## Change these values accordingly\n",
        "\n",
        "DATA_SET = \"Potential 2\" ## change dataset accordingly\n",
        "NUM_QUBITS_FFS = 5 ## set 6 for the final experiments\n",
        "NUM_ANCILLA_QUBITS = 2 # set 2 for the final experiments\n",
        "\n",
        "#######\n",
        "\n",
        "GAMMA_DICT = {\"Binomial\": 2., \"Potential 1\": 4., \"Potential 2\": 16., \"Arc\": 4., \"Star\": 16.}\n",
        "RANDOM_STATE_QRFF_DICT = {\"Binomial\": 324, \"Potential 1\": 125, \"Potential 2\": 178, \"Arc\": 7, \"Star\": 1224}\n",
        "RANDOM_STATE_QEFF_DICT = {\"Binomial\": 3, \"Potential 1\": 15, \"Potential 2\": 78, \"Arc\": 73, \"Star\": 24}\n",
        "EPOCHS_DICT  = {\"Binomial\": 0, \"Potential 1\": 8, \"Potential 2\": 60, \"Arc\": 60, \"Star\": 60}\n",
        "LEARNING_RATE_DICT = {\"Binomial\": 0.0005, \"Potential 1\": 0.0005, \"Potential 2\": 0.005, \"Arc\": 0.0005, \"Star\": 0.0005}\n",
        "GAMMA = GAMMA_DICT[DATA_SET]\n",
        "RANDOM_STATE_QRFF = RANDOM_STATE_QRFF_DICT[DATA_SET]\n",
        "RANDOM_STATE_QEFF = RANDOM_STATE_QEFF_DICT[DATA_SET]\n",
        "LEARNING_RATE = LEARNING_RATE_DICT[DATA_SET]\n",
        "EPOCHS = EPOCHS_DICT[DATA_SET]\n",
        "DIM_X = X_train.shape[1]\n",
        "N_TRAINING_DATA = X_train.shape[0]\n",
        "N_FFS = 2**NUM_QUBITS_FFS\n",
        "NUM_LAYERS_HEA = 3 ## set 3 for the final experiments\n",
        "NUM_TOTAL_QUBITS = NUM_QUBITS_FFS + NUM_ANCILLA_QUBITS\n",
        "\n",
        "###\n",
        "#EPOCHS = 20\n",
        "\n",
        "\n",
        "DATA_SET, EPOCHS, NUM_QUBITS_FFS, NUM_ANCILLA_QUBITS, GAMMA, RANDOM_STATE_QRFF, RANDOM_STATE_QEFF, DIM_X, N_FFS, NUM_LAYERS_HEA, LEARNING_RATE, N_TRAINING_DATA\n"
      ],
      "metadata": {
        "colab": {
          "base_uri": "https://localhost:8080/"
        },
        "id": "TuAcA6vfNXt_",
        "outputId": "9f9ba544-02a9-46a3-fad9-d310d7131dfb"
      },
      "execution_count": 206,
      "outputs": [
        {
          "output_type": "execute_result",
          "data": {
            "text/plain": [
              "('Potential 2', 60, 5, 2, 16.0, 178, 78, 1, 32, 3, 0.005, 999)"
            ]
          },
          "metadata": {},
          "execution_count": 206
        }
      ]
    },
    {
      "cell_type": "markdown",
      "source": [
        "## Mixed VQ-KCD, QRFF HEA\n",
        "\n",
        "Ten classes MNIST Classification, QMC variational, with quantum-enhanced Fourier features, no-conv layer"
      ],
      "metadata": {
        "id": "Y45oYttHSQ_q"
      }
    },
    {
      "cell_type": "code",
      "source": [
        "r = np.random.RandomState(RANDOM_STATE_QRFF)\n",
        "weights_ffs_temp = r.normal(0, 1, (DIM_X, N_FFS))\n",
        "\n",
        "weights_ffs_temp.mean(), weights_ffs_temp.std(), weights_ffs_temp.shape"
      ],
      "metadata": {
        "colab": {
          "base_uri": "https://localhost:8080/"
        },
        "outputId": "13b3bc82-bc19-4f21-cc3f-ddcca4a16437",
        "id": "tFBvt4MJSQ_y"
      },
      "execution_count": 207,
      "outputs": [
        {
          "output_type": "execute_result",
          "data": {
            "text/plain": [
              "(0.16338279289690802, 0.8571118668822301, (1, 32))"
            ]
          },
          "metadata": {},
          "execution_count": 207
        }
      ]
    },
    {
      "cell_type": "code",
      "source": [
        "### constants\n",
        "DIM_X = X_train.shape[1]\n",
        "N_TRAINING_DATA = X_train.shape[0]\n",
        "NUM_QUBITS_FFS = 5 ## set 6 for the final experiments\n",
        "NUM_ANCILLA_QUBITS = 2 # set 2 for the final experiments\n",
        "NUM_CLASSES_QUBITS = 1\n",
        "NUM_CLASSES = 2\n",
        "GAMMA = float(2**2) # originally 2**(-4)\n",
        "EPOCHS = 100\n",
        "LEARNING_RATE = 0.005\n",
        "RANDOM_STATE = 67\n",
        "BATCH_SIZE = 16"
      ],
      "metadata": {
        "id": "zysmEoOvSQ_y"
      },
      "execution_count": 208,
      "outputs": []
    },
    {
      "cell_type": "code",
      "source": [
        "def predict_features(X_param, var_param, gamma_param):\n",
        "  X_feat = np.ones((len(X_param), var_param.shape[1]), dtype = np.complex128)\n",
        "  X_feat[:, :] = np.cos(np.sqrt(gamma_param)*(X_param @ var_param)) - 1j*np.sin(np.sqrt(gamma_param)*(X_param @ var_param))\n",
        "  X_feat *= np.sqrt(1/(var_param.shape[1]))\n",
        "  return X_feat\n",
        "\n",
        "X_feat_train_class0 = np.kron(np.array([1, 0]), predict_features(X_1, weights_ffs_temp, GAMMA))\n",
        "X_feat_train_class1 = np.kron(np.array([0, 1]), predict_features(X_2, weights_ffs_temp, GAMMA))\n",
        "X_feat_train = predict_features(X_train, weights_ffs_temp, GAMMA)\n",
        "X_feat_test = predict_features(X_plot, weights_ffs_temp, GAMMA)\n",
        "\n",
        "X_feat_train.shape, X_feat_test.shape, X_train.shape, X_feat_test.shape"
      ],
      "metadata": {
        "colab": {
          "base_uri": "https://localhost:8080/"
        },
        "outputId": "e099fbf6-2442-4a03-8388-c5c7d0fb6535",
        "id": "Miv3kysOSQ_y"
      },
      "execution_count": 209,
      "outputs": [
        {
          "output_type": "execute_result",
          "data": {
            "text/plain": [
              "((999, 32), (500, 32), (999, 1), (500, 32))"
            ]
          },
          "metadata": {},
          "execution_count": 209
        }
      ]
    },
    {
      "cell_type": "code",
      "source": [
        "## Convert states to unitaries (3,5 mins with 10000)\n",
        "\n",
        "U_train_conjTrans = np.array([np.conjugate(create_U_train(X_feat_train[i]).T) for i in range(len(X_feat_train))])\n",
        "U_test_conjTrans = np.array([np.conjugate(create_U_train(X_feat_test[i]).T) for i in range(len(X_feat_test))])\n",
        "\n",
        "U_train_conjTrans.shape, U_test_conjTrans.shape"
      ],
      "metadata": {
        "colab": {
          "base_uri": "https://localhost:8080/",
          "height": 391
        },
        "outputId": "19d8bd9b-2198-4c63-82b2-897a7b4fdbed",
        "id": "OJEO4CAGSQ_y"
      },
      "execution_count": 210,
      "outputs": [
        {
          "output_type": "error",
          "ename": "KeyboardInterrupt",
          "evalue": "",
          "traceback": [
            "\u001b[0;31m---------------------------------------------------------------------------\u001b[0m",
            "\u001b[0;31mKeyboardInterrupt\u001b[0m                         Traceback (most recent call last)",
            "\u001b[0;32m<ipython-input-210-7059ead9ce9e>\u001b[0m in \u001b[0;36m<cell line: 3>\u001b[0;34m()\u001b[0m\n\u001b[1;32m      1\u001b[0m \u001b[0;31m## Convert states to unitaries (3,5 mins with 10000)\u001b[0m\u001b[0;34m\u001b[0m\u001b[0;34m\u001b[0m\u001b[0m\n\u001b[1;32m      2\u001b[0m \u001b[0;34m\u001b[0m\u001b[0m\n\u001b[0;32m----> 3\u001b[0;31m \u001b[0mU_train_conjTrans\u001b[0m \u001b[0;34m=\u001b[0m \u001b[0mnp\u001b[0m\u001b[0;34m.\u001b[0m\u001b[0marray\u001b[0m\u001b[0;34m(\u001b[0m\u001b[0;34m[\u001b[0m\u001b[0mnp\u001b[0m\u001b[0;34m.\u001b[0m\u001b[0mconjugate\u001b[0m\u001b[0;34m(\u001b[0m\u001b[0mcreate_U_train\u001b[0m\u001b[0;34m(\u001b[0m\u001b[0mX_feat_train\u001b[0m\u001b[0;34m[\u001b[0m\u001b[0mi\u001b[0m\u001b[0;34m]\u001b[0m\u001b[0;34m)\u001b[0m\u001b[0;34m.\u001b[0m\u001b[0mT\u001b[0m\u001b[0;34m)\u001b[0m \u001b[0;32mfor\u001b[0m \u001b[0mi\u001b[0m \u001b[0;32min\u001b[0m \u001b[0mrange\u001b[0m\u001b[0;34m(\u001b[0m\u001b[0mlen\u001b[0m\u001b[0;34m(\u001b[0m\u001b[0mX_feat_train\u001b[0m\u001b[0;34m)\u001b[0m\u001b[0;34m)\u001b[0m\u001b[0;34m]\u001b[0m\u001b[0;34m)\u001b[0m\u001b[0;34m\u001b[0m\u001b[0;34m\u001b[0m\u001b[0m\n\u001b[0m\u001b[1;32m      4\u001b[0m \u001b[0mU_test_conjTrans\u001b[0m \u001b[0;34m=\u001b[0m \u001b[0mnp\u001b[0m\u001b[0;34m.\u001b[0m\u001b[0marray\u001b[0m\u001b[0;34m(\u001b[0m\u001b[0;34m[\u001b[0m\u001b[0mnp\u001b[0m\u001b[0;34m.\u001b[0m\u001b[0mconjugate\u001b[0m\u001b[0;34m(\u001b[0m\u001b[0mcreate_U_train\u001b[0m\u001b[0;34m(\u001b[0m\u001b[0mX_feat_test\u001b[0m\u001b[0;34m[\u001b[0m\u001b[0mi\u001b[0m\u001b[0;34m]\u001b[0m\u001b[0;34m)\u001b[0m\u001b[0;34m.\u001b[0m\u001b[0mT\u001b[0m\u001b[0;34m)\u001b[0m \u001b[0;32mfor\u001b[0m \u001b[0mi\u001b[0m \u001b[0;32min\u001b[0m \u001b[0mrange\u001b[0m\u001b[0;34m(\u001b[0m\u001b[0mlen\u001b[0m\u001b[0;34m(\u001b[0m\u001b[0mX_feat_test\u001b[0m\u001b[0;34m)\u001b[0m\u001b[0;34m)\u001b[0m\u001b[0;34m]\u001b[0m\u001b[0;34m)\u001b[0m\u001b[0;34m\u001b[0m\u001b[0;34m\u001b[0m\u001b[0m\n\u001b[1;32m      5\u001b[0m \u001b[0;34m\u001b[0m\u001b[0m\n",
            "\u001b[0;32m<ipython-input-210-7059ead9ce9e>\u001b[0m in \u001b[0;36m<listcomp>\u001b[0;34m(.0)\u001b[0m\n\u001b[1;32m      1\u001b[0m \u001b[0;31m## Convert states to unitaries (3,5 mins with 10000)\u001b[0m\u001b[0;34m\u001b[0m\u001b[0;34m\u001b[0m\u001b[0m\n\u001b[1;32m      2\u001b[0m \u001b[0;34m\u001b[0m\u001b[0m\n\u001b[0;32m----> 3\u001b[0;31m \u001b[0mU_train_conjTrans\u001b[0m \u001b[0;34m=\u001b[0m \u001b[0mnp\u001b[0m\u001b[0;34m.\u001b[0m\u001b[0marray\u001b[0m\u001b[0;34m(\u001b[0m\u001b[0;34m[\u001b[0m\u001b[0mnp\u001b[0m\u001b[0;34m.\u001b[0m\u001b[0mconjugate\u001b[0m\u001b[0;34m(\u001b[0m\u001b[0mcreate_U_train\u001b[0m\u001b[0;34m(\u001b[0m\u001b[0mX_feat_train\u001b[0m\u001b[0;34m[\u001b[0m\u001b[0mi\u001b[0m\u001b[0;34m]\u001b[0m\u001b[0;34m)\u001b[0m\u001b[0;34m.\u001b[0m\u001b[0mT\u001b[0m\u001b[0;34m)\u001b[0m \u001b[0;32mfor\u001b[0m \u001b[0mi\u001b[0m \u001b[0;32min\u001b[0m \u001b[0mrange\u001b[0m\u001b[0;34m(\u001b[0m\u001b[0mlen\u001b[0m\u001b[0;34m(\u001b[0m\u001b[0mX_feat_train\u001b[0m\u001b[0;34m)\u001b[0m\u001b[0;34m)\u001b[0m\u001b[0;34m]\u001b[0m\u001b[0;34m)\u001b[0m\u001b[0;34m\u001b[0m\u001b[0;34m\u001b[0m\u001b[0m\n\u001b[0m\u001b[1;32m      4\u001b[0m \u001b[0mU_test_conjTrans\u001b[0m \u001b[0;34m=\u001b[0m \u001b[0mnp\u001b[0m\u001b[0;34m.\u001b[0m\u001b[0marray\u001b[0m\u001b[0;34m(\u001b[0m\u001b[0;34m[\u001b[0m\u001b[0mnp\u001b[0m\u001b[0;34m.\u001b[0m\u001b[0mconjugate\u001b[0m\u001b[0;34m(\u001b[0m\u001b[0mcreate_U_train\u001b[0m\u001b[0;34m(\u001b[0m\u001b[0mX_feat_test\u001b[0m\u001b[0;34m[\u001b[0m\u001b[0mi\u001b[0m\u001b[0;34m]\u001b[0m\u001b[0;34m)\u001b[0m\u001b[0;34m.\u001b[0m\u001b[0mT\u001b[0m\u001b[0;34m)\u001b[0m \u001b[0;32mfor\u001b[0m \u001b[0mi\u001b[0m \u001b[0;32min\u001b[0m \u001b[0mrange\u001b[0m\u001b[0;34m(\u001b[0m\u001b[0mlen\u001b[0m\u001b[0;34m(\u001b[0m\u001b[0mX_feat_test\u001b[0m\u001b[0;34m)\u001b[0m\u001b[0;34m)\u001b[0m\u001b[0;34m]\u001b[0m\u001b[0;34m)\u001b[0m\u001b[0;34m\u001b[0m\u001b[0;34m\u001b[0m\u001b[0m\n\u001b[1;32m      5\u001b[0m \u001b[0;34m\u001b[0m\u001b[0m\n",
            "\u001b[0;32m<ipython-input-5-2282f900e380>\u001b[0m in \u001b[0;36mcreate_U_train\u001b[0;34m(x_train_param, seed)\u001b[0m\n\u001b[1;32m      9\u001b[0m     \u001b[0mx_i\u001b[0m \u001b[0;34m=\u001b[0m  \u001b[0mnp\u001b[0m\u001b[0;34m.\u001b[0m\u001b[0mcomplex128\u001b[0m\u001b[0;34m(\u001b[0m\u001b[0mnp\u001b[0m\u001b[0;34m.\u001b[0m\u001b[0mrandom\u001b[0m\u001b[0;34m.\u001b[0m\u001b[0mrandn\u001b[0m\u001b[0;34m(\u001b[0m\u001b[0msize_U\u001b[0m\u001b[0;34m)\u001b[0m \u001b[0;34m+\u001b[0m \u001b[0;36m1j\u001b[0m\u001b[0;34m*\u001b[0m\u001b[0mnp\u001b[0m\u001b[0;34m.\u001b[0m\u001b[0mrandom\u001b[0m\u001b[0;34m.\u001b[0m\u001b[0mrandn\u001b[0m\u001b[0;34m(\u001b[0m\u001b[0msize_U\u001b[0m\u001b[0;34m)\u001b[0m\u001b[0;34m)\u001b[0m\u001b[0;34m\u001b[0m\u001b[0;34m\u001b[0m\u001b[0m\n\u001b[1;32m     10\u001b[0m     \u001b[0;32mfor\u001b[0m \u001b[0mj\u001b[0m \u001b[0;32min\u001b[0m \u001b[0mrange\u001b[0m\u001b[0;34m(\u001b[0m\u001b[0;36m0\u001b[0m\u001b[0;34m,\u001b[0m \u001b[0mi\u001b[0m\u001b[0;34m)\u001b[0m\u001b[0;34m:\u001b[0m\u001b[0;34m\u001b[0m\u001b[0;34m\u001b[0m\u001b[0m\n\u001b[0;32m---> 11\u001b[0;31m       \u001b[0mx_i\u001b[0m \u001b[0;34m-=\u001b[0m \u001b[0mx_i\u001b[0m\u001b[0;34m.\u001b[0m\u001b[0mdot\u001b[0m\u001b[0;34m(\u001b[0m\u001b[0mnp\u001b[0m\u001b[0;34m.\u001b[0m\u001b[0mconjugate\u001b[0m\u001b[0;34m(\u001b[0m\u001b[0mU_train\u001b[0m\u001b[0;34m[\u001b[0m\u001b[0;34m:\u001b[0m\u001b[0;34m,\u001b[0m \u001b[0mj\u001b[0m\u001b[0;34m]\u001b[0m\u001b[0;34m)\u001b[0m\u001b[0;34m)\u001b[0m \u001b[0;34m*\u001b[0m \u001b[0mU_train\u001b[0m\u001b[0;34m[\u001b[0m\u001b[0;34m:\u001b[0m\u001b[0;34m,\u001b[0m \u001b[0mj\u001b[0m\u001b[0;34m]\u001b[0m\u001b[0;34m\u001b[0m\u001b[0;34m\u001b[0m\u001b[0m\n\u001b[0m\u001b[1;32m     12\u001b[0m     \u001b[0mx_i\u001b[0m \u001b[0;34m=\u001b[0m \u001b[0mx_i\u001b[0m\u001b[0;34m/\u001b[0m\u001b[0mnp\u001b[0m\u001b[0;34m.\u001b[0m\u001b[0mlinalg\u001b[0m\u001b[0;34m.\u001b[0m\u001b[0mnorm\u001b[0m\u001b[0;34m(\u001b[0m\u001b[0mx_i\u001b[0m\u001b[0;34m)\u001b[0m\u001b[0;34m\u001b[0m\u001b[0;34m\u001b[0m\u001b[0m\n\u001b[1;32m     13\u001b[0m     \u001b[0mU_train\u001b[0m\u001b[0;34m[\u001b[0m\u001b[0;34m:\u001b[0m\u001b[0;34m,\u001b[0m \u001b[0mi\u001b[0m\u001b[0;34m]\u001b[0m \u001b[0;34m=\u001b[0m \u001b[0mx_i\u001b[0m\u001b[0;34m\u001b[0m\u001b[0;34m\u001b[0m\u001b[0m\n",
            "\u001b[0;31mKeyboardInterrupt\u001b[0m: "
          ]
        }
      ]
    },
    {
      "cell_type": "code",
      "source": [
        "### Quantum variational KDC with QRFF\n",
        "\n",
        "import tensorcircuit as tc\n",
        "from tensorcircuit import keras\n",
        "import tensorflow as tf\n",
        "\n",
        "from functools import partial\n",
        "import numpy as np\n",
        "import math as m\n",
        "from scipy.stats import entropy, spearmanr\n",
        "\n",
        "\n",
        "\n",
        "tc.set_backend(\"tensorflow\")\n",
        "tc.set_dtype(\"complex128\")\n",
        "\n",
        "pi = tf.constant(m.pi)\n",
        "\n",
        "\n",
        "class VQKDC_MIXED_QRFF_HEA:\n",
        "    r\"\"\"\n",
        "    Defines the ready-to-use Quantum measurement classification (QMC) model implemented\n",
        "    in TensorCircuit using the TensorFlow/Keras API. Any additional argument in the methods has to be Keras-compliant.\n",
        "\n",
        "    Args:\n",
        "        auto_compile: A boolean to autocompile the model using default settings. (Default True).\n",
        "        var_pure_state_size:\n",
        "        gamma:\n",
        "\n",
        "    Returns:\n",
        "        An instantiated model ready to train with ad-hoc data.\n",
        "\n",
        "    \"\"\"\n",
        "    def __init__(self, dim_x_param, n_qeff_qubits, n_ancilla_qubits, num_classes_qubits, num_classes_param, gamma, n_training_data, num_layers_hea = 3, batch_size = 16, learning_rate = 0.0005, auto_compile=True):\n",
        "\n",
        "        self.circuit = None\n",
        "        self.gamma = gamma\n",
        "        self.dim_x = dim_x_param\n",
        "        self.num_layers_hea = num_layers_hea\n",
        "        self.num_classes = num_classes_param\n",
        "        self.num_classes_qubits = num_classes_qubits\n",
        "        self.n_qeff_qubits = n_qeff_qubits\n",
        "        self.n_ancilla_qubits = n_ancilla_qubits\n",
        "        self.n_total_qubits_temp = self.num_classes_qubits + self.n_qeff_qubits + self.n_ancilla_qubits\n",
        "        self.num_ffs = 2**self.n_qeff_qubits\n",
        "        self.n_training_data = n_training_data\n",
        "        self.var_hea_ansatz_size = int(self.n_total_qubits_temp*(self.num_layers_hea+1)*2)\n",
        "        self.learning_rate = learning_rate\n",
        "        self.batch_size = batch_size\n",
        "\n",
        "        layer = keras.QuantumLayer(\n",
        "            partial(self.layer),\n",
        "            [(self.var_hea_ansatz_size,)]\n",
        "            )\n",
        "\n",
        "        self.model = tf.keras.Sequential([layer])\n",
        "\n",
        "        if auto_compile:\n",
        "            self.compile()\n",
        "\n",
        "    def layer(\n",
        "            self,\n",
        "            U_dagger,\n",
        "            var_hea_ansatz_param,\n",
        "        ):\n",
        "        r\"\"\"\n",
        "        Defines a Density Matrix Kernel Density Estimation quantum layer for learning with fixed qaff (Meaning of qaff?). (This function was originally named dmkde_mixed_variational_density_estimation_fixed_qaff)\n",
        "\n",
        "        Args:\n",
        "            U_dagger:\n",
        "            var_pure_state_param:\n",
        "\n",
        "        Returns:\n",
        "            The probabilities of :math:`|k\\rangle`, `|1\\rangle`, ..., `|k\\rangle` state for kernel density classification of the classes.\n",
        "        \"\"\"\n",
        "\n",
        "        ### indices pure state hea\n",
        "        index_iter_hea  = iter(np.arange(len(var_hea_ansatz_param)))\n",
        "\n",
        "        ### indices classes, of ms\n",
        "        n_qubits_classes_qeff_temp = self.num_classes_qubits + self.n_qeff_qubits\n",
        "        index_qubit_states = indices_qubits_clases(n_qubits_classes_qeff_temp, self.num_classes) # extract indices of the bit string of classes\n",
        "\n",
        "        # Instantiate a circuit with the calculated number of qubits.\n",
        "        self.circuit = tc.Circuit(self.n_total_qubits_temp)\n",
        "\n",
        "\n",
        "        def hea_ansatz(qc_param, num_qubits_param, num_layers_param):\n",
        "          # encoding\n",
        "          for i in range (0, num_qubits_param):\n",
        "            qc_param.ry(i, theta = var_hea_ansatz_param[next(index_iter_hea)])\n",
        "            qc_param.rz(i, theta = var_hea_ansatz_param[next(index_iter_hea)])\n",
        "          # layers\n",
        "          for j in range(num_layers_param):\n",
        "            for i in range (0, num_qubits_param-1):\n",
        "              qc_param.CNOT(i, i+1)\n",
        "\n",
        "            for i in range (0, num_qubits_param):\n",
        "              qc_param.ry(i, theta= var_hea_ansatz_param[next(index_iter_hea)])\n",
        "              qc_param.rz(i, theta= var_hea_ansatz_param[next(index_iter_hea)])\n",
        "\n",
        "        ## learning pure state with HEA\n",
        "        hea_ansatz(self.circuit, self.n_total_qubits_temp, self.num_layers_hea)\n",
        "\n",
        "        # Value to predict\n",
        "        self.circuit.any(\n",
        "            *[n for n in range(self.num_classes_qubits, self.n_qeff_qubits + self.num_classes_qubits)], unitary=U_dagger\n",
        "        )\n",
        "\n",
        "        # Trace out ancilla qubits, find probability of [000] state for density estimation\n",
        "        measurement_state = tc.quantum.reduced_density_matrix(\n",
        "                        self.circuit.state(),\n",
        "                        cut=[m for m in range(n_qubits_classes_qeff_temp, self.n_total_qubits_temp)])\n",
        "        measurements_results = tc.backend.real(tf.stack([measurement_state[index_qubit_states[i], index_qubit_states[i]] for i in range(self.num_classes)]))\n",
        "        return measurements_results\n",
        "\n",
        "    def custom_categorical_crossentropy(self, y_true, y_pred):\n",
        "        ## code generated with chat gpt\n",
        "        \"\"\"\n",
        "        Custom implementation of categorical cross-entropy loss function.\n",
        "\n",
        "        Parameters:\n",
        "            y_true: Tensor. True labels in one-hot encoded format.\n",
        "            y_pred: Tensor. Predicted probabilities for each class.\n",
        "\n",
        "        Returns:\n",
        "            Tensor. Categorical cross-entropy loss.\n",
        "        \"\"\"\n",
        "        epsilon = 1e-7  # small constant to avoid division by zero\n",
        "        y_pred = tf.clip_by_value(y_pred, epsilon, np.inf)  # clip values to avoid log(0)\n",
        "        loss = -(1./self.n_training_data)*tf.reduce_sum(y_true * tf.math.log(y_pred), axis=-1)\n",
        "        return loss\n",
        "\n",
        "    def compile(\n",
        "            self,\n",
        "            optimizer=tf.keras.optimizers.legacy.Adam, # originally 0.0005\n",
        "            **kwargs):\n",
        "        r\"\"\"\n",
        "        Method to compile the model.\n",
        "\n",
        "        Args:\n",
        "            optimizer:\n",
        "            **kwargs: Any additional argument.\n",
        "\n",
        "        Returns:\n",
        "            None.\n",
        "        \"\"\"\n",
        "        self.model.compile(\n",
        "            loss = self.custom_categorical_crossentropy,\n",
        "            optimizer=optimizer(self.learning_rate),\n",
        "            metrics=[\"accuracy\"],\n",
        "            **kwargs\n",
        "        )\n",
        "    def fit(self, x_train, y_train, batch_size=16, epochs = 30, **kwargs):\n",
        "        r\"\"\"\n",
        "        Method to fit (train) the model using the ad-hoc dataset.\n",
        "\n",
        "        Args:\n",
        "            x_train:\n",
        "            y_train:\n",
        "            batch_size:\n",
        "            epochs:\n",
        "            **kwargs: Any additional argument.\n",
        "\n",
        "        Returns:\n",
        "            None.\n",
        "        \"\"\"\n",
        "\n",
        "        self.model.fit(x_train, y_train, batch_size = self.batch_size, epochs = epochs, **kwargs)\n",
        "\n",
        "    def predict(self, x_test):\n",
        "      r\"\"\"\n",
        "      Method to make predictions with the trained model.\n",
        "\n",
        "      Args:\n",
        "          x_test:\n",
        "\n",
        "      Returns:\n",
        "          The predictions of the conditional density estimation of the input data.\n",
        "      \"\"\"\n",
        "      return (tf.experimental.numpy.power((self.gamma/(pi)), self.dim_x/2.)*\\\n",
        "          self.model.predict(x_test)).numpy()\n"
      ],
      "metadata": {
        "id": "23T1IwXcSQ_z"
      },
      "execution_count": 211,
      "outputs": []
    },
    {
      "cell_type": "code",
      "source": [
        "### constants\n",
        "DIM_X = X_train.shape[1]\n",
        "N_TRAINING_DATA = X_train.shape[0]\n",
        "NUM_QUBITS_FFS = 5 ## set 6 for the final experiments\n",
        "NUM_ANCILLA_QUBITS = 1 # set 2 for the final experiments\n",
        "NUM_CLASSES_QUBITS = 1\n",
        "NUM_CLASSES = 2\n",
        "GAMMA = float(2**2) # originally 2**(-4)\n",
        "EPOCHS = 100\n",
        "LEARNING_RATE = 0.001\n",
        "RANDOM_STATE = 67\n",
        "BATCH_SIZE = 16\n",
        "\n",
        "## training the quantum circuit\n",
        "vqkdc = VQKDC_MIXED_QRFF_HEA(dim_x_param = DIM_X, n_qeff_qubits = NUM_QUBITS_FFS, n_ancilla_qubits =  NUM_ANCILLA_QUBITS, num_classes_qubits = NUM_CLASSES_QUBITS, num_classes_param = NUM_CLASSES, n_training_data = N_TRAINING_DATA, gamma=GAMMA, num_layers_hea = NUM_LAYERS_HEA, batch_size = BATCH_SIZE, learning_rate = LEARNING_RATE)\n",
        "\n",
        "vqkdc.fit(U_train_conjTrans, y_train_oh, epochs = EPOCHS)"
      ],
      "metadata": {
        "colab": {
          "base_uri": "https://localhost:8080/"
        },
        "outputId": "5b153c1b-5ee0-47f9-92a3-5225b8bae7d0",
        "id": "WMrfK-I8SQ_z"
      },
      "execution_count": 212,
      "outputs": [
        {
          "output_type": "stream",
          "name": "stdout",
          "text": [
            "Epoch 1/100\n",
            "63/63 [==============================] - 26s 20ms/step - loss: 0.0049 - accuracy: 0.6667\n",
            "Epoch 2/100\n",
            "63/63 [==============================] - 1s 20ms/step - loss: 0.0046 - accuracy: 0.6667\n",
            "Epoch 3/100\n",
            "63/63 [==============================] - 1s 20ms/step - loss: 0.0044 - accuracy: 0.6667\n",
            "Epoch 4/100\n",
            "63/63 [==============================] - 1s 19ms/step - loss: 0.0043 - accuracy: 0.6667\n",
            "Epoch 5/100\n",
            "63/63 [==============================] - 2s 28ms/step - loss: 0.0042 - accuracy: 0.6637\n",
            "Epoch 6/100\n",
            "63/63 [==============================] - 3s 49ms/step - loss: 0.0041 - accuracy: 0.6547\n",
            "Epoch 7/100\n",
            "63/63 [==============================] - 3s 45ms/step - loss: 0.0040 - accuracy: 0.6486\n",
            "Epoch 8/100\n",
            "63/63 [==============================] - 3s 41ms/step - loss: 0.0039 - accuracy: 0.6446\n",
            "Epoch 9/100\n",
            "63/63 [==============================] - 2s 38ms/step - loss: 0.0038 - accuracy: 0.6416\n",
            "Epoch 10/100\n",
            "63/63 [==============================] - 3s 46ms/step - loss: 0.0037 - accuracy: 0.6456\n",
            "Epoch 11/100\n",
            "63/63 [==============================] - 3s 45ms/step - loss: 0.0036 - accuracy: 0.6466\n",
            "Epoch 12/100\n",
            "63/63 [==============================] - 3s 46ms/step - loss: 0.0035 - accuracy: 0.6727\n",
            "Epoch 13/100\n",
            "63/63 [==============================] - 2s 36ms/step - loss: 0.0034 - accuracy: 0.7227\n",
            "Epoch 14/100\n",
            "63/63 [==============================] - 2s 39ms/step - loss: 0.0034 - accuracy: 0.7738\n",
            "Epoch 15/100\n",
            "63/63 [==============================] - 2s 37ms/step - loss: 0.0033 - accuracy: 0.7978\n",
            "Epoch 16/100\n",
            "63/63 [==============================] - 2s 37ms/step - loss: 0.0033 - accuracy: 0.8138\n",
            "Epoch 17/100\n",
            "63/63 [==============================] - 4s 66ms/step - loss: 0.0032 - accuracy: 0.8228\n",
            "Epoch 18/100\n",
            "63/63 [==============================] - 3s 43ms/step - loss: 0.0032 - accuracy: 0.8338\n",
            "Epoch 19/100\n",
            "63/63 [==============================] - 2s 37ms/step - loss: 0.0031 - accuracy: 0.8559\n",
            "Epoch 20/100\n",
            "63/63 [==============================] - 2s 38ms/step - loss: 0.0031 - accuracy: 0.8799\n",
            "Epoch 21/100\n",
            "63/63 [==============================] - 2s 37ms/step - loss: 0.0031 - accuracy: 0.8859\n",
            "Epoch 22/100\n",
            "63/63 [==============================] - 3s 44ms/step - loss: 0.0030 - accuracy: 0.8939\n",
            "Epoch 23/100\n",
            "63/63 [==============================] - 3s 49ms/step - loss: 0.0030 - accuracy: 0.9009\n",
            "Epoch 24/100\n",
            "63/63 [==============================] - 2s 38ms/step - loss: 0.0030 - accuracy: 0.9039\n",
            "Epoch 25/100\n",
            "63/63 [==============================] - 2s 35ms/step - loss: 0.0029 - accuracy: 0.9069\n",
            "Epoch 26/100\n",
            "63/63 [==============================] - 2s 37ms/step - loss: 0.0029 - accuracy: 0.9139\n",
            "Epoch 27/100\n",
            "63/63 [==============================] - 2s 33ms/step - loss: 0.0028 - accuracy: 0.9209\n",
            "Epoch 28/100\n",
            "63/63 [==============================] - 3s 41ms/step - loss: 0.0028 - accuracy: 0.9199\n",
            "Epoch 29/100\n",
            "63/63 [==============================] - 3s 45ms/step - loss: 0.0028 - accuracy: 0.9199\n",
            "Epoch 30/100\n",
            "63/63 [==============================] - 2s 38ms/step - loss: 0.0028 - accuracy: 0.9209\n",
            "Epoch 31/100\n",
            "63/63 [==============================] - 2s 37ms/step - loss: 0.0027 - accuracy: 0.9219\n",
            "Epoch 32/100\n",
            "63/63 [==============================] - 2s 39ms/step - loss: 0.0027 - accuracy: 0.9239\n",
            "Epoch 33/100\n",
            "63/63 [==============================] - 3s 44ms/step - loss: 0.0027 - accuracy: 0.9279\n",
            "Epoch 34/100\n",
            "63/63 [==============================] - 4s 57ms/step - loss: 0.0027 - accuracy: 0.9319\n",
            "Epoch 35/100\n",
            "63/63 [==============================] - 3s 44ms/step - loss: 0.0026 - accuracy: 0.9449\n",
            "Epoch 36/100\n",
            "63/63 [==============================] - 2s 36ms/step - loss: 0.0026 - accuracy: 0.9489\n",
            "Epoch 37/100\n",
            "63/63 [==============================] - 2s 33ms/step - loss: 0.0026 - accuracy: 0.9580\n",
            "Epoch 38/100\n",
            "63/63 [==============================] - 2s 32ms/step - loss: 0.0026 - accuracy: 0.9640\n",
            "Epoch 39/100\n",
            "63/63 [==============================] - 2s 26ms/step - loss: 0.0026 - accuracy: 0.9700\n",
            "Epoch 40/100\n",
            "63/63 [==============================] - 3s 48ms/step - loss: 0.0025 - accuracy: 0.9680\n",
            "Epoch 41/100\n",
            "63/63 [==============================] - 3s 50ms/step - loss: 0.0025 - accuracy: 0.9720\n",
            "Epoch 42/100\n",
            "63/63 [==============================] - 2s 35ms/step - loss: 0.0025 - accuracy: 0.9730\n",
            "Epoch 43/100\n",
            "63/63 [==============================] - 2s 37ms/step - loss: 0.0025 - accuracy: 0.9720\n",
            "Epoch 44/100\n",
            "63/63 [==============================] - 2s 33ms/step - loss: 0.0025 - accuracy: 0.9710\n",
            "Epoch 45/100\n",
            "63/63 [==============================] - 2s 35ms/step - loss: 0.0025 - accuracy: 0.9700\n",
            "Epoch 46/100\n",
            "63/63 [==============================] - 3s 44ms/step - loss: 0.0025 - accuracy: 0.9690\n",
            "Epoch 47/100\n",
            "63/63 [==============================] - 3s 46ms/step - loss: 0.0024 - accuracy: 0.9690\n",
            "Epoch 48/100\n",
            "63/63 [==============================] - 3s 45ms/step - loss: 0.0024 - accuracy: 0.9700\n",
            "Epoch 49/100\n",
            "63/63 [==============================] - 2s 24ms/step - loss: 0.0024 - accuracy: 0.9690\n",
            "Epoch 50/100\n",
            "63/63 [==============================] - 1s 23ms/step - loss: 0.0024 - accuracy: 0.9700\n",
            "Epoch 51/100\n",
            "63/63 [==============================] - 2s 32ms/step - loss: 0.0024 - accuracy: 0.9670\n",
            "Epoch 52/100\n",
            "63/63 [==============================] - 2s 34ms/step - loss: 0.0024 - accuracy: 0.9700\n",
            "Epoch 53/100\n",
            "63/63 [==============================] - 2s 32ms/step - loss: 0.0024 - accuracy: 0.9680\n",
            "Epoch 54/100\n",
            "63/63 [==============================] - 2s 25ms/step - loss: 0.0024 - accuracy: 0.9700\n",
            "Epoch 55/100\n",
            "63/63 [==============================] - 1s 20ms/step - loss: 0.0024 - accuracy: 0.9690\n",
            "Epoch 56/100\n",
            "63/63 [==============================] - 1s 20ms/step - loss: 0.0024 - accuracy: 0.9690\n",
            "Epoch 57/100\n",
            "63/63 [==============================] - 1s 19ms/step - loss: 0.0024 - accuracy: 0.9700\n",
            "Epoch 58/100\n",
            "63/63 [==============================] - 1s 20ms/step - loss: 0.0024 - accuracy: 0.9720\n",
            "Epoch 59/100\n",
            "63/63 [==============================] - 1s 20ms/step - loss: 0.0024 - accuracy: 0.9710\n",
            "Epoch 60/100\n",
            "63/63 [==============================] - 1s 20ms/step - loss: 0.0024 - accuracy: 0.9710\n",
            "Epoch 61/100\n",
            "63/63 [==============================] - 1s 20ms/step - loss: 0.0024 - accuracy: 0.9720\n",
            "Epoch 62/100\n",
            "63/63 [==============================] - 2s 27ms/step - loss: 0.0024 - accuracy: 0.9720\n",
            "Epoch 63/100\n",
            "63/63 [==============================] - 2s 32ms/step - loss: 0.0024 - accuracy: 0.9720\n",
            "Epoch 64/100\n",
            "63/63 [==============================] - 1s 23ms/step - loss: 0.0024 - accuracy: 0.9690\n",
            "Epoch 65/100\n",
            "63/63 [==============================] - 1s 21ms/step - loss: 0.0024 - accuracy: 0.9700\n",
            "Epoch 66/100\n",
            "63/63 [==============================] - 1s 21ms/step - loss: 0.0023 - accuracy: 0.9710\n",
            "Epoch 67/100\n",
            "63/63 [==============================] - 1s 22ms/step - loss: 0.0023 - accuracy: 0.9730\n",
            "Epoch 68/100\n",
            "63/63 [==============================] - 1s 20ms/step - loss: 0.0023 - accuracy: 0.9710\n",
            "Epoch 69/100\n",
            "63/63 [==============================] - 1s 20ms/step - loss: 0.0023 - accuracy: 0.9710\n",
            "Epoch 70/100\n",
            "63/63 [==============================] - 1s 20ms/step - loss: 0.0023 - accuracy: 0.9710\n",
            "Epoch 71/100\n",
            "63/63 [==============================] - 1s 20ms/step - loss: 0.0023 - accuracy: 0.9710\n",
            "Epoch 72/100\n",
            "63/63 [==============================] - 2s 30ms/step - loss: 0.0023 - accuracy: 0.9710\n",
            "Epoch 73/100\n",
            "63/63 [==============================] - 2s 32ms/step - loss: 0.0023 - accuracy: 0.9700\n",
            "Epoch 74/100\n",
            "63/63 [==============================] - 1s 19ms/step - loss: 0.0023 - accuracy: 0.9710\n",
            "Epoch 75/100\n",
            "63/63 [==============================] - 1s 20ms/step - loss: 0.0023 - accuracy: 0.9710\n",
            "Epoch 76/100\n",
            "63/63 [==============================] - 1s 19ms/step - loss: 0.0023 - accuracy: 0.9700\n",
            "Epoch 77/100\n",
            "63/63 [==============================] - 1s 20ms/step - loss: 0.0023 - accuracy: 0.9700\n",
            "Epoch 78/100\n",
            "63/63 [==============================] - 1s 20ms/step - loss: 0.0023 - accuracy: 0.9700\n",
            "Epoch 79/100\n",
            "63/63 [==============================] - 1s 20ms/step - loss: 0.0023 - accuracy: 0.9700\n",
            "Epoch 80/100\n",
            "63/63 [==============================] - 1s 20ms/step - loss: 0.0023 - accuracy: 0.9710\n",
            "Epoch 81/100\n",
            "63/63 [==============================] - 1s 19ms/step - loss: 0.0023 - accuracy: 0.9700\n",
            "Epoch 82/100\n",
            "63/63 [==============================] - 2s 32ms/step - loss: 0.0023 - accuracy: 0.9710\n",
            "Epoch 83/100\n",
            "63/63 [==============================] - 2s 31ms/step - loss: 0.0023 - accuracy: 0.9710\n",
            "Epoch 84/100\n",
            "63/63 [==============================] - 1s 20ms/step - loss: 0.0023 - accuracy: 0.9700\n",
            "Epoch 85/100\n",
            "63/63 [==============================] - 1s 20ms/step - loss: 0.0023 - accuracy: 0.9710\n",
            "Epoch 86/100\n",
            "63/63 [==============================] - 1s 20ms/step - loss: 0.0023 - accuracy: 0.9720\n",
            "Epoch 87/100\n",
            "63/63 [==============================] - 1s 20ms/step - loss: 0.0023 - accuracy: 0.9720\n",
            "Epoch 88/100\n",
            "63/63 [==============================] - 1s 20ms/step - loss: 0.0023 - accuracy: 0.9720\n",
            "Epoch 89/100\n",
            "63/63 [==============================] - 1s 19ms/step - loss: 0.0023 - accuracy: 0.9700\n",
            "Epoch 90/100\n",
            "63/63 [==============================] - 1s 19ms/step - loss: 0.0023 - accuracy: 0.9700\n",
            "Epoch 91/100\n",
            "63/63 [==============================] - 1s 22ms/step - loss: 0.0023 - accuracy: 0.9690\n",
            "Epoch 92/100\n",
            "63/63 [==============================] - 2s 31ms/step - loss: 0.0023 - accuracy: 0.9710\n",
            "Epoch 93/100\n",
            "63/63 [==============================] - 2s 27ms/step - loss: 0.0023 - accuracy: 0.9710\n",
            "Epoch 94/100\n",
            "63/63 [==============================] - 2s 37ms/step - loss: 0.0023 - accuracy: 0.9710\n",
            "Epoch 95/100\n",
            "63/63 [==============================] - 1s 21ms/step - loss: 0.0023 - accuracy: 0.9710\n",
            "Epoch 96/100\n",
            "63/63 [==============================] - 1s 20ms/step - loss: 0.0023 - accuracy: 0.9710\n",
            "Epoch 97/100\n",
            "63/63 [==============================] - 1s 20ms/step - loss: 0.0023 - accuracy: 0.9710\n",
            "Epoch 98/100\n",
            "63/63 [==============================] - 1s 20ms/step - loss: 0.0023 - accuracy: 0.9700\n",
            "Epoch 99/100\n",
            "63/63 [==============================] - 1s 20ms/step - loss: 0.0023 - accuracy: 0.9710\n",
            "Epoch 100/100\n",
            "63/63 [==============================] - 2s 25ms/step - loss: 0.0023 - accuracy: 0.9690\n"
          ]
        }
      ]
    },
    {
      "cell_type": "code",
      "source": [
        "preds_plot_vqkdc_qrff_hea = vqkdc.predict(U_test_conjTrans)\n",
        "preds_train_vqkdc_qrff_hea = vqkdc.predict(U_train_conjTrans)\n",
        "\n",
        "preds_train_vqkdc_qrff_hea.shape, preds_plot_vqkdc_qrff_hea.shape"
      ],
      "metadata": {
        "colab": {
          "base_uri": "https://localhost:8080/"
        },
        "outputId": "b63a6f49-1ed3-4345-bda4-787754e30acc",
        "id": "PLEgi_vySQ_z"
      },
      "execution_count": 213,
      "outputs": [
        {
          "output_type": "stream",
          "name": "stdout",
          "text": [
            "16/16 [==============================] - 12s 16ms/step\n",
            "32/32 [==============================] - 1s 17ms/step\n"
          ]
        },
        {
          "output_type": "execute_result",
          "data": {
            "text/plain": [
              "((999, 2), (500, 2))"
            ]
          },
          "metadata": {},
          "execution_count": 213
        }
      ]
    },
    {
      "cell_type": "code",
      "source": [
        "params = {\n",
        "   'axes.labelsize': 8,\n",
        "   'legend.fontsize': 10,\n",
        "   'xtick.labelsize': 10,\n",
        "   'ytick.labelsize': 10,\n",
        "   'text.usetex': False,\n",
        "   'figure.figsize': [5.5, 4.5]\n",
        "   }\n",
        "plt.rcParams.update(params)\n",
        "\n",
        "#plt.plot(X_plot[:, 0], true_dens, \"maroon\", label='True pdf')\n",
        "colors = ['navy']\n",
        "kernels = ['gaussian']\n",
        "lw = 2\n",
        "plt.plot(X_plot, preds_plot_vqkdc_qrff_hea[:, 0], color='green', lw=lw,\n",
        "           linestyle='-', label=f\"VQ-KDC HEA \\n {2**NUM_QUBITS_FFS} QRFF class 0\")\n",
        "plt.plot(X_plot, true_dens_0, \"maroon\", label='True pdf class 0')\n",
        "plt.plot(X_plot, preds_plot_vqkdc_qrff_hea[:, 1], color='red', lw=lw,\n",
        "           linestyle='-', label=f\"VQ-KDC HEA \\n {2**NUM_QUBITS_FFS} QRFF class 1\")\n",
        "plt.plot(X_plot, true_dens_1, \"blue\", label='True pdf class 1')\n",
        "indexes_class0 = np.random.randint(0, len(X_1), 500)\n",
        "plt.plot(X_1[indexes_class0], -0.00125 - 0.00675 * np.random.random(len(indexes_class0)), '+g')\n",
        "indexes_class1 = np.random.randint(0, len(X_2), 500)\n",
        "plt.plot(X_2[indexes_class1], -0.00125 - 0.00675 * np.random.random(len(indexes_class1)), '+r')\n",
        "plt.legend(loc='best')\n",
        "plt.xlabel('X', fontsize=12)\n",
        "plt.ylabel('Probability Density', fontsize=10)"
      ],
      "metadata": {
        "colab": {
          "base_uri": "https://localhost:8080/",
          "height": 447
        },
        "outputId": "43e9c56b-fef7-48e6-8037-09b17f0dcc8d",
        "id": "Ax595zFrSQ_z"
      },
      "execution_count": 214,
      "outputs": [
        {
          "output_type": "execute_result",
          "data": {
            "text/plain": [
              "Text(0, 0.5, 'Probability Density')"
            ]
          },
          "metadata": {},
          "execution_count": 214
        },
        {
          "output_type": "display_data",
          "data": {
            "text/plain": [
              "<Figure size 550x450 with 1 Axes>"
            ],
            "image/png": "[encoded data removed]"
          },
          "metadata": {}
        }
      ]
    },
    {
      "cell_type": "markdown",
      "source": [
        "### Evaluate"
      ],
      "metadata": {
        "id": "iEJ2iuBShqVs"
      }
    },
    {
      "cell_type": "code",
      "source": [
        "### evaluate metrics\n",
        "evaluate_class_model(y_true_param = y_train_oh.numpy(), y_train_vqkdc = preds_train_vqkdc_qrff_hea, y_train_kdc = preds_train_kdc, y_train_dmkdc = preds_train_dmkdc, y_plot_expected_kdc = preds_plot_kdc, y_plot_expected_dmkdc = preds_plot_dmkdc, y_plot_pred = preds_plot_vqkdc_qrff_hea, grid_size_param = GRID_SIZE, head = f\"VQ-KDC {2**NUM_QUBITS_FFS} QEFF vs KDC and DMKDC\")"
      ],
      "metadata": {
        "colab": {
          "base_uri": "https://localhost:8080/"
        },
        "outputId": "ae663238-a722-4b07-83a3-3888d4dfdd5c",
        "id": "rhC0GMqZhqV0"
      },
      "execution_count": 215,
      "outputs": [
        {
          "output_type": "stream",
          "name": "stdout",
          "text": [
            "Metrics                            VQ-KDC 32 QEFF vs KDC and DMKDC\n",
            "-------------------------------  ---------------------------------\n",
            "Accuracy:                                                    0.969\n",
            "Negative Log-likelihood KDC:                                 2.428\n",
            "Negative Log-likelihood DMKDC:                               2.244\n",
            "Negative Log-likelihood VQ-KDC:                              2.187\n",
            "KL-div KDC vs DMKDC:                                        -0.202\n",
            "KL-div KDC vs VQ-KDC:                                       -0.258\n",
            "KL-div DMKDC vs VQ-KDC:                                      0.104 \n",
            "\n"
          ]
        }
      ]
    },
    {
      "cell_type": "markdown",
      "source": [
        "## Mixed VQ-KCD, QEFF, HEA\n",
        "\n",
        "Ten classes MNIST Classification, QMC variational, with quantum-enhanced Fourier features, and Hardware Efficient Ansatz"
      ],
      "metadata": {
        "id": "kyZR5s6NMcH0"
      }
    },
    {
      "cell_type": "code",
      "source": [
        "### Quantum variational KDC with QEFF\n",
        "\n",
        "import tensorcircuit as tc\n",
        "from tensorcircuit import keras\n",
        "import tensorflow as tf\n",
        "\n",
        "from functools import partial\n",
        "import numpy as np\n",
        "import math as m\n",
        "from scipy.stats import entropy, spearmanr\n",
        "\n",
        "\n",
        "\n",
        "tc.set_backend(\"tensorflow\")\n",
        "tc.set_dtype(\"complex128\")\n",
        "\n",
        "pi = tf.constant(m.pi)\n",
        "\n",
        "\n",
        "class VQKDC_MIXED_QEFF_HEA:\n",
        "    r\"\"\"\n",
        "    Defines the ready-to-use Quantum measurement classification (QMC) model implemented\n",
        "    in TensorCircuit using the TensorFlow/Keras API. Any additional argument in the methods has to be Keras-compliant.\n",
        "\n",
        "    Args:\n",
        "        auto_compile: A boolean to autocompile the model using default settings. (Default True).\n",
        "        var_pure_state_size:\n",
        "        gamma:\n",
        "\n",
        "    Returns:\n",
        "        An instantiated model ready to train with ad-hoc data.\n",
        "\n",
        "    \"\"\"\n",
        "    def __init__(self, dim_x_param, n_qeff_qubits, n_ancilla_qubits, num_classes_qubits, num_classes_param, gamma, n_training_data, num_layers_hea = 3, batch_size = 16, learning_rate = 0.0005, random_state = 15, auto_compile=True):\n",
        "\n",
        "        self.circuit = None\n",
        "        self.gamma = gamma\n",
        "        self.dim_x = dim_x_param\n",
        "        self.num_layers_hea = num_layers_hea\n",
        "        self.num_classes = num_classes_param\n",
        "        self.num_classes_qubits = num_classes_qubits\n",
        "        self.n_qeff_qubits = n_qeff_qubits\n",
        "        self.n_ancilla_qubits = n_ancilla_qubits\n",
        "        self.n_total_qubits_temp = self.num_classes_qubits + self.n_qeff_qubits + self.n_ancilla_qubits\n",
        "        self.num_ffs = 2**self.n_qeff_qubits\n",
        "        self.n_training_data = n_training_data\n",
        "        self.var_hea_ansatz_size = int(self.n_total_qubits_temp*(self.num_layers_hea+1)*2)\n",
        "        self.learning_rate = learning_rate\n",
        "        self.batch_size = batch_size\n",
        "        self.qeff_weights = tf.random.normal((dim_x_param, int(self.num_ffs*1-1)), mean = 0.0, stddev = 2.0/np.sqrt(self.num_ffs - 1), dtype=tf.dtypes.float64, seed = random_state)\n",
        "\n",
        "        layer = keras.QuantumLayer(\n",
        "            partial(self.layer),\n",
        "            [(self.var_hea_ansatz_size,)]\n",
        "            )\n",
        "\n",
        "        self.model = tf.keras.Sequential([layer])\n",
        "\n",
        "        if auto_compile:\n",
        "            self.compile()\n",
        "\n",
        "    def layer(\n",
        "            self,\n",
        "            x_sample_param,\n",
        "            var_hea_ansatz_param,\n",
        "        ):\n",
        "        r\"\"\"\n",
        "        Defines a Density Matrix Kernel Density Estimation quantum layer for learning with fixed qaff (Meaning of qaff?). (This function was originally named dmkde_mixed_variational_density_estimation_fixed_qaff)\n",
        "\n",
        "        Args:\n",
        "            U_dagger:\n",
        "            var_pure_state_param:\n",
        "\n",
        "        Returns:\n",
        "            The probabilities of :math:`|k\\rangle`, `|1\\rangle`, ..., `|k\\rangle` state for kernel density classification of the classes.\n",
        "        \"\"\"\n",
        "\n",
        "        ### indices pure state hea\n",
        "        index_iter_hea  = iter(np.arange(len(var_hea_ansatz_param)))\n",
        "\n",
        "        ### indices qeff\n",
        "        index_iter_qeff = iter(np.arange(self.qeff_weights.shape[1]))\n",
        "\n",
        "        ### indices classes, of ms\n",
        "        n_qubits_classes_qeff_temp = self.num_classes_qubits + self.n_qeff_qubits\n",
        "        index_qubit_states = indices_qubits_clases(n_qubits_classes_qeff_temp, self.num_classes) # extract indices of the bit string of classes\n",
        "\n",
        "\n",
        "        # Instantiate a circuit with the calculated number of qubits.\n",
        "        self.circuit = tc.Circuit(self.n_total_qubits_temp)\n",
        "\n",
        "        def hea_ansatz(qc_param, num_qubits_param, num_layers_param):\n",
        "          # encoding\n",
        "          for i in range (0, num_qubits_param):\n",
        "            qc_param.ry(i, theta = var_hea_ansatz_param[next(index_iter_hea)])\n",
        "            qc_param.rz(i, theta = var_hea_ansatz_param[next(index_iter_hea)])\n",
        "          # layers\n",
        "          for j in range(num_layers_param):\n",
        "            for i in range (0, num_qubits_param-1):\n",
        "              qc_param.CNOT(i, i+1)\n",
        "\n",
        "            for i in range (0, num_qubits_param):\n",
        "              qc_param.ry(i, theta= var_hea_ansatz_param[next(index_iter_hea)])\n",
        "              qc_param.rz(i, theta= var_hea_ansatz_param[next(index_iter_hea)])\n",
        "\n",
        "        ## learning pure state with HEA\n",
        "        hea_ansatz(self.circuit, self.n_total_qubits_temp, self.num_layers_hea)\n",
        "\n",
        "        # Value to predict\n",
        "\n",
        "        x_sample_temp = tf.expand_dims(x_sample_param, axis=0)\n",
        "        phases_temp = (tf.cast(tf.sqrt(self.gamma), tf.float64)*tf.linalg.matmul(tf.cast(x_sample_temp, tf.float64), self.qeff_weights))[0]\n",
        "        init_qubit_qeff_temp = self.num_classes_qubits # qubit at which the qaff mapping starts it starts after the qubits of the classes\n",
        "\n",
        "        def circuit_base_rz_qeff_n(qc_param, num_qubits_param, target_qubit_param, init_qubit_param):\n",
        "          if num_qubits_param == 1:\n",
        "            qc_param.rz(init_qubit_param, theta = phases_temp[next(index_iter_qeff)] )\n",
        "          elif num_qubits_param == 2:\n",
        "            qc_param.rz(target_qubit_param + init_qubit_param, theta = phases_temp[next(index_iter_qeff)])\n",
        "            qc_param.cnot(init_qubit_param, target_qubit_param + init_qubit_param)\n",
        "            qc_param.rz(target_qubit_param + init_qubit_param, theta = phases_temp[next(index_iter_qeff)])\n",
        "            return\n",
        "          else:\n",
        "            circuit_base_rz_qeff_n(qc_param, num_qubits_param-1, target_qubit_param, init_qubit_param)\n",
        "            qc_param.cnot(num_qubits_param-2 + init_qubit_param, target_qubit_param + init_qubit_param)\n",
        "            circuit_base_rz_qeff_n(qc_param, num_qubits_param-1, target_qubit_param, init_qubit_param)\n",
        "            target_qubit_param -= 1\n",
        "\n",
        "        # Applying the QEFF feature map\n",
        "\n",
        "        for i in reversed(range(1, self.n_qeff_qubits + 1)):\n",
        "          circuit_base_rz_qeff_n(self.circuit, i, i - 1, init_qubit_qeff_temp)\n",
        "\n",
        "        for i in range(init_qubit_qeff_temp, init_qubit_qeff_temp + self.n_qeff_qubits):\n",
        "          self.circuit.H(i)\n",
        "\n",
        "        # Trace out ancilla qubits, find probability of [000] state for density estimation\n",
        "        measurement_state = tc.quantum.reduced_density_matrix(\n",
        "                        self.circuit.state(),\n",
        "                        cut=[m for m in range(n_qubits_classes_qeff_temp, self.n_total_qubits_temp)])\n",
        "        measurements_results = tc.backend.real(tf.stack([measurement_state[index_qubit_states[i], index_qubit_states[i]] for i in range(self.num_classes)]))\n",
        "        return measurements_results\n",
        "\n",
        "    def custom_categorical_crossentropy(self, y_true, y_pred):\n",
        "        ## code generated with chat gpt\n",
        "        \"\"\"\n",
        "        Custom implementation of categorical cross-entropy loss function.\n",
        "\n",
        "        Parameters:\n",
        "            y_true: Tensor. True labels in one-hot encoded format.\n",
        "            y_pred: Tensor. Predicted probabilities for each class.\n",
        "\n",
        "        Returns:\n",
        "            Tensor. Categorical cross-entropy loss.\n",
        "        \"\"\"\n",
        "        epsilon = 1e-7  # small constant to avoid division by zero\n",
        "        y_pred = tf.clip_by_value(y_pred, epsilon, np.inf)  # clip values to avoid log(0) originaly 1.0 - epsilon\n",
        "        loss = -(1./self.n_training_data)*tf.reduce_sum(y_true * tf.math.log(y_pred), axis=-1)\n",
        "        return loss\n",
        "\n",
        "    def compile(\n",
        "            self,\n",
        "            optimizer=tf.keras.optimizers.legacy.Adam, # originally 0.0005\n",
        "            **kwargs):\n",
        "        r\"\"\"\n",
        "        Method to compile the model.\n",
        "\n",
        "        Args:\n",
        "            optimizer:\n",
        "            **kwargs: Any additional argument.\n",
        "\n",
        "        Returns:\n",
        "            None.\n",
        "        \"\"\"\n",
        "        self.model.compile(\n",
        "            loss = self.custom_categorical_crossentropy,\n",
        "            optimizer=optimizer(self.learning_rate),\n",
        "            metrics=[\"accuracy\"],\n",
        "            **kwargs\n",
        "        )\n",
        "    def fit(self, x_train, y_train, batch_size=16, epochs = 30, **kwargs):\n",
        "        r\"\"\"\n",
        "        Method to fit (train) the model using the ad-hoc dataset.\n",
        "\n",
        "        Args:\n",
        "            x_train:\n",
        "            y_train:\n",
        "            batch_size:\n",
        "            epochs:\n",
        "            **kwargs: Any additional argument.\n",
        "\n",
        "        Returns:\n",
        "            None.\n",
        "        \"\"\"\n",
        "\n",
        "        self.model.fit(x_train, y_train, batch_size = self.batch_size, epochs = epochs, **kwargs)\n",
        "\n",
        "    def predict(self, x_test):\n",
        "      r\"\"\"\n",
        "      Method to make predictions with the trained model.\n",
        "\n",
        "      Args:\n",
        "          x_test:\n",
        "\n",
        "      Returns:\n",
        "          The predictions of the conditional density estimation of the input data.\n",
        "      \"\"\"\n",
        "      return (tf.experimental.numpy.power((self.gamma/(pi)), self.dim_x/2.)*\\\n",
        "          self.model.predict(x_test)).numpy()\n"
      ],
      "metadata": {
        "id": "Oowura8tMcH1"
      },
      "execution_count": 217,
      "outputs": []
    },
    {
      "cell_type": "code",
      "source": [
        "### constants\n",
        "DIM_X = X_train.shape[1]\n",
        "N_TRAINING_DATA = X_train.shape[0]\n",
        "NUM_QUBITS_FFS = 5 ## set 6 for the final experiments\n",
        "NUM_ANCILLA_QUBITS = 1 # set 2 for the final experiments\n",
        "NUM_CLASSES_QUBITS = 1\n",
        "NUM_CLASSES = 2\n",
        "GAMMA = float(2**2) # originally 2**(-4)\n",
        "EPOCHS = 100\n",
        "LEARNING_RATE = 0.002\n",
        "RANDOM_STATE = 67\n",
        "BATCH_SIZE = 16\n",
        "\n",
        "## training the quantum circuit\n",
        "vqkdc = VQKDC_MIXED_QEFF_HEA(dim_x_param = DIM_X, n_qeff_qubits = NUM_QUBITS_FFS, n_ancilla_qubits =  NUM_ANCILLA_QUBITS, num_classes_qubits = NUM_CLASSES_QUBITS, num_classes_param = NUM_CLASSES, n_training_data = N_TRAINING_DATA, gamma=GAMMA, num_layers_hea = NUM_LAYERS_HEA, batch_size = BATCH_SIZE, learning_rate = LEARNING_RATE, random_state = RANDOM_STATE)\n",
        "\n",
        "vqkdc.fit(X_train, y_train_oh, epochs = EPOCHS)"
      ],
      "metadata": {
        "colab": {
          "base_uri": "https://localhost:8080/"
        },
        "outputId": "46b5e42b-2ee2-4ac1-f724-bf270419b9be",
        "id": "69K5XhoFMcH2"
      },
      "execution_count": 221,
      "outputs": [
        {
          "output_type": "stream",
          "name": "stdout",
          "text": [
            "Epoch 1/100\n",
            "63/63 [==============================] - 59s 31ms/step - loss: 0.0045 - accuracy: 0.6667\n",
            "Epoch 2/100\n",
            "63/63 [==============================] - 2s 28ms/step - loss: 0.0041 - accuracy: 0.6667\n",
            "Epoch 3/100\n",
            "63/63 [==============================] - 2s 26ms/step - loss: 0.0038 - accuracy: 0.6667\n",
            "Epoch 4/100\n",
            "63/63 [==============================] - 2s 26ms/step - loss: 0.0037 - accuracy: 0.6667\n",
            "Epoch 5/100\n",
            "63/63 [==============================] - 2s 31ms/step - loss: 0.0035 - accuracy: 0.6707\n",
            "Epoch 6/100\n",
            "63/63 [==============================] - 3s 44ms/step - loss: 0.0034 - accuracy: 0.6927\n",
            "Epoch 7/100\n",
            "63/63 [==============================] - 2s 35ms/step - loss: 0.0033 - accuracy: 0.6977\n",
            "Epoch 8/100\n",
            "63/63 [==============================] - 2s 26ms/step - loss: 0.0033 - accuracy: 0.6887\n",
            "Epoch 9/100\n",
            "63/63 [==============================] - 2s 25ms/step - loss: 0.0032 - accuracy: 0.6897\n",
            "Epoch 10/100\n",
            "63/63 [==============================] - 2s 25ms/step - loss: 0.0032 - accuracy: 0.6897\n",
            "Epoch 11/100\n",
            "63/63 [==============================] - 2s 30ms/step - loss: 0.0031 - accuracy: 0.6897\n",
            "Epoch 12/100\n",
            "63/63 [==============================] - 2s 32ms/step - loss: 0.0031 - accuracy: 0.6927\n",
            "Epoch 13/100\n",
            "63/63 [==============================] - 2s 29ms/step - loss: 0.0030 - accuracy: 0.6927\n",
            "Epoch 14/100\n",
            "63/63 [==============================] - 2s 31ms/step - loss: 0.0030 - accuracy: 0.6987\n",
            "Epoch 15/100\n",
            "63/63 [==============================] - 2s 30ms/step - loss: 0.0029 - accuracy: 0.6967\n",
            "Epoch 16/100\n",
            "63/63 [==============================] - 2s 25ms/step - loss: 0.0029 - accuracy: 0.7227\n",
            "Epoch 17/100\n",
            "63/63 [==============================] - 1s 23ms/step - loss: 0.0028 - accuracy: 0.7568\n",
            "Epoch 18/100\n",
            "63/63 [==============================] - 1s 13ms/step - loss: 0.0028 - accuracy: 0.7928\n",
            "Epoch 19/100\n",
            "63/63 [==============================] - 1s 13ms/step - loss: 0.0028 - accuracy: 0.8158\n",
            "Epoch 20/100\n",
            "63/63 [==============================] - 1s 13ms/step - loss: 0.0028 - accuracy: 0.8208\n",
            "Epoch 21/100\n",
            "63/63 [==============================] - 1s 13ms/step - loss: 0.0027 - accuracy: 0.8198\n",
            "Epoch 22/100\n",
            "63/63 [==============================] - 1s 13ms/step - loss: 0.0027 - accuracy: 0.8478\n",
            "Epoch 23/100\n",
            "63/63 [==============================] - 1s 13ms/step - loss: 0.0027 - accuracy: 0.8519\n",
            "Epoch 24/100\n",
            "63/63 [==============================] - 1s 13ms/step - loss: 0.0027 - accuracy: 0.8629\n",
            "Epoch 25/100\n",
            "63/63 [==============================] - 1s 12ms/step - loss: 0.0027 - accuracy: 0.8639\n",
            "Epoch 26/100\n",
            "63/63 [==============================] - 1s 21ms/step - loss: 0.0026 - accuracy: 0.9099\n",
            "Epoch 27/100\n",
            "63/63 [==============================] - 1s 22ms/step - loss: 0.0026 - accuracy: 0.9129\n",
            "Epoch 28/100\n",
            "63/63 [==============================] - 1s 17ms/step - loss: 0.0026 - accuracy: 0.9129\n",
            "Epoch 29/100\n",
            "63/63 [==============================] - 1s 12ms/step - loss: 0.0026 - accuracy: 0.9149\n",
            "Epoch 30/100\n",
            "63/63 [==============================] - 1s 13ms/step - loss: 0.0026 - accuracy: 0.9169\n",
            "Epoch 31/100\n",
            "63/63 [==============================] - 1s 12ms/step - loss: 0.0026 - accuracy: 0.9179\n",
            "Epoch 32/100\n",
            "63/63 [==============================] - 1s 13ms/step - loss: 0.0025 - accuracy: 0.9179\n",
            "Epoch 33/100\n",
            "63/63 [==============================] - 1s 13ms/step - loss: 0.0025 - accuracy: 0.9229\n",
            "Epoch 34/100\n",
            "63/63 [==============================] - 1s 13ms/step - loss: 0.0025 - accuracy: 0.9199\n",
            "Epoch 35/100\n",
            "63/63 [==============================] - 1s 13ms/step - loss: 0.0025 - accuracy: 0.9229\n",
            "Epoch 36/100\n",
            "63/63 [==============================] - 1s 13ms/step - loss: 0.0025 - accuracy: 0.9499\n",
            "Epoch 37/100\n",
            "63/63 [==============================] - 1s 13ms/step - loss: 0.0025 - accuracy: 0.9530\n",
            "Epoch 38/100\n",
            "63/63 [==============================] - 1s 13ms/step - loss: 0.0025 - accuracy: 0.9550\n",
            "Epoch 39/100\n",
            "63/63 [==============================] - 1s 13ms/step - loss: 0.0025 - accuracy: 0.9530\n",
            "Epoch 40/100\n",
            "63/63 [==============================] - 1s 15ms/step - loss: 0.0025 - accuracy: 0.9530\n",
            "Epoch 41/100\n",
            "63/63 [==============================] - 1s 23ms/step - loss: 0.0025 - accuracy: 0.9530\n",
            "Epoch 42/100\n",
            "63/63 [==============================] - 1s 22ms/step - loss: 0.0025 - accuracy: 0.9570\n",
            "Epoch 43/100\n",
            "63/63 [==============================] - 1s 18ms/step - loss: 0.0025 - accuracy: 0.9570\n",
            "Epoch 44/100\n",
            "63/63 [==============================] - 1s 13ms/step - loss: 0.0025 - accuracy: 0.9550\n",
            "Epoch 45/100\n",
            "63/63 [==============================] - 1s 13ms/step - loss: 0.0025 - accuracy: 0.9630\n",
            "Epoch 46/100\n",
            "63/63 [==============================] - 1s 13ms/step - loss: 0.0025 - accuracy: 0.9570\n",
            "Epoch 47/100\n",
            "63/63 [==============================] - 1s 13ms/step - loss: 0.0025 - accuracy: 0.9600\n",
            "Epoch 48/100\n",
            "63/63 [==============================] - 1s 13ms/step - loss: 0.0025 - accuracy: 0.9600\n",
            "Epoch 49/100\n",
            "63/63 [==============================] - 1s 13ms/step - loss: 0.0025 - accuracy: 0.9590\n",
            "Epoch 50/100\n",
            "63/63 [==============================] - 1s 13ms/step - loss: 0.0025 - accuracy: 0.9630\n",
            "Epoch 51/100\n",
            "63/63 [==============================] - 1s 13ms/step - loss: 0.0025 - accuracy: 0.9600\n",
            "Epoch 52/100\n",
            "63/63 [==============================] - 1s 13ms/step - loss: 0.0025 - accuracy: 0.9570\n",
            "Epoch 53/100\n",
            "63/63 [==============================] - 1s 13ms/step - loss: 0.0025 - accuracy: 0.9610\n",
            "Epoch 54/100\n",
            "63/63 [==============================] - 1s 13ms/step - loss: 0.0025 - accuracy: 0.9590\n",
            "Epoch 55/100\n",
            "63/63 [==============================] - 1s 16ms/step - loss: 0.0025 - accuracy: 0.9610\n",
            "Epoch 56/100\n",
            "63/63 [==============================] - 1s 23ms/step - loss: 0.0025 - accuracy: 0.9620\n",
            "Epoch 57/100\n",
            "63/63 [==============================] - 1s 23ms/step - loss: 0.0025 - accuracy: 0.9620\n",
            "Epoch 58/100\n",
            "63/63 [==============================] - 1s 14ms/step - loss: 0.0025 - accuracy: 0.9620\n",
            "Epoch 59/100\n",
            "63/63 [==============================] - 1s 12ms/step - loss: 0.0025 - accuracy: 0.9620\n",
            "Epoch 60/100\n",
            "63/63 [==============================] - 1s 13ms/step - loss: 0.0025 - accuracy: 0.9620\n",
            "Epoch 61/100\n",
            "63/63 [==============================] - 1s 13ms/step - loss: 0.0025 - accuracy: 0.9640\n",
            "Epoch 62/100\n",
            "63/63 [==============================] - 1s 13ms/step - loss: 0.0025 - accuracy: 0.9630\n",
            "Epoch 63/100\n",
            "63/63 [==============================] - 1s 13ms/step - loss: 0.0025 - accuracy: 0.9610\n",
            "Epoch 64/100\n",
            "63/63 [==============================] - 1s 12ms/step - loss: 0.0025 - accuracy: 0.9620\n",
            "Epoch 65/100\n",
            "63/63 [==============================] - 1s 13ms/step - loss: 0.0025 - accuracy: 0.9630\n",
            "Epoch 66/100\n",
            "63/63 [==============================] - 1s 14ms/step - loss: 0.0025 - accuracy: 0.9620\n",
            "Epoch 67/100\n",
            "63/63 [==============================] - 1s 13ms/step - loss: 0.0025 - accuracy: 0.9650\n",
            "Epoch 68/100\n",
            "63/63 [==============================] - 1s 13ms/step - loss: 0.0025 - accuracy: 0.9650\n",
            "Epoch 69/100\n",
            "63/63 [==============================] - 1s 13ms/step - loss: 0.0025 - accuracy: 0.9640\n",
            "Epoch 70/100\n",
            "63/63 [==============================] - 1s 20ms/step - loss: 0.0025 - accuracy: 0.9640\n",
            "Epoch 71/100\n",
            "63/63 [==============================] - 1s 22ms/step - loss: 0.0025 - accuracy: 0.9620\n",
            "Epoch 72/100\n",
            "63/63 [==============================] - 1s 21ms/step - loss: 0.0025 - accuracy: 0.9640\n",
            "Epoch 73/100\n",
            "63/63 [==============================] - 1s 13ms/step - loss: 0.0025 - accuracy: 0.9640\n",
            "Epoch 74/100\n",
            "63/63 [==============================] - 1s 13ms/step - loss: 0.0025 - accuracy: 0.9620\n",
            "Epoch 75/100\n",
            "63/63 [==============================] - 1s 13ms/step - loss: 0.0025 - accuracy: 0.9630\n",
            "Epoch 76/100\n",
            "63/63 [==============================] - 1s 13ms/step - loss: 0.0025 - accuracy: 0.9630\n",
            "Epoch 77/100\n",
            "63/63 [==============================] - 1s 13ms/step - loss: 0.0025 - accuracy: 0.9640\n",
            "Epoch 78/100\n",
            "63/63 [==============================] - 1s 13ms/step - loss: 0.0025 - accuracy: 0.9620\n",
            "Epoch 79/100\n",
            "63/63 [==============================] - 1s 13ms/step - loss: 0.0025 - accuracy: 0.9640\n",
            "Epoch 80/100\n",
            "63/63 [==============================] - 1s 13ms/step - loss: 0.0025 - accuracy: 0.9620\n",
            "Epoch 81/100\n",
            "63/63 [==============================] - 1s 12ms/step - loss: 0.0025 - accuracy: 0.9650\n",
            "Epoch 82/100\n",
            "63/63 [==============================] - 1s 13ms/step - loss: 0.0025 - accuracy: 0.9640\n",
            "Epoch 83/100\n",
            "63/63 [==============================] - 1s 14ms/step - loss: 0.0025 - accuracy: 0.9640\n",
            "Epoch 84/100\n",
            "63/63 [==============================] - 1s 14ms/step - loss: 0.0025 - accuracy: 0.9640\n",
            "Epoch 85/100\n",
            "63/63 [==============================] - 1s 22ms/step - loss: 0.0025 - accuracy: 0.9640\n",
            "Epoch 86/100\n",
            "63/63 [==============================] - 1s 23ms/step - loss: 0.0025 - accuracy: 0.9640\n",
            "Epoch 87/100\n",
            "63/63 [==============================] - 1s 20ms/step - loss: 0.0025 - accuracy: 0.9640\n",
            "Epoch 88/100\n",
            "63/63 [==============================] - 1s 14ms/step - loss: 0.0025 - accuracy: 0.9640\n",
            "Epoch 89/100\n",
            "63/63 [==============================] - 1s 13ms/step - loss: 0.0025 - accuracy: 0.9640\n",
            "Epoch 90/100\n",
            "63/63 [==============================] - 1s 13ms/step - loss: 0.0025 - accuracy: 0.9640\n",
            "Epoch 91/100\n",
            "63/63 [==============================] - 1s 13ms/step - loss: 0.0025 - accuracy: 0.9640\n",
            "Epoch 92/100\n",
            "63/63 [==============================] - 1s 13ms/step - loss: 0.0025 - accuracy: 0.9640\n",
            "Epoch 93/100\n",
            "63/63 [==============================] - 1s 13ms/step - loss: 0.0025 - accuracy: 0.9660\n",
            "Epoch 94/100\n",
            "63/63 [==============================] - 1s 13ms/step - loss: 0.0025 - accuracy: 0.9640\n",
            "Epoch 95/100\n",
            "63/63 [==============================] - 1s 13ms/step - loss: 0.0025 - accuracy: 0.9640\n",
            "Epoch 96/100\n",
            "63/63 [==============================] - 1s 13ms/step - loss: 0.0025 - accuracy: 0.9640\n",
            "Epoch 97/100\n",
            "63/63 [==============================] - 1s 13ms/step - loss: 0.0025 - accuracy: 0.9660\n",
            "Epoch 98/100\n",
            "63/63 [==============================] - 1s 14ms/step - loss: 0.0025 - accuracy: 0.9650\n",
            "Epoch 99/100\n",
            "63/63 [==============================] - 1s 19ms/step - loss: 0.0025 - accuracy: 0.9640\n",
            "Epoch 100/100\n",
            "63/63 [==============================] - 1s 23ms/step - loss: 0.0025 - accuracy: 0.9650\n"
          ]
        }
      ]
    },
    {
      "cell_type": "code",
      "source": [
        "preds_plot_vqkdc_qeff_hea = vqkdc.predict(X_plot)\n",
        "preds_train_vqkdc_qeff_hea = vqkdc.predict(X_train)\n",
        "\n",
        "preds_train_vqkdc_qeff_hea.shape, preds_plot_vqkdc_qeff_hea.shape"
      ],
      "metadata": {
        "colab": {
          "base_uri": "https://localhost:8080/"
        },
        "outputId": "24e9a1a8-820d-4593-92e8-68c20f16340c",
        "id": "BOhZgJtjMcH2"
      },
      "execution_count": 222,
      "outputs": [
        {
          "output_type": "stream",
          "name": "stdout",
          "text": [
            "16/16 [==============================] - 28s 24ms/step\n",
            "32/32 [==============================] - 1s 22ms/step\n"
          ]
        },
        {
          "output_type": "execute_result",
          "data": {
            "text/plain": [
              "((999, 2), (500, 2))"
            ]
          },
          "metadata": {},
          "execution_count": 222
        }
      ]
    },
    {
      "cell_type": "code",
      "source": [
        "params = {\n",
        "   'axes.labelsize': 8,\n",
        "   'legend.fontsize': 10,\n",
        "   'xtick.labelsize': 10,\n",
        "   'ytick.labelsize': 10,\n",
        "   'text.usetex': False,\n",
        "   'figure.figsize': [5.5, 4.5]\n",
        "   }\n",
        "plt.rcParams.update(params)\n",
        "\n",
        "#plt.plot(X_plot[:, 0], true_dens, \"maroon\", label='True pdf')\n",
        "colors = ['navy']\n",
        "kernels = ['gaussian']\n",
        "lw = 2\n",
        "plt.plot(X_plot, preds_plot_vqkdc_qeff_hea[:, 0], color='green', lw=lw,\n",
        "           linestyle='-', label=f\"VQ-KDC HEA \\n {2**NUM_QUBITS_FFS} QEFF class 0\")\n",
        "plt.plot(X_plot, true_dens_0, \"maroon\", label='True pdf class 0')\n",
        "plt.plot(X_plot, preds_plot_vqkdc_qeff_hea[:, 1], color='red', lw=lw,\n",
        "           linestyle='-', label=f\"VQ-KDC HEA \\n {2**NUM_QUBITS_FFS} QEFF class 1\")\n",
        "plt.plot(X_plot, true_dens_1, \"blue\", label='True pdf class 1')\n",
        "indexes_class0 = np.random.randint(0, len(X_1), 500)\n",
        "plt.plot(X_1[indexes_class0], -0.00125 - 0.00675 * np.random.random(len(indexes_class0)), '+g')\n",
        "indexes_class1 = np.random.randint(0, len(X_2), 500)\n",
        "plt.plot(X_2[indexes_class1], -0.00125 - 0.00675 * np.random.random(len(indexes_class1)), '+r')\n",
        "plt.legend(loc='best')\n",
        "plt.xlabel('X', fontsize=12)\n",
        "plt.ylabel('Probability Density', fontsize=10)"
      ],
      "metadata": {
        "colab": {
          "base_uri": "https://localhost:8080/",
          "height": 447
        },
        "outputId": "ed5295da-4d2e-48be-d3d6-2ff2d931654c",
        "id": "XUIYcTACMcH3"
      },
      "execution_count": 223,
      "outputs": [
        {
          "output_type": "execute_result",
          "data": {
            "text/plain": [
              "Text(0, 0.5, 'Probability Density')"
            ]
          },
          "metadata": {},
          "execution_count": 223
        },
        {
          "output_type": "display_data",
          "data": {
            "text/plain": [
              "<Figure size 550x450 with 1 Axes>"
            ],
            "image/png": "[encoded data removed]"
          },
          "metadata": {}
        }
      ]
    },
    {
      "cell_type": "markdown",
      "source": [
        "### Evaluate"
      ],
      "metadata": {
        "id": "Co5889ZRjfEA"
      }
    },
    {
      "cell_type": "code",
      "source": [
        "### evaluate metrics\n",
        "evaluate_class_model(y_true_param = y_train_oh.numpy(), y_train_vqkdc = preds_train_vqkdc_qeff_hea, y_train_kdc = preds_train_kdc, y_train_dmkdc = preds_train_dmkdc_qeff, y_plot_expected_kdc = preds_plot_kdc, y_plot_expected_dmkdc = preds_plot_dmkdc_qeff, y_plot_pred = preds_plot_vqkdc_qeff_hea, grid_size_param = GRID_SIZE, head = f\"VQ-KDC {2**NUM_QUBITS_FFS} QEFF vs KDC and DMKDC\")"
      ],
      "metadata": {
        "colab": {
          "base_uri": "https://localhost:8080/"
        },
        "outputId": "b3fc934a-a560-48f4-d774-c17fbe1f5ae7",
        "id": "lbiPO7znjfEG"
      },
      "execution_count": 224,
      "outputs": [
        {
          "output_type": "stream",
          "name": "stdout",
          "text": [
            "Metrics                            VQ-KDC 32 QEFF vs KDC and DMKDC\n",
            "-------------------------------  ---------------------------------\n",
            "Accuracy:                                                    0.964\n",
            "Negative Log-likelihood KDC:                                 2.428\n",
            "Negative Log-likelihood DMKDC:                               2.311\n",
            "Negative Log-likelihood VQ-KDC:                              2.332\n",
            "KL-div KDC vs DMKDC:                                        -0.277\n",
            "KL-div KDC vs VQ-KDC:                                       -0.105\n",
            "KL-div DMKDC vs VQ-KDC:                                      0.608 \n",
            "\n"
          ]
        }
      ]
    },
    {
      "cell_type": "markdown",
      "source": [
        "# Draft code"
      ],
      "metadata": {
        "id": "tlYxah-zXfTn"
      }
    },
    {
      "cell_type": "code",
      "source": [
        "import numpy as np\n",
        "\n",
        "def negative_log_likelihood_one_hot(y_true, y_pred):\n",
        "    \"\"\"\n",
        "    Compute the Negative Log Likelihood loss for one-hot encoded labels.\n",
        "\n",
        "    Parameters:\n",
        "    y_true (numpy.ndarray): One-hot encoded true labels, shape (n_samples, n_classes).\n",
        "    y_pred (numpy.ndarray): Predicted probabilities, shape (n_samples, n_classes).\n",
        "\n",
        "    Returns:\n",
        "    float: Negative Log Likelihood loss.\n",
        "    \"\"\"\n",
        "    # Ensure y_pred is within (0, 1) to avoid log(0)\n",
        "    epsilon = 1e-7\n",
        "    y_pred = np.clip(y_pred, epsilon, np.inf)\n",
        "\n",
        "    # Calculate the negative log likelihood\n",
        "    nll = -np.mean(np.sum(y_true * np.log(y_pred), axis=1))\n",
        "\n",
        "    return nll\n",
        "\n",
        "print(\"Negative Log Likelihood:\", negative_log_likelihood_one_hot(y_train_oh.numpy(), preds_train_kdc))"
      ],
      "metadata": {
        "colab": {
          "base_uri": "https://localhost:8080/"
        },
        "id": "5vkAumTZMeHY",
        "outputId": "fc91dfad-a8a1-40b4-d59f-01c394ec85f9"
      },
      "execution_count": null,
      "outputs": [
        {
          "output_type": "stream",
          "name": "stdout",
          "text": [
            "Negative Log Likelihood: 2.4275419965826455\n"
          ]
        }
      ]
    },
    {
      "cell_type": "code",
      "source": [
        "def kl_divergence(p, q):\n",
        "    \"\"\"\n",
        "    Compute the Kullback-Leibler Divergence between two probability distributions.\n",
        "\n",
        "    Parameters:\n",
        "    p (numpy.ndarray): True probability distribution (n_samples, n_classes).\n",
        "    q (numpy.ndarray): Approximating probability distribution (n_samples, n_classes).\n",
        "\n",
        "    Returns:\n",
        "    float: Kullback-Leibler Divergence.\n",
        "    \"\"\"\n",
        "    # Ensure the distributions are valid (i.e., within (0, 1) and sum to 1)\n",
        "    epsilon = 1e-15\n",
        "    p = np.clip(p, epsilon, np.inf)\n",
        "    q = np.clip(q, epsilon, np.inf)\n",
        "\n",
        "    # Normalize the distributions to ensure they sum to 1\n",
        "    #p = p / np.sum(p, axis=1, keepdims=True)\n",
        "    #q = q / np.sum(q, axis=1, keepdims=True)\n",
        "\n",
        "    # Calculate the KL Divergence\n",
        "    kl_div = np.sum(p * np.log(p / q), axis=1)\n",
        "\n",
        "    return np.sum(kl_div)\n",
        "\n",
        "kl_div = kl_divergence(preds_plot_dmkdc, preds_plot)*GRID_SIZE\n",
        "kl_div"
      ],
      "metadata": {
        "colab": {
          "base_uri": "https://localhost:8080/"
        },
        "id": "tG88MUGzYIu2",
        "outputId": "0da2aa76-243f-4eca-9640-4478824cbf60"
      },
      "execution_count": null,
      "outputs": [
        {
          "output_type": "execute_result",
          "data": {
            "text/plain": [
              "array([-0.10263675])"
            ]
          },
          "metadata": {},
          "execution_count": 192
        }
      ]
    }
  ]
}