{
  "cells": [
    {
      "cell_type": "markdown",
      "metadata": {
        "id": "_WrmF0VsKbey"
      },
      "source": [
        "# Variational quantum kernel density estimation with 2 Dimensional data sets\n",
        "\n",
        "Diego Useche\n",
        "\n",
        "Data taken from https://zenodo.org/records/7822851\n",
        "\n"
      ]
    },
    {
      "cell_type": "markdown",
      "metadata": {
        "id": "FrAbmHBdYTbI"
      },
      "source": [
        "## Libraries"
      ]
    },
    {
      "cell_type": "code",
      "execution_count": null,
      "metadata": {
        "id": "gs6KZwo9kMGv"
      },
      "outputs": [],
      "source": [
        "import numpy as np\n",
        "import matplotlib.pyplot as plt\n",
        "import tensorflow as tf\n",
        "import tensorflow_probability as tfp\n",
        "tfd = tfp.distributions\n",
        "tfb = tfp.bijectors"
      ]
    },
    {
      "cell_type": "code",
      "execution_count": null,
      "metadata": {
        "colab": {
          "base_uri": "https://localhost:8080/"
        },
        "id": "YMnlZpmcL3Gv",
        "outputId": "3e57fca4-5bd6-4e24-9e0a-4f777f8eae79"
      },
      "outputs": [
        {
          "output_type": "stream",
          "name": "stdout",
          "text": [
            "Collecting tensorcircuit\n",
            "  Downloading tensorcircuit-0.12.0-py3-none-any.whl (342 kB)\n",
            "\u001b[2K     \u001b[90m━━━━━━━━━━━━━━━━━━━━━━━━━━━━━━━━━━━━━━━━\u001b[0m \u001b[32m342.0/342.0 kB\u001b[0m \u001b[31m4.6 MB/s\u001b[0m eta \u001b[36m0:00:00\u001b[0m\n",
            "\u001b[?25hRequirement already satisfied: numpy in /usr/local/lib/python3.10/dist-packages (from tensorcircuit) (1.25.2)\n",
            "Requirement already satisfied: scipy in /usr/local/lib/python3.10/dist-packages (from tensorcircuit) (1.11.4)\n",
            "Collecting tensornetwork-ng (from tensorcircuit)\n",
            "  Downloading tensornetwork_ng-0.5.0-py3-none-any.whl (243 kB)\n",
            "\u001b[2K     \u001b[90m━━━━━━━━━━━━━━━━━━━━━━━━━━━━━━━━━━━━━━━━\u001b[0m \u001b[32m243.3/243.3 kB\u001b[0m \u001b[31m7.0 MB/s\u001b[0m eta \u001b[36m0:00:00\u001b[0m\n",
            "\u001b[?25hRequirement already satisfied: networkx in /usr/local/lib/python3.10/dist-packages (from tensorcircuit) (3.2.1)\n",
            "Requirement already satisfied: graphviz>=0.11.1 in /usr/local/lib/python3.10/dist-packages (from tensornetwork-ng->tensorcircuit) (0.20.3)\n",
            "Requirement already satisfied: opt-einsum>=2.3.0 in /usr/local/lib/python3.10/dist-packages (from tensornetwork-ng->tensorcircuit) (3.3.0)\n",
            "Requirement already satisfied: h5py>=2.9.0 in /usr/local/lib/python3.10/dist-packages (from tensornetwork-ng->tensorcircuit) (3.9.0)\n",
            "Installing collected packages: tensornetwork-ng, tensorcircuit\n",
            "Successfully installed tensorcircuit-0.12.0 tensornetwork-ng-0.5.0\n"
          ]
        }
      ],
      "source": [
        "!pip install tensorcircuit"
      ]
    },
    {
      "cell_type": "code",
      "source": [
        "!pip install git+https://github.com/diegour1/qmc.git"
      ],
      "metadata": {
        "colab": {
          "base_uri": "https://localhost:8080/"
        },
        "id": "cibEuWB541jY",
        "outputId": "0ffdf2a6-ea08-4f12-f7ee-fbdb59075251"
      },
      "execution_count": null,
      "outputs": [
        {
          "output_type": "stream",
          "name": "stdout",
          "text": [
            "Collecting git+https://github.com/diegour1/qmc.git\n",
            "  Cloning https://github.com/diegour1/qmc.git to /tmp/pip-req-build-ipa3qm4y\n",
            "  Running command git clone --filter=blob:none --quiet https://github.com/diegour1/qmc.git /tmp/pip-req-build-ipa3qm4y\n",
            "  Resolved https://github.com/diegour1/qmc.git to commit 4c2db4b21508f28466743eaf0b13fe70814f65dc\n",
            "  Preparing metadata (setup.py) ... \u001b[?25l\u001b[?25hdone\n",
            "Requirement already satisfied: scipy in /usr/local/lib/python3.10/dist-packages (from qmc==0.0.1) (1.11.4)\n",
            "Requirement already satisfied: numpy>=1.19.2 in /usr/local/lib/python3.10/dist-packages (from qmc==0.0.1) (1.25.2)\n",
            "Requirement already satisfied: scikit-learn in /usr/local/lib/python3.10/dist-packages (from qmc==0.0.1) (1.2.2)\n",
            "Requirement already satisfied: tensorflow>=2.2.0 in /usr/local/lib/python3.10/dist-packages (from qmc==0.0.1) (2.15.0)\n",
            "Collecting typeguard (from qmc==0.0.1)\n",
            "  Downloading typeguard-4.2.1-py3-none-any.whl (34 kB)\n",
            "Requirement already satisfied: absl-py>=1.0.0 in /usr/local/lib/python3.10/dist-packages (from tensorflow>=2.2.0->qmc==0.0.1) (1.4.0)\n",
            "Requirement already satisfied: astunparse>=1.6.0 in /usr/local/lib/python3.10/dist-packages (from tensorflow>=2.2.0->qmc==0.0.1) (1.6.3)\n",
            "Requirement already satisfied: flatbuffers>=23.5.26 in /usr/local/lib/python3.10/dist-packages (from tensorflow>=2.2.0->qmc==0.0.1) (24.3.25)\n",
            "Requirement already satisfied: gast!=0.5.0,!=0.5.1,!=0.5.2,>=0.2.1 in /usr/local/lib/python3.10/dist-packages (from tensorflow>=2.2.0->qmc==0.0.1) (0.5.4)\n",
            "Requirement already satisfied: google-pasta>=0.1.1 in /usr/local/lib/python3.10/dist-packages (from tensorflow>=2.2.0->qmc==0.0.1) (0.2.0)\n",
            "Requirement already satisfied: h5py>=2.9.0 in /usr/local/lib/python3.10/dist-packages (from tensorflow>=2.2.0->qmc==0.0.1) (3.9.0)\n",
            "Requirement already satisfied: libclang>=13.0.0 in /usr/local/lib/python3.10/dist-packages (from tensorflow>=2.2.0->qmc==0.0.1) (18.1.1)\n",
            "Requirement already satisfied: ml-dtypes~=0.2.0 in /usr/local/lib/python3.10/dist-packages (from tensorflow>=2.2.0->qmc==0.0.1) (0.2.0)\n",
            "Requirement already satisfied: opt-einsum>=2.3.2 in /usr/local/lib/python3.10/dist-packages (from tensorflow>=2.2.0->qmc==0.0.1) (3.3.0)\n",
            "Requirement already satisfied: packaging in /usr/local/lib/python3.10/dist-packages (from tensorflow>=2.2.0->qmc==0.0.1) (24.0)\n",
            "Requirement already satisfied: protobuf!=4.21.0,!=4.21.1,!=4.21.2,!=4.21.3,!=4.21.4,!=4.21.5,<5.0.0dev,>=3.20.3 in /usr/local/lib/python3.10/dist-packages (from tensorflow>=2.2.0->qmc==0.0.1) (3.20.3)\n",
            "Requirement already satisfied: setuptools in /usr/local/lib/python3.10/dist-packages (from tensorflow>=2.2.0->qmc==0.0.1) (67.7.2)\n",
            "Requirement already satisfied: six>=1.12.0 in /usr/local/lib/python3.10/dist-packages (from tensorflow>=2.2.0->qmc==0.0.1) (1.16.0)\n",
            "Requirement already satisfied: termcolor>=1.1.0 in /usr/local/lib/python3.10/dist-packages (from tensorflow>=2.2.0->qmc==0.0.1) (2.4.0)\n",
            "Requirement already satisfied: typing-extensions>=3.6.6 in /usr/local/lib/python3.10/dist-packages (from tensorflow>=2.2.0->qmc==0.0.1) (4.10.0)\n",
            "Requirement already satisfied: wrapt<1.15,>=1.11.0 in /usr/local/lib/python3.10/dist-packages (from tensorflow>=2.2.0->qmc==0.0.1) (1.14.1)\n",
            "Requirement already satisfied: tensorflow-io-gcs-filesystem>=0.23.1 in /usr/local/lib/python3.10/dist-packages (from tensorflow>=2.2.0->qmc==0.0.1) (0.36.0)\n",
            "Requirement already satisfied: grpcio<2.0,>=1.24.3 in /usr/local/lib/python3.10/dist-packages (from tensorflow>=2.2.0->qmc==0.0.1) (1.62.1)\n",
            "Requirement already satisfied: tensorboard<2.16,>=2.15 in /usr/local/lib/python3.10/dist-packages (from tensorflow>=2.2.0->qmc==0.0.1) (2.15.2)\n",
            "Requirement already satisfied: tensorflow-estimator<2.16,>=2.15.0 in /usr/local/lib/python3.10/dist-packages (from tensorflow>=2.2.0->qmc==0.0.1) (2.15.0)\n",
            "Requirement already satisfied: keras<2.16,>=2.15.0 in /usr/local/lib/python3.10/dist-packages (from tensorflow>=2.2.0->qmc==0.0.1) (2.15.0)\n",
            "Requirement already satisfied: joblib>=1.1.1 in /usr/local/lib/python3.10/dist-packages (from scikit-learn->qmc==0.0.1) (1.3.2)\n",
            "Requirement already satisfied: threadpoolctl>=2.0.0 in /usr/local/lib/python3.10/dist-packages (from scikit-learn->qmc==0.0.1) (3.4.0)\n",
            "Requirement already satisfied: wheel<1.0,>=0.23.0 in /usr/local/lib/python3.10/dist-packages (from astunparse>=1.6.0->tensorflow>=2.2.0->qmc==0.0.1) (0.43.0)\n",
            "Requirement already satisfied: google-auth<3,>=1.6.3 in /usr/local/lib/python3.10/dist-packages (from tensorboard<2.16,>=2.15->tensorflow>=2.2.0->qmc==0.0.1) (2.27.0)\n",
            "Requirement already satisfied: google-auth-oauthlib<2,>=0.5 in /usr/local/lib/python3.10/dist-packages (from tensorboard<2.16,>=2.15->tensorflow>=2.2.0->qmc==0.0.1) (1.2.0)\n",
            "Requirement already satisfied: markdown>=2.6.8 in /usr/local/lib/python3.10/dist-packages (from tensorboard<2.16,>=2.15->tensorflow>=2.2.0->qmc==0.0.1) (3.6)\n",
            "Requirement already satisfied: requests<3,>=2.21.0 in /usr/local/lib/python3.10/dist-packages (from tensorboard<2.16,>=2.15->tensorflow>=2.2.0->qmc==0.0.1) (2.31.0)\n",
            "Requirement already satisfied: tensorboard-data-server<0.8.0,>=0.7.0 in /usr/local/lib/python3.10/dist-packages (from tensorboard<2.16,>=2.15->tensorflow>=2.2.0->qmc==0.0.1) (0.7.2)\n",
            "Requirement already satisfied: werkzeug>=1.0.1 in /usr/local/lib/python3.10/dist-packages (from tensorboard<2.16,>=2.15->tensorflow>=2.2.0->qmc==0.0.1) (3.0.1)\n",
            "Requirement already satisfied: cachetools<6.0,>=2.0.0 in /usr/local/lib/python3.10/dist-packages (from google-auth<3,>=1.6.3->tensorboard<2.16,>=2.15->tensorflow>=2.2.0->qmc==0.0.1) (5.3.3)\n",
            "Requirement already satisfied: pyasn1-modules>=0.2.1 in /usr/local/lib/python3.10/dist-packages (from google-auth<3,>=1.6.3->tensorboard<2.16,>=2.15->tensorflow>=2.2.0->qmc==0.0.1) (0.4.0)\n",
            "Requirement already satisfied: rsa<5,>=3.1.4 in /usr/local/lib/python3.10/dist-packages (from google-auth<3,>=1.6.3->tensorboard<2.16,>=2.15->tensorflow>=2.2.0->qmc==0.0.1) (4.9)\n",
            "Requirement already satisfied: requests-oauthlib>=0.7.0 in /usr/local/lib/python3.10/dist-packages (from google-auth-oauthlib<2,>=0.5->tensorboard<2.16,>=2.15->tensorflow>=2.2.0->qmc==0.0.1) (1.4.1)\n",
            "Requirement already satisfied: charset-normalizer<4,>=2 in /usr/local/lib/python3.10/dist-packages (from requests<3,>=2.21.0->tensorboard<2.16,>=2.15->tensorflow>=2.2.0->qmc==0.0.1) (3.3.2)\n",
            "Requirement already satisfied: idna<4,>=2.5 in /usr/local/lib/python3.10/dist-packages (from requests<3,>=2.21.0->tensorboard<2.16,>=2.15->tensorflow>=2.2.0->qmc==0.0.1) (3.6)\n",
            "Requirement already satisfied: urllib3<3,>=1.21.1 in /usr/local/lib/python3.10/dist-packages (from requests<3,>=2.21.0->tensorboard<2.16,>=2.15->tensorflow>=2.2.0->qmc==0.0.1) (2.0.7)\n",
            "Requirement already satisfied: certifi>=2017.4.17 in /usr/local/lib/python3.10/dist-packages (from requests<3,>=2.21.0->tensorboard<2.16,>=2.15->tensorflow>=2.2.0->qmc==0.0.1) (2024.2.2)\n",
            "Requirement already satisfied: MarkupSafe>=2.1.1 in /usr/local/lib/python3.10/dist-packages (from werkzeug>=1.0.1->tensorboard<2.16,>=2.15->tensorflow>=2.2.0->qmc==0.0.1) (2.1.5)\n",
            "Requirement already satisfied: pyasn1<0.7.0,>=0.4.6 in /usr/local/lib/python3.10/dist-packages (from pyasn1-modules>=0.2.1->google-auth<3,>=1.6.3->tensorboard<2.16,>=2.15->tensorflow>=2.2.0->qmc==0.0.1) (0.6.0)\n",
            "Requirement already satisfied: oauthlib>=3.0.0 in /usr/local/lib/python3.10/dist-packages (from requests-oauthlib>=0.7.0->google-auth-oauthlib<2,>=0.5->tensorboard<2.16,>=2.15->tensorflow>=2.2.0->qmc==0.0.1) (3.2.2)\n",
            "Building wheels for collected packages: qmc\n",
            "  Building wheel for qmc (setup.py) ... \u001b[?25l\u001b[?25hdone\n",
            "  Created wheel for qmc: filename=qmc-0.0.1-py3-none-any.whl size=12988 sha256=937272c6af26699aa07cc8a24b3ab3cb874ca731fbf77e75323e88db488f712d\n",
            "  Stored in directory: /tmp/pip-ephem-wheel-cache-mi5w6i3n/wheels/9f/94/66/55600fd5fe039b621ab7ee795c96f41946d90a9efaf4914d6e\n",
            "Successfully built qmc\n",
            "Installing collected packages: typeguard, qmc\n",
            "Successfully installed qmc-0.0.1 typeguard-4.2.1\n"
          ]
        }
      ]
    },
    {
      "cell_type": "code",
      "execution_count": null,
      "metadata": {
        "id": "1S-IDi4Aa25x"
      },
      "outputs": [],
      "source": [
        "#!nvidia-smi"
      ]
    },
    {
      "cell_type": "markdown",
      "metadata": {
        "id": "B54BPubGf3gv"
      },
      "source": [
        "# 2 Dimensions"
      ]
    },
    {
      "cell_type": "code",
      "execution_count": null,
      "metadata": {
        "id": "_otU_RLEoOh9"
      },
      "outputs": [],
      "source": [
        "def calculate_constant_qmkde(gamma=1, dimension = 1):\n",
        "  sigma = (4*gamma)**(-1/2)\n",
        "  coefficient = 1 /  (2*np.pi*sigma**2)**(dimension/2)\n",
        "  return coefficient"
      ]
    },
    {
      "cell_type": "code",
      "execution_count": null,
      "metadata": {
        "id": "vfjXhFB_dj6d"
      },
      "outputs": [],
      "source": [
        "def calculate_constant_log_qmkde(gamma=1, dimension = 1):\n",
        "  sigma = (4*gamma)**(-1/2)\n",
        "  coefficient = np.log(1) - (dimension/2.) *   np.log(2*np.pi*sigma**2)\n",
        "  return coefficient"
      ]
    },
    {
      "cell_type": "code",
      "execution_count": null,
      "metadata": {
        "id": "QiCt32btP4NW"
      },
      "outputs": [],
      "source": [
        "def raw_kde(x_test, x_train, gamma=1):\n",
        "  sigma = (2*gamma)**(-1/2)\n",
        "  euclidean_distance = np.sum(((x_test-x_train))**2, axis=1)\n",
        "  exponential  = np.exp(-euclidean_distance/(2*sigma**2))\n",
        "  constant_outside = 1/(np.size(x_train) * (2*np.pi*sigma**2)**(x_train.shape[1]/2))\n",
        "  return constant_outside * np.sum(exponential)"
      ]
    },
    {
      "cell_type": "code",
      "execution_count": null,
      "metadata": {
        "id": "ephZxuWQdvL_"
      },
      "outputs": [],
      "source": [
        "def raw_log_kde(x_test, x_train, gamma=1):\n",
        "  sigma = (2*gamma)**(-1/2)\n",
        "  euclidean_distance = np.sum(((x_test-x_train))**2, axis=1)\n",
        "  exponential  = np.exp(-euclidean_distance/(2*sigma**2))\n",
        "  constant_outside = np.log(1) - np.log(np.size(x_train)) - (x_train.shape[1]/2) * np.log(2*np.pi*sigma**2)\n",
        "  return constant_outside + np.log(np.sum(exponential))"
      ]
    },
    {
      "cell_type": "code",
      "execution_count": null,
      "metadata": {
        "id": "SWw8dRdfO0j4"
      },
      "outputs": [],
      "source": []
    },
    {
      "cell_type": "code",
      "execution_count": null,
      "metadata": {
        "id": "EVY6UhNSXdvu"
      },
      "outputs": [],
      "source": [
        "import matplotlib.pyplot as plt\n",
        "\n",
        "def plot(X_train, X_train_density, X_test, X_test_density, name = \"dataset\"):\n",
        "    plt.axes(frameon = 0)\n",
        "    plt.grid()\n",
        "    plt.scatter(X_test[:,0],  X_test[:,1], c = X_test_density , alpha = .5, s = 3, linewidths= 0.0000001)\n",
        "    plt.colorbar()\n",
        "    plt.title('arc dataset')\n",
        "    plt.savefig(f'{name}.png',dpi = 300)\n",
        "    plt.show()"
      ]
    },
    {
      "cell_type": "markdown",
      "metadata": {
        "id": "A6uHGeGwMDZm"
      },
      "source": [
        "# 2 Dim Datasets"
      ]
    },
    {
      "cell_type": "markdown",
      "metadata": {
        "id": "DtVeNrVLW2BM"
      },
      "source": [
        "## Binomial dataset"
      ]
    },
    {
      "cell_type": "code",
      "execution_count": null,
      "metadata": {
        "id": "qF6-U0EPEgNN"
      },
      "outputs": [],
      "source": [
        "tfd = tfp.distributions\n",
        "\n",
        "# Initialize a single 2-variate Gaussian.\n",
        "mvn = tfd.MultivariateNormalDiag(\n",
        "    loc=[1., -1],\n",
        "    scale_diag=[1, 2.])\n",
        "\n",
        "X = mvn.sample(sample_shape=10000, seed = 1)\n"
      ]
    },
    {
      "cell_type": "code",
      "execution_count": null,
      "metadata": {
        "colab": {
          "base_uri": "https://localhost:8080/"
        },
        "id": "3gE1XHabQBdc",
        "outputId": "7e1df9a3-3e09-424b-c097-15fb9f2d8203"
      },
      "outputs": [
        {
          "output_type": "execute_result",
          "data": {
            "text/plain": [
              "array([7.9033756, 2.0053935, 7.3504186, ..., 1.0203874, 2.5100377,\n",
              "       1.5725329], dtype=float32)"
            ]
          },
          "metadata": {},
          "execution_count": 11
        }
      ],
      "source": [
        "from sklearn.metrics.pairwise import euclidean_distances\n",
        "A = euclidean_distances(X, X)\n",
        "A[np.triu_indices_from(A, k=1)]"
      ]
    },
    {
      "cell_type": "code",
      "execution_count": null,
      "metadata": {
        "id": "QJAIuGapEd9R"
      },
      "outputs": [],
      "source": [
        "batch_size = 32\n",
        "\n",
        "from  sklearn import model_selection\n",
        "X_train, val_data = model_selection.train_test_split(X.numpy(), test_size=0.3)\n",
        "\n",
        "train_dataset = tf.data.Dataset.from_tensor_slices(X_train)\n",
        "batched_train_data = train_dataset.batch(batch_size)"
      ]
    },
    {
      "cell_type": "code",
      "execution_count": null,
      "metadata": {
        "id": "dk1YMPX8Swkj"
      },
      "outputs": [],
      "source": [
        "x, y = np.mgrid[-6:6:.1, -6:6:.1]\n",
        "pos = np.dstack((x, y))\n",
        "X_plot = pos.reshape([14400,2])\n",
        "\n",
        "real_prob = mvn.prob(X_plot)"
      ]
    },
    {
      "cell_type": "code",
      "execution_count": null,
      "metadata": {
        "colab": {
          "base_uri": "https://localhost:8080/",
          "height": 635
        },
        "id": "q7hzaGqUrcRW",
        "outputId": "0b85f8dd-9a53-4819-9932-1a20c2814353"
      },
      "outputs": [
        {
          "output_type": "stream",
          "name": "stdout",
          "text": [
            "log max probability: tf.Tensor(\n",
            "[8.00581593e-14 9.06043361e-14 1.02283904e-13 ... 1.77889403e-09\n",
            " 1.50266632e-09 1.26616140e-09], shape=(14400,), dtype=float32)\n",
            "log min probability: tf.Tensor(\n",
            "[8.00581593e-14 9.06043361e-14 1.02283904e-13 ... 1.77889403e-09\n",
            " 1.50266632e-09 1.26616140e-09], shape=(14400,), dtype=float32)\n"
          ]
        },
        {
          "output_type": "display_data",
          "data": {
            "text/plain": [
              "<Figure size 700x600 with 2 Axes>"
            ],
            "image/png": "[encoded data removed]"
          },
          "metadata": {}
        }
      ],
      "source": [
        "params = {\n",
        "   'axes.labelsize': 12,\n",
        "   'legend.fontsize': 12,\n",
        "   'xtick.labelsize': 10,\n",
        "   'ytick.labelsize': 10,\n",
        "   'text.usetex': False,\n",
        "   'figure.figsize': [7.0, 6.0]\n",
        "   }\n",
        "plt.rcParams.update(params)\n",
        "\n",
        "print(\"log max probability:\", real_prob)\n",
        "print(\"log min probability:\", real_prob)\n",
        "\n",
        "#fig2 = plt.figure()\n",
        "#ax2 = fig2.add_subplot(111)\n",
        "plt.contourf(x, y, real_prob.numpy().reshape([120,120]))\n",
        "plt.colorbar()\n",
        "plt.savefig(\"spiralsdmkde.pdf\")"
      ]
    },
    {
      "cell_type": "markdown",
      "metadata": {
        "id": "O4AtKN2qka_h"
      },
      "source": [
        "## Potential 1 dataset"
      ]
    },
    {
      "cell_type": "code",
      "execution_count": null,
      "metadata": {
        "id": "_o3TrLcZL3hc"
      },
      "outputs": [],
      "source": [
        "def load_potential_1(train_size, test_size, dimension=2):\n",
        "\n",
        "    print(f\"loading potential_1 trian_size: {train_size} test_size: {test_size} dimension: {dimension}\")\n",
        "\n",
        "    X = np.loadtxt(\"NF1_1M.csv\").astype(np.float32)\n",
        "    X_densities = np.loadtxt(\"NF1_1M_densities.csv\").astype(np.float32)\n",
        "\n",
        "    X_train = X[:train_size, :]\n",
        "    X_train_densities = X_densities[:train_size]\n",
        "    X_test = X[train_size: train_size + test_size, :]\n",
        "    X_test_densities = X_densities[train_size: train_size + test_size]\n",
        "\n",
        "    return X_train, X_train_densities, X_test, X_test_densities\n",
        "\n"
      ]
    },
    {
      "cell_type": "code",
      "execution_count": null,
      "metadata": {
        "colab": {
          "base_uri": "https://localhost:8080/"
        },
        "id": "CvvlbZkEMZVe",
        "outputId": "1c4b2686-9a0d-47ae-a674-33091a3a56d5"
      },
      "outputs": [
        {
          "output_type": "stream",
          "name": "stdout",
          "text": [
            "/usr/local/lib/python3.10/dist-packages/gdown/cli.py:138: FutureWarning: Option `--id` was deprecated in version 4.3.1 and will be removed in 5.0. You don't need to pass it anymore to use a file ID.\n",
            "  warnings.warn(\n",
            "Downloading...\n",
            "From: https://drive.google.com/uc?id=1iGX6Ux9agD7Naom0HFAu2sxxaQAKVFVX\n",
            "To: /content/NF1_1M_densities.csv\n",
            "100% 25.0M/25.0M [00:00<00:00, 64.6MB/s]\n",
            "/usr/local/lib/python3.10/dist-packages/gdown/cli.py:138: FutureWarning: Option `--id` was deprecated in version 4.3.1 and will be removed in 5.0. You don't need to pass it anymore to use a file ID.\n",
            "  warnings.warn(\n",
            "Downloading...\n",
            "From: https://drive.google.com/uc?id=1kW7UPgICZCkjIAWZ-oWDwLCtYl0LMNar\n",
            "To: /content/NF1_1M.csv\n",
            " 14% 7.34M/51.0M [00:00<00:01, 22.3MB/s]Traceback (most recent call last):\n",
            "  File \"/usr/local/bin/gdown\", line 8, in <module>\n",
            "  File \"/usr/local/lib/python3.10/dist-packages/gdown/cli.py\", line 169, in main\n",
            "    download(\n",
            "  File \"/usr/local/lib/python3.10/dist-packages/gdown/download.py\", line 328, in download\n",
            "    pbar.update(len(chunk))\n",
            "  File \"/usr/local/lib/python3.10/dist-packages/tqdm/std.py\", line 1242, in update\n",
            "    self.refresh(lock_args=self.lock_args)\n",
            "  File \"/usr/local/lib/python3.10/dist-packages/tqdm/std.py\", line 1346, in refresh\n",
            "    self._lock.acquire()\n",
            "  File \"/usr/local/lib/python3.10/dist-packages/tqdm/std.py\", line 104, in acquire\n",
            "    lock.acquire(*a, **k)\n",
            "KeyboardInterrupt\n",
            " 20% 9.96M/51.0M [00:00<00:02, 16.1MB/s]\n",
            "^C\n"
          ]
        }
      ],
      "source": [
        "!gdown --id 1iGX6Ux9agD7Naom0HFAu2sxxaQAKVFVX\n",
        "!gdown --id 1kW7UPgICZCkjIAWZ-oWDwLCtYl0LMNar"
      ]
    },
    {
      "cell_type": "code",
      "execution_count": null,
      "metadata": {
        "colab": {
          "base_uri": "https://localhost:8080/",
          "height": 310
        },
        "id": "X8p2AJrxMrua",
        "outputId": "291f5f00-f965-402c-8144-90ea4d418941"
      },
      "outputs": [
        {
          "output_type": "stream",
          "name": "stdout",
          "text": [
            "loading potential_1 trian_size: 80000 test_size: 1000 dimension: 2\n"
          ]
        },
        {
          "output_type": "error",
          "ename": "FileNotFoundError",
          "evalue": "NF1_1M.csv not found.",
          "traceback": [
            "\u001b[0;31m---------------------------------------------------------------------------\u001b[0m",
            "\u001b[0;31mFileNotFoundError\u001b[0m                         Traceback (most recent call last)",
            "\u001b[0;32m<ipython-input-17-eded5077a691>\u001b[0m in \u001b[0;36m<cell line: 1>\u001b[0;34m()\u001b[0m\n\u001b[0;32m----> 1\u001b[0;31m \u001b[0mX_train\u001b[0m\u001b[0;34m,\u001b[0m \u001b[0mX_train_densities\u001b[0m\u001b[0;34m,\u001b[0m \u001b[0mX_test\u001b[0m\u001b[0;34m,\u001b[0m \u001b[0mX_test_densities\u001b[0m \u001b[0;34m=\u001b[0m \u001b[0mload_potential_1\u001b[0m\u001b[0;34m(\u001b[0m\u001b[0;36m80000\u001b[0m\u001b[0;34m,\u001b[0m\u001b[0;36m1000\u001b[0m\u001b[0;34m,\u001b[0m\u001b[0mdimension\u001b[0m\u001b[0;34m=\u001b[0m\u001b[0;36m2\u001b[0m\u001b[0;34m)\u001b[0m\u001b[0;34m\u001b[0m\u001b[0;34m\u001b[0m\u001b[0m\n\u001b[0m",
            "\u001b[0;32m<ipython-input-15-78a90b5fd438>\u001b[0m in \u001b[0;36mload_potential_1\u001b[0;34m(train_size, test_size, dimension)\u001b[0m\n\u001b[1;32m      3\u001b[0m     \u001b[0mprint\u001b[0m\u001b[0;34m(\u001b[0m\u001b[0;34mf\"loading potential_1 trian_size: {train_size} test_size: {test_size} dimension: {dimension}\"\u001b[0m\u001b[0;34m)\u001b[0m\u001b[0;34m\u001b[0m\u001b[0;34m\u001b[0m\u001b[0m\n\u001b[1;32m      4\u001b[0m \u001b[0;34m\u001b[0m\u001b[0m\n\u001b[0;32m----> 5\u001b[0;31m     \u001b[0mX\u001b[0m \u001b[0;34m=\u001b[0m \u001b[0mnp\u001b[0m\u001b[0;34m.\u001b[0m\u001b[0mloadtxt\u001b[0m\u001b[0;34m(\u001b[0m\u001b[0;34m\"NF1_1M.csv\"\u001b[0m\u001b[0;34m)\u001b[0m\u001b[0;34m.\u001b[0m\u001b[0mastype\u001b[0m\u001b[0;34m(\u001b[0m\u001b[0mnp\u001b[0m\u001b[0;34m.\u001b[0m\u001b[0mfloat32\u001b[0m\u001b[0;34m)\u001b[0m\u001b[0;34m\u001b[0m\u001b[0;34m\u001b[0m\u001b[0m\n\u001b[0m\u001b[1;32m      6\u001b[0m     \u001b[0mX_densities\u001b[0m \u001b[0;34m=\u001b[0m \u001b[0mnp\u001b[0m\u001b[0;34m.\u001b[0m\u001b[0mloadtxt\u001b[0m\u001b[0;34m(\u001b[0m\u001b[0;34m\"NF1_1M_densities.csv\"\u001b[0m\u001b[0;34m)\u001b[0m\u001b[0;34m.\u001b[0m\u001b[0mastype\u001b[0m\u001b[0;34m(\u001b[0m\u001b[0mnp\u001b[0m\u001b[0;34m.\u001b[0m\u001b[0mfloat32\u001b[0m\u001b[0;34m)\u001b[0m\u001b[0;34m\u001b[0m\u001b[0;34m\u001b[0m\u001b[0m\n\u001b[1;32m      7\u001b[0m \u001b[0;34m\u001b[0m\u001b[0m\n",
            "\u001b[0;32m/usr/local/lib/python3.10/dist-packages/numpy/lib/npyio.py\u001b[0m in \u001b[0;36mloadtxt\u001b[0;34m(fname, dtype, comments, delimiter, converters, skiprows, usecols, unpack, ndmin, encoding, max_rows, quotechar, like)\u001b[0m\n\u001b[1;32m   1371\u001b[0m         \u001b[0mdelimiter\u001b[0m \u001b[0;34m=\u001b[0m \u001b[0mdelimiter\u001b[0m\u001b[0;34m.\u001b[0m\u001b[0mdecode\u001b[0m\u001b[0;34m(\u001b[0m\u001b[0;34m'latin1'\u001b[0m\u001b[0;34m)\u001b[0m\u001b[0;34m\u001b[0m\u001b[0;34m\u001b[0m\u001b[0m\n\u001b[1;32m   1372\u001b[0m \u001b[0;34m\u001b[0m\u001b[0m\n\u001b[0;32m-> 1373\u001b[0;31m     arr = _read(fname, dtype=dtype, comment=comment, delimiter=delimiter,\n\u001b[0m\u001b[1;32m   1374\u001b[0m                 \u001b[0mconverters\u001b[0m\u001b[0;34m=\u001b[0m\u001b[0mconverters\u001b[0m\u001b[0;34m,\u001b[0m \u001b[0mskiplines\u001b[0m\u001b[0;34m=\u001b[0m\u001b[0mskiprows\u001b[0m\u001b[0;34m,\u001b[0m \u001b[0musecols\u001b[0m\u001b[0;34m=\u001b[0m\u001b[0musecols\u001b[0m\u001b[0;34m,\u001b[0m\u001b[0;34m\u001b[0m\u001b[0;34m\u001b[0m\u001b[0m\n\u001b[1;32m   1375\u001b[0m                 \u001b[0munpack\u001b[0m\u001b[0;34m=\u001b[0m\u001b[0munpack\u001b[0m\u001b[0;34m,\u001b[0m \u001b[0mndmin\u001b[0m\u001b[0;34m=\u001b[0m\u001b[0mndmin\u001b[0m\u001b[0;34m,\u001b[0m \u001b[0mencoding\u001b[0m\u001b[0;34m=\u001b[0m\u001b[0mencoding\u001b[0m\u001b[0;34m,\u001b[0m\u001b[0;34m\u001b[0m\u001b[0;34m\u001b[0m\u001b[0m\n",
            "\u001b[0;32m/usr/local/lib/python3.10/dist-packages/numpy/lib/npyio.py\u001b[0m in \u001b[0;36m_read\u001b[0;34m(fname, delimiter, comment, quote, imaginary_unit, usecols, skiplines, max_rows, converters, ndmin, unpack, dtype, encoding)\u001b[0m\n\u001b[1;32m    990\u001b[0m             \u001b[0mfname\u001b[0m \u001b[0;34m=\u001b[0m \u001b[0mos\u001b[0m\u001b[0;34m.\u001b[0m\u001b[0mfspath\u001b[0m\u001b[0;34m(\u001b[0m\u001b[0mfname\u001b[0m\u001b[0;34m)\u001b[0m\u001b[0;34m\u001b[0m\u001b[0;34m\u001b[0m\u001b[0m\n\u001b[1;32m    991\u001b[0m         \u001b[0;32mif\u001b[0m \u001b[0misinstance\u001b[0m\u001b[0;34m(\u001b[0m\u001b[0mfname\u001b[0m\u001b[0;34m,\u001b[0m \u001b[0mstr\u001b[0m\u001b[0;34m)\u001b[0m\u001b[0;34m:\u001b[0m\u001b[0;34m\u001b[0m\u001b[0;34m\u001b[0m\u001b[0m\n\u001b[0;32m--> 992\u001b[0;31m             \u001b[0mfh\u001b[0m \u001b[0;34m=\u001b[0m \u001b[0mnp\u001b[0m\u001b[0;34m.\u001b[0m\u001b[0mlib\u001b[0m\u001b[0;34m.\u001b[0m\u001b[0m_datasource\u001b[0m\u001b[0;34m.\u001b[0m\u001b[0mopen\u001b[0m\u001b[0;34m(\u001b[0m\u001b[0mfname\u001b[0m\u001b[0;34m,\u001b[0m \u001b[0;34m'rt'\u001b[0m\u001b[0;34m,\u001b[0m \u001b[0mencoding\u001b[0m\u001b[0;34m=\u001b[0m\u001b[0mencoding\u001b[0m\u001b[0;34m)\u001b[0m\u001b[0;34m\u001b[0m\u001b[0;34m\u001b[0m\u001b[0m\n\u001b[0m\u001b[1;32m    993\u001b[0m             \u001b[0;32mif\u001b[0m \u001b[0mencoding\u001b[0m \u001b[0;32mis\u001b[0m \u001b[0;32mNone\u001b[0m\u001b[0;34m:\u001b[0m\u001b[0;34m\u001b[0m\u001b[0;34m\u001b[0m\u001b[0m\n\u001b[1;32m    994\u001b[0m                 \u001b[0mencoding\u001b[0m \u001b[0;34m=\u001b[0m \u001b[0mgetattr\u001b[0m\u001b[0;34m(\u001b[0m\u001b[0mfh\u001b[0m\u001b[0;34m,\u001b[0m \u001b[0;34m'encoding'\u001b[0m\u001b[0;34m,\u001b[0m \u001b[0;34m'latin1'\u001b[0m\u001b[0;34m)\u001b[0m\u001b[0;34m\u001b[0m\u001b[0;34m\u001b[0m\u001b[0m\n",
            "\u001b[0;32m/usr/local/lib/python3.10/dist-packages/numpy/lib/_datasource.py\u001b[0m in \u001b[0;36mopen\u001b[0;34m(path, mode, destpath, encoding, newline)\u001b[0m\n\u001b[1;32m    191\u001b[0m \u001b[0;34m\u001b[0m\u001b[0m\n\u001b[1;32m    192\u001b[0m     \u001b[0mds\u001b[0m \u001b[0;34m=\u001b[0m \u001b[0mDataSource\u001b[0m\u001b[0;34m(\u001b[0m\u001b[0mdestpath\u001b[0m\u001b[0;34m)\u001b[0m\u001b[0;34m\u001b[0m\u001b[0;34m\u001b[0m\u001b[0m\n\u001b[0;32m--> 193\u001b[0;31m     \u001b[0;32mreturn\u001b[0m \u001b[0mds\u001b[0m\u001b[0;34m.\u001b[0m\u001b[0mopen\u001b[0m\u001b[0;34m(\u001b[0m\u001b[0mpath\u001b[0m\u001b[0;34m,\u001b[0m \u001b[0mmode\u001b[0m\u001b[0;34m,\u001b[0m \u001b[0mencoding\u001b[0m\u001b[0;34m=\u001b[0m\u001b[0mencoding\u001b[0m\u001b[0;34m,\u001b[0m \u001b[0mnewline\u001b[0m\u001b[0;34m=\u001b[0m\u001b[0mnewline\u001b[0m\u001b[0;34m)\u001b[0m\u001b[0;34m\u001b[0m\u001b[0;34m\u001b[0m\u001b[0m\n\u001b[0m\u001b[1;32m    194\u001b[0m \u001b[0;34m\u001b[0m\u001b[0m\n\u001b[1;32m    195\u001b[0m \u001b[0;34m\u001b[0m\u001b[0m\n",
            "\u001b[0;32m/usr/local/lib/python3.10/dist-packages/numpy/lib/_datasource.py\u001b[0m in \u001b[0;36mopen\u001b[0;34m(self, path, mode, encoding, newline)\u001b[0m\n\u001b[1;32m    531\u001b[0m                                       encoding=encoding, newline=newline)\n\u001b[1;32m    532\u001b[0m         \u001b[0;32melse\u001b[0m\u001b[0;34m:\u001b[0m\u001b[0;34m\u001b[0m\u001b[0;34m\u001b[0m\u001b[0m\n\u001b[0;32m--> 533\u001b[0;31m             \u001b[0;32mraise\u001b[0m \u001b[0mFileNotFoundError\u001b[0m\u001b[0;34m(\u001b[0m\u001b[0;34mf\"{path} not found.\"\u001b[0m\u001b[0;34m)\u001b[0m\u001b[0;34m\u001b[0m\u001b[0;34m\u001b[0m\u001b[0m\n\u001b[0m\u001b[1;32m    534\u001b[0m \u001b[0;34m\u001b[0m\u001b[0m\n\u001b[1;32m    535\u001b[0m \u001b[0;34m\u001b[0m\u001b[0m\n",
            "\u001b[0;31mFileNotFoundError\u001b[0m: NF1_1M.csv not found."
          ]
        }
      ],
      "source": [
        "X_train, X_train_densities, X_test, X_test_densities = load_potential_1(80000,1000,dimension=2)"
      ]
    },
    {
      "cell_type": "code",
      "execution_count": null,
      "metadata": {
        "id": "9XKJ4LODM0Qn"
      },
      "outputs": [],
      "source": [
        "plot(X_train, X_train_densities, X_test, X_test_densities)"
      ]
    },
    {
      "cell_type": "code",
      "execution_count": null,
      "metadata": {
        "id": "aouigzaPX2Ei"
      },
      "outputs": [],
      "source": [
        "x, y = np.mgrid[-4:4:(8/120), -4:4:(8/120)]\n",
        "pos = np.dstack((x, y))\n",
        "X_plot = pos.reshape([14400,2])"
      ]
    },
    {
      "cell_type": "markdown",
      "metadata": {
        "id": "55i1WgjWkukQ"
      },
      "source": [
        "## Potential 2 dataset"
      ]
    },
    {
      "cell_type": "code",
      "execution_count": null,
      "metadata": {
        "id": "joEuGFvS6Bf7"
      },
      "outputs": [],
      "source": [
        "!gdown --id 1VSXlzTLtrS5E7QmWwhyRHuSSKE1HvbZX\n",
        "!gdown --id 18nAP1faHJjpzKskyhenvStI1jM83SIzO"
      ]
    },
    {
      "cell_type": "code",
      "execution_count": null,
      "metadata": {
        "id": "o-8JUHYQ53ac"
      },
      "outputs": [],
      "source": [
        "def load_potential_2(train_size, test_size, dimension=2):\n",
        "\n",
        "    print(f\"loading potential_2 trian_size: {train_size} test_size: {test_size} dimension: {dimension}\")\n",
        "\n",
        "    X = np.load(\"nf2.npy\").astype(np.float32)\n",
        "    X_densities = np.loadtxt(\"NF2_densities.csv\").astype(np.float32)\n",
        "\n",
        "    X_train = X[:train_size, :]\n",
        "    X_train_densities = X_densities[:train_size]\n",
        "    X_test = X[train_size: train_size + test_size, :]\n",
        "    X_test_densities = X_densities[train_size: train_size + test_size]\n",
        "\n",
        "    return X_train, X_train_densities, X_test, X_test_densities"
      ]
    },
    {
      "cell_type": "code",
      "execution_count": null,
      "metadata": {
        "id": "Jdbr13Le6dT4"
      },
      "outputs": [],
      "source": [
        "X_train, X_train_densities, X_test, X_test_densities = load_potential_2(80000,1000,dimension=2)"
      ]
    },
    {
      "cell_type": "code",
      "execution_count": null,
      "metadata": {
        "id": "qSdpvMVH6dT4"
      },
      "outputs": [],
      "source": [
        "plot(X_train, X_train_densities, X_test, X_test_densities)"
      ]
    },
    {
      "cell_type": "code",
      "execution_count": null,
      "metadata": {
        "id": "456An0F1kukf"
      },
      "outputs": [],
      "source": [
        "x, y = np.mgrid[-4:4:(8/120), -3:3:(6/120)]\n",
        "pos = np.dstack((x, y))\n",
        "X_plot = pos.reshape([14400,2])"
      ]
    },
    {
      "cell_type": "markdown",
      "metadata": {
        "id": "jrrNCbgSByuZ"
      },
      "source": [
        "## ARC dataset"
      ]
    },
    {
      "cell_type": "markdown",
      "metadata": {
        "id": "-awU_Heo_5hf"
      },
      "source": [
        "Weird Gaussians from `Masked Autoregressive Flow for Density Estimation`\n",
        "***"
      ]
    },
    {
      "cell_type": "markdown",
      "metadata": {
        "id": "N_L4iT23cT2q"
      },
      "source": [
        "See the article [here](https://arxiv.org/pdf/1705.07057.pdf) where the distribution of the data is given by the following density:\n",
        "\n",
        "$$\n",
        "p(x,y) = \\mathcal{N}\\left(x_2| 0,4\\right) \\mathcal{N}\\left(x_1|\\frac{1}{4}x_2^2,1\\right)\n",
        "$$"
      ]
    },
    {
      "cell_type": "markdown",
      "metadata": {
        "id": "Lla-6r3GGE7K"
      },
      "source": [
        "### Dataset Generation"
      ]
    },
    {
      "cell_type": "code",
      "execution_count": null,
      "metadata": {
        "id": "6SzcfEqOLPu5"
      },
      "outputs": [],
      "source": [
        "dataset_size = 40_000"
      ]
    },
    {
      "cell_type": "code",
      "execution_count": null,
      "metadata": {
        "id": "PV9oWPcBf2-M"
      },
      "outputs": [],
      "source": [
        "x2_dist = tfd.Normal(loc=0., scale=4.)\n",
        "x2_samples = x2_dist.sample(dataset_size)\n",
        "x1 = tfd.Normal(loc=.25 * tf.square(x2_samples),\n",
        "                scale=tf.ones(dataset_size, dtype=tf.float32))\n",
        "x1_samples = x1.sample()\n",
        "x_samples = tf.stack([x1_samples, x2_samples], axis=1)"
      ]
    },
    {
      "cell_type": "code",
      "execution_count": null,
      "metadata": {
        "id": "Cgmxfa7rRwGF"
      },
      "outputs": [],
      "source": [
        "X_densities = x2_dist.prob(x_samples[:,1]) * x1.prob(x_samples[:,0])"
      ]
    },
    {
      "cell_type": "markdown",
      "metadata": {
        "id": "GrgHyORHe-zZ"
      },
      "source": [
        "True densities"
      ]
    },
    {
      "cell_type": "code",
      "execution_count": null,
      "metadata": {
        "id": "MXhts4--fKgf"
      },
      "outputs": [],
      "source": [
        "x2 = tfp.distributions.Normal(loc = 0., scale = 4.)\n",
        "x1 = tfp.distributions.Normal(loc = .25 * tf.square(x_samples[:,1]), scale = tf.ones(40_000, dtype=tf.float32))"
      ]
    },
    {
      "cell_type": "code",
      "execution_count": null,
      "metadata": {
        "id": "cm9shjglNHq0"
      },
      "outputs": [],
      "source": [
        "X_densities = x2.prob(x_samples[:,1]) * x1.prob(x_samples[:,0])"
      ]
    },
    {
      "cell_type": "markdown",
      "metadata": {
        "id": "HCEoZV_NevLC"
      },
      "source": [
        "Scatter plot of the data"
      ]
    },
    {
      "cell_type": "code",
      "execution_count": null,
      "metadata": {
        "colab": {
          "base_uri": "https://localhost:8080/",
          "height": 545
        },
        "id": "qyJcsEM0f9mb",
        "outputId": "784e20a4-5a8c-4593-ddaa-ce771483e6c5"
      },
      "outputs": [
        {
          "output_type": "display_data",
          "data": {
            "text/plain": [
              "<Figure size 700x600 with 2 Axes>"
            ],
            "image/png": "[encoded data removed]"
          },
          "metadata": {}
        }
      ],
      "source": [
        "plt.axes(frameon = 0)\n",
        "plt.grid()\n",
        "plt.scatter(x_samples[:,0],  x_samples[:,1], c = X_densities.numpy() , alpha = .2, s = 3, linewidths= 0.0000001)\n",
        "plt.colorbar()\n",
        "plt.title('ARC')\n",
        "plt.savefig('alldensities_arc.png',dpi = 300)\n",
        "plt.show()"
      ]
    },
    {
      "cell_type": "markdown",
      "metadata": {
        "id": "U7McKNWRSC1G"
      },
      "source": [
        "To generate mesh grid data that will be used to calculate probability density plot"
      ]
    },
    {
      "cell_type": "code",
      "execution_count": null,
      "metadata": {
        "id": "uvPPkMRLptPm"
      },
      "outputs": [],
      "source": [
        "import scipy.stats"
      ]
    },
    {
      "cell_type": "code",
      "execution_count": null,
      "metadata": {
        "id": "mwPcmrPdX_CW"
      },
      "outputs": [],
      "source": [
        "x, y = np.mgrid[-10:40:(50/120), -15:15:(30/120)]\n",
        "pos = np.dstack((x, y))\n",
        "X_plot = pos.reshape([14400,2])\n",
        "\n",
        "real_prob = x2_dist.prob(X_plot[:,1]) * scipy.stats.norm(0.25 * np.square(X_plot[:,1]), 1).pdf(X_plot[:,0])"
      ]
    },
    {
      "cell_type": "code",
      "execution_count": null,
      "metadata": {
        "id": "H_mHHiImRMkV"
      },
      "outputs": [],
      "source": [
        "plt.rcParams[\"figure.figsize\"] = (20*0.25,15*0.25)"
      ]
    },
    {
      "cell_type": "code",
      "execution_count": null,
      "metadata": {
        "colab": {
          "base_uri": "https://localhost:8080/",
          "height": 356
        },
        "id": "R6PZPC8wX_Cf",
        "outputId": "064369c9-9455-4db9-fa67-b1a30924d31c"
      },
      "outputs": [
        {
          "output_type": "display_data",
          "data": {
            "text/plain": [
              "<Figure size 500x375 with 2 Axes>"
            ],
            "image/png": "[encoded data removed]"
          },
          "metadata": {}
        }
      ],
      "source": [
        "plt.axes(frameon = 0)\n",
        "plt.grid()\n",
        "#plt.scatter(x, y, c = real_prob.numpy().reshape([500,300]) , alpha = .2, s = 3, linewidths= 0.0000001)\n",
        "plt.scatter(x, y, c = real_prob.numpy().reshape([120,120]) , alpha = .2, s = 3, linewidths= 0.0000001)\n",
        "plt.colorbar()\n",
        "plt.title('ARC')\n",
        "plt.yticks([])\n",
        "plt.xticks([])\n",
        "plt.savefig('alldensities_arc.png',dpi = 300)\n",
        "plt.show()"
      ]
    },
    {
      "cell_type": "code",
      "execution_count": null,
      "metadata": {
        "colab": {
          "base_uri": "https://localhost:8080/"
        },
        "id": "3BBG1XUMNgiM",
        "outputId": "e881b204-c704-46dd-dc28-991c0cabaa47"
      },
      "outputs": [
        {
          "output_type": "execute_result",
          "data": {
            "text/plain": [
              "TensorShape([40000, 2])"
            ]
          },
          "metadata": {},
          "execution_count": 28
        }
      ],
      "source": [
        "x_samples.shape"
      ]
    },
    {
      "cell_type": "code",
      "execution_count": null,
      "metadata": {
        "id": "_3yBj6HR-pI8"
      },
      "outputs": [],
      "source": [
        "from  sklearn import model_selection\n",
        "batch_size = 32\n",
        "X_train, test_set = model_selection.train_test_split(x_samples.numpy(), test_size=0.3)\n",
        "\n",
        "train_dataset = tf.data.Dataset.from_tensor_slices(X_train)\n",
        "batched_train_data = train_dataset.batch(batch_size)"
      ]
    },
    {
      "cell_type": "markdown",
      "metadata": {
        "id": "hPj7MAzSlvV1"
      },
      "source": [
        "## Star eight dataset"
      ]
    },
    {
      "cell_type": "code",
      "execution_count": null,
      "metadata": {
        "id": "kY4P--vu8Xn2"
      },
      "outputs": [],
      "source": [
        "!gdown --id 1yr0NkgYXdiGi2UsDCgjfcRcfHax7wmCz\n",
        "!gdown --id 103NFYP5uvpht9TUeEF3ObqJa_8HT3xME\n",
        "!gdown --id 1F879MIVT2EaS33AWM3kPJ3gQwtVcvkap\n",
        "!gdown --id 1ppUWUUPRxkl4alDqcDllzS2KckMN9g_0"
      ]
    },
    {
      "cell_type": "code",
      "execution_count": null,
      "metadata": {
        "id": "oJm0KiI58Xn3"
      },
      "outputs": [],
      "source": [
        "def load_star_eight(train_size, test_size, dimension=2):\n",
        "    print(f\"loading star_eight trian_size: {train_size} test_size: {test_size} dimension: {dimension}\")\n",
        "\n",
        "    X_train = np.load(\"star_eight_train.npy\").astype(np.float32)[:train_size, :dimension]\n",
        "    X_train_densities = np.load(\"star_eight_train_density.npy\").astype(np.float32) [:train_size]\n",
        "    X_test = np.load(\"star_eight_test.npy\").astype(np.float32)[:test_size, :dimension]\n",
        "    X_test_densities = np.load(\"star_eight_test_density.npy\").astype(np.float32)[:test_size]\n",
        "    return X_train, X_train_densities, X_test, X_test_densities"
      ]
    },
    {
      "cell_type": "code",
      "execution_count": null,
      "metadata": {
        "id": "sCk-19wE8Xn3"
      },
      "outputs": [],
      "source": [
        "X_train, X_train_densities, X_test, X_test_densities = load_star_eight(80000,1000,dimension=2)\n",
        "\n",
        "X_train.shape"
      ]
    },
    {
      "cell_type": "code",
      "execution_count": null,
      "metadata": {
        "id": "iRsV8_-U8Xn3"
      },
      "outputs": [],
      "source": [
        "plot(X_train, X_train_densities, X_test, X_test_densities)"
      ]
    },
    {
      "cell_type": "code",
      "execution_count": null,
      "metadata": {
        "id": "JNKy_wZylvWA"
      },
      "outputs": [],
      "source": [
        "x, y = np.mgrid[-7:7:(14/120), -7:7:(14/120)]\n",
        "pos = np.dstack((x, y))\n",
        "X_plot = pos.reshape([14400,2])"
      ]
    },
    {
      "cell_type": "markdown",
      "metadata": {
        "id": "1LAImKfgMtse"
      },
      "source": [
        "# Constants\n",
        "\n",
        "\n"
      ]
    },
    {
      "cell_type": "code",
      "execution_count": null,
      "metadata": {
        "id": "0jFQyczOMyTt"
      },
      "outputs": [],
      "source": [
        "GAMMA_DICT = {\"Binomial\": 2., \"Potential 1\": 4., \"Potential 2\": 16., \"Arc\": 4., \"Star\": 16.}\n",
        "GAMMA = GAMMA_DICT[\"Arc\"] ## change GAMMA accordingly\n",
        "DIM_X = X_train.shape[1]\n",
        "EPOCHS = 15 ## set 15 for the final experiments\n",
        "N_RFFS = 32 ## set 64 for the final experiments\n",
        "RANDOM_STATE = 15\n",
        "PS_SIZE = 128 ## set 256 for the final experiments"
      ]
    },
    {
      "cell_type": "markdown",
      "metadata": {
        "id": "-nbfD5p-Cu-g"
      },
      "source": [
        "# 2.5 RAW-KDE"
      ]
    },
    {
      "cell_type": "code",
      "execution_count": null,
      "metadata": {
        "id": "muZvnMlCMP5F"
      },
      "outputs": [],
      "source": [
        "def calculate_constant_qmkde(gamma=1, dimension = 1):\n",
        "  sigma = (4*gamma)**(-1/2)\n",
        "  coefficient = 1 /  (2*np.pi*sigma**2)**(dimension/2)\n",
        "  return coefficient"
      ]
    },
    {
      "cell_type": "code",
      "execution_count": null,
      "metadata": {
        "id": "g9HKGDb2LX5b"
      },
      "outputs": [],
      "source": [
        "def raw_kde(x_test, x_train, gamma=1):\n",
        "  sigma = (2*gamma)**(-1/2)\n",
        "  euclidean_distance = np.sum(((x_test-x_train))**2, axis=1)\n",
        "  exponential  = np.exp(-euclidean_distance/(2*sigma**2))\n",
        "  constant_outside = 1/(np.size(x_train) * (2*np.pi*sigma**2)**(x_train.shape[1]/2))\n",
        "  return constant_outside * np.sum(exponential)"
      ]
    },
    {
      "cell_type": "code",
      "execution_count": null,
      "metadata": {
        "id": "02BO1hskMP5G"
      },
      "outputs": [],
      "source": [
        "def raw_kde(x_test, x_train, gamma=1):\n",
        "  sigma = (2*gamma)**(-1/2)\n",
        "  euclidean_distance = np.sum(((x_test-x_train))**2, axis=1)\n",
        "  exponential  = np.exp(-euclidean_distance/(2*sigma**2))\n",
        "  constant_outside = 1/(np.size(x_train) * (2*np.pi*sigma**2)**(x_train.shape[1]/2))\n",
        "  return constant_outside * np.sum(exponential)"
      ]
    },
    {
      "cell_type": "code",
      "execution_count": null,
      "metadata": {
        "id": "B_6fum7rL9if"
      },
      "outputs": [],
      "source": [
        "# Given the eigenvalues this function return a Unitary gate which converts the |0> -> |psi_train>\n",
        "def create_U_train(x_train_param, seed=0):\n",
        "  np.random.seed(seed)\n",
        "  size_U = len(x_train_param)\n",
        "  U_train = np.zeros((size_U, size_U), dtype = np.complex128)\n",
        "  x_1 = x_train_param\n",
        "  U_train[:, 0] = x_1\n",
        "  for i in range(1, size_U):\n",
        "    x_i =  np.complex128(np.random.randn(size_U) + 1j*np.random.randn(size_U))\n",
        "    for j in range(0, i):\n",
        "      x_i -= x_i.dot(np.conjugate(U_train[:, j])) * U_train[:, j]\n",
        "    x_i = x_i/np.linalg.norm(x_i)\n",
        "    U_train[:, i] = x_i\n",
        "\n",
        "  return U_train"
      ]
    },
    {
      "cell_type": "code",
      "execution_count": null,
      "metadata": {
        "colab": {
          "base_uri": "https://localhost:8080/"
        },
        "id": "S6CzO6-h7flI",
        "outputId": "50b48c10-f6c8-4ebc-c135-612354987c7f"
      },
      "outputs": [
        {
          "output_type": "execute_result",
          "data": {
            "text/plain": [
              "(4.0, (14400,), (28000,))"
            ]
          },
          "metadata": {},
          "execution_count": 35
        }
      ],
      "source": [
        "raw_kde_probability = np.array([raw_kde(x_temp[np.newaxis,:], X_train, GAMMA) for x_temp in X_plot])\n",
        "raw_kde_probability_train = np.array([raw_kde(x_temp[np.newaxis,:], X_train, GAMMA) for x_temp in X_train])\n",
        "\n",
        "GAMMA, raw_kde_probability.shape, raw_kde_probability_train.shape"
      ]
    },
    {
      "cell_type": "code",
      "execution_count": null,
      "metadata": {
        "colab": {
          "base_uri": "https://localhost:8080/",
          "height": 635
        },
        "id": "OdF3N51SCtRI",
        "outputId": "01fcee36-bd92-4d05-b48a-e837ef1de93d"
      },
      "outputs": [
        {
          "output_type": "stream",
          "name": "stdout",
          "text": [
            "max probability: 0.01910650996598554\n",
            "min probability: 0.0\n",
            "log max probability: -3.9577261660854455\n",
            "log min probability: -inf\n"
          ]
        },
        {
          "output_type": "stream",
          "name": "stderr",
          "text": [
            "<ipython-input-36-7f9340654f3f>:15: RuntimeWarning: divide by zero encountered in log\n",
            "  print(\"log min probability:\", np.log(raw_kde_probability.min()))\n"
          ]
        },
        {
          "output_type": "display_data",
          "data": {
            "text/plain": [
              "<Figure size 700x600 with 2 Axes>"
            ],
            "image/png": "[encoded data removed]"
          },
          "metadata": {}
        }
      ],
      "source": [
        "params = {\n",
        "   'axes.labelsize': 12,\n",
        "   'legend.fontsize': 12,\n",
        "   'xtick.labelsize': 10,\n",
        "   'ytick.labelsize': 10,\n",
        "   'text.usetex': False,\n",
        "   'figure.figsize': [7.0, 6.0]\n",
        "   }\n",
        "plt.rcParams.update(params)\n",
        "\n",
        "print(\"max probability:\", raw_kde_probability.max())\n",
        "print(\"min probability:\",raw_kde_probability.min())\n",
        "\n",
        "print(\"log max probability:\", np.log(raw_kde_probability.max()))\n",
        "print(\"log min probability:\", np.log(raw_kde_probability.min()))\n",
        "\n",
        "plt.contourf(x, y, raw_kde_probability.reshape([120,120]))\n",
        "plt.colorbar()\n",
        "plt.savefig(\"spiralsdmkde.pdf\")"
      ]
    },
    {
      "cell_type": "markdown",
      "metadata": {
        "id": "ZcyA0xCWLkuW"
      },
      "source": [
        "# DMKDE Classical"
      ]
    },
    {
      "cell_type": "code",
      "execution_count": null,
      "metadata": {
        "id": "lE0ei981DglW"
      },
      "outputs": [],
      "source": [
        "import qmc.tf.layers as qmc_layers\n",
        "import qmc.tf.models as qmc_models"
      ]
    },
    {
      "cell_type": "code",
      "execution_count": null,
      "metadata": {
        "colab": {
          "base_uri": "https://localhost:8080/"
        },
        "id": "f5JghbfXBZwl",
        "outputId": "28000a5f-8fd4-421e-d511-0efc81c27e99"
      },
      "outputs": [
        {
          "output_type": "stream",
          "name": "stdout",
          "text": [
            "875/875 [==============================] - 2s 2ms/step\n",
            "450/450 [==============================] - 1s 2ms/step\n"
          ]
        },
        {
          "output_type": "stream",
          "name": "stderr",
          "text": [
            "WARNING:tensorflow:You are casting an input of type complex64 to an incompatible dtype float32.  This will discard the imaginary part and may not be what you intended.\n"
          ]
        },
        {
          "output_type": "stream",
          "name": "stdout",
          "text": [
            "875/875 [==============================] - 1s 2ms/step\n"
          ]
        },
        {
          "output_type": "stream",
          "name": "stderr",
          "text": [
            "WARNING:tensorflow:You are casting an input of type complex64 to an incompatible dtype float32.  This will discard the imaginary part and may not be what you intended.\n"
          ]
        }
      ],
      "source": [
        "type_ffs = \"qrff\"\n",
        "if type_ffs == \"rff\":\n",
        "  fm_x = qmc_layers.QFeatureMapRFF(DIM_X, dim=N_RFFS, gamma=GAMMA/2, random_state= RANDOM_STATE)\n",
        "  qmd = qmc_models.QMDensity(fm_x, N_RFFS)\n",
        "elif type_ffs == \"qrff\":\n",
        "  fm_x = qmc_layers.QFeatureMapComplexRFF(DIM_X, dim=N_RFFS, gamma=GAMMA/2, random_state= RANDOM_STATE)\n",
        "  qmd = qmc_models.ComplexQMDensity(fm_x, N_RFFS)\n",
        "qmd.compile()\n",
        "qmd.fit(X_train, epochs=1)\n",
        "predictions_classical = tf.cast(qmd.predict(X_plot), tf.float32).numpy()\n",
        "predictions_classical_train = tf.cast(qmd.predict(X_train), tf.float32).numpy()"
      ]
    },
    {
      "cell_type": "code",
      "execution_count": null,
      "metadata": {
        "colab": {
          "base_uri": "https://localhost:8080/",
          "height": 599
        },
        "id": "mcYMcCzEBZ14",
        "outputId": "dc10a876-7145-4403-b2a0-87ed60d7f08d"
      },
      "outputs": [
        {
          "output_type": "stream",
          "name": "stdout",
          "text": [
            "max probability: 0.05737777\n",
            "min probability: 0.023106221\n",
            "log max probability: -2.8580983\n",
            "log min probability: -3.7676535\n"
          ]
        },
        {
          "output_type": "display_data",
          "data": {
            "text/plain": [
              "<Figure size 700x600 with 2 Axes>"
            ],
            "image/png": "[encoded data removed]"
          },
          "metadata": {}
        }
      ],
      "source": [
        "params = {\n",
        "   'axes.labelsize': 12,\n",
        "   'legend.fontsize': 12,\n",
        "   'xtick.labelsize': 10,\n",
        "   'ytick.labelsize': 10,\n",
        "   'text.usetex': False,\n",
        "   'figure.figsize': [7.0, 6.0]\n",
        "   }\n",
        "plt.rcParams.update(params)\n",
        "\n",
        "print(\"max probability:\", predictions_classical.max())\n",
        "print(\"min probability:\", predictions_classical.min())\n",
        "\n",
        "print(\"log max probability:\", np.log(predictions_classical.max()))\n",
        "print(\"log min probability:\", np.log(predictions_classical.min()))\n",
        "\n",
        "plt.contourf(x, y, predictions_classical.reshape([120,120]))\n",
        "plt.colorbar()\n",
        "plt.savefig(\"spiralsdmkde.pdf\")"
      ]
    },
    {
      "cell_type": "markdown",
      "metadata": {
        "id": "GnkpZAhpaLLa"
      },
      "source": [
        "# VQ-KDE Mixed with QRFF\n"
      ]
    },
    {
      "cell_type": "code",
      "execution_count": null,
      "metadata": {
        "id": "vpBWAMjTaLLa"
      },
      "outputs": [],
      "source": [
        "import matplotlib.pyplot as plt"
      ]
    },
    {
      "cell_type": "code",
      "execution_count": null,
      "metadata": {
        "id": "W95w62TEaLLa"
      },
      "outputs": [],
      "source": [
        "### DMKDE mixed\n",
        "\n",
        "import tensorcircuit as tc\n",
        "from tensorcircuit import keras\n",
        "import tensorflow as tf\n",
        "\n",
        "from functools import partial\n",
        "import numpy as np\n",
        "import math as m\n",
        "from scipy.stats import entropy, spearmanr\n",
        "\n",
        "\n",
        "\n",
        "tc.set_backend(\"tensorflow\")\n",
        "tc.set_dtype(\"complex128\")\n",
        "\n",
        "pi = tf.constant(m.pi)\n",
        "\n",
        "\n",
        "class VQKDE_QRFF:\n",
        "    r\"\"\"\n",
        "    Defines the ready-to-use Density Matrix Kernel Density Estimation (DMKDE) model implemented\n",
        "    in TensorCircuit using the TensorFlow/Keras API. Any additional argument in the methods has to be Keras-compliant.\n",
        "\n",
        "    Args:\n",
        "        auto_compile: A boolean to autocompile the model using default settings. (Default True).\n",
        "        var_pure_state_size:\n",
        "        gamma:\n",
        "\n",
        "    Returns:\n",
        "        An instantiated model ready to train with ad-hoc data.\n",
        "\n",
        "    \"\"\"\n",
        "\n",
        "    def __init__(self, dim_x_param, auto_compile=True, var_pure_state_size=64, gamma=2., epochs=15):\n",
        "\n",
        "        self.circuit = None\n",
        "        self.gamma = gamma\n",
        "        self.dim_x = dim_x_param\n",
        "        self.var_pure_state_parameters_size = 2*var_pure_state_size - 2\n",
        "        self.epochs = epochs\n",
        "\n",
        "        layer = keras.QuantumLayer(\n",
        "            partial(self.layer),\n",
        "            [(self.var_pure_state_parameters_size,)]\n",
        "            )\n",
        "\n",
        "        self.model = tf.keras.Sequential([layer])\n",
        "\n",
        "        if auto_compile:\n",
        "            self.compile()\n",
        "\n",
        "\n",
        "    def layer(\n",
        "            self,\n",
        "            U_dagger,\n",
        "            var_pure_state_param,\n",
        "        ):\n",
        "        r\"\"\"\n",
        "        Defines a Density Matrix Kernel Density Estimation quantum layer for learning with fixed qaff (Meaning of qaff?). (This function was originally named dmkde_mixed_variational_density_estimation_fixed_qaff)\n",
        "\n",
        "        Args:\n",
        "            U_dagger:\n",
        "            var_pure_state_param:\n",
        "\n",
        "        Returns:\n",
        "            The probability of :math:`|000\\rangle` state for density estimation.\n",
        "        \"\"\"\n",
        "\n",
        "        n_rffs_temp = U_dagger.shape[1]\n",
        "        n_total_qubits_temp = int(np.log2((len(var_pure_state_param)+2)/2))\n",
        "        n_qrff_qubits_temp = int(np.log2(n_rffs_temp))\n",
        "\n",
        "        index_it = iter(np.arange(len(var_pure_state_param)))\n",
        "\n",
        "        # Instantiate a circuit with the calculated number of qubits.\n",
        "        self.circuit = tc.Circuit(n_total_qubits_temp)\n",
        "\n",
        "        def circuit_base_ry_n(qc_param, num_qubits_param, target_qubit_param):\n",
        "            if num_qubits_param == 1:\n",
        "                qc_param.ry(0, theta = var_pure_state_param[next(index_it)])\n",
        "            elif num_qubits_param == 2:\n",
        "                qc_param.ry(target_qubit_param, theta=var_pure_state_param[next(index_it)])\n",
        "                qc_param.cnot(0, target_qubit_param)\n",
        "                qc_param.ry(target_qubit_param, theta=var_pure_state_param[next(index_it)])\n",
        "                return\n",
        "            else:\n",
        "                circuit_base_ry_n(qc_param, num_qubits_param-1, target_qubit_param)\n",
        "                qc_param.cnot(num_qubits_param-2, target_qubit_param)\n",
        "                circuit_base_ry_n(qc_param, num_qubits_param-1, target_qubit_param)\n",
        "                target_qubit_param -= 1\n",
        "\n",
        "        def circuit_base_rz_n(qc_param, num_qubits_param, target_qubit_param):\n",
        "            if num_qubits_param == 1:\n",
        "                qc_param.rz(0, theta = var_pure_state_param[next(index_it)])\n",
        "            elif num_qubits_param == 2:\n",
        "                qc_param.rz(target_qubit_param, theta=var_pure_state_param[next(index_it)])\n",
        "                qc_param.cnot(0, target_qubit_param)\n",
        "                qc_param.rz(target_qubit_param, theta=var_pure_state_param[next(index_it)])\n",
        "                return\n",
        "            else:\n",
        "                circuit_base_rz_n(qc_param, num_qubits_param-1, target_qubit_param)\n",
        "                qc_param.cnot(num_qubits_param-2, target_qubit_param)\n",
        "                circuit_base_rz_n(qc_param, num_qubits_param-1, target_qubit_param)\n",
        "                target_qubit_param -= 1\n",
        "\n",
        "        # Learning pure state\n",
        "        for i in range(1, n_total_qubits_temp+1):\n",
        "            circuit_base_ry_n(self.circuit, i, i-1)\n",
        "\n",
        "        # Learning pure state complex phase\n",
        "        for j in range(1, n_total_qubits_temp+1):\n",
        "            circuit_base_rz_n(self.circuit, j, j-1)\n",
        "\n",
        "        # Value to predict\n",
        "        self.circuit.any(\n",
        "            *[n for n in range(n_qrff_qubits_temp)], unitary=U_dagger\n",
        "        )\n",
        "\n",
        "        # Trace out ancilla qubits, find probability of [000] state for density estimation\n",
        "        return (1./(self.epochs))*\\\n",
        "                tc.backend.real(\n",
        "                    tf.cast(self.gamma/pi, tf.complex128)*\\\n",
        "                    tc.quantum.reduced_density_matrix(\n",
        "                        self.circuit.state(),\n",
        "                        cut=[m for m in range(n_qrff_qubits_temp, n_total_qubits_temp)]\n",
        "                    )[0, 0]\n",
        "                )\n",
        "\n",
        "    def loss(self, x_pred, y_pred):\n",
        "        return -tf.reduce_sum(tf.math.log(y_pred))\n",
        "\n",
        "    def compile(\n",
        "            self,\n",
        "            optimizer=tf.keras.optimizers.legacy.Adam(0.0005),\n",
        "            **kwargs):\n",
        "        r\"\"\"\n",
        "        Method to compile the model.\n",
        "\n",
        "        Args:\n",
        "            optimizer:\n",
        "            **kwargs: Any additional argument.\n",
        "\n",
        "        Returns:\n",
        "            None.\n",
        "        \"\"\"\n",
        "        self.model.compile(\n",
        "            loss = self.loss,\n",
        "            optimizer=optimizer,\n",
        "            metrics=[tf.keras.metrics.KLDivergence()],\n",
        "            **kwargs\n",
        "        )\n",
        "\n",
        "    def fit(self, x_train, y_train, batch_size=16, **kwargs):\n",
        "        r\"\"\"\n",
        "        Method to fit (train) the model using the ad-hoc dataset.\n",
        "\n",
        "        Args:\n",
        "            x_train:\n",
        "            y_train:\n",
        "            batch_size:\n",
        "            epochs:\n",
        "            **kwargs: Any additional argument.\n",
        "\n",
        "        Returns:\n",
        "            None.\n",
        "        \"\"\"\n",
        "\n",
        "        self.model.fit(x_train, y_train, batch_size=batch_size, epochs=self.epochs, **kwargs)\n",
        "\n",
        "    def predict(self, x_test):\n",
        "        r\"\"\"\n",
        "        Method to make predictions with the trained model.\n",
        "\n",
        "        Args:\n",
        "            x_test:\n",
        "\n",
        "        Returns:\n",
        "            The predictions of the PDF of the input data.\n",
        "        \"\"\"\n",
        "\n",
        "        return (tf.math.pow((self.gamma/(pi)), self.dim_x/2)*\\\n",
        "                self.model.predict(x_test)).numpy()"
      ]
    },
    {
      "cell_type": "markdown",
      "metadata": {
        "id": "XLI3m5AxN6Z7"
      },
      "source": [
        "## VQ-KDE mixed with QRFF training"
      ]
    },
    {
      "cell_type": "code",
      "execution_count": null,
      "metadata": {
        "colab": {
          "base_uri": "https://localhost:8080/"
        },
        "id": "i2MyilziBZ7I",
        "outputId": "e4606e67-785d-4e16-9306-58176c1abf2d"
      },
      "outputs": [
        {
          "output_type": "execute_result",
          "data": {
            "text/plain": [
              "(-0.06322023, 0.9963657)"
            ]
          },
          "metadata": {},
          "execution_count": 42
        }
      ],
      "source": [
        "weights_ffs_temp = fm_x.rff_weights.numpy()/2. ## weights extracted from classical DMKDE\n",
        "\n",
        "weights_ffs_temp.mean(), weights_ffs_temp.std()"
      ]
    },
    {
      "cell_type": "code",
      "execution_count": null,
      "metadata": {
        "colab": {
          "base_uri": "https://localhost:8080/"
        },
        "id": "0YjK1ZZjLk83",
        "outputId": "e3f0b65d-105a-40e3-f871-76313ef01393"
      },
      "outputs": [
        {
          "output_type": "execute_result",
          "data": {
            "text/plain": [
              "((28000, 32), (14400, 32), (28000,))"
            ]
          },
          "metadata": {},
          "execution_count": 43
        }
      ],
      "source": [
        "def predict_features(X_param, var_param, gamma_param):\n",
        "  X_feat = np.ones((len(X_param), var_param.shape[1]), dtype = np.complex128)\n",
        "  X_feat[:, :] = np.cos(np.sqrt(gamma_param)*(X_param @ var_param)) - 1j*np.sin(np.sqrt(gamma_param)*(X_param @ var_param))\n",
        "  X_feat *= np.sqrt(1/(var_param.shape[1]))\n",
        "  return X_feat\n",
        "\n",
        "X_feat_train = predict_features(X_train, weights_ffs_temp, GAMMA)\n",
        "X_feat_test = predict_features(X_plot, weights_ffs_temp, GAMMA)\n",
        "y_expected =  raw_kde_probability_train\n",
        "\n",
        "X_feat_train.shape, X_feat_test.shape, y_expected.shape"
      ]
    },
    {
      "cell_type": "code",
      "execution_count": null,
      "metadata": {
        "colab": {
          "base_uri": "https://localhost:8080/"
        },
        "id": "06YGzzNML3Kf",
        "outputId": "8a54e6d7-6f8f-4f5f-bd5f-0d96571cab79"
      },
      "outputs": [
        {
          "output_type": "execute_result",
          "data": {
            "text/plain": [
              "((28000, 32, 32), (14400, 32, 32))"
            ]
          },
          "metadata": {},
          "execution_count": 44
        }
      ],
      "source": [
        "## Convert states to unitaries\n",
        "\n",
        "U_train_conjTrans = np.array([np.conjugate(create_U_train(X_feat_train[i]).T) for i in range(len(X_feat_train))])\n",
        "U_test_conjTrans = np.array([np.conjugate(create_U_train(X_feat_test[i]).T) for i in range(len(X_feat_test))])\n",
        "\n",
        "U_train_conjTrans.shape, U_test_conjTrans.shape"
      ]
    },
    {
      "cell_type": "code",
      "execution_count": null,
      "metadata": {
        "colab": {
          "base_uri": "https://localhost:8080/"
        },
        "id": "yqba7-2XMCbE",
        "outputId": "7dea9a71-7a7a-4220-b140-d072b67d0303"
      },
      "outputs": [
        {
          "output_type": "stream",
          "name": "stdout",
          "text": [
            "Epoch 1/15\n",
            "1750/1750 [==============================] - 206s 30ms/step - loss: 94.5820 - kullback_leibler_divergence: 0.1988\n",
            "Epoch 2/15\n",
            "1750/1750 [==============================] - 46s 26ms/step - loss: 93.1349 - kullback_leibler_divergence: 0.1856\n",
            "Epoch 3/15\n",
            "1750/1750 [==============================] - 52s 30ms/step - loss: 90.1712 - kullback_leibler_divergence: 0.1522\n",
            "Epoch 4/15\n",
            "1750/1750 [==============================] - 49s 28ms/step - loss: 85.7416 - kullback_leibler_divergence: 0.0958\n",
            "Epoch 5/15\n",
            "1750/1750 [==============================] - 48s 28ms/step - loss: 84.3565 - kullback_leibler_divergence: 0.0814\n",
            "Epoch 6/15\n",
            "1750/1750 [==============================] - 52s 30ms/step - loss: 84.2029 - kullback_leibler_divergence: 0.0805\n",
            "Epoch 7/15\n",
            "1750/1750 [==============================] - 46s 26ms/step - loss: 84.1632 - kullback_leibler_divergence: 0.0803\n",
            "Epoch 8/15\n",
            "1750/1750 [==============================] - 44s 25ms/step - loss: 84.0779 - kullback_leibler_divergence: 0.0795\n",
            "Epoch 9/15\n",
            "1750/1750 [==============================] - 45s 26ms/step - loss: 83.9468 - kullback_leibler_divergence: 0.0780\n",
            "Epoch 10/15\n",
            "1750/1750 [==============================] - 44s 25ms/step - loss: 83.8994 - kullback_leibler_divergence: 0.0774\n",
            "Epoch 11/15\n",
            "1750/1750 [==============================] - 44s 25ms/step - loss: 83.8801 - kullback_leibler_divergence: 0.0775\n",
            "Epoch 12/15\n",
            "1750/1750 [==============================] - 43s 25ms/step - loss: 83.8685 - kullback_leibler_divergence: 0.0775\n",
            "Epoch 13/15\n",
            "1750/1750 [==============================] - 44s 25ms/step - loss: 83.8650 - kullback_leibler_divergence: 0.0775\n",
            "Epoch 14/15\n",
            "1750/1750 [==============================] - 46s 26ms/step - loss: 83.8633 - kullback_leibler_divergence: 0.0776\n",
            "Epoch 15/15\n",
            "1750/1750 [==============================] - 44s 25ms/step - loss: 83.8562 - kullback_leibler_divergence: 0.0774\n"
          ]
        }
      ],
      "source": [
        "vc = VQKDE_QRFF(dim_x_param = DIM_X, var_pure_state_size=PS_SIZE, gamma=GAMMA, epochs = EPOCHS)\n",
        "\n",
        "vc.fit(U_train_conjTrans, y_expected, batch_size=16)"
      ]
    },
    {
      "cell_type": "code",
      "execution_count": null,
      "metadata": {
        "id": "OhKGbI7Xv4FS",
        "colab": {
          "base_uri": "https://localhost:8080/"
        },
        "outputId": "450163ef-1132-4fc5-c9ad-a0e534f5a659"
      },
      "outputs": [
        {
          "output_type": "stream",
          "name": "stdout",
          "text": [
            "450/450 [==============================] - 106s 15ms/step\n"
          ]
        },
        {
          "output_type": "execute_result",
          "data": {
            "text/plain": [
              "array([0.00230336, 0.0021587 , 0.00186695, ..., 0.00513   , 0.00458196,\n",
              "       0.0039065 ], dtype=float32)"
            ]
          },
          "metadata": {},
          "execution_count": 80
        }
      ],
      "source": [
        "predictions_quantum_dmkde_mixed = vc.predict(U_test_conjTrans)\n",
        "predictions_quantum_dmkde_mixed"
      ]
    },
    {
      "cell_type": "code",
      "execution_count": null,
      "metadata": {
        "id": "6q58s_Wbv4FU",
        "colab": {
          "base_uri": "https://localhost:8080/",
          "height": 528
        },
        "outputId": "30aa955a-774b-47ee-f1f7-c22b36af83a6"
      },
      "outputs": [
        {
          "output_type": "display_data",
          "data": {
            "text/plain": [
              "<Figure size 700x600 with 2 Axes>"
            ],
            "image/png": "[encoded data removed]"
          },
          "metadata": {}
        }
      ],
      "source": [
        "params = {\n",
        "   'axes.labelsize': 12,\n",
        "   'legend.fontsize': 12,\n",
        "   'xtick.labelsize': 10,\n",
        "   'ytick.labelsize': 10,\n",
        "   'text.usetex': False,\n",
        "   'figure.figsize': [7.0, 6.0]\n",
        "   }\n",
        "plt.rcParams.update(params)\n",
        "\n",
        "plt.contourf(x, y, predictions_quantum_dmkde_mixed.reshape([120,120]))\n",
        "plt.colorbar()\n",
        "plt.savefig(\"spiralsdmkde.pdf\")"
      ]
    },
    {
      "cell_type": "code",
      "execution_count": null,
      "metadata": {
        "id": "6bUUQSBQu965"
      },
      "outputs": [],
      "source": [
        "def evaluate_model(y_true_param, y_pred_param):\n",
        "\n",
        "  # Kl divergence\n",
        "  #kl_divergence_temp = tf.keras.metrics.kl_divergence(y_true_param, y_pred_param).numpy()\n",
        "  kl_divergence_temp = entropy(y_true_param, y_pred_param)\n",
        "\n",
        "  # Calculate the ranks of the density values\n",
        "  ranks1 = y_true_param.argsort().argsort()\n",
        "  ranks2 = y_pred_param.argsort().argsort()\n",
        "\n",
        "  # Calculate the Spearman correlation\n",
        "  spearman_corr_temp, _ = spearmanr(ranks1, ranks2)\n",
        "\n",
        "  # Calculate the absolute differences at each evaluation point\n",
        "  absolute_differences_temp = np.abs(y_true_param - y_pred_param)\n",
        "\n",
        "  # Average the absolute differences\n",
        "  average_error_temp = np.mean(absolute_differences_temp)\n",
        "\n",
        "  print(\"KL Divergence:\", kl_divergence_temp)\n",
        "  print(\"Spearman Correlation:\", spearman_corr_temp)\n",
        "  print(\"Mean Average Error:\", average_error_temp)"
      ]
    },
    {
      "cell_type": "code",
      "execution_count": null,
      "metadata": {
        "id": "5k85Cq4lwQDl",
        "colab": {
          "base_uri": "https://localhost:8080/"
        },
        "outputId": "d9d2d0a2-d44a-45cf-a0b4-34cbc90b4eaf"
      },
      "outputs": [
        {
          "output_type": "stream",
          "name": "stdout",
          "text": [
            "                                          \n",
            "------ KDE vs DMKDE mixed average --------\n",
            "                                          \n",
            "KL Divergence: 2.614001995560538\n",
            "Spearman Correlation: 0.20029738637456945\n",
            "Mean Average Error: 0.0310361285263212\n",
            "                                          \n",
            "------ KDE vs VQ-KDE QRFF ------------\n",
            "                                          \n",
            "KL Divergence: 2.2348853477722863\n",
            "Spearman Correlation: 0.04491297551719864\n",
            "Mean Average Error: 0.0031128889270579593\n",
            "                                          \n",
            "--DMKDE mixed average vs VQ-KDE QRFF--\n",
            "                                          \n",
            "KL Divergence: 0.17133142\n",
            "Spearman Correlation: 0.5300156667230052\n",
            "Mean Average Error: 0.0280397\n"
          ]
        }
      ],
      "source": [
        "print(\"                                          \")\n",
        "print(\"------ KDE vs DMKDE mixed average --------\")\n",
        "print(\"                                          \")\n",
        "evaluate_model(raw_kde_probability, predictions_classical)\n",
        "print(\"                                          \")\n",
        "print(\"------ KDE vs VQ-KDE QRFF ------------\")\n",
        "print(\"                                          \")\n",
        "evaluate_model(raw_kde_probability, predictions_quantum_dmkde_mixed)\n",
        "print(\"                                          \")\n",
        "print(\"--DMKDE mixed average vs VQ-KDE QRFF--\")\n",
        "print(\"                                          \")\n",
        "evaluate_model(predictions_classical, predictions_quantum_dmkde_mixed)"
      ]
    },
    {
      "cell_type": "markdown",
      "source": [
        "# VQ-KDC Mixed with QEFF\n",
        "\n",
        "This method uses QEFF, and normalizes the training with the number of epochs."
      ],
      "metadata": {
        "id": "kKO7W4NYaY1t"
      }
    },
    {
      "cell_type": "code",
      "source": [
        "### Variational DMKDE with QEFF\n",
        "\n",
        "import tensorcircuit as tc\n",
        "from tensorcircuit import keras\n",
        "import tensorflow as tf\n",
        "\n",
        "from functools import partial\n",
        "import numpy as np\n",
        "import math as m\n",
        "from scipy.stats import entropy, spearmanr\n",
        "\n",
        "\n",
        "\n",
        "tc.set_backend(\"tensorflow\")\n",
        "tc.set_dtype(\"complex128\")\n",
        "\n",
        "pi = tf.constant(m.pi)\n",
        "\n",
        "\n",
        "class VQKDE_QEFF:\n",
        "    r\"\"\"\n",
        "    Defines the ready-to-use Density Matrix Kernel Density Estimation (DMKDE) model implemented\n",
        "    in TensorCircuit using the TensorFlow/Keras API. Any additional argument in the methods has to be Keras-compliant.\n",
        "\n",
        "    Args:\n",
        "        auto_compile: A boolean to autocompile the model using default settings. (Default True).\n",
        "        var_pure_state_size:\n",
        "        gamma:\n",
        "\n",
        "    Returns:\n",
        "        An instantiated model ready to train with ad-hoc data.\n",
        "\n",
        "    \"\"\"\n",
        "\n",
        "    def __init__(self, num_ffs_param, dim_x_param, auto_compile=True, var_pure_state_size=64, gamma=2., epochs=15):\n",
        "\n",
        "        self.circuit = None\n",
        "        self.gamma = gamma\n",
        "        self.dim_x = dim_x_param\n",
        "        self.n_rffs = num_ffs_param\n",
        "        self.var_pure_state_parameters_size = 2*var_pure_state_size - 2\n",
        "        self.qeff_weights =  tf.random.normal((dim_x_param, int(num_ffs_param*2-2)), mean=0.0, stddev=1.0/np.sqrt(num_ffs_param-1), dtype=tf.dtypes.float64)\n",
        "        self.epochs = epochs\n",
        "\n",
        "        layer = keras.QuantumLayer(\n",
        "            partial(self.layer),\n",
        "            [(self.var_pure_state_parameters_size,)]\n",
        "            )\n",
        "\n",
        "        self.model = tf.keras.Sequential([layer])\n",
        "\n",
        "        if auto_compile:\n",
        "            self.compile()\n",
        "\n",
        "\n",
        "    def layer(\n",
        "            self,\n",
        "            x_sample_param,\n",
        "            var_pure_state_param,\n",
        "        ):\n",
        "        r\"\"\"\n",
        "        Defines a Density Matrix Kernel Density Estimation quantum layer for learning with fixed qaff (Meaning of qaff?). (This function was originally named dmkde_mixed_variational_density_estimation_fixed_qaff)\n",
        "\n",
        "        Args:\n",
        "            U_dagger:\n",
        "            var_pure_state_param:\n",
        "\n",
        "        Returns:\n",
        "            The probability of :math:`|000\\rangle` state for density estimation.\n",
        "        \"\"\"\n",
        "\n",
        "        n_total_qubits_temp = int(np.log2((len(var_pure_state_param)+2)/2))\n",
        "        n_qeff_qubits_temp = int(np.log2(self.n_rffs))\n",
        "\n",
        "        ### indices pure state\n",
        "        index_it = iter(np.arange(len(var_pure_state_param)))\n",
        "\n",
        "        ### indices qeff\n",
        "        index_iter_qeff = iter(np.arange(self.qeff_weights.shape[1]))\n",
        "\n",
        "        # Instantiate a circuit with the calculated number of qubits.\n",
        "        self.circuit = tc.Circuit(n_total_qubits_temp)\n",
        "\n",
        "        def circuit_base_ry_n(qc_param, num_qubits_param, target_qubit_param):\n",
        "            if num_qubits_param == 1:\n",
        "                qc_param.ry(0, theta = var_pure_state_param[next(index_it)])\n",
        "            elif num_qubits_param == 2:\n",
        "                qc_param.ry(target_qubit_param, theta=var_pure_state_param[next(index_it)])\n",
        "                qc_param.cnot(0, target_qubit_param)\n",
        "                qc_param.ry(target_qubit_param, theta=var_pure_state_param[next(index_it)])\n",
        "                return\n",
        "            else:\n",
        "                circuit_base_ry_n(qc_param, num_qubits_param-1, target_qubit_param)\n",
        "                qc_param.cnot(num_qubits_param-2, target_qubit_param)\n",
        "                circuit_base_ry_n(qc_param, num_qubits_param-1, target_qubit_param)\n",
        "                target_qubit_param -= 1\n",
        "\n",
        "        def circuit_base_rz_n(qc_param, num_qubits_param, target_qubit_param):\n",
        "            if num_qubits_param == 1:\n",
        "                qc_param.rz(0, theta = var_pure_state_param[next(index_it)])\n",
        "            elif num_qubits_param == 2:\n",
        "                qc_param.rz(target_qubit_param, theta=var_pure_state_param[next(index_it)])\n",
        "                qc_param.cnot(0, target_qubit_param)\n",
        "                qc_param.rz(target_qubit_param, theta=var_pure_state_param[next(index_it)])\n",
        "                return\n",
        "            else:\n",
        "                circuit_base_rz_n(qc_param, num_qubits_param-1, target_qubit_param)\n",
        "                qc_param.cnot(num_qubits_param-2, target_qubit_param)\n",
        "                circuit_base_rz_n(qc_param, num_qubits_param-1, target_qubit_param)\n",
        "                target_qubit_param -= 1\n",
        "\n",
        "        # Learning pure state\n",
        "        for i in range(1, n_total_qubits_temp+1):\n",
        "            circuit_base_ry_n(self.circuit, i, i-1)\n",
        "\n",
        "        # Learning pure state complex phase\n",
        "        for j in range(1, n_total_qubits_temp+1):\n",
        "            circuit_base_rz_n(self.circuit, j, j-1)\n",
        "\n",
        "        # Value to predict\n",
        "\n",
        "        x_sample_temp = tf.expand_dims(x_sample_param, axis=0)\n",
        "        phases_temp = tf.cast(tf.sqrt(self.gamma), tf.float64)*tf.linalg.matmul(tf.cast(x_sample_temp, tf.float64), self.qeff_weights)\n",
        "        init_qubit_qeff_temp = 0 # qubit at which the qaff mapping starts\n",
        "\n",
        "        def circuit_base_rz_qeff_n(qc_param, num_qubits_param, target_qubit_param, init_qubit_param):\n",
        "          if num_qubits_param == 1:\n",
        "            qc_param.rz(init_qubit_param, theta = phases_temp[0][next(index_iter_qeff)])\n",
        "            qc_param.X(init_qubit_param)\n",
        "            qc_param.rz(init_qubit_param, theta = phases_temp[0][next(index_iter_qeff)])\n",
        "          elif num_qubits_param == 2:\n",
        "            qc_param.rz(target_qubit_param + init_qubit_param, theta = phases_temp[0][next(index_iter_qeff)])\n",
        "            qc_param.X(target_qubit_param + init_qubit_param)\n",
        "            qc_param.rz(target_qubit_param + init_qubit_param, theta = phases_temp[0][next(index_iter_qeff)])\n",
        "            qc_param.cnot(init_qubit_param, target_qubit_param + init_qubit_param)\n",
        "            qc_param.rz(target_qubit_param + init_qubit_param, theta = phases_temp[0][next(index_iter_qeff)])\n",
        "            qc_param.X(target_qubit_param + init_qubit_param)\n",
        "            qc_param.rz(target_qubit_param + init_qubit_param, theta = phases_temp[0][next(index_iter_qeff)])\n",
        "            return\n",
        "          else:\n",
        "            circuit_base_rz_qeff_n(qc_param, num_qubits_param-1, target_qubit_param, init_qubit_param)\n",
        "            qc_param.cnot(num_qubits_param-2+init_qubit_param, target_qubit_param+init_qubit_param)\n",
        "            circuit_base_rz_qeff_n(qc_param, num_qubits_param-1, target_qubit_param, init_qubit_param)\n",
        "            target_qubit_param -= 1\n",
        "\n",
        "        # Applying the QEFF feature map\n",
        "\n",
        "        for i in range( n_qeff_qubits_temp - init_qubit_qeff_temp + 1 - 1, 1 - 1, -1):\n",
        "          circuit_base_rz_qeff_n(self.circuit, i, i - 1, init_qubit_qeff_temp)\n",
        "\n",
        "        for i in range(init_qubit_qeff_temp, n_qeff_qubits_temp):\n",
        "          self.circuit.H(i)\n",
        "\n",
        "        # Trace out ancilla qubits, find probability of [000] state for density estimation\n",
        "\n",
        "        return (1./(self.epochs))*\\\n",
        "                tc.backend.real(\n",
        "            tc.quantum.reduced_density_matrix(\n",
        "                self.circuit.state(),\n",
        "                cut=[m for m in range(n_qeff_qubits_temp, n_total_qubits_temp)]\n",
        "            )[0, 0]\n",
        "        )\n",
        "\n",
        "    def loss(self, y_train, y_pred):\n",
        "        return -tf.reduce_sum(tf.math.log(y_pred)) # this loss function works relatively well\n",
        "\n",
        "    def compile(\n",
        "            self,\n",
        "            optimizer=tf.keras.optimizers.legacy.Adam(0.0005), # originally 0.0005\n",
        "            **kwargs):\n",
        "        r\"\"\"\n",
        "        Method to compile the model.\n",
        "\n",
        "        Args:\n",
        "            optimizer:\n",
        "            **kwargs: Any additional argument.\n",
        "\n",
        "        Returns:\n",
        "            None.\n",
        "        \"\"\"\n",
        "        self.model.compile(\n",
        "            loss = self.loss,\n",
        "            optimizer=optimizer,\n",
        "            metrics=[tf.keras.metrics.KLDivergence()],\n",
        "            **kwargs\n",
        "        )\n",
        "\n",
        "    def fit(self, x_train, y_train, batch_size=16, **kwargs):\n",
        "        r\"\"\"\n",
        "        Method to fit (train) the model using the ad-hoc dataset.\n",
        "\n",
        "        Args:\n",
        "            x_train:\n",
        "            y_train:\n",
        "            batch_size:\n",
        "            epochs:\n",
        "            **kwargs: Any additional argument.\n",
        "\n",
        "        Returns:\n",
        "            None.\n",
        "        \"\"\"\n",
        "\n",
        "        self.model.fit(x_train, y_train, batch_size=batch_size, epochs=self.epochs, **kwargs)\n",
        "\n",
        "    def predict(self, x_test):\n",
        "        r\"\"\"\n",
        "        Method to make predictions with the trained model.\n",
        "\n",
        "        Args:\n",
        "            x_test:\n",
        "\n",
        "        Returns:\n",
        "            The predictions of the PDF of the input data.\n",
        "        \"\"\"\n",
        "        return (tf.math.pow((self.gamma/(pi)), self.dim_x/2)*\\\n",
        "            self.model.predict(x_test)).numpy()"
      ],
      "metadata": {
        "id": "XTqGWuRYaY1u"
      },
      "execution_count": null,
      "outputs": []
    },
    {
      "cell_type": "markdown",
      "metadata": {
        "id": "bHPXgX1Xbv5W"
      },
      "source": [
        "## VQ-KDC mixed with QEFF training"
      ]
    },
    {
      "cell_type": "code",
      "execution_count": null,
      "metadata": {
        "id": "tZ4_4NBhbv5W"
      },
      "outputs": [],
      "source": [
        "y_train_dmkde_classical =  raw_kde_probability_train"
      ]
    },
    {
      "cell_type": "code",
      "execution_count": null,
      "metadata": {
        "colab": {
          "base_uri": "https://localhost:8080/"
        },
        "outputId": "e58eb50b-71a9-44e1-9de3-625f778e57c0",
        "id": "lPAMbbyubv5X"
      },
      "outputs": [
        {
          "output_type": "stream",
          "name": "stdout",
          "text": [
            "Epoch 1/15\n",
            "1750/1750 [==============================] - 252s 34ms/step - loss: 92.7165 - kullback_leibler_divergence: 0.1681\n",
            "Epoch 2/15\n",
            "1750/1750 [==============================] - 57s 33ms/step - loss: 88.5794 - kullback_leibler_divergence: 0.1216\n",
            "Epoch 3/15\n",
            "1750/1750 [==============================] - 56s 32ms/step - loss: 85.4048 - kullback_leibler_divergence: 0.0860\n",
            "Epoch 4/15\n",
            "1750/1750 [==============================] - 56s 32ms/step - loss: 83.7724 - kullback_leibler_divergence: 0.0673\n",
            "Epoch 5/15\n",
            "1750/1750 [==============================] - 58s 33ms/step - loss: 83.3605 - kullback_leibler_divergence: 0.0615\n",
            "Epoch 6/15\n",
            "1750/1750 [==============================] - 59s 34ms/step - loss: 83.0819 - kullback_leibler_divergence: 0.0593\n",
            "Epoch 7/15\n",
            "1750/1750 [==============================] - 58s 33ms/step - loss: 82.3766 - kullback_leibler_divergence: 0.0506\n",
            "Epoch 8/15\n",
            "1750/1750 [==============================] - 57s 33ms/step - loss: 82.0415 - kullback_leibler_divergence: 0.0459\n",
            "Epoch 9/15\n",
            "1750/1750 [==============================] - 55s 32ms/step - loss: 82.0294 - kullback_leibler_divergence: 0.0457\n",
            "Epoch 10/15\n",
            "1750/1750 [==============================] - 54s 31ms/step - loss: 82.0170 - kullback_leibler_divergence: 0.0455\n",
            "Epoch 11/15\n",
            "1750/1750 [==============================] - 58s 33ms/step - loss: 81.9739 - kullback_leibler_divergence: 0.0448\n",
            "Epoch 12/15\n",
            "1750/1750 [==============================] - 57s 33ms/step - loss: 81.7727 - kullback_leibler_divergence: 0.0422\n",
            "Epoch 13/15\n",
            "1750/1750 [==============================] - 57s 33ms/step - loss: 81.7417 - kullback_leibler_divergence: 0.0420\n",
            "Epoch 14/15\n",
            "1750/1750 [==============================] - 54s 31ms/step - loss: 81.7216 - kullback_leibler_divergence: 0.0418\n",
            "Epoch 15/15\n",
            "1750/1750 [==============================] - 55s 31ms/step - loss: 81.5150 - kullback_leibler_divergence: 0.0411\n"
          ]
        }
      ],
      "source": [
        "vc = VQKDE_QEFF(num_ffs_param=N_RFFS, dim_x_param=DIM_X, var_pure_state_size=PS_SIZE, gamma=GAMMA, epochs = EPOCHS)\n",
        "\n",
        "vc.fit(X_train, raw_kde_probability_train, batch_size=16)"
      ]
    },
    {
      "cell_type": "code",
      "source": [
        "# vc.fit(X_train, raw_kde_probability_train, batch_size=16)"
      ],
      "metadata": {
        "id": "gzwUJtgQbv5X"
      },
      "execution_count": null,
      "outputs": []
    },
    {
      "cell_type": "code",
      "execution_count": null,
      "metadata": {
        "colab": {
          "base_uri": "https://localhost:8080/"
        },
        "outputId": "90b8a689-1bea-415c-9c57-f4bea6ee45e5",
        "id": "QK_UZlH_bv5X"
      },
      "outputs": [
        {
          "output_type": "stream",
          "name": "stdout",
          "text": [
            "450/450 [==============================] - 151s 23ms/step\n"
          ]
        },
        {
          "output_type": "execute_result",
          "data": {
            "text/plain": [
              "array([0.0003221 , 0.00034291, 0.00041043, ..., 0.00428399, 0.00462905,\n",
              "       0.00496675], dtype=float32)"
            ]
          },
          "metadata": {},
          "execution_count": 88
        }
      ],
      "source": [
        "predictions_quantum_dmkde_mixed = vc.predict(X_plot)\n",
        "predictions_quantum_dmkde_mixed"
      ]
    },
    {
      "cell_type": "code",
      "execution_count": null,
      "metadata": {
        "id": "UqQvO98lbv5Y",
        "colab": {
          "base_uri": "https://localhost:8080/",
          "height": 599
        },
        "outputId": "b1cccd96-0502-49eb-beec-90dd7ec5671a"
      },
      "outputs": [
        {
          "output_type": "stream",
          "name": "stdout",
          "text": [
            "max probability: 0.016666982\n",
            "min probability: 1.9842615e-05\n",
            "log max probability: -4.0943255\n",
            "log min probability: -10.827679\n"
          ]
        },
        {
          "output_type": "display_data",
          "data": {
            "text/plain": [
              "<Figure size 700x600 with 2 Axes>"
            ],
            "image/png": "[encoded data removed]"
          },
          "metadata": {}
        }
      ],
      "source": [
        "params = {\n",
        "   'axes.labelsize': 12,\n",
        "   'legend.fontsize': 12,\n",
        "   'xtick.labelsize': 10,\n",
        "   'ytick.labelsize': 10,\n",
        "   'text.usetex': False,\n",
        "   'figure.figsize': [7.0, 6.0]\n",
        "   }\n",
        "plt.rcParams.update(params)\n",
        "\n",
        "print(\"max probability:\", predictions_quantum_dmkde_mixed.max())\n",
        "print(\"min probability:\", predictions_quantum_dmkde_mixed.min())\n",
        "\n",
        "print(\"log max probability:\", np.log(predictions_quantum_dmkde_mixed.max()))\n",
        "print(\"log min probability:\", np.log(predictions_quantum_dmkde_mixed.min()))\n",
        "\n",
        "plt.contourf(x, y, predictions_quantum_dmkde_mixed.reshape([120,120]))\n",
        "plt.colorbar()\n",
        "plt.savefig(\"spiralsdmkde.pdf\")"
      ]
    },
    {
      "cell_type": "code",
      "execution_count": null,
      "metadata": {
        "id": "8fQwsjhXbv5Y"
      },
      "outputs": [],
      "source": [
        "def evaluate_model(y_true_param, y_pred_param):\n",
        "\n",
        "  # Kl divergence\n",
        "  #kl_divergence_temp = tf.keras.metrics.kl_divergence(y_true_param, y_pred_param).numpy()\n",
        "  kl_divergence_temp = entropy(y_true_param, y_pred_param)\n",
        "\n",
        "  # Calculate the ranks of the density values\n",
        "  ranks1 = y_true_param.argsort().argsort()\n",
        "  ranks2 = y_pred_param.argsort().argsort()\n",
        "\n",
        "  # Calculate the Spearman correlation\n",
        "  spearman_corr_temp, _ = spearmanr(ranks1, ranks2)\n",
        "\n",
        "  # Calculate the absolute differences at each evaluation point\n",
        "  absolute_differences_temp = np.abs(y_true_param - y_pred_param)\n",
        "\n",
        "  # Average the absolute differences\n",
        "  average_error_temp = np.mean(absolute_differences_temp)\n",
        "\n",
        "  print(\"KL Divergence:\", kl_divergence_temp)\n",
        "  print(\"Spearman Correlation:\", spearman_corr_temp)\n",
        "  print(\"Mean Average Error:\", average_error_temp)\n"
      ]
    },
    {
      "cell_type": "code",
      "execution_count": null,
      "metadata": {
        "colab": {
          "base_uri": "https://localhost:8080/"
        },
        "outputId": "6c54ecb0-be9e-4893-ac0b-3b327c041805",
        "id": "ZmvE0CPEbv5Y"
      },
      "outputs": [
        {
          "output_type": "stream",
          "name": "stdout",
          "text": [
            "                                          \n",
            "------ KDE vs DMKDE mixed average --------\n",
            "                                          \n",
            "KL Divergence: 2.614001995560538\n",
            "Spearman Correlation: 0.20029738637456945\n",
            "Mean Average Error: 0.0310361285263212\n",
            "                                          \n",
            "------ KDE vs VQ-KDC QEFF ------------\n",
            "                                          \n",
            "KL Divergence: 1.8312940828325734\n",
            "Spearman Correlation: 0.22838820063362367\n",
            "Mean Average Error: 0.0023208292037253065\n"
          ]
        }
      ],
      "source": [
        "print(\"                                          \")\n",
        "print(\"------ KDE vs DMKDE mixed average --------\")\n",
        "print(\"                                          \")\n",
        "evaluate_model(raw_kde_probability, predictions_classical)\n",
        "print(\"                                          \")\n",
        "print(\"------ KDE vs VQ-KDC QEFF ------------\")\n",
        "print(\"                                          \")\n",
        "evaluate_model(raw_kde_probability, predictions_quantum_dmkde_mixed)"
      ]
    },
    {
      "cell_type": "markdown",
      "metadata": {
        "id": "Z1X59OE7CVpE"
      },
      "source": [
        "# Constants HEA\n",
        "\n",
        "\n"
      ]
    },
    {
      "cell_type": "code",
      "execution_count": null,
      "metadata": {
        "colab": {
          "base_uri": "https://localhost:8080/"
        },
        "id": "NWELuxMlCVpL",
        "outputId": "fe022ec6-15e9-4ead-dbfe-f8efa96b7fd2"
      },
      "outputs": [
        {
          "output_type": "stream",
          "name": "stdout",
          "text": [
            "7 56\n"
          ]
        }
      ],
      "source": [
        "GAMMA_DICT = {\"Binomial\": 2., \"Potential 1\": 4., \"Potential 2\": 16., \"Arc\": 4., \"Star\": 16.}\n",
        "GAMMA = GAMMA_DICT[\"Arc\"] ## change GAMMA accordingly\n",
        "DIM_X = X_train.shape[1]\n",
        "EPOCHS = 15 ## set 15 for the final experiments\n",
        "N_RFFS = 32 ## set 64 for the final experiments\n",
        "RANDOM_STATE = 15\n",
        "NUM_LAYERS_HEA = 3 ## set 3 for the final experiments\n",
        "NUM_ANCILLA_QUBITS = 2 ## set 2 for the final experiments\n",
        "NUM_TOTAL_QUBITS = int(np.ceil(np.log2(N_RFFS)) + NUM_ANCILLA_QUBITS)\n",
        "HEA_ANSATZ_SIZE = int(NUM_TOTAL_QUBITS*(NUM_LAYERS_HEA+1)*2)\n",
        "\n",
        "print(NUM_TOTAL_QUBITS, HEA_ANSATZ_SIZE)"
      ]
    },
    {
      "cell_type": "markdown",
      "source": [],
      "metadata": {
        "id": "otp5vl55zHZW"
      }
    },
    {
      "cell_type": "markdown",
      "metadata": {
        "id": "UdZObR3nAfvC"
      },
      "source": [
        "# VQ-KDE Mixed with QRFF with HEA\n"
      ]
    },
    {
      "cell_type": "code",
      "execution_count": null,
      "metadata": {
        "id": "T7N1aQAyAfvD"
      },
      "outputs": [],
      "source": [
        "import matplotlib.pyplot as plt"
      ]
    },
    {
      "cell_type": "code",
      "execution_count": null,
      "metadata": {
        "id": "noscYEZaAfvD"
      },
      "outputs": [],
      "source": [
        "### DMKDE mixed\n",
        "\n",
        "import tensorcircuit as tc\n",
        "from tensorcircuit import keras\n",
        "import tensorflow as tf\n",
        "\n",
        "from functools import partial\n",
        "import numpy as np\n",
        "import math as m\n",
        "from scipy.stats import entropy, spearmanr\n",
        "\n",
        "\n",
        "\n",
        "tc.set_backend(\"tensorflow\")\n",
        "tc.set_dtype(\"complex128\")\n",
        "\n",
        "pi = tf.constant(m.pi)\n",
        "\n",
        "\n",
        "class VQKDE_QRFF_HEA:\n",
        "    r\"\"\"\n",
        "    Defines the ready-to-use Density Matrix Kernel Density Estimation (DMKDE) model implemented\n",
        "    in TensorCircuit using the TensorFlow/Keras API. Any additional argument in the methods has to be Keras-compliant.\n",
        "\n",
        "    Args:\n",
        "        auto_compile: A boolean to autocompile the model using default settings. (Default True).\n",
        "        var_pure_state_size:\n",
        "        gamma:\n",
        "\n",
        "    Returns:\n",
        "        An instantiated model ready to train with ad-hoc data.\n",
        "\n",
        "    \"\"\"\n",
        "\n",
        "    def __init__(self, dim_x_param, auto_compile=True, var_hea_ansatz_size_param=64, num_layers_hea_param = 3, gamma=2., epochs=15):\n",
        "\n",
        "        self.circuit = None\n",
        "        self.gamma = gamma\n",
        "        self.dim_x = dim_x_param\n",
        "        self.num_layers_hea = num_layers_hea_param\n",
        "        self.var_hea_ansatz_size = var_hea_ansatz_size_param\n",
        "        self.epochs = epochs\n",
        "\n",
        "        layer = keras.QuantumLayer(\n",
        "            partial(self.layer),\n",
        "            [(self.var_hea_ansatz_size,)]\n",
        "            )\n",
        "\n",
        "        self.model = tf.keras.Sequential([layer])\n",
        "\n",
        "        if auto_compile:\n",
        "            self.compile()\n",
        "\n",
        "\n",
        "    def layer(\n",
        "            self,\n",
        "            U_dagger,\n",
        "            var_hea_ansatz_param,\n",
        "        ):\n",
        "        r\"\"\"\n",
        "        Defines a Density Matrix Kernel Density Estimation quantum layer for learning with fixed qaff (Meaning of qaff?). (This function was originally named dmkde_mixed_variational_density_estimation_fixed_qaff)\n",
        "\n",
        "        Args:\n",
        "            U_dagger:\n",
        "            var_pure_state_param:\n",
        "\n",
        "        Returns:\n",
        "            The probability of :math:`|000\\rangle` state for density estimation.\n",
        "        \"\"\"\n",
        "\n",
        "        n_rffs_temp = U_dagger.shape[1]\n",
        "        n_total_qubits_temp = int(self.var_hea_ansatz_size/((self.num_layers_hea+1)*2))\n",
        "        n_qrff_qubits_temp = int(np.log2(n_rffs_temp))\n",
        "\n",
        "        index_iter_hea  = iter(np.arange(len(var_hea_ansatz_param)))\n",
        "\n",
        "        # Instantiate a circuit with the calculated number of qubits.\n",
        "        self.circuit = tc.Circuit(n_total_qubits_temp)\n",
        "\n",
        "        def hea_ansatz(qc_param, num_qubits_param, num_layers_param):\n",
        "        # encoding\n",
        "          for i in range (0, num_qubits_param):\n",
        "            qc_param.ry(i, theta = var_hea_ansatz_param[next(index_iter_hea)])\n",
        "            qc_param.rz(i, theta = var_hea_ansatz_param[next(index_iter_hea)])\n",
        "        # layers\n",
        "          for j in range(num_layers_param):\n",
        "            for i in range (0, num_qubits_param-1):\n",
        "              qc_param.CNOT(i, i+1)\n",
        "\n",
        "            for i in range (0, num_qubits_param):\n",
        "              qc_param.ry(i, theta= var_hea_ansatz_param[next(index_iter_hea)])\n",
        "              qc_param.rz(i, theta= var_hea_ansatz_param[next(index_iter_hea)])\n",
        "\n",
        "        ## learning pure state with HEA\n",
        "\n",
        "        hea_ansatz(self.circuit, n_total_qubits_temp, self.num_layers_hea)\n",
        "\n",
        "        # Value to predict\n",
        "        self.circuit.any(\n",
        "            *[n for n in range(n_qrff_qubits_temp)], unitary=U_dagger\n",
        "        )\n",
        "\n",
        "        # Trace out ancilla qubits, find probability of [000] state for density estimation\n",
        "        return (1./(self.epochs))*\\\n",
        "                tc.backend.real(\n",
        "                    tf.cast(self.gamma/pi, tf.complex128)*\\\n",
        "                    tc.quantum.reduced_density_matrix(\n",
        "                        self.circuit.state(),\n",
        "                        cut=[m for m in range(n_qrff_qubits_temp, n_total_qubits_temp)]\n",
        "                    )[0, 0]\n",
        "                )\n",
        "\n",
        "    def loss(self, x_pred, y_pred):\n",
        "        return -tf.reduce_sum(tf.math.log(y_pred))\n",
        "\n",
        "    def compile(\n",
        "            self,\n",
        "            optimizer=tf.keras.optimizers.legacy.Adam(0.0005),\n",
        "            **kwargs):\n",
        "        r\"\"\"\n",
        "        Method to compile the model.\n",
        "\n",
        "        Args:\n",
        "            optimizer:\n",
        "            **kwargs: Any additional argument.\n",
        "\n",
        "        Returns:\n",
        "            None.\n",
        "        \"\"\"\n",
        "        self.model.compile(\n",
        "            loss = self.loss,\n",
        "            optimizer=optimizer,\n",
        "            metrics=[tf.keras.metrics.KLDivergence()],\n",
        "            **kwargs\n",
        "        )\n",
        "\n",
        "    def fit(self, x_train, y_train, batch_size=16, **kwargs):\n",
        "        r\"\"\"\n",
        "        Method to fit (train) the model using the ad-hoc dataset.\n",
        "\n",
        "        Args:\n",
        "            x_train:\n",
        "            y_train:\n",
        "            batch_size:\n",
        "            epochs:\n",
        "            **kwargs: Any additional argument.\n",
        "\n",
        "        Returns:\n",
        "            None.\n",
        "        \"\"\"\n",
        "\n",
        "        self.model.fit(x_train, y_train, batch_size=batch_size, epochs=self.epochs, **kwargs)\n",
        "\n",
        "    def predict(self, x_test):\n",
        "        r\"\"\"\n",
        "        Method to make predictions with the trained model.\n",
        "\n",
        "        Args:\n",
        "            x_test:\n",
        "\n",
        "        Returns:\n",
        "            The predictions of the PDF of the input data.\n",
        "        \"\"\"\n",
        "\n",
        "        return (tf.math.pow((self.gamma/(pi)), self.dim_x/2)*\\\n",
        "                self.model.predict(x_test)).numpy()"
      ]
    },
    {
      "cell_type": "markdown",
      "metadata": {
        "id": "cMQFQzkvAfvD"
      },
      "source": [
        "## VQ-KDE mixed with QRFF with HEA training"
      ]
    },
    {
      "cell_type": "code",
      "execution_count": null,
      "metadata": {
        "colab": {
          "base_uri": "https://localhost:8080/"
        },
        "outputId": "bb574ba6-3702-4430-d844-43011695ecb5",
        "id": "i5jaIfakAfvD"
      },
      "outputs": [
        {
          "output_type": "execute_result",
          "data": {
            "text/plain": [
              "(-0.06322023, 0.9963657)"
            ]
          },
          "metadata": {},
          "execution_count": 61
        }
      ],
      "source": [
        "weights_ffs_temp = fm_x.rff_weights.numpy()/2. ## weights extracted from classical DMKDE\n",
        "\n",
        "weights_ffs_temp.mean(), weights_ffs_temp.std()"
      ]
    },
    {
      "cell_type": "code",
      "execution_count": null,
      "metadata": {
        "colab": {
          "base_uri": "https://localhost:8080/"
        },
        "outputId": "c86e9b1f-6ad8-4c57-a892-0cb87ca0c18f",
        "id": "M48_C80dAfvE"
      },
      "outputs": [
        {
          "output_type": "execute_result",
          "data": {
            "text/plain": [
              "((28000, 32), (14400, 32), (28000,))"
            ]
          },
          "metadata": {},
          "execution_count": 62
        }
      ],
      "source": [
        "def predict_features(X_param, var_param, gamma_param):\n",
        "  X_feat = np.ones((len(X_param), var_param.shape[1]), dtype = np.complex128)\n",
        "  X_feat[:, :] = np.cos(np.sqrt(gamma_param)*(X_param @ var_param)) - 1j*np.sin(np.sqrt(gamma_param)*(X_param @ var_param))\n",
        "  X_feat *= np.sqrt(1/(var_param.shape[1]))\n",
        "  return X_feat\n",
        "\n",
        "X_feat_train = predict_features(X_train, weights_ffs_temp, GAMMA)\n",
        "X_feat_test = predict_features(X_plot, weights_ffs_temp, GAMMA)\n",
        "y_expected =  raw_kde_probability_train\n",
        "\n",
        "X_feat_train.shape, X_feat_test.shape, y_expected.shape"
      ]
    },
    {
      "cell_type": "code",
      "execution_count": null,
      "metadata": {
        "colab": {
          "base_uri": "https://localhost:8080/"
        },
        "outputId": "96ae01b5-a83a-4c2c-ad40-adbde177406c",
        "id": "eQMo2cc0AfvE"
      },
      "outputs": [
        {
          "output_type": "execute_result",
          "data": {
            "text/plain": [
              "((28000, 32, 32), (14400, 32, 32))"
            ]
          },
          "metadata": {},
          "execution_count": 63
        }
      ],
      "source": [
        "## Convert states to unitaries\n",
        "\n",
        "U_train_conjTrans = np.array([np.conjugate(create_U_train(X_feat_train[i]).T) for i in range(len(X_feat_train))])\n",
        "U_test_conjTrans = np.array([np.conjugate(create_U_train(X_feat_test[i]).T) for i in range(len(X_feat_test))])\n",
        "\n",
        "U_train_conjTrans.shape, U_test_conjTrans.shape"
      ]
    },
    {
      "cell_type": "code",
      "execution_count": null,
      "metadata": {
        "colab": {
          "base_uri": "https://localhost:8080/"
        },
        "outputId": "760fab9a-5c82-456c-a3b2-22ae08949b00",
        "id": "GsfasskGAfvE"
      },
      "outputs": [
        {
          "output_type": "stream",
          "name": "stdout",
          "text": [
            "Epoch 1/15\n",
            "1750/1750 [==============================] - 66s 27ms/step - loss: 92.8377 - kullback_leibler_divergence: 0.1814\n",
            "Epoch 2/15\n",
            "1750/1750 [==============================] - 46s 26ms/step - loss: 87.4854 - kullback_leibler_divergence: 0.1190\n",
            "Epoch 3/15\n",
            "1750/1750 [==============================] - 47s 27ms/step - loss: 86.4089 - kullback_leibler_divergence: 0.1022\n",
            "Epoch 4/15\n",
            "1750/1750 [==============================] - 46s 26ms/step - loss: 86.2694 - kullback_leibler_divergence: 0.0998\n",
            "Epoch 5/15\n",
            "1750/1750 [==============================] - 50s 29ms/step - loss: 86.1771 - kullback_leibler_divergence: 0.0982\n",
            "Epoch 6/15\n",
            "1750/1750 [==============================] - 49s 28ms/step - loss: 86.0526 - kullback_leibler_divergence: 0.0960\n",
            "Epoch 7/15\n",
            "1750/1750 [==============================] - 48s 28ms/step - loss: 85.8476 - kullback_leibler_divergence: 0.0929\n",
            "Epoch 8/15\n",
            "1750/1750 [==============================] - 49s 28ms/step - loss: 85.5519 - kullback_leibler_divergence: 0.0892\n",
            "Epoch 9/15\n",
            "1750/1750 [==============================] - 51s 29ms/step - loss: 85.2893 - kullback_leibler_divergence: 0.0861\n",
            "Epoch 10/15\n",
            "1750/1750 [==============================] - 51s 29ms/step - loss: 85.1436 - kullback_leibler_divergence: 0.0846\n",
            "Epoch 11/15\n",
            "1750/1750 [==============================] - 49s 28ms/step - loss: 85.0500 - kullback_leibler_divergence: 0.0832\n",
            "Epoch 12/15\n",
            "1750/1750 [==============================] - 49s 28ms/step - loss: 84.9683 - kullback_leibler_divergence: 0.0817\n",
            "Epoch 13/15\n",
            "1750/1750 [==============================] - 49s 28ms/step - loss: 84.8721 - kullback_leibler_divergence: 0.0802\n",
            "Epoch 14/15\n",
            "1750/1750 [==============================] - 49s 28ms/step - loss: 84.7609 - kullback_leibler_divergence: 0.0781\n",
            "Epoch 15/15\n",
            "1750/1750 [==============================] - 50s 29ms/step - loss: 84.6570 - kullback_leibler_divergence: 0.0760\n"
          ]
        }
      ],
      "source": [
        "vc = VQKDE_QRFF_HEA(dim_x_param = DIM_X, var_hea_ansatz_size_param = HEA_ANSATZ_SIZE, num_layers_hea_param = NUM_LAYERS_HEA, gamma=GAMMA, epochs = EPOCHS)\n",
        "\n",
        "vc.fit(U_train_conjTrans, y_expected, batch_size=16)"
      ]
    },
    {
      "cell_type": "code",
      "execution_count": null,
      "metadata": {
        "colab": {
          "base_uri": "https://localhost:8080/"
        },
        "outputId": "1850d928-dc5e-45e4-e100-9cc58793ebbf",
        "id": "rNKJXr6pAfvE"
      },
      "outputs": [
        {
          "output_type": "stream",
          "name": "stdout",
          "text": [
            "450/450 [==============================] - 23s 25ms/step\n"
          ]
        },
        {
          "output_type": "execute_result",
          "data": {
            "text/plain": [
              "array([0.00602642, 0.00740729, 0.00775068, ..., 0.00630156, 0.00626055,\n",
              "       0.00689509], dtype=float32)"
            ]
          },
          "metadata": {},
          "execution_count": 96
        }
      ],
      "source": [
        "predictions_quantum_dmkde_mixed = vc.predict(U_test_conjTrans)\n",
        "predictions_quantum_dmkde_mixed"
      ]
    },
    {
      "cell_type": "code",
      "execution_count": null,
      "metadata": {
        "colab": {
          "base_uri": "https://localhost:8080/",
          "height": 528
        },
        "outputId": "9e6f4dc9-2892-472a-eae8-a46aeb3ae8ab",
        "id": "7Yn5RJgVAfvE"
      },
      "outputs": [
        {
          "output_type": "display_data",
          "data": {
            "text/plain": [
              "<Figure size 700x600 with 2 Axes>"
            ],
            "image/png": "[encoded data removed]"
          },
          "metadata": {}
        }
      ],
      "source": [
        "params = {\n",
        "   'axes.labelsize': 12,\n",
        "   'legend.fontsize': 12,\n",
        "   'xtick.labelsize': 10,\n",
        "   'ytick.labelsize': 10,\n",
        "   'text.usetex': False,\n",
        "   'figure.figsize': [7.0, 6.0]\n",
        "   }\n",
        "plt.rcParams.update(params)\n",
        "\n",
        "plt.contourf(x, y, predictions_quantum_dmkde_mixed.reshape([120,120]))\n",
        "plt.colorbar()\n",
        "plt.savefig(\"spiralsdmkde.pdf\")"
      ]
    },
    {
      "cell_type": "code",
      "execution_count": null,
      "metadata": {
        "id": "WXZ4R6LnAfvE"
      },
      "outputs": [],
      "source": [
        "def evaluate_model(y_true_param, y_pred_param):\n",
        "\n",
        "  # Kl divergence\n",
        "  #kl_divergence_temp = tf.keras.metrics.kl_divergence(y_true_param, y_pred_param).numpy()\n",
        "  kl_divergence_temp = entropy(y_true_param, y_pred_param)\n",
        "\n",
        "  # Calculate the ranks of the density values\n",
        "  ranks1 = y_true_param.argsort().argsort()\n",
        "  ranks2 = y_pred_param.argsort().argsort()\n",
        "\n",
        "  # Calculate the Spearman correlation\n",
        "  spearman_corr_temp, _ = spearmanr(ranks1, ranks2)\n",
        "\n",
        "  # Calculate the absolute differences at each evaluation point\n",
        "  absolute_differences_temp = np.abs(y_true_param - y_pred_param)\n",
        "\n",
        "  # Average the absolute differences\n",
        "  average_error_temp = np.mean(absolute_differences_temp)\n",
        "\n",
        "  print(\"KL Divergence:\", kl_divergence_temp)\n",
        "  print(\"Spearman Correlation:\", spearman_corr_temp)\n",
        "  print(\"Mean Average Error:\", average_error_temp)"
      ]
    },
    {
      "cell_type": "code",
      "execution_count": null,
      "metadata": {
        "colab": {
          "base_uri": "https://localhost:8080/"
        },
        "outputId": "9e444434-d235-4bc7-b832-a4170ba24e43",
        "id": "oaHiN5AJAfvE"
      },
      "outputs": [
        {
          "output_type": "stream",
          "name": "stdout",
          "text": [
            "                                          \n",
            "------ KDE vs DMKDE mixed average --------\n",
            "                                          \n",
            "KL Divergence: 2.614001995560538\n",
            "Spearman Correlation: 0.20029738637456945\n",
            "Mean Average Error: 0.0310361285263212\n",
            "                                          \n",
            "------ KDE vs VQ-KDE QRFF with HEA ------------\n",
            "                                          \n",
            "KL Divergence: 2.354499290800416\n",
            "Spearman Correlation: 0.0003574261486822892\n",
            "Mean Average Error: 0.003494438633035544\n",
            "                                          \n",
            "--DMKDE mixed average vs VQ-KDE QRFF with HEA--\n",
            "                                          \n",
            "KL Divergence: 0.3119029\n",
            "Spearman Correlation: 0.441655363433909\n",
            "Mean Average Error: 0.027668828\n"
          ]
        }
      ],
      "source": [
        "print(\"                                          \")\n",
        "print(\"------ KDE vs DMKDE mixed average --------\")\n",
        "print(\"                                          \")\n",
        "evaluate_model(raw_kde_probability, predictions_classical)\n",
        "print(\"                                          \")\n",
        "print(\"------ KDE vs VQ-KDE QRFF with HEA ------------\")\n",
        "print(\"                                          \")\n",
        "evaluate_model(raw_kde_probability, predictions_quantum_dmkde_mixed)\n",
        "print(\"                                          \")\n",
        "print(\"--DMKDE mixed average vs VQ-KDE QRFF with HEA--\")\n",
        "print(\"                                          \")\n",
        "evaluate_model(predictions_classical, predictions_quantum_dmkde_mixed)"
      ]
    },
    {
      "cell_type": "markdown",
      "source": [
        "# VQ-KDC Mixed with QEFF with HEA\n",
        "\n",
        "This method uses QEFF, and normalizes the training with the number of epochs."
      ],
      "metadata": {
        "id": "3ZtQ2woSFKPA"
      }
    },
    {
      "cell_type": "code",
      "source": [
        "### Variational DMKDE with QEFF\n",
        "\n",
        "import tensorcircuit as tc\n",
        "from tensorcircuit import keras\n",
        "import tensorflow as tf\n",
        "\n",
        "from functools import partial\n",
        "import numpy as np\n",
        "import math as m\n",
        "from scipy.stats import entropy, spearmanr\n",
        "\n",
        "tc.set_backend(\"tensorflow\")\n",
        "tc.set_dtype(\"complex128\")\n",
        "\n",
        "pi = tf.constant(m.pi)\n",
        "\n",
        "class VQKDE_QEFF_HEA:\n",
        "    r\"\"\"\n",
        "    Defines the ready-to-use Density Matrix Kernel Density Estimation (DMKDE) model implemented\n",
        "    in TensorCircuit using the TensorFlow/Keras API. Any additional argument in the methods has to be Keras-compliant.\n",
        "\n",
        "    Args:\n",
        "        auto_compile: A boolean to autocompile the model using default settings. (Default True).\n",
        "        var_pure_state_size:\n",
        "        gamma:\n",
        "\n",
        "    Returns:\n",
        "        An instantiated model ready to train with ad-hoc data.\n",
        "\n",
        "    \"\"\"\n",
        "\n",
        "    def __init__(self, num_ffs_param, dim_x_param, auto_compile=True, var_hea_ansatz_size_param=64, num_layers_hea_param = 3, gamma=2., epochs=15):\n",
        "\n",
        "        self.circuit = None\n",
        "        self.gamma = gamma\n",
        "        self.dim_x = dim_x_param\n",
        "        self.n_rffs = num_ffs_param\n",
        "        self.num_layers_hea = num_layers_hea_param\n",
        "        self.var_hea_ansatz_size = var_hea_ansatz_size_param\n",
        "        self.qeff_weights =  tf.random.normal((dim_x_param, int(num_ffs_param*2-2)), mean=0.0, stddev=1.0/np.sqrt(num_ffs_param-1), dtype=tf.dtypes.float64)\n",
        "        self.epochs = epochs\n",
        "\n",
        "        layer = keras.QuantumLayer(\n",
        "            partial(self.layer),\n",
        "            [(self.var_hea_ansatz_size,)]\n",
        "            )\n",
        "\n",
        "        self.model = tf.keras.Sequential([layer])\n",
        "\n",
        "        if auto_compile:\n",
        "            self.compile()\n",
        "\n",
        "\n",
        "    def layer(\n",
        "            self,\n",
        "            x_sample_param,\n",
        "            var_hea_ansatz_param,\n",
        "        ):\n",
        "        r\"\"\"\n",
        "        Defines a Density Matrix Kernel Density Estimation quantum layer for learning with fixed qaff (Meaning of qaff?). (This function was originally named dmkde_mixed_variational_density_estimation_fixed_qaff)\n",
        "\n",
        "        Args:\n",
        "            U_dagger:\n",
        "            var_pure_state_param:\n",
        "\n",
        "        Returns:\n",
        "            The probability of :math:`|000\\rangle` state for density estimation.\n",
        "        \"\"\"\n",
        "\n",
        "        n_total_qubits_temp = int(self.var_hea_ansatz_size/((self.num_layers_hea+1)*2))\n",
        "        n_qeff_qubits_temp = int(np.log2(self.n_rffs))\n",
        "\n",
        "        ### indices pure state\n",
        "        index_iter_hea  = iter(np.arange(len(var_hea_ansatz_param)))\n",
        "\n",
        "        ### indices qeff\n",
        "        index_iter_qeff = iter(np.arange(self.qeff_weights.shape[1]))\n",
        "\n",
        "        # Instantiate a circuit with the calculated number of qubits.\n",
        "        self.circuit = tc.Circuit(n_total_qubits_temp)\n",
        "\n",
        "        def hea_ansatz(qc_param, num_qubits_param, num_layers_param):\n",
        "        # encoding\n",
        "          for i in range (0, num_qubits_param):\n",
        "            qc_param.ry(i, theta = var_hea_ansatz_param[next(index_iter_hea)])\n",
        "            qc_param.rz(i, theta = var_hea_ansatz_param[next(index_iter_hea)])\n",
        "        # layers\n",
        "          for j in range(num_layers_param):\n",
        "            for i in range (0, num_qubits_param-1):\n",
        "              qc_param.CNOT(i, i+1)\n",
        "\n",
        "            for i in range (0, num_qubits_param):\n",
        "              qc_param.ry(i, theta= var_hea_ansatz_param[next(index_iter_hea)])\n",
        "              qc_param.rz(i, theta= var_hea_ansatz_param[next(index_iter_hea)])\n",
        "\n",
        "        ## learning pure state with HEA\n",
        "\n",
        "        hea_ansatz(self.circuit, n_total_qubits_temp, self.num_layers_hea)\n",
        "\n",
        "        # Value to predict\n",
        "\n",
        "        x_sample_temp = tf.expand_dims(x_sample_param, axis=0)\n",
        "        phases_temp = tf.cast(tf.sqrt(self.gamma), tf.float64)*tf.linalg.matmul(tf.cast(x_sample_temp, tf.float64), self.qeff_weights)\n",
        "        init_qubit_qeff_temp = 0 # qubit at which the qaff mapping starts\n",
        "\n",
        "        def circuit_base_rz_qeff_n(qc_param, num_qubits_param, target_qubit_param, init_qubit_param):\n",
        "          if num_qubits_param == 1:\n",
        "            qc_param.rz(init_qubit_param, theta = phases_temp[0][next(index_iter_qeff)])\n",
        "            qc_param.X(init_qubit_param)\n",
        "            qc_param.rz(init_qubit_param, theta = phases_temp[0][next(index_iter_qeff)])\n",
        "          elif num_qubits_param == 2:\n",
        "            qc_param.rz(target_qubit_param + init_qubit_param, theta = phases_temp[0][next(index_iter_qeff)])\n",
        "            qc_param.X(target_qubit_param + init_qubit_param)\n",
        "            qc_param.rz(target_qubit_param + init_qubit_param, theta = phases_temp[0][next(index_iter_qeff)])\n",
        "            qc_param.cnot(init_qubit_param, target_qubit_param + init_qubit_param)\n",
        "            qc_param.rz(target_qubit_param + init_qubit_param, theta = phases_temp[0][next(index_iter_qeff)])\n",
        "            qc_param.X(target_qubit_param + init_qubit_param)\n",
        "            qc_param.rz(target_qubit_param + init_qubit_param, theta = phases_temp[0][next(index_iter_qeff)])\n",
        "            return\n",
        "          else:\n",
        "            circuit_base_rz_qeff_n(qc_param, num_qubits_param-1, target_qubit_param, init_qubit_param)\n",
        "            qc_param.cnot(num_qubits_param-2+init_qubit_param, target_qubit_param+init_qubit_param)\n",
        "            circuit_base_rz_qeff_n(qc_param, num_qubits_param-1, target_qubit_param, init_qubit_param)\n",
        "            target_qubit_param -= 1\n",
        "\n",
        "        # Applying the QEFF feature map\n",
        "\n",
        "        for i in range( n_qeff_qubits_temp - init_qubit_qeff_temp + 1 - 1, 1 - 1, -1):\n",
        "          circuit_base_rz_qeff_n(self.circuit, i, i - 1, init_qubit_qeff_temp)\n",
        "\n",
        "        for i in range(init_qubit_qeff_temp, n_qeff_qubits_temp):\n",
        "          self.circuit.H(i)\n",
        "\n",
        "        # Trace out ancilla qubits, find probability of [000] state for density estimation\n",
        "\n",
        "        return (1./(self.epochs))*\\\n",
        "                tc.backend.real(\n",
        "            tc.quantum.reduced_density_matrix(\n",
        "                self.circuit.state(),\n",
        "                cut=[m for m in range(n_qeff_qubits_temp, n_total_qubits_temp)]\n",
        "            )[0, 0]\n",
        "        )\n",
        "\n",
        "    def loss(self, y_train, y_pred):\n",
        "        return -tf.reduce_sum(tf.math.log(y_pred)) # this loss function works relatively well\n",
        "\n",
        "    def compile(\n",
        "            self,\n",
        "            optimizer=tf.keras.optimizers.legacy.Adam(0.0005), # originally 0.0005\n",
        "            **kwargs):\n",
        "        r\"\"\"\n",
        "        Method to compile the model.\n",
        "\n",
        "        Args:\n",
        "            optimizer:\n",
        "            **kwargs: Any additional argument.\n",
        "\n",
        "        Returns:\n",
        "            None.\n",
        "        \"\"\"\n",
        "        self.model.compile(\n",
        "            loss = self.loss,\n",
        "            optimizer=optimizer,\n",
        "            metrics=[tf.keras.metrics.KLDivergence()],\n",
        "            **kwargs\n",
        "        )\n",
        "\n",
        "    def fit(self, x_train, y_train, batch_size=16, **kwargs):\n",
        "        r\"\"\"\n",
        "        Method to fit (train) the model using the ad-hoc dataset.\n",
        "\n",
        "        Args:\n",
        "            x_train:\n",
        "            y_train:\n",
        "            batch_size:\n",
        "            epochs:\n",
        "            **kwargs: Any additional argument.\n",
        "\n",
        "        Returns:\n",
        "            None.\n",
        "        \"\"\"\n",
        "\n",
        "        self.model.fit(x_train, y_train, batch_size=batch_size, epochs=self.epochs, **kwargs)\n",
        "\n",
        "    def predict(self, x_test):\n",
        "        r\"\"\"\n",
        "        Method to make predictions with the trained model.\n",
        "\n",
        "        Args:\n",
        "            x_test:\n",
        "\n",
        "        Returns:\n",
        "            The predictions of the PDF of the input data.\n",
        "        \"\"\"\n",
        "        return (tf.math.pow((self.gamma/(pi)), self.dim_x/2)*\\\n",
        "            self.model.predict(x_test)).numpy()"
      ],
      "metadata": {
        "id": "-jNIUXGpFKPG"
      },
      "execution_count": null,
      "outputs": []
    },
    {
      "cell_type": "markdown",
      "metadata": {
        "id": "hHeg3XsaFKPG"
      },
      "source": [
        "## VQ-KDC mixed with QEFF training"
      ]
    },
    {
      "cell_type": "code",
      "execution_count": null,
      "metadata": {
        "id": "320exTq5FKPG"
      },
      "outputs": [],
      "source": [
        "y_train_dmkde_classical =  raw_kde_probability_train"
      ]
    },
    {
      "cell_type": "code",
      "execution_count": null,
      "metadata": {
        "colab": {
          "base_uri": "https://localhost:8080/",
          "height": 523
        },
        "outputId": "43f7c01f-c0ed-4fa8-c35c-097933379c82",
        "id": "WcUkN_y_FKPG"
      },
      "outputs": [
        {
          "output_type": "stream",
          "name": "stdout",
          "text": [
            "Epoch 1/15\n",
            "7\n",
            "[ 0  1  2  3  4  5  6  7  8  9 10 11 12 13 14 15 16 17 18 19 20 21 22 23\n",
            " 24 25 26 27 28 29 30 31 32 33 34 35 36 37 38 39 40 41 42 43 44 45 46 47\n",
            " 48 49 50 51 52 53 54 55]\n",
            "7\n",
            "[ 0  1  2  3  4  5  6  7  8  9 10 11 12 13 14 15 16 17 18 19 20 21 22 23\n",
            " 24 25 26 27 28 29 30 31 32 33 34 35 36 37 38 39 40 41 42 43 44 45 46 47\n",
            " 48 49 50 51 52 53 54 55]\n",
            "1000/1750 [================>.............] - ETA: 14s - loss: 97.2610 - kullback_leibler_divergence: 0.2220"
          ]
        },
        {
          "output_type": "error",
          "ename": "KeyboardInterrupt",
          "evalue": "",
          "traceback": [
            "\u001b[0;31m---------------------------------------------------------------------------\u001b[0m",
            "\u001b[0;31mKeyboardInterrupt\u001b[0m                         Traceback (most recent call last)",
            "\u001b[0;32m<ipython-input-113-ff5ca89b3716>\u001b[0m in \u001b[0;36m<cell line: 3>\u001b[0;34m()\u001b[0m\n\u001b[1;32m      1\u001b[0m \u001b[0mvc\u001b[0m \u001b[0;34m=\u001b[0m \u001b[0mVQKDE_QEFF_HEA\u001b[0m\u001b[0;34m(\u001b[0m\u001b[0mnum_ffs_param\u001b[0m\u001b[0;34m=\u001b[0m\u001b[0mN_RFFS\u001b[0m\u001b[0;34m,\u001b[0m \u001b[0mdim_x_param\u001b[0m\u001b[0;34m=\u001b[0m\u001b[0mDIM_X\u001b[0m\u001b[0;34m,\u001b[0m \u001b[0mvar_hea_ansatz_size_param\u001b[0m \u001b[0;34m=\u001b[0m \u001b[0mHEA_ANSATZ_SIZE\u001b[0m\u001b[0;34m,\u001b[0m \u001b[0mnum_layers_hea_param\u001b[0m \u001b[0;34m=\u001b[0m \u001b[0mNUM_LAYERS_HEA\u001b[0m\u001b[0;34m,\u001b[0m \u001b[0mgamma\u001b[0m\u001b[0;34m=\u001b[0m\u001b[0mGAMMA\u001b[0m\u001b[0;34m,\u001b[0m \u001b[0mepochs\u001b[0m \u001b[0;34m=\u001b[0m \u001b[0mEPOCHS\u001b[0m\u001b[0;34m)\u001b[0m\u001b[0;34m\u001b[0m\u001b[0;34m\u001b[0m\u001b[0m\n\u001b[1;32m      2\u001b[0m \u001b[0;34m\u001b[0m\u001b[0m\n\u001b[0;32m----> 3\u001b[0;31m \u001b[0mvc\u001b[0m\u001b[0;34m.\u001b[0m\u001b[0mfit\u001b[0m\u001b[0;34m(\u001b[0m\u001b[0mX_train\u001b[0m\u001b[0;34m,\u001b[0m \u001b[0mraw_kde_probability_train\u001b[0m\u001b[0;34m,\u001b[0m \u001b[0mbatch_size\u001b[0m\u001b[0;34m=\u001b[0m\u001b[0;36m16\u001b[0m\u001b[0;34m)\u001b[0m\u001b[0;34m\u001b[0m\u001b[0;34m\u001b[0m\u001b[0m\n\u001b[0m",
            "\u001b[0;32m<ipython-input-111-f1ae19a875a9>\u001b[0m in \u001b[0;36mfit\u001b[0;34m(self, x_train, y_train, batch_size, **kwargs)\u001b[0m\n\u001b[1;32m    183\u001b[0m         \"\"\"\n\u001b[1;32m    184\u001b[0m \u001b[0;34m\u001b[0m\u001b[0m\n\u001b[0;32m--> 185\u001b[0;31m         \u001b[0mself\u001b[0m\u001b[0;34m.\u001b[0m\u001b[0mmodel\u001b[0m\u001b[0;34m.\u001b[0m\u001b[0mfit\u001b[0m\u001b[0;34m(\u001b[0m\u001b[0mx_train\u001b[0m\u001b[0;34m,\u001b[0m \u001b[0my_train\u001b[0m\u001b[0;34m,\u001b[0m \u001b[0mbatch_size\u001b[0m\u001b[0;34m=\u001b[0m\u001b[0mbatch_size\u001b[0m\u001b[0;34m,\u001b[0m \u001b[0mepochs\u001b[0m\u001b[0;34m=\u001b[0m\u001b[0mself\u001b[0m\u001b[0;34m.\u001b[0m\u001b[0mepochs\u001b[0m\u001b[0;34m,\u001b[0m \u001b[0;34m**\u001b[0m\u001b[0mkwargs\u001b[0m\u001b[0;34m)\u001b[0m\u001b[0;34m\u001b[0m\u001b[0;34m\u001b[0m\u001b[0m\n\u001b[0m\u001b[1;32m    186\u001b[0m \u001b[0;34m\u001b[0m\u001b[0m\n\u001b[1;32m    187\u001b[0m     \u001b[0;32mdef\u001b[0m \u001b[0mpredict\u001b[0m\u001b[0;34m(\u001b[0m\u001b[0mself\u001b[0m\u001b[0;34m,\u001b[0m \u001b[0mx_test\u001b[0m\u001b[0;34m)\u001b[0m\u001b[0;34m:\u001b[0m\u001b[0;34m\u001b[0m\u001b[0;34m\u001b[0m\u001b[0m\n",
            "\u001b[0;32m/usr/local/lib/python3.10/dist-packages/keras/src/utils/traceback_utils.py\u001b[0m in \u001b[0;36merror_handler\u001b[0;34m(*args, **kwargs)\u001b[0m\n\u001b[1;32m     63\u001b[0m         \u001b[0mfiltered_tb\u001b[0m \u001b[0;34m=\u001b[0m \u001b[0;32mNone\u001b[0m\u001b[0;34m\u001b[0m\u001b[0;34m\u001b[0m\u001b[0m\n\u001b[1;32m     64\u001b[0m         \u001b[0;32mtry\u001b[0m\u001b[0;34m:\u001b[0m\u001b[0;34m\u001b[0m\u001b[0;34m\u001b[0m\u001b[0m\n\u001b[0;32m---> 65\u001b[0;31m             \u001b[0;32mreturn\u001b[0m \u001b[0mfn\u001b[0m\u001b[0;34m(\u001b[0m\u001b[0;34m*\u001b[0m\u001b[0margs\u001b[0m\u001b[0;34m,\u001b[0m \u001b[0;34m**\u001b[0m\u001b[0mkwargs\u001b[0m\u001b[0;34m)\u001b[0m\u001b[0;34m\u001b[0m\u001b[0;34m\u001b[0m\u001b[0m\n\u001b[0m\u001b[1;32m     66\u001b[0m         \u001b[0;32mexcept\u001b[0m \u001b[0mException\u001b[0m \u001b[0;32mas\u001b[0m \u001b[0me\u001b[0m\u001b[0;34m:\u001b[0m\u001b[0;34m\u001b[0m\u001b[0;34m\u001b[0m\u001b[0m\n\u001b[1;32m     67\u001b[0m             \u001b[0mfiltered_tb\u001b[0m \u001b[0;34m=\u001b[0m \u001b[0m_process_traceback_frames\u001b[0m\u001b[0;34m(\u001b[0m\u001b[0me\u001b[0m\u001b[0;34m.\u001b[0m\u001b[0m__traceback__\u001b[0m\u001b[0;34m)\u001b[0m\u001b[0;34m\u001b[0m\u001b[0;34m\u001b[0m\u001b[0m\n",
            "\u001b[0;32m/usr/local/lib/python3.10/dist-packages/keras/src/engine/training.py\u001b[0m in \u001b[0;36mfit\u001b[0;34m(self, x, y, batch_size, epochs, verbose, callbacks, validation_split, validation_data, shuffle, class_weight, sample_weight, initial_epoch, steps_per_epoch, validation_steps, validation_batch_size, validation_freq, max_queue_size, workers, use_multiprocessing)\u001b[0m\n\u001b[1;32m   1811\u001b[0m                             \u001b[0mlogs\u001b[0m \u001b[0;34m=\u001b[0m \u001b[0mtmp_logs\u001b[0m\u001b[0;34m\u001b[0m\u001b[0;34m\u001b[0m\u001b[0m\n\u001b[1;32m   1812\u001b[0m                             \u001b[0mend_step\u001b[0m \u001b[0;34m=\u001b[0m \u001b[0mstep\u001b[0m \u001b[0;34m+\u001b[0m \u001b[0mdata_handler\u001b[0m\u001b[0;34m.\u001b[0m\u001b[0mstep_increment\u001b[0m\u001b[0;34m\u001b[0m\u001b[0;34m\u001b[0m\u001b[0m\n\u001b[0;32m-> 1813\u001b[0;31m                             \u001b[0mcallbacks\u001b[0m\u001b[0;34m.\u001b[0m\u001b[0mon_train_batch_end\u001b[0m\u001b[0;34m(\u001b[0m\u001b[0mend_step\u001b[0m\u001b[0;34m,\u001b[0m \u001b[0mlogs\u001b[0m\u001b[0;34m)\u001b[0m\u001b[0;34m\u001b[0m\u001b[0;34m\u001b[0m\u001b[0m\n\u001b[0m\u001b[1;32m   1814\u001b[0m                             \u001b[0;32mif\u001b[0m \u001b[0mself\u001b[0m\u001b[0;34m.\u001b[0m\u001b[0mstop_training\u001b[0m\u001b[0;34m:\u001b[0m\u001b[0;34m\u001b[0m\u001b[0;34m\u001b[0m\u001b[0m\n\u001b[1;32m   1815\u001b[0m                                 \u001b[0;32mbreak\u001b[0m\u001b[0;34m\u001b[0m\u001b[0;34m\u001b[0m\u001b[0m\n",
            "\u001b[0;32m/usr/local/lib/python3.10/dist-packages/keras/src/callbacks.py\u001b[0m in \u001b[0;36mon_train_batch_end\u001b[0;34m(self, batch, logs)\u001b[0m\n\u001b[1;32m    473\u001b[0m         \"\"\"\n\u001b[1;32m    474\u001b[0m         \u001b[0;32mif\u001b[0m \u001b[0mself\u001b[0m\u001b[0;34m.\u001b[0m\u001b[0m_should_call_train_batch_hooks\u001b[0m\u001b[0;34m:\u001b[0m\u001b[0;34m\u001b[0m\u001b[0;34m\u001b[0m\u001b[0m\n\u001b[0;32m--> 475\u001b[0;31m             \u001b[0mself\u001b[0m\u001b[0;34m.\u001b[0m\u001b[0m_call_batch_hook\u001b[0m\u001b[0;34m(\u001b[0m\u001b[0mModeKeys\u001b[0m\u001b[0;34m.\u001b[0m\u001b[0mTRAIN\u001b[0m\u001b[0;34m,\u001b[0m \u001b[0;34m\"end\"\u001b[0m\u001b[0;34m,\u001b[0m \u001b[0mbatch\u001b[0m\u001b[0;34m,\u001b[0m \u001b[0mlogs\u001b[0m\u001b[0;34m=\u001b[0m\u001b[0mlogs\u001b[0m\u001b[0;34m)\u001b[0m\u001b[0;34m\u001b[0m\u001b[0;34m\u001b[0m\u001b[0m\n\u001b[0m\u001b[1;32m    476\u001b[0m \u001b[0;34m\u001b[0m\u001b[0m\n\u001b[1;32m    477\u001b[0m     \u001b[0;32mdef\u001b[0m \u001b[0mon_test_batch_begin\u001b[0m\u001b[0;34m(\u001b[0m\u001b[0mself\u001b[0m\u001b[0;34m,\u001b[0m \u001b[0mbatch\u001b[0m\u001b[0;34m,\u001b[0m \u001b[0mlogs\u001b[0m\u001b[0;34m=\u001b[0m\u001b[0;32mNone\u001b[0m\u001b[0;34m)\u001b[0m\u001b[0;34m:\u001b[0m\u001b[0;34m\u001b[0m\u001b[0;34m\u001b[0m\u001b[0m\n",
            "\u001b[0;32m/usr/local/lib/python3.10/dist-packages/keras/src/callbacks.py\u001b[0m in \u001b[0;36m_call_batch_hook\u001b[0;34m(self, mode, hook, batch, logs)\u001b[0m\n\u001b[1;32m    320\u001b[0m             \u001b[0mself\u001b[0m\u001b[0;34m.\u001b[0m\u001b[0m_call_batch_begin_hook\u001b[0m\u001b[0;34m(\u001b[0m\u001b[0mmode\u001b[0m\u001b[0;34m,\u001b[0m \u001b[0mbatch\u001b[0m\u001b[0;34m,\u001b[0m \u001b[0mlogs\u001b[0m\u001b[0;34m)\u001b[0m\u001b[0;34m\u001b[0m\u001b[0;34m\u001b[0m\u001b[0m\n\u001b[1;32m    321\u001b[0m         \u001b[0;32melif\u001b[0m \u001b[0mhook\u001b[0m \u001b[0;34m==\u001b[0m \u001b[0;34m\"end\"\u001b[0m\u001b[0;34m:\u001b[0m\u001b[0;34m\u001b[0m\u001b[0;34m\u001b[0m\u001b[0m\n\u001b[0;32m--> 322\u001b[0;31m             \u001b[0mself\u001b[0m\u001b[0;34m.\u001b[0m\u001b[0m_call_batch_end_hook\u001b[0m\u001b[0;34m(\u001b[0m\u001b[0mmode\u001b[0m\u001b[0;34m,\u001b[0m \u001b[0mbatch\u001b[0m\u001b[0;34m,\u001b[0m \u001b[0mlogs\u001b[0m\u001b[0;34m)\u001b[0m\u001b[0;34m\u001b[0m\u001b[0;34m\u001b[0m\u001b[0m\n\u001b[0m\u001b[1;32m    323\u001b[0m         \u001b[0;32melse\u001b[0m\u001b[0;34m:\u001b[0m\u001b[0;34m\u001b[0m\u001b[0;34m\u001b[0m\u001b[0m\n\u001b[1;32m    324\u001b[0m             raise ValueError(\n",
            "\u001b[0;32m/usr/local/lib/python3.10/dist-packages/keras/src/callbacks.py\u001b[0m in \u001b[0;36m_call_batch_end_hook\u001b[0;34m(self, mode, batch, logs)\u001b[0m\n\u001b[1;32m    343\u001b[0m             \u001b[0mself\u001b[0m\u001b[0;34m.\u001b[0m\u001b[0m_batch_times\u001b[0m\u001b[0;34m.\u001b[0m\u001b[0mappend\u001b[0m\u001b[0;34m(\u001b[0m\u001b[0mbatch_time\u001b[0m\u001b[0;34m)\u001b[0m\u001b[0;34m\u001b[0m\u001b[0;34m\u001b[0m\u001b[0m\n\u001b[1;32m    344\u001b[0m \u001b[0;34m\u001b[0m\u001b[0m\n\u001b[0;32m--> 345\u001b[0;31m         \u001b[0mself\u001b[0m\u001b[0;34m.\u001b[0m\u001b[0m_call_batch_hook_helper\u001b[0m\u001b[0;34m(\u001b[0m\u001b[0mhook_name\u001b[0m\u001b[0;34m,\u001b[0m \u001b[0mbatch\u001b[0m\u001b[0;34m,\u001b[0m \u001b[0mlogs\u001b[0m\u001b[0;34m)\u001b[0m\u001b[0;34m\u001b[0m\u001b[0;34m\u001b[0m\u001b[0m\n\u001b[0m\u001b[1;32m    346\u001b[0m \u001b[0;34m\u001b[0m\u001b[0m\n\u001b[1;32m    347\u001b[0m         \u001b[0;32mif\u001b[0m \u001b[0mlen\u001b[0m\u001b[0;34m(\u001b[0m\u001b[0mself\u001b[0m\u001b[0;34m.\u001b[0m\u001b[0m_batch_times\u001b[0m\u001b[0;34m)\u001b[0m \u001b[0;34m>=\u001b[0m \u001b[0mself\u001b[0m\u001b[0;34m.\u001b[0m\u001b[0m_num_batches_for_timing_check\u001b[0m\u001b[0;34m:\u001b[0m\u001b[0;34m\u001b[0m\u001b[0;34m\u001b[0m\u001b[0m\n",
            "\u001b[0;32m/usr/local/lib/python3.10/dist-packages/keras/src/callbacks.py\u001b[0m in \u001b[0;36m_call_batch_hook_helper\u001b[0;34m(self, hook_name, batch, logs)\u001b[0m\n\u001b[1;32m    391\u001b[0m         \u001b[0;32mfor\u001b[0m \u001b[0mcallback\u001b[0m \u001b[0;32min\u001b[0m \u001b[0mself\u001b[0m\u001b[0;34m.\u001b[0m\u001b[0mcallbacks\u001b[0m\u001b[0;34m:\u001b[0m\u001b[0;34m\u001b[0m\u001b[0;34m\u001b[0m\u001b[0m\n\u001b[1;32m    392\u001b[0m             \u001b[0mhook\u001b[0m \u001b[0;34m=\u001b[0m \u001b[0mgetattr\u001b[0m\u001b[0;34m(\u001b[0m\u001b[0mcallback\u001b[0m\u001b[0;34m,\u001b[0m \u001b[0mhook_name\u001b[0m\u001b[0;34m)\u001b[0m\u001b[0;34m\u001b[0m\u001b[0;34m\u001b[0m\u001b[0m\n\u001b[0;32m--> 393\u001b[0;31m             \u001b[0mhook\u001b[0m\u001b[0;34m(\u001b[0m\u001b[0mbatch\u001b[0m\u001b[0;34m,\u001b[0m \u001b[0mlogs\u001b[0m\u001b[0;34m)\u001b[0m\u001b[0;34m\u001b[0m\u001b[0;34m\u001b[0m\u001b[0m\n\u001b[0m\u001b[1;32m    394\u001b[0m \u001b[0;34m\u001b[0m\u001b[0m\n\u001b[1;32m    395\u001b[0m         \u001b[0;32mif\u001b[0m \u001b[0mself\u001b[0m\u001b[0;34m.\u001b[0m\u001b[0m_check_timing\u001b[0m\u001b[0;34m:\u001b[0m\u001b[0;34m\u001b[0m\u001b[0;34m\u001b[0m\u001b[0m\n",
            "\u001b[0;32m/usr/local/lib/python3.10/dist-packages/keras/src/callbacks.py\u001b[0m in \u001b[0;36mon_train_batch_end\u001b[0;34m(self, batch, logs)\u001b[0m\n\u001b[1;32m   1091\u001b[0m \u001b[0;34m\u001b[0m\u001b[0m\n\u001b[1;32m   1092\u001b[0m     \u001b[0;32mdef\u001b[0m \u001b[0mon_train_batch_end\u001b[0m\u001b[0;34m(\u001b[0m\u001b[0mself\u001b[0m\u001b[0;34m,\u001b[0m \u001b[0mbatch\u001b[0m\u001b[0;34m,\u001b[0m \u001b[0mlogs\u001b[0m\u001b[0;34m=\u001b[0m\u001b[0;32mNone\u001b[0m\u001b[0;34m)\u001b[0m\u001b[0;34m:\u001b[0m\u001b[0;34m\u001b[0m\u001b[0;34m\u001b[0m\u001b[0m\n\u001b[0;32m-> 1093\u001b[0;31m         \u001b[0mself\u001b[0m\u001b[0;34m.\u001b[0m\u001b[0m_batch_update_progbar\u001b[0m\u001b[0;34m(\u001b[0m\u001b[0mbatch\u001b[0m\u001b[0;34m,\u001b[0m \u001b[0mlogs\u001b[0m\u001b[0;34m)\u001b[0m\u001b[0;34m\u001b[0m\u001b[0;34m\u001b[0m\u001b[0m\n\u001b[0m\u001b[1;32m   1094\u001b[0m \u001b[0;34m\u001b[0m\u001b[0m\n\u001b[1;32m   1095\u001b[0m     \u001b[0;32mdef\u001b[0m \u001b[0mon_test_batch_end\u001b[0m\u001b[0;34m(\u001b[0m\u001b[0mself\u001b[0m\u001b[0;34m,\u001b[0m \u001b[0mbatch\u001b[0m\u001b[0;34m,\u001b[0m \u001b[0mlogs\u001b[0m\u001b[0;34m=\u001b[0m\u001b[0;32mNone\u001b[0m\u001b[0;34m)\u001b[0m\u001b[0;34m:\u001b[0m\u001b[0;34m\u001b[0m\u001b[0;34m\u001b[0m\u001b[0m\n",
            "\u001b[0;32m/usr/local/lib/python3.10/dist-packages/keras/src/callbacks.py\u001b[0m in \u001b[0;36m_batch_update_progbar\u001b[0;34m(self, batch, logs)\u001b[0m\n\u001b[1;32m   1153\u001b[0m         \u001b[0;34m\"\"\"Updates the progbar.\"\"\"\u001b[0m\u001b[0;34m\u001b[0m\u001b[0;34m\u001b[0m\u001b[0m\n\u001b[1;32m   1154\u001b[0m         \u001b[0mlogs\u001b[0m \u001b[0;34m=\u001b[0m \u001b[0mlogs\u001b[0m \u001b[0;32mor\u001b[0m \u001b[0;34m{\u001b[0m\u001b[0;34m}\u001b[0m\u001b[0;34m\u001b[0m\u001b[0;34m\u001b[0m\u001b[0m\n\u001b[0;32m-> 1155\u001b[0;31m         \u001b[0mself\u001b[0m\u001b[0;34m.\u001b[0m\u001b[0m_maybe_init_progbar\u001b[0m\u001b[0;34m(\u001b[0m\u001b[0;34m)\u001b[0m\u001b[0;34m\u001b[0m\u001b[0;34m\u001b[0m\u001b[0m\n\u001b[0m\u001b[1;32m   1156\u001b[0m         \u001b[0;32mif\u001b[0m \u001b[0mself\u001b[0m\u001b[0;34m.\u001b[0m\u001b[0muse_steps\u001b[0m\u001b[0;34m:\u001b[0m\u001b[0;34m\u001b[0m\u001b[0;34m\u001b[0m\u001b[0m\n\u001b[1;32m   1157\u001b[0m             \u001b[0mself\u001b[0m\u001b[0;34m.\u001b[0m\u001b[0mseen\u001b[0m \u001b[0;34m=\u001b[0m \u001b[0mbatch\u001b[0m \u001b[0;34m+\u001b[0m \u001b[0;36m1\u001b[0m  \u001b[0;31m# One-indexed.\u001b[0m\u001b[0;34m\u001b[0m\u001b[0;34m\u001b[0m\u001b[0m\n",
            "\u001b[0;32m/usr/local/lib/python3.10/dist-packages/keras/src/callbacks.py\u001b[0m in \u001b[0;36m_maybe_init_progbar\u001b[0;34m(self)\u001b[0m\n\u001b[1;32m   1128\u001b[0m             \u001b[0;31m# first train step.\u001b[0m\u001b[0;34m\u001b[0m\u001b[0;34m\u001b[0m\u001b[0m\n\u001b[1;32m   1129\u001b[0m             self.stateful_metrics = self.stateful_metrics.union(\n\u001b[0;32m-> 1130\u001b[0;31m                 \u001b[0mset\u001b[0m\u001b[0;34m(\u001b[0m\u001b[0mm\u001b[0m\u001b[0;34m.\u001b[0m\u001b[0mname\u001b[0m \u001b[0;32mfor\u001b[0m \u001b[0mm\u001b[0m \u001b[0;32min\u001b[0m \u001b[0mself\u001b[0m\u001b[0;34m.\u001b[0m\u001b[0mmodel\u001b[0m\u001b[0;34m.\u001b[0m\u001b[0mmetrics\u001b[0m\u001b[0;34m)\u001b[0m\u001b[0;34m\u001b[0m\u001b[0;34m\u001b[0m\u001b[0m\n\u001b[0m\u001b[1;32m   1131\u001b[0m             )\n\u001b[1;32m   1132\u001b[0m \u001b[0;34m\u001b[0m\u001b[0m\n",
            "\u001b[0;32m/usr/local/lib/python3.10/dist-packages/keras/src/engine/training.py\u001b[0m in \u001b[0;36mmetrics\u001b[0;34m(self)\u001b[0m\n\u001b[1;32m    917\u001b[0m                 \u001b[0mmetrics\u001b[0m \u001b[0;34m+=\u001b[0m \u001b[0mself\u001b[0m\u001b[0;34m.\u001b[0m\u001b[0mcompiled_metrics\u001b[0m\u001b[0;34m.\u001b[0m\u001b[0mmetrics\u001b[0m\u001b[0;34m\u001b[0m\u001b[0;34m\u001b[0m\u001b[0m\n\u001b[1;32m    918\u001b[0m \u001b[0;34m\u001b[0m\u001b[0m\n\u001b[0;32m--> 919\u001b[0;31m         \u001b[0;32mfor\u001b[0m \u001b[0ml\u001b[0m \u001b[0;32min\u001b[0m \u001b[0mself\u001b[0m\u001b[0;34m.\u001b[0m\u001b[0m_flatten_layers\u001b[0m\u001b[0;34m(\u001b[0m\u001b[0;34m)\u001b[0m\u001b[0;34m:\u001b[0m\u001b[0;34m\u001b[0m\u001b[0;34m\u001b[0m\u001b[0m\n\u001b[0m\u001b[1;32m    920\u001b[0m             \u001b[0mmetrics\u001b[0m\u001b[0;34m.\u001b[0m\u001b[0mextend\u001b[0m\u001b[0;34m(\u001b[0m\u001b[0ml\u001b[0m\u001b[0;34m.\u001b[0m\u001b[0m_metrics\u001b[0m\u001b[0;34m)\u001b[0m\u001b[0;34m\u001b[0m\u001b[0;34m\u001b[0m\u001b[0m\n\u001b[1;32m    921\u001b[0m         \u001b[0;32mreturn\u001b[0m \u001b[0mmetrics\u001b[0m\u001b[0;34m\u001b[0m\u001b[0;34m\u001b[0m\u001b[0m\n",
            "\u001b[0;32m/usr/local/lib/python3.10/dist-packages/keras/src/engine/base_layer.py\u001b[0m in \u001b[0;36m_flatten_layers\u001b[0;34m(self, recursive, include_self)\u001b[0m\n\u001b[1;32m   3304\u001b[0m \u001b[0;34m\u001b[0m\u001b[0m\n\u001b[1;32m   3305\u001b[0m     \u001b[0;32mdef\u001b[0m \u001b[0m_flatten_layers\u001b[0m\u001b[0;34m(\u001b[0m\u001b[0mself\u001b[0m\u001b[0;34m,\u001b[0m \u001b[0mrecursive\u001b[0m\u001b[0;34m=\u001b[0m\u001b[0;32mTrue\u001b[0m\u001b[0;34m,\u001b[0m \u001b[0minclude_self\u001b[0m\u001b[0;34m=\u001b[0m\u001b[0;32mTrue\u001b[0m\u001b[0;34m)\u001b[0m\u001b[0;34m:\u001b[0m\u001b[0;34m\u001b[0m\u001b[0;34m\u001b[0m\u001b[0m\n\u001b[0;32m-> 3306\u001b[0;31m         for m in self._flatten_modules(\n\u001b[0m\u001b[1;32m   3307\u001b[0m             \u001b[0mrecursive\u001b[0m\u001b[0;34m=\u001b[0m\u001b[0mrecursive\u001b[0m\u001b[0;34m,\u001b[0m \u001b[0minclude_self\u001b[0m\u001b[0;34m=\u001b[0m\u001b[0minclude_self\u001b[0m\u001b[0;34m\u001b[0m\u001b[0;34m\u001b[0m\u001b[0m\n\u001b[1;32m   3308\u001b[0m         ):\n",
            "\u001b[0;32m/usr/local/lib/python3.10/dist-packages/keras/src/engine/base_layer.py\u001b[0m in \u001b[0;36m_flatten_modules\u001b[0;34m(self, recursive, include_self)\u001b[0m\n\u001b[1;32m   3346\u001b[0m                         )\n\u001b[1;32m   3347\u001b[0m                         \u001b[0;32mif\u001b[0m \u001b[0msubtrackables\u001b[0m\u001b[0;34m:\u001b[0m\u001b[0;34m\u001b[0m\u001b[0;34m\u001b[0m\u001b[0m\n\u001b[0;32m-> 3348\u001b[0;31m                             \u001b[0mdeque\u001b[0m\u001b[0;34m.\u001b[0m\u001b[0mextendleft\u001b[0m\u001b[0;34m(\u001b[0m\u001b[0mreversed\u001b[0m\u001b[0;34m(\u001b[0m\u001b[0msubtrackables\u001b[0m\u001b[0;34m)\u001b[0m\u001b[0;34m)\u001b[0m\u001b[0;34m\u001b[0m\u001b[0;34m\u001b[0m\u001b[0m\n\u001b[0m\u001b[1;32m   3349\u001b[0m                 elif isinstance(\n\u001b[1;32m   3350\u001b[0m                     \u001b[0mtrackable_obj\u001b[0m\u001b[0;34m,\u001b[0m\u001b[0;34m\u001b[0m\u001b[0;34m\u001b[0m\u001b[0m\n",
            "\u001b[0;31mKeyboardInterrupt\u001b[0m: "
          ]
        }
      ],
      "source": [
        "vc = VQKDE_QEFF_HEA(num_ffs_param=N_RFFS, dim_x_param=DIM_X, var_hea_ansatz_size_param = HEA_ANSATZ_SIZE, num_layers_hea_param = NUM_LAYERS_HEA, gamma=GAMMA, epochs = EPOCHS)\n",
        "\n",
        "vc.fit(X_train, raw_kde_probability_train, batch_size=16)"
      ]
    },
    {
      "cell_type": "code",
      "execution_count": null,
      "metadata": {
        "colab": {
          "base_uri": "https://localhost:8080/"
        },
        "outputId": "f97e6a56-fdb1-407b-a969-d2e512f0754d",
        "id": "n9JX3AQ_FKPH"
      },
      "outputs": [
        {
          "output_type": "stream",
          "name": "stdout",
          "text": [
            "450/450 [==============================] - 49s 19ms/step\n"
          ]
        },
        {
          "output_type": "execute_result",
          "data": {
            "text/plain": [
              "array([0.00472846, 0.00575312, 0.00630345, ..., 0.00013345, 0.00023025,\n",
              "       0.00055913], dtype=float32)"
            ]
          },
          "metadata": {},
          "execution_count": 103
        }
      ],
      "source": [
        "predictions_quantum_dmkde_mixed = vc.predict(X_plot)\n",
        "predictions_quantum_dmkde_mixed"
      ]
    },
    {
      "cell_type": "code",
      "execution_count": null,
      "metadata": {
        "colab": {
          "base_uri": "https://localhost:8080/",
          "height": 599
        },
        "outputId": "53004cf4-0aea-4116-c2c8-68f56e5c132a",
        "id": "TDZf0RvgFKPH"
      },
      "outputs": [
        {
          "output_type": "stream",
          "name": "stdout",
          "text": [
            "max probability: 0.01761637\n",
            "min probability: 2.3298687e-06\n",
            "log max probability: -4.0389266\n",
            "log min probability: -12.969699\n"
          ]
        },
        {
          "output_type": "display_data",
          "data": {
            "text/plain": [
              "<Figure size 700x600 with 2 Axes>"
            ],
            "image/png": "[encoded data removed]"
          },
          "metadata": {}
        }
      ],
      "source": [
        "params = {\n",
        "   'axes.labelsize': 12,\n",
        "   'legend.fontsize': 12,\n",
        "   'xtick.labelsize': 10,\n",
        "   'ytick.labelsize': 10,\n",
        "   'text.usetex': False,\n",
        "   'figure.figsize': [7.0, 6.0]\n",
        "   }\n",
        "plt.rcParams.update(params)\n",
        "\n",
        "print(\"max probability:\", predictions_quantum_dmkde_mixed.max())\n",
        "print(\"min probability:\", predictions_quantum_dmkde_mixed.min())\n",
        "\n",
        "print(\"log max probability:\", np.log(predictions_quantum_dmkde_mixed.max()))\n",
        "print(\"log min probability:\", np.log(predictions_quantum_dmkde_mixed.min()))\n",
        "\n",
        "plt.contourf(x, y, predictions_quantum_dmkde_mixed.reshape([120,120]))\n",
        "plt.colorbar()\n",
        "plt.savefig(\"spiralsdmkde.pdf\")"
      ]
    },
    {
      "cell_type": "code",
      "execution_count": null,
      "metadata": {
        "id": "qfi1irP_FKPH"
      },
      "outputs": [],
      "source": [
        "def evaluate_model(y_true_param, y_pred_param):\n",
        "\n",
        "  # Kl divergence\n",
        "  #kl_divergence_temp = tf.keras.metrics.kl_divergence(y_true_param, y_pred_param).numpy()\n",
        "  kl_divergence_temp = entropy(y_true_param, y_pred_param)\n",
        "\n",
        "  # Calculate the ranks of the density values\n",
        "  ranks1 = y_true_param.argsort().argsort()\n",
        "  ranks2 = y_pred_param.argsort().argsort()\n",
        "\n",
        "  # Calculate the Spearman correlation\n",
        "  spearman_corr_temp, _ = spearmanr(ranks1, ranks2)\n",
        "\n",
        "  # Calculate the absolute differences at each evaluation point\n",
        "  absolute_differences_temp = np.abs(y_true_param - y_pred_param)\n",
        "\n",
        "  # Average the absolute differences\n",
        "  average_error_temp = np.mean(absolute_differences_temp)\n",
        "\n",
        "  print(\"KL Divergence:\", kl_divergence_temp)\n",
        "  print(\"Spearman Correlation:\", spearman_corr_temp)\n",
        "  print(\"Mean Average Error:\", average_error_temp)\n"
      ]
    },
    {
      "cell_type": "code",
      "execution_count": null,
      "metadata": {
        "colab": {
          "base_uri": "https://localhost:8080/"
        },
        "outputId": "5fb452ae-bb5f-443e-898d-bd9b60c63334",
        "id": "e-LmW8E0FKPH"
      },
      "outputs": [
        {
          "output_type": "stream",
          "name": "stdout",
          "text": [
            "                                          \n",
            "------ KDE vs DMKDE mixed average --------\n",
            "                                          \n",
            "KL Divergence: 2.614001995560538\n",
            "Spearman Correlation: 0.20029738637456945\n",
            "Mean Average Error: 0.0310361285263212\n",
            "                                          \n",
            "------ KDE vs VQ-KDC QEFF ------------\n",
            "                                          \n",
            "KL Divergence: 2.1106392888662286\n",
            "Spearman Correlation: 0.11372831020718387\n",
            "Mean Average Error: 0.0024355566188194234\n"
          ]
        }
      ],
      "source": [
        "print(\"                                          \")\n",
        "print(\"------ KDE vs DMKDE mixed average --------\")\n",
        "print(\"                                          \")\n",
        "evaluate_model(raw_kde_probability, predictions_classical)\n",
        "print(\"                                          \")\n",
        "print(\"------ KDE vs VQ-KDC QEFF ------------\")\n",
        "print(\"                                          \")\n",
        "evaluate_model(raw_kde_probability, predictions_quantum_dmkde_mixed)"
      ]
    },
    {
      "cell_type": "code",
      "source": [],
      "metadata": {
        "id": "Yskt7tKpiDYP"
      },
      "execution_count": null,
      "outputs": []
    }
  ],
  "metadata": {
    "colab": {
      "provenance": []
    },
    "kernelspec": {
      "display_name": "Python 3",
      "name": "python3"
    },
    "language_info": {
      "name": "python"
    }
  },
  "nbformat": 4,
  "nbformat_minor": 0
}