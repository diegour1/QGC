{
  "cells": [
    {
      "cell_type": "markdown",
      "metadata": {
        "id": "oKpsqgM4Sibs"
      },
      "source": [
        "# DMKDE with fixed Quantum Adaptive Fourier Features - Demo\n",
        "Sebastian Molina - [smolinad@unal.edu.co](mailto:smolinad@unal.edu.co)"
      ]
    },
    {
      "cell_type": "markdown",
      "metadata": {
        "id": "4QWPBLAPS3E9"
      },
      "source": [
        "## Installation\n",
        "\n",
        "As the repo is in private mode, to install the library is necessary to [generate a personal token](https://docs.github.com/en/authentication/keeping-your-account-and-data-secure/managing-your-personal-access-tokens#creating-a-personal-access-token-classic) (less than 1 min) and use it as authentication for the installation as follows:\n",
        "\n",
        "<pre>\n",
        "!pip install --upgrade --quiet git+https://<b>[personal-token-here]</b>@github.com/diegour1/DMVQC.git\n",
        "</pre>\n",
        "\n",
        "Paste your personal token in the input box that appears after running the next cell and press <kbd>Enter</kbd>. it will automatically install the package."
      ]
    },
    {
      "cell_type": "code",
      "execution_count": 1,
      "metadata": {
        "colab": {
          "base_uri": "https://localhost:8080/"
        },
        "id": "YjJM7SgSUu_S",
        "outputId": "a90871bc-3b7a-4fa6-f74a-d9cd8d5fd333"
      },
      "outputs": [
        {
          "name": "stdout",
          "output_type": "stream",
          "text": [
            "Insert your GitHub Personal token: ··········\n",
            "\u001b[33mWARNING: Running pip as the 'root' user can result in broken permissions and conflicting behaviour with the system package manager. It is recommended to use a virtual environment instead: https://pip.pypa.io/warnings/venv\u001b[0m\u001b[33m\n",
            "\u001b[0m"
          ]
        }
      ],
      "source": [
        "from getpass import getpass\n",
        "token = getpass(\"Insert your GitHub Personal token: \")\n",
        "URI = f\"git+https://{token}@github.com/diegour1/DMVQC.git\"\n",
        "!pip install --upgrade --quiet URI"
      ]
    },
    {
      "cell_type": "code",
      "execution_count": 2,
      "metadata": {
        "colab": {
          "base_uri": "https://localhost:8080/"
        },
        "id": "dPRtPPZJij9w",
        "outputId": "cd1b3daf-83c3-4c31-e50d-917b38bd7212"
      },
      "outputs": [
        {
          "name": "stderr",
          "output_type": "stream",
          "text": [
            "WARNING:tensorcircuit.translation:Please first ``pip install -U qiskit`` to enable related functionality in translation module\n"
          ]
        }
      ],
      "source": [
        "from dmvqc.models import DMKDE\n",
        "from dmvqc.data import dmkde_data, plot_predict"
      ]
    },
    {
      "cell_type": "markdown",
      "metadata": {
        "id": "lQoW9cq5UaRi"
      },
      "source": [
        "## Original example"
      ]
    },
    {
      "cell_type": "code",
      "execution_count": 3,
      "metadata": {
        "colab": {
          "base_uri": "https://localhost:8080/"
        },
        "id": "wlUyPh4ZRldZ",
        "outputId": "acc7080b-3cb5-4a28-9815-e2beee1bb07e"
      },
      "outputs": [
        {
          "name": "stdout",
          "output_type": "stream",
          "text": [
            "Epoch 1/50\n",
            "63/63 [==============================] - 81s 13ms/step - loss: 47.0123 - binary_accuracy: 0.0000e+00\n",
            "Epoch 2/50\n",
            "63/63 [==============================] - 1s 13ms/step - loss: 45.3996 - binary_accuracy: 0.0000e+00\n",
            "Epoch 3/50\n",
            "63/63 [==============================] - 1s 13ms/step - loss: 44.2346 - binary_accuracy: 0.0000e+00\n",
            "Epoch 4/50\n",
            "63/63 [==============================] - 1s 13ms/step - loss: 43.4685 - binary_accuracy: 0.0000e+00\n",
            "Epoch 5/50\n",
            "63/63 [==============================] - 1s 13ms/step - loss: 42.6118 - binary_accuracy: 0.0000e+00\n",
            "Epoch 6/50\n",
            "63/63 [==============================] - 1s 13ms/step - loss: 41.4904 - binary_accuracy: 0.0000e+00\n",
            "Epoch 7/50\n",
            "63/63 [==============================] - 1s 19ms/step - loss: 40.3342 - binary_accuracy: 0.0000e+00\n",
            "Epoch 8/50\n",
            "63/63 [==============================] - 1s 20ms/step - loss: 39.3052 - binary_accuracy: 0.0000e+00\n",
            "Epoch 9/50\n",
            "63/63 [==============================] - 1s 14ms/step - loss: 38.2696 - binary_accuracy: 0.0000e+00\n",
            "Epoch 10/50\n",
            "63/63 [==============================] - 1s 12ms/step - loss: 36.7890 - binary_accuracy: 0.0000e+00\n",
            "Epoch 11/50\n",
            "63/63 [==============================] - 1s 12ms/step - loss: 34.9453 - binary_accuracy: 0.0000e+00\n",
            "Epoch 12/50\n",
            "63/63 [==============================] - 1s 12ms/step - loss: 33.2346 - binary_accuracy: 0.0000e+00\n",
            "Epoch 13/50\n",
            "63/63 [==============================] - 1s 13ms/step - loss: 31.9450 - binary_accuracy: 0.0000e+00\n",
            "Epoch 14/50\n",
            "63/63 [==============================] - 1s 12ms/step - loss: 31.1795 - binary_accuracy: 0.0000e+00\n",
            "Epoch 15/50\n",
            "63/63 [==============================] - 1s 12ms/step - loss: 30.7339 - binary_accuracy: 0.0000e+00\n",
            "Epoch 16/50\n",
            "63/63 [==============================] - 1s 12ms/step - loss: 30.4429 - binary_accuracy: 0.0000e+00\n",
            "Epoch 17/50\n",
            "63/63 [==============================] - 1s 12ms/step - loss: 30.2481 - binary_accuracy: 0.0000e+00\n",
            "Epoch 18/50\n",
            "63/63 [==============================] - 1s 12ms/step - loss: 30.0635 - binary_accuracy: 0.0000e+00\n",
            "Epoch 19/50\n",
            "63/63 [==============================] - 1s 12ms/step - loss: 29.8717 - binary_accuracy: 0.0000e+00\n",
            "Epoch 20/50\n",
            "63/63 [==============================] - 1s 12ms/step - loss: 29.6902 - binary_accuracy: 0.0000e+00\n",
            "Epoch 21/50\n",
            "63/63 [==============================] - 1s 12ms/step - loss: 29.4961 - binary_accuracy: 0.0000e+00\n",
            "Epoch 22/50\n",
            "63/63 [==============================] - 1s 18ms/step - loss: 29.2966 - binary_accuracy: 0.0000e+00\n",
            "Epoch 23/50\n",
            "63/63 [==============================] - 1s 19ms/step - loss: 29.0636 - binary_accuracy: 0.0000e+00\n",
            "Epoch 24/50\n",
            "63/63 [==============================] - 1s 17ms/step - loss: 28.8243 - binary_accuracy: 0.0000e+00\n",
            "Epoch 25/50\n",
            "63/63 [==============================] - 1s 12ms/step - loss: 28.5895 - binary_accuracy: 0.0000e+00\n",
            "Epoch 26/50\n",
            "63/63 [==============================] - 1s 12ms/step - loss: 28.3270 - binary_accuracy: 0.0000e+00\n",
            "Epoch 27/50\n",
            "63/63 [==============================] - 1s 12ms/step - loss: 28.0590 - binary_accuracy: 0.0000e+00\n",
            "Epoch 28/50\n",
            "63/63 [==============================] - 1s 12ms/step - loss: 27.7762 - binary_accuracy: 0.0000e+00\n",
            "Epoch 29/50\n",
            "63/63 [==============================] - 1s 12ms/step - loss: 27.5060 - binary_accuracy: 0.0000e+00\n",
            "Epoch 30/50\n",
            "63/63 [==============================] - 1s 12ms/step - loss: 27.2281 - binary_accuracy: 0.0000e+00\n",
            "Epoch 31/50\n",
            "63/63 [==============================] - 1s 12ms/step - loss: 26.9976 - binary_accuracy: 0.0000e+00\n",
            "Epoch 32/50\n",
            "63/63 [==============================] - 1s 12ms/step - loss: 26.7836 - binary_accuracy: 0.0000e+00\n",
            "Epoch 33/50\n",
            "63/63 [==============================] - 1s 12ms/step - loss: 26.6038 - binary_accuracy: 0.0000e+00\n",
            "Epoch 34/50\n",
            "63/63 [==============================] - 1s 12ms/step - loss: 26.4291 - binary_accuracy: 0.0000e+00\n",
            "Epoch 35/50\n",
            "63/63 [==============================] - 1s 12ms/step - loss: 26.2936 - binary_accuracy: 0.0000e+00\n",
            "Epoch 36/50\n",
            "63/63 [==============================] - 1s 12ms/step - loss: 26.1535 - binary_accuracy: 0.0000e+00\n",
            "Epoch 37/50\n",
            "63/63 [==============================] - 1s 16ms/step - loss: 26.0343 - binary_accuracy: 0.0000e+00\n",
            "Epoch 38/50\n",
            "63/63 [==============================] - 1s 19ms/step - loss: 25.9058 - binary_accuracy: 0.0000e+00\n",
            "Epoch 39/50\n",
            "63/63 [==============================] - 1s 19ms/step - loss: 25.8004 - binary_accuracy: 0.0000e+00\n",
            "Epoch 40/50\n",
            "63/63 [==============================] - 1s 12ms/step - loss: 25.6913 - binary_accuracy: 0.0000e+00\n",
            "Epoch 41/50\n",
            "63/63 [==============================] - 1s 12ms/step - loss: 25.6040 - binary_accuracy: 0.0000e+00\n",
            "Epoch 42/50\n",
            "63/63 [==============================] - 1s 12ms/step - loss: 25.5105 - binary_accuracy: 0.0000e+00\n",
            "Epoch 43/50\n",
            "63/63 [==============================] - 1s 13ms/step - loss: 25.4245 - binary_accuracy: 0.0000e+00\n",
            "Epoch 44/50\n",
            "63/63 [==============================] - 1s 12ms/step - loss: 25.3363 - binary_accuracy: 0.0000e+00\n",
            "Epoch 45/50\n",
            "63/63 [==============================] - 1s 13ms/step - loss: 25.2483 - binary_accuracy: 0.0000e+00\n",
            "Epoch 46/50\n",
            "63/63 [==============================] - 1s 12ms/step - loss: 25.1702 - binary_accuracy: 0.0000e+00\n",
            "Epoch 47/50\n",
            "63/63 [==============================] - 1s 12ms/step - loss: 25.0879 - binary_accuracy: 0.0000e+00\n",
            "Epoch 48/50\n",
            "63/63 [==============================] - 1s 12ms/step - loss: 24.9926 - binary_accuracy: 0.0000e+00\n",
            "Epoch 49/50\n",
            "63/63 [==============================] - 1s 13ms/step - loss: 24.9350 - binary_accuracy: 0.0000e+00\n",
            "Epoch 50/50\n",
            "63/63 [==============================] - 1s 12ms/step - loss: 24.8520 - binary_accuracy: 0.0000e+00\n"
          ]
        }
      ],
      "source": [
        "n_rffs = 16\n",
        "gamma = 2.\n",
        "\n",
        "\"\"\"\n",
        "Data generation (check documentation to see all the parameters available,\n",
        "putting the cursor over `dmkde_data`)\n",
        "\"\"\"\n",
        "data = dmkde_data(\n",
        "    means=[-5, -1, 5, 10],\n",
        "    stds=[1, 1, 1, 1],\n",
        "    sample_sizes=[0.3, 0.1, 0.4, 0.2],\n",
        "    n_rffs=n_rffs,\n",
        "    gamma=gamma\n",
        ")\n",
        "\n",
        "\"\"\"\n",
        "Model instantiation (check documentation to see all the parameters available,\n",
        "putting the cursor over `DMKDE`). The model auto-compiles with default settings.\n",
        "\"\"\"\n",
        "vc = DMKDE(gamma=gamma)\n",
        "\n",
        "\"\"\"\n",
        "Training\n",
        "\"\"\"\n",
        "vc.fit(data['U_dagger_train'], data['Y_feat_train'])"
      ]
    },
    {
      "cell_type": "code",
      "execution_count": 4,
      "metadata": {
        "colab": {
          "base_uri": "https://localhost:8080/",
          "height": 448
        },
        "id": "jfund9eGRmWt",
        "outputId": "1e9b6e9b-a2e5-48d6-a166-927e7c4f6770"
      },
      "outputs": [
        {
          "name": "stdout",
          "output_type": "stream",
          "text": [
            "16/16 [==============================] - 41s 6ms/step\n"
          ]
        },
        {
          "data": {
            "image/png": "[encoded data removed]",
            "text/plain": [
              "<Figure size 550x450 with 1 Axes>"
            ]
          },
          "metadata": {},
          "output_type": "display_data"
        }
      ],
      "source": [
        "plot_predict(vc, **data)"
      ]
    },
    {
      "cell_type": "markdown",
      "metadata": {
        "id": "fnEUhgPDXZ_V"
      },
      "source": [
        "## Example with randomly generated data and default setting in the model\n",
        "The model and data follows an intuitive and concise API as scikit-learn, TensorFlow/Keras, etc."
      ]
    },
    {
      "cell_type": "code",
      "execution_count": null,
      "metadata": {
        "colab": {
          "base_uri": "https://localhost:8080/"
        },
        "id": "HtV-PnKIXZUO",
        "outputId": "80fb9028-514b-4a30-a89d-1ea4fb156053"
      },
      "outputs": [
        {
          "name": "stdout",
          "output_type": "stream",
          "text": [
            "Epoch 1/50\n",
            "63/63 [==============================] - 66s 13ms/step - loss: 46.6593 - binary_accuracy: 0.0000e+00\n",
            "Epoch 2/50\n",
            "63/63 [==============================] - 1s 13ms/step - loss: 43.7051 - binary_accuracy: 0.0000e+00\n",
            "Epoch 3/50\n",
            "63/63 [==============================] - 1s 12ms/step - loss: 41.8431 - binary_accuracy: 0.0000e+00\n",
            "Epoch 4/50\n",
            "63/63 [==============================] - 1s 12ms/step - loss: 40.2940 - binary_accuracy: 0.0000e+00\n",
            "Epoch 5/50\n",
            "63/63 [==============================] - 1s 12ms/step - loss: 39.1557 - binary_accuracy: 0.0000e+00\n",
            "Epoch 6/50\n",
            "63/63 [==============================] - 1s 12ms/step - loss: 38.4282 - binary_accuracy: 0.0000e+00\n",
            "Epoch 7/50\n",
            "63/63 [==============================] - 1s 13ms/step - loss: 37.8991 - binary_accuracy: 0.0000e+00\n",
            "Epoch 8/50\n",
            "63/63 [==============================] - 1s 19ms/step - loss: 37.5755 - binary_accuracy: 0.0000e+00\n",
            "Epoch 9/50\n",
            "63/63 [==============================] - 1s 20ms/step - loss: 37.3882 - binary_accuracy: 0.0000e+00\n",
            "Epoch 10/50\n",
            "63/63 [==============================] - 1s 14ms/step - loss: 37.2668 - binary_accuracy: 0.0000e+00\n",
            "Epoch 11/50\n",
            "63/63 [==============================] - 1s 12ms/step - loss: 37.2133 - binary_accuracy: 0.0000e+00\n",
            "Epoch 12/50\n",
            "63/63 [==============================] - 1s 13ms/step - loss: 37.1757 - binary_accuracy: 0.0000e+00\n",
            "Epoch 13/50\n",
            "63/63 [==============================] - 1s 13ms/step - loss: 37.1673 - binary_accuracy: 0.0000e+00\n",
            "Epoch 14/50\n",
            "63/63 [==============================] - 1s 12ms/step - loss: 37.1479 - binary_accuracy: 0.0000e+00\n",
            "Epoch 15/50\n",
            "63/63 [==============================] - 1s 12ms/step - loss: 37.1423 - binary_accuracy: 0.0000e+00\n",
            "Epoch 16/50\n",
            "63/63 [==============================] - 1s 12ms/step - loss: 37.1210 - binary_accuracy: 0.0000e+00\n",
            "Epoch 17/50\n",
            "63/63 [==============================] - 1s 13ms/step - loss: 37.1141 - binary_accuracy: 0.0000e+00\n",
            "Epoch 18/50\n",
            "63/63 [==============================] - 1s 12ms/step - loss: 37.1043 - binary_accuracy: 0.0000e+00\n",
            "Epoch 19/50\n",
            "63/63 [==============================] - 1s 12ms/step - loss: 37.1123 - binary_accuracy: 0.0000e+00\n",
            "Epoch 20/50\n",
            "63/63 [==============================] - 1s 12ms/step - loss: 37.0863 - binary_accuracy: 0.0000e+00\n",
            "Epoch 21/50\n",
            "63/63 [==============================] - 1s 13ms/step - loss: 37.0674 - binary_accuracy: 0.0000e+00\n",
            "Epoch 22/50\n",
            "63/63 [==============================] - 1s 13ms/step - loss: 37.0547 - binary_accuracy: 0.0000e+00\n",
            "Epoch 23/50\n",
            "63/63 [==============================] - 1s 20ms/step - loss: 37.0335 - binary_accuracy: 0.0000e+00\n",
            "Epoch 24/50\n",
            "63/63 [==============================] - 1s 20ms/step - loss: 36.9552 - binary_accuracy: 0.0000e+00\n",
            "Epoch 25/50\n",
            "63/63 [==============================] - 1s 13ms/step - loss: 36.9120 - binary_accuracy: 0.0000e+00\n",
            "Epoch 26/50\n",
            "63/63 [==============================] - 1s 12ms/step - loss: 36.8314 - binary_accuracy: 0.0000e+00\n",
            "Epoch 27/50\n",
            "63/63 [==============================] - 1s 12ms/step - loss: 36.7628 - binary_accuracy: 0.0000e+00\n",
            "Epoch 28/50\n",
            "63/63 [==============================] - 1s 12ms/step - loss: 36.7238 - binary_accuracy: 0.0000e+00\n",
            "Epoch 29/50\n",
            "63/63 [==============================] - 1s 12ms/step - loss: 36.6872 - binary_accuracy: 0.0000e+00\n",
            "Epoch 30/50\n",
            "63/63 [==============================] - 1s 12ms/step - loss: 36.6710 - binary_accuracy: 0.0000e+00\n",
            "Epoch 31/50\n",
            "63/63 [==============================] - 1s 12ms/step - loss: 36.6514 - binary_accuracy: 0.0000e+00\n",
            "Epoch 32/50\n",
            "63/63 [==============================] - 1s 12ms/step - loss: 36.6296 - binary_accuracy: 0.0000e+00\n",
            "Epoch 33/50\n",
            "63/63 [==============================] - 1s 12ms/step - loss: 36.5868 - binary_accuracy: 0.0000e+00\n",
            "Epoch 34/50\n",
            "63/63 [==============================] - 1s 12ms/step - loss: 36.6091 - binary_accuracy: 0.0000e+00\n",
            "Epoch 35/50\n",
            "63/63 [==============================] - 1s 12ms/step - loss: 36.6117 - binary_accuracy: 0.0000e+00\n",
            "Epoch 36/50\n",
            "63/63 [==============================] - 1s 12ms/step - loss: 36.5908 - binary_accuracy: 0.0000e+00\n",
            "Epoch 37/50\n",
            "63/63 [==============================] - 1s 13ms/step - loss: 36.5832 - binary_accuracy: 0.0000e+00\n",
            "Epoch 38/50\n",
            "63/63 [==============================] - 1s 20ms/step - loss: 36.5766 - binary_accuracy: 0.0000e+00\n",
            "Epoch 39/50\n",
            "63/63 [==============================] - 1s 19ms/step - loss: 36.5749 - binary_accuracy: 0.0000e+00\n",
            "Epoch 40/50\n",
            "63/63 [==============================] - 1s 15ms/step - loss: 36.5777 - binary_accuracy: 0.0000e+00\n",
            "Epoch 41/50\n",
            "63/63 [==============================] - 1s 12ms/step - loss: 36.5600 - binary_accuracy: 0.0000e+00\n",
            "Epoch 42/50\n",
            "63/63 [==============================] - 1s 19ms/step - loss: 36.5623 - binary_accuracy: 0.0000e+00\n",
            "Epoch 43/50\n",
            "63/63 [==============================] - 1s 21ms/step - loss: 36.5571 - binary_accuracy: 0.0000e+00\n",
            "Epoch 44/50\n",
            "63/63 [==============================] - 1s 20ms/step - loss: 36.5547 - binary_accuracy: 0.0000e+00\n",
            "Epoch 45/50\n",
            "63/63 [==============================] - 1s 14ms/step - loss: 36.5727 - binary_accuracy: 0.0000e+00\n",
            "Epoch 46/50\n",
            "63/63 [==============================] - 1s 12ms/step - loss: 36.5346 - binary_accuracy: 0.0000e+00\n",
            "Epoch 47/50\n",
            "63/63 [==============================] - 1s 12ms/step - loss: 36.5390 - binary_accuracy: 0.0000e+00\n",
            "Epoch 48/50\n",
            "63/63 [==============================] - 1s 12ms/step - loss: 36.5254 - binary_accuracy: 0.0000e+00\n",
            "Epoch 49/50\n",
            "63/63 [==============================] - 1s 12ms/step - loss: 36.5101 - binary_accuracy: 0.0000e+00\n",
            "Epoch 50/50\n",
            "63/63 [==============================] - 1s 13ms/step - loss: 36.4959 - binary_accuracy: 0.0000e+00\n"
          ]
        }
      ],
      "source": [
        "data1 = dmkde_data(k=5, seed=1)\n",
        "vc1 = DMKDE()\n",
        "vc1.fit(data1['U_dagger_train'], data1['Y_feat_train'])\n",
        "plot_predict(vc1, **data1)"
      ]
    }
  ],
  "metadata": {
    "colab": {
      "provenance": []
    },
    "kernelspec": {
      "display_name": "Python 3",
      "name": "python3"
    },
    "language_info": {
      "name": "python"
    }
  },
  "nbformat": 4,
  "nbformat_minor": 0
}
